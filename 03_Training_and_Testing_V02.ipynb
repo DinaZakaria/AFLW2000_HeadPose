{
  "nbformat": 4,
  "nbformat_minor": 0,
  "metadata": {
    "kernelspec": {
      "display_name": "Python 3",
      "language": "python",
      "name": "python3"
    },
    "language_info": {
      "codemirror_mode": {
        "name": "ipython",
        "version": 3
      },
      "file_extension": ".py",
      "mimetype": "text/x-python",
      "name": "python",
      "nbconvert_exporter": "python",
      "pygments_lexer": "ipython3",
      "version": "3.7.6"
    },
    "colab": {
      "name": "03. Training and Testing_V01.ipynb",
      "provenance": [],
      "collapsed_sections": [],
      "include_colab_link": true
    }
  },
  "cells": [
    {
      "cell_type": "markdown",
      "metadata": {
        "id": "view-in-github",
        "colab_type": "text"
      },
      "source": [
        "<a href=\"https://colab.research.google.com/github/DinaZakaria/AFLW2000_HeadPose/blob/master/03_Training_and_Testing_V02.ipynb\" target=\"_parent\"><img src=\"https://colab.research.google.com/assets/colab-badge.svg\" alt=\"Open In Colab\"/></a>"
      ]
    },
    {
      "cell_type": "markdown",
      "source": [
        "## Imports"
      ],
      "metadata": {
        "collapsed": false,
        "pycharm": {
          "name": "#%% md\n"
        },
        "id": "3fSIkxjQxAuW"
      }
    },
    {
      "cell_type": "code",
      "execution_count": null,
      "outputs": [],
      "source": [
        "import numpy as np\n",
        "import pandas as pd\n",
        "import matplotlib.pyplot as plt\n",
        "%matplotlib inline\n",
        "import math\n",
        "from sklearn.metrics import r2_score"
      ],
      "metadata": {
        "pycharm": {
          "name": "#%%\n"
        },
        "id": "yQ3OLoXpxAub"
      }
    },
    {
      "cell_type": "code",
      "execution_count": null,
      "outputs": [],
      "source": [
        "plt.style.use(['ggplot'])"
      ],
      "metadata": {
        "pycharm": {
          "name": "#%%\n"
        },
        "id": "oDRX2y5XxAud"
      }
    },
    {
      "cell_type": "markdown",
      "metadata": {
        "id": "P_9IavYxfqKF",
        "pycharm": {
          "name": "#%% md\n"
        }
      },
      "source": [
        "# 12. Machine learning techniques"
      ]
    },
    {
      "cell_type": "code",
      "metadata": {
        "id": "m3nP5yDNfqKI",
        "pycharm": {
          "name": "#%%\n"
        }
      },
      "source": [
        "import random as rd\n",
        "rd.seed(0)"
      ],
      "execution_count": null,
      "outputs": []
    },
    {
      "cell_type": "code",
      "metadata": {
        "id": "bAbJWz2MfqKH",
        "pycharm": {
          "name": "#%%\n"
        }
      },
      "source": [
        "import pandas as pd\n",
        "import numpy as np\n",
        "import matplotlib.pyplot as plt"
      ],
      "execution_count": null,
      "outputs": []
    },
    {
      "cell_type": "markdown",
      "metadata": {
        "id": "E8GM6HeSfqKI",
        "pycharm": {
          "name": "#%% md\n"
        }
      },
      "source": [
        "## 12.1 Loading and exploring the dataset\n",
        "\n",
        "First, we use pandas to load the dataset from a csv file."
      ]
    },
    {
      "cell_type": "code",
      "metadata": {
        "id": "FFuOhKGrfqKJ",
        "colab": {
          "base_uri": "https://localhost:8080/",
          "height": 488
        },
        "outputId": "2981d80c-d036-4265-9bae-f101ecd123b2",
        "pycharm": {
          "name": "#%%\n"
        }
      },
      "source": [
        "# use pabdas to read './titanic.csv'\n",
        "# raw_data = pd.read_csv('AFLW2000_CSV_Original.csv', sep = ',')\n",
        "raw_data = pd.read_csv('AFLW2000_CSV_nose_chin_2.csv', sep = ',')\n",
        "raw_data"
      ],
      "execution_count": null,
      "outputs": [
        {
          "output_type": "execute_result",
          "data": {
            "text/plain": [
              "             0         1         2         3         4         5         6  \\\n",
              "0    -1.091282 -1.086000 -1.038936 -0.996514 -0.925771 -0.809490 -0.671983   \n",
              "1     1.111359  1.065791  1.037010  0.974442  0.837279  0.640687  0.416669   \n",
              "2     0.454202  0.486088  0.524265  0.540191  0.527233  0.478943  0.410866   \n",
              "3    -0.517121 -0.414664 -0.277493 -0.163534 -0.051607  0.062481  0.153905   \n",
              "4     1.001988  1.065856  1.128360  1.162676  1.145152  1.066049  0.919178   \n",
              "...        ...       ...       ...       ...       ...       ...       ...   \n",
              "1995 -1.252641 -1.239865 -1.182042 -1.117822 -1.030085 -0.897815 -0.728181   \n",
              "1996 -1.472311 -1.449088 -1.433647 -1.385559 -1.261200 -1.037717 -0.770335   \n",
              "1997  1.081796  1.095867  1.108672  1.100759  1.043512  0.914471  0.749263   \n",
              "1998 -1.340094 -1.344059 -1.334643 -1.321759 -1.267096 -1.114157 -0.915139   \n",
              "1999 -1.051076 -1.023762 -0.966752 -0.904636 -0.811773 -0.667091 -0.520795   \n",
              "\n",
              "             7         8         9  ...       129       130       131  \\\n",
              "0    -0.446277 -0.117864  0.242286  ...  0.299680  0.332294  0.352098   \n",
              "1     0.230186  0.244669  0.467910  ...  0.476117  0.448424  0.440669   \n",
              "2     0.372253  0.475943  0.711926  ...  0.332108  0.329334  0.321050   \n",
              "3     0.291484  0.545762  0.794845  ...  0.344654  0.315320  0.288107   \n",
              "4     0.759589  0.717417  0.820857  ...  0.229622  0.231534  0.215880   \n",
              "...        ...       ...       ...  ...       ...       ...       ...   \n",
              "1995 -0.498829 -0.180936  0.134234  ...  0.396641  0.403502  0.419986   \n",
              "1996 -0.544143 -0.436020 -0.484633  ...  0.368444  0.359982  0.354280   \n",
              "1997  0.583884  0.509112  0.578280  ...  0.304870  0.309029  0.312214   \n",
              "1998 -0.704839 -0.562029 -0.552836  ...  0.332378  0.338509  0.339106   \n",
              "1999 -0.350818 -0.095188  0.131005  ...  0.433792  0.432158  0.426663   \n",
              "\n",
              "           132       133       134       135       136       137       138  \n",
              "0     0.429039  0.519759  0.516972  0.455673 -0.399231  0.018227  0.085676  \n",
              "1     0.478069  0.433939  0.446953  0.466681  0.470065  1.189533  0.300959  \n",
              "2     0.302267  0.336187  0.349787  0.349212 -0.184650  0.881137 -0.236852  \n",
              "3     0.181159  0.345453  0.387353  0.401610 -0.175379  0.299208 -0.373374  \n",
              "4     0.259009  0.274290  0.287105  0.278990 -0.882169  1.198004 -1.033374  \n",
              "...        ...       ...       ...       ...       ...       ...       ...  \n",
              "1995  0.438852  0.476606  0.475369  0.449660 -0.197102 -0.070430  0.105118  \n",
              "1996  0.368578  0.368870  0.377510  0.379770 -0.232617 -1.418751  0.175960  \n",
              "1997  0.353416  0.334996  0.338135  0.323728 -1.447955  1.431267 -1.509418  \n",
              "1998  0.359214  0.361742  0.364145  0.354171 -0.420465 -1.191176  0.451515  \n",
              "1999  0.435365  0.450595  0.457096  0.454602 -0.015552 -0.180126 -0.024546  \n",
              "\n",
              "[2000 rows x 139 columns]"
            ],
            "text/html": [
              "\n",
              "  <div id=\"df-98041553-b92c-4780-875a-5e9b1dbf2836\">\n",
              "    <div class=\"colab-df-container\">\n",
              "      <div>\n",
              "<style scoped>\n",
              "    .dataframe tbody tr th:only-of-type {\n",
              "        vertical-align: middle;\n",
              "    }\n",
              "\n",
              "    .dataframe tbody tr th {\n",
              "        vertical-align: top;\n",
              "    }\n",
              "\n",
              "    .dataframe thead th {\n",
              "        text-align: right;\n",
              "    }\n",
              "</style>\n",
              "<table border=\"1\" class=\"dataframe\">\n",
              "  <thead>\n",
              "    <tr style=\"text-align: right;\">\n",
              "      <th></th>\n",
              "      <th>0</th>\n",
              "      <th>1</th>\n",
              "      <th>2</th>\n",
              "      <th>3</th>\n",
              "      <th>4</th>\n",
              "      <th>5</th>\n",
              "      <th>6</th>\n",
              "      <th>7</th>\n",
              "      <th>8</th>\n",
              "      <th>9</th>\n",
              "      <th>...</th>\n",
              "      <th>129</th>\n",
              "      <th>130</th>\n",
              "      <th>131</th>\n",
              "      <th>132</th>\n",
              "      <th>133</th>\n",
              "      <th>134</th>\n",
              "      <th>135</th>\n",
              "      <th>136</th>\n",
              "      <th>137</th>\n",
              "      <th>138</th>\n",
              "    </tr>\n",
              "  </thead>\n",
              "  <tbody>\n",
              "    <tr>\n",
              "      <th>0</th>\n",
              "      <td>-1.091282</td>\n",
              "      <td>-1.086000</td>\n",
              "      <td>-1.038936</td>\n",
              "      <td>-0.996514</td>\n",
              "      <td>-0.925771</td>\n",
              "      <td>-0.809490</td>\n",
              "      <td>-0.671983</td>\n",
              "      <td>-0.446277</td>\n",
              "      <td>-0.117864</td>\n",
              "      <td>0.242286</td>\n",
              "      <td>...</td>\n",
              "      <td>0.299680</td>\n",
              "      <td>0.332294</td>\n",
              "      <td>0.352098</td>\n",
              "      <td>0.429039</td>\n",
              "      <td>0.519759</td>\n",
              "      <td>0.516972</td>\n",
              "      <td>0.455673</td>\n",
              "      <td>-0.399231</td>\n",
              "      <td>0.018227</td>\n",
              "      <td>0.085676</td>\n",
              "    </tr>\n",
              "    <tr>\n",
              "      <th>1</th>\n",
              "      <td>1.111359</td>\n",
              "      <td>1.065791</td>\n",
              "      <td>1.037010</td>\n",
              "      <td>0.974442</td>\n",
              "      <td>0.837279</td>\n",
              "      <td>0.640687</td>\n",
              "      <td>0.416669</td>\n",
              "      <td>0.230186</td>\n",
              "      <td>0.244669</td>\n",
              "      <td>0.467910</td>\n",
              "      <td>...</td>\n",
              "      <td>0.476117</td>\n",
              "      <td>0.448424</td>\n",
              "      <td>0.440669</td>\n",
              "      <td>0.478069</td>\n",
              "      <td>0.433939</td>\n",
              "      <td>0.446953</td>\n",
              "      <td>0.466681</td>\n",
              "      <td>0.470065</td>\n",
              "      <td>1.189533</td>\n",
              "      <td>0.300959</td>\n",
              "    </tr>\n",
              "    <tr>\n",
              "      <th>2</th>\n",
              "      <td>0.454202</td>\n",
              "      <td>0.486088</td>\n",
              "      <td>0.524265</td>\n",
              "      <td>0.540191</td>\n",
              "      <td>0.527233</td>\n",
              "      <td>0.478943</td>\n",
              "      <td>0.410866</td>\n",
              "      <td>0.372253</td>\n",
              "      <td>0.475943</td>\n",
              "      <td>0.711926</td>\n",
              "      <td>...</td>\n",
              "      <td>0.332108</td>\n",
              "      <td>0.329334</td>\n",
              "      <td>0.321050</td>\n",
              "      <td>0.302267</td>\n",
              "      <td>0.336187</td>\n",
              "      <td>0.349787</td>\n",
              "      <td>0.349212</td>\n",
              "      <td>-0.184650</td>\n",
              "      <td>0.881137</td>\n",
              "      <td>-0.236852</td>\n",
              "    </tr>\n",
              "    <tr>\n",
              "      <th>3</th>\n",
              "      <td>-0.517121</td>\n",
              "      <td>-0.414664</td>\n",
              "      <td>-0.277493</td>\n",
              "      <td>-0.163534</td>\n",
              "      <td>-0.051607</td>\n",
              "      <td>0.062481</td>\n",
              "      <td>0.153905</td>\n",
              "      <td>0.291484</td>\n",
              "      <td>0.545762</td>\n",
              "      <td>0.794845</td>\n",
              "      <td>...</td>\n",
              "      <td>0.344654</td>\n",
              "      <td>0.315320</td>\n",
              "      <td>0.288107</td>\n",
              "      <td>0.181159</td>\n",
              "      <td>0.345453</td>\n",
              "      <td>0.387353</td>\n",
              "      <td>0.401610</td>\n",
              "      <td>-0.175379</td>\n",
              "      <td>0.299208</td>\n",
              "      <td>-0.373374</td>\n",
              "    </tr>\n",
              "    <tr>\n",
              "      <th>4</th>\n",
              "      <td>1.001988</td>\n",
              "      <td>1.065856</td>\n",
              "      <td>1.128360</td>\n",
              "      <td>1.162676</td>\n",
              "      <td>1.145152</td>\n",
              "      <td>1.066049</td>\n",
              "      <td>0.919178</td>\n",
              "      <td>0.759589</td>\n",
              "      <td>0.717417</td>\n",
              "      <td>0.820857</td>\n",
              "      <td>...</td>\n",
              "      <td>0.229622</td>\n",
              "      <td>0.231534</td>\n",
              "      <td>0.215880</td>\n",
              "      <td>0.259009</td>\n",
              "      <td>0.274290</td>\n",
              "      <td>0.287105</td>\n",
              "      <td>0.278990</td>\n",
              "      <td>-0.882169</td>\n",
              "      <td>1.198004</td>\n",
              "      <td>-1.033374</td>\n",
              "    </tr>\n",
              "    <tr>\n",
              "      <th>...</th>\n",
              "      <td>...</td>\n",
              "      <td>...</td>\n",
              "      <td>...</td>\n",
              "      <td>...</td>\n",
              "      <td>...</td>\n",
              "      <td>...</td>\n",
              "      <td>...</td>\n",
              "      <td>...</td>\n",
              "      <td>...</td>\n",
              "      <td>...</td>\n",
              "      <td>...</td>\n",
              "      <td>...</td>\n",
              "      <td>...</td>\n",
              "      <td>...</td>\n",
              "      <td>...</td>\n",
              "      <td>...</td>\n",
              "      <td>...</td>\n",
              "      <td>...</td>\n",
              "      <td>...</td>\n",
              "      <td>...</td>\n",
              "      <td>...</td>\n",
              "    </tr>\n",
              "    <tr>\n",
              "      <th>1995</th>\n",
              "      <td>-1.252641</td>\n",
              "      <td>-1.239865</td>\n",
              "      <td>-1.182042</td>\n",
              "      <td>-1.117822</td>\n",
              "      <td>-1.030085</td>\n",
              "      <td>-0.897815</td>\n",
              "      <td>-0.728181</td>\n",
              "      <td>-0.498829</td>\n",
              "      <td>-0.180936</td>\n",
              "      <td>0.134234</td>\n",
              "      <td>...</td>\n",
              "      <td>0.396641</td>\n",
              "      <td>0.403502</td>\n",
              "      <td>0.419986</td>\n",
              "      <td>0.438852</td>\n",
              "      <td>0.476606</td>\n",
              "      <td>0.475369</td>\n",
              "      <td>0.449660</td>\n",
              "      <td>-0.197102</td>\n",
              "      <td>-0.070430</td>\n",
              "      <td>0.105118</td>\n",
              "    </tr>\n",
              "    <tr>\n",
              "      <th>1996</th>\n",
              "      <td>-1.472311</td>\n",
              "      <td>-1.449088</td>\n",
              "      <td>-1.433647</td>\n",
              "      <td>-1.385559</td>\n",
              "      <td>-1.261200</td>\n",
              "      <td>-1.037717</td>\n",
              "      <td>-0.770335</td>\n",
              "      <td>-0.544143</td>\n",
              "      <td>-0.436020</td>\n",
              "      <td>-0.484633</td>\n",
              "      <td>...</td>\n",
              "      <td>0.368444</td>\n",
              "      <td>0.359982</td>\n",
              "      <td>0.354280</td>\n",
              "      <td>0.368578</td>\n",
              "      <td>0.368870</td>\n",
              "      <td>0.377510</td>\n",
              "      <td>0.379770</td>\n",
              "      <td>-0.232617</td>\n",
              "      <td>-1.418751</td>\n",
              "      <td>0.175960</td>\n",
              "    </tr>\n",
              "    <tr>\n",
              "      <th>1997</th>\n",
              "      <td>1.081796</td>\n",
              "      <td>1.095867</td>\n",
              "      <td>1.108672</td>\n",
              "      <td>1.100759</td>\n",
              "      <td>1.043512</td>\n",
              "      <td>0.914471</td>\n",
              "      <td>0.749263</td>\n",
              "      <td>0.583884</td>\n",
              "      <td>0.509112</td>\n",
              "      <td>0.578280</td>\n",
              "      <td>...</td>\n",
              "      <td>0.304870</td>\n",
              "      <td>0.309029</td>\n",
              "      <td>0.312214</td>\n",
              "      <td>0.353416</td>\n",
              "      <td>0.334996</td>\n",
              "      <td>0.338135</td>\n",
              "      <td>0.323728</td>\n",
              "      <td>-1.447955</td>\n",
              "      <td>1.431267</td>\n",
              "      <td>-1.509418</td>\n",
              "    </tr>\n",
              "    <tr>\n",
              "      <th>1998</th>\n",
              "      <td>-1.340094</td>\n",
              "      <td>-1.344059</td>\n",
              "      <td>-1.334643</td>\n",
              "      <td>-1.321759</td>\n",
              "      <td>-1.267096</td>\n",
              "      <td>-1.114157</td>\n",
              "      <td>-0.915139</td>\n",
              "      <td>-0.704839</td>\n",
              "      <td>-0.562029</td>\n",
              "      <td>-0.552836</td>\n",
              "      <td>...</td>\n",
              "      <td>0.332378</td>\n",
              "      <td>0.338509</td>\n",
              "      <td>0.339106</td>\n",
              "      <td>0.359214</td>\n",
              "      <td>0.361742</td>\n",
              "      <td>0.364145</td>\n",
              "      <td>0.354171</td>\n",
              "      <td>-0.420465</td>\n",
              "      <td>-1.191176</td>\n",
              "      <td>0.451515</td>\n",
              "    </tr>\n",
              "    <tr>\n",
              "      <th>1999</th>\n",
              "      <td>-1.051076</td>\n",
              "      <td>-1.023762</td>\n",
              "      <td>-0.966752</td>\n",
              "      <td>-0.904636</td>\n",
              "      <td>-0.811773</td>\n",
              "      <td>-0.667091</td>\n",
              "      <td>-0.520795</td>\n",
              "      <td>-0.350818</td>\n",
              "      <td>-0.095188</td>\n",
              "      <td>0.131005</td>\n",
              "      <td>...</td>\n",
              "      <td>0.433792</td>\n",
              "      <td>0.432158</td>\n",
              "      <td>0.426663</td>\n",
              "      <td>0.435365</td>\n",
              "      <td>0.450595</td>\n",
              "      <td>0.457096</td>\n",
              "      <td>0.454602</td>\n",
              "      <td>-0.015552</td>\n",
              "      <td>-0.180126</td>\n",
              "      <td>-0.024546</td>\n",
              "    </tr>\n",
              "  </tbody>\n",
              "</table>\n",
              "<p>2000 rows × 139 columns</p>\n",
              "</div>\n",
              "      <button class=\"colab-df-convert\" onclick=\"convertToInteractive('df-98041553-b92c-4780-875a-5e9b1dbf2836')\"\n",
              "              title=\"Convert this dataframe to an interactive table.\"\n",
              "              style=\"display:none;\">\n",
              "        \n",
              "  <svg xmlns=\"http://www.w3.org/2000/svg\" height=\"24px\"viewBox=\"0 0 24 24\"\n",
              "       width=\"24px\">\n",
              "    <path d=\"M0 0h24v24H0V0z\" fill=\"none\"/>\n",
              "    <path d=\"M18.56 5.44l.94 2.06.94-2.06 2.06-.94-2.06-.94-.94-2.06-.94 2.06-2.06.94zm-11 1L8.5 8.5l.94-2.06 2.06-.94-2.06-.94L8.5 2.5l-.94 2.06-2.06.94zm10 10l.94 2.06.94-2.06 2.06-.94-2.06-.94-.94-2.06-.94 2.06-2.06.94z\"/><path d=\"M17.41 7.96l-1.37-1.37c-.4-.4-.92-.59-1.43-.59-.52 0-1.04.2-1.43.59L10.3 9.45l-7.72 7.72c-.78.78-.78 2.05 0 2.83L4 21.41c.39.39.9.59 1.41.59.51 0 1.02-.2 1.41-.59l7.78-7.78 2.81-2.81c.8-.78.8-2.07 0-2.86zM5.41 20L4 18.59l7.72-7.72 1.47 1.35L5.41 20z\"/>\n",
              "  </svg>\n",
              "      </button>\n",
              "      \n",
              "  <style>\n",
              "    .colab-df-container {\n",
              "      display:flex;\n",
              "      flex-wrap:wrap;\n",
              "      gap: 12px;\n",
              "    }\n",
              "\n",
              "    .colab-df-convert {\n",
              "      background-color: #E8F0FE;\n",
              "      border: none;\n",
              "      border-radius: 50%;\n",
              "      cursor: pointer;\n",
              "      display: none;\n",
              "      fill: #1967D2;\n",
              "      height: 32px;\n",
              "      padding: 0 0 0 0;\n",
              "      width: 32px;\n",
              "    }\n",
              "\n",
              "    .colab-df-convert:hover {\n",
              "      background-color: #E2EBFA;\n",
              "      box-shadow: 0px 1px 2px rgba(60, 64, 67, 0.3), 0px 1px 3px 1px rgba(60, 64, 67, 0.15);\n",
              "      fill: #174EA6;\n",
              "    }\n",
              "\n",
              "    [theme=dark] .colab-df-convert {\n",
              "      background-color: #3B4455;\n",
              "      fill: #D2E3FC;\n",
              "    }\n",
              "\n",
              "    [theme=dark] .colab-df-convert:hover {\n",
              "      background-color: #434B5C;\n",
              "      box-shadow: 0px 1px 3px 1px rgba(0, 0, 0, 0.15);\n",
              "      filter: drop-shadow(0px 1px 2px rgba(0, 0, 0, 0.3));\n",
              "      fill: #FFFFFF;\n",
              "    }\n",
              "  </style>\n",
              "\n",
              "      <script>\n",
              "        const buttonEl =\n",
              "          document.querySelector('#df-98041553-b92c-4780-875a-5e9b1dbf2836 button.colab-df-convert');\n",
              "        buttonEl.style.display =\n",
              "          google.colab.kernel.accessAllowed ? 'block' : 'none';\n",
              "\n",
              "        async function convertToInteractive(key) {\n",
              "          const element = document.querySelector('#df-98041553-b92c-4780-875a-5e9b1dbf2836');\n",
              "          const dataTable =\n",
              "            await google.colab.kernel.invokeFunction('convertToInteractive',\n",
              "                                                     [key], {});\n",
              "          if (!dataTable) return;\n",
              "\n",
              "          const docLinkHtml = 'Like what you see? Visit the ' +\n",
              "            '<a target=\"_blank\" href=https://colab.research.google.com/notebooks/data_table.ipynb>data table notebook</a>'\n",
              "            + ' to learn more about interactive tables.';\n",
              "          element.innerHTML = '';\n",
              "          dataTable['output_type'] = 'display_data';\n",
              "          await google.colab.output.renderOutput(dataTable, element);\n",
              "          const docLink = document.createElement('div');\n",
              "          docLink.innerHTML = docLinkHtml;\n",
              "          element.appendChild(docLink);\n",
              "        }\n",
              "      </script>\n",
              "    </div>\n",
              "  </div>\n",
              "  "
            ]
          },
          "metadata": {},
          "execution_count": 89
        }
      ]
    },
    {
      "cell_type": "markdown",
      "source": [
        "## All Features"
      ],
      "metadata": {
        "collapsed": false,
        "pycharm": {
          "name": "#%% md\n"
        },
        "id": "NWZFHl-2xAuk"
      }
    },
    {
      "cell_type": "code",
      "execution_count": null,
      "outputs": [],
      "source": [
        "X = raw_data.iloc[:,0:136].to_numpy()"
      ],
      "metadata": {
        "pycharm": {
          "name": "#%%\n"
        },
        "id": "Ij4nBx8MxAul"
      }
    },
    {
      "cell_type": "markdown",
      "source": [
        "## 6 * 2 (12) Selected Features"
      ],
      "metadata": {
        "collapsed": false,
        "pycharm": {
          "name": "#%% md\n"
        },
        "id": "tuD1fU0XxAum"
      }
    },
    {
      "cell_type": "code",
      "execution_count": null,
      "outputs": [],
      "source": [
        "y_shift = 68\n",
        "xy_list = [\"8\", \"30\", \"36\", \"45\", \"48\", \"54\", str(8 + y_shift), str(30+ y_shift), str(36+ y_shift), str(45+ y_shift), str(48+ y_shift), str(54+ y_shift)]"
      ],
      "metadata": {
        "pycharm": {
          "name": "#%%\n"
        },
        "id": "JD4wraPkxAun"
      }
    },
    {
      "cell_type": "code",
      "execution_count": null,
      "outputs": [
        {
          "output_type": "execute_result",
          "data": {
            "text/plain": [
              "             8   30        36        45        48        54        76   98  \\\n",
              "0    -0.117864  0.0 -0.660870  0.811568 -0.471326  0.388258  0.993030  0.0   \n",
              "1     0.244669  0.0  0.390942  0.818068  0.240005  0.475098  0.969607  0.0   \n",
              "2     0.475943  0.0  0.029326  0.663393  0.186035  0.639567  0.879476  0.0   \n",
              "3     0.545762  0.0 -0.534558  0.548172 -0.038727  0.562913  0.837940  0.0   \n",
              "4     0.717417  0.0  0.251543  0.403701  0.469008  0.526977  0.696644  0.0   \n",
              "...        ...  ...       ...       ...       ...       ...       ...  ...   \n",
              "1995 -0.180936  0.0 -0.716524  0.705470 -0.476342  0.213887  0.983495  0.0   \n",
              "1996 -0.436020  0.0 -0.586483 -0.431478 -0.418666 -0.367536  0.899937  0.0   \n",
              "1997  0.509112  0.0  0.315109  0.329809  0.414839  0.353091  0.860700  0.0   \n",
              "1998 -0.562029  0.0 -0.556864 -0.261912 -0.576792 -0.366923  0.827117  0.0   \n",
              "1999 -0.095188  0.0 -0.614902  0.383480 -0.350774  0.188590  0.995459  0.0   \n",
              "\n",
              "           104       113       116       122  \n",
              "0    -0.868580 -0.734130  0.247089  0.431947  \n",
              "1    -0.268480 -0.445271  0.578156  0.481578  \n",
              "2    -0.389183 -0.480418  0.351012  0.307038  \n",
              "3    -0.411924 -0.792250  0.351042  0.173244  \n",
              "4    -0.364394 -0.518721  0.279280  0.265331  \n",
              "...        ...       ...       ...       ...  \n",
              "1995 -0.767013 -0.644086  0.375926  0.443375  \n",
              "1996 -0.403517 -0.460230  0.417412  0.370264  \n",
              "1997 -0.362887 -0.402392  0.316205  0.360906  \n",
              "1998 -0.427689 -0.381033  0.337665  0.365449  \n",
              "1999 -0.362422 -0.380515  0.467853  0.435398  \n",
              "\n",
              "[2000 rows x 12 columns]"
            ],
            "text/html": [
              "\n",
              "  <div id=\"df-8274b233-b077-45c8-9bad-6445db080e90\">\n",
              "    <div class=\"colab-df-container\">\n",
              "      <div>\n",
              "<style scoped>\n",
              "    .dataframe tbody tr th:only-of-type {\n",
              "        vertical-align: middle;\n",
              "    }\n",
              "\n",
              "    .dataframe tbody tr th {\n",
              "        vertical-align: top;\n",
              "    }\n",
              "\n",
              "    .dataframe thead th {\n",
              "        text-align: right;\n",
              "    }\n",
              "</style>\n",
              "<table border=\"1\" class=\"dataframe\">\n",
              "  <thead>\n",
              "    <tr style=\"text-align: right;\">\n",
              "      <th></th>\n",
              "      <th>8</th>\n",
              "      <th>30</th>\n",
              "      <th>36</th>\n",
              "      <th>45</th>\n",
              "      <th>48</th>\n",
              "      <th>54</th>\n",
              "      <th>76</th>\n",
              "      <th>98</th>\n",
              "      <th>104</th>\n",
              "      <th>113</th>\n",
              "      <th>116</th>\n",
              "      <th>122</th>\n",
              "    </tr>\n",
              "  </thead>\n",
              "  <tbody>\n",
              "    <tr>\n",
              "      <th>0</th>\n",
              "      <td>-0.117864</td>\n",
              "      <td>0.0</td>\n",
              "      <td>-0.660870</td>\n",
              "      <td>0.811568</td>\n",
              "      <td>-0.471326</td>\n",
              "      <td>0.388258</td>\n",
              "      <td>0.993030</td>\n",
              "      <td>0.0</td>\n",
              "      <td>-0.868580</td>\n",
              "      <td>-0.734130</td>\n",
              "      <td>0.247089</td>\n",
              "      <td>0.431947</td>\n",
              "    </tr>\n",
              "    <tr>\n",
              "      <th>1</th>\n",
              "      <td>0.244669</td>\n",
              "      <td>0.0</td>\n",
              "      <td>0.390942</td>\n",
              "      <td>0.818068</td>\n",
              "      <td>0.240005</td>\n",
              "      <td>0.475098</td>\n",
              "      <td>0.969607</td>\n",
              "      <td>0.0</td>\n",
              "      <td>-0.268480</td>\n",
              "      <td>-0.445271</td>\n",
              "      <td>0.578156</td>\n",
              "      <td>0.481578</td>\n",
              "    </tr>\n",
              "    <tr>\n",
              "      <th>2</th>\n",
              "      <td>0.475943</td>\n",
              "      <td>0.0</td>\n",
              "      <td>0.029326</td>\n",
              "      <td>0.663393</td>\n",
              "      <td>0.186035</td>\n",
              "      <td>0.639567</td>\n",
              "      <td>0.879476</td>\n",
              "      <td>0.0</td>\n",
              "      <td>-0.389183</td>\n",
              "      <td>-0.480418</td>\n",
              "      <td>0.351012</td>\n",
              "      <td>0.307038</td>\n",
              "    </tr>\n",
              "    <tr>\n",
              "      <th>3</th>\n",
              "      <td>0.545762</td>\n",
              "      <td>0.0</td>\n",
              "      <td>-0.534558</td>\n",
              "      <td>0.548172</td>\n",
              "      <td>-0.038727</td>\n",
              "      <td>0.562913</td>\n",
              "      <td>0.837940</td>\n",
              "      <td>0.0</td>\n",
              "      <td>-0.411924</td>\n",
              "      <td>-0.792250</td>\n",
              "      <td>0.351042</td>\n",
              "      <td>0.173244</td>\n",
              "    </tr>\n",
              "    <tr>\n",
              "      <th>4</th>\n",
              "      <td>0.717417</td>\n",
              "      <td>0.0</td>\n",
              "      <td>0.251543</td>\n",
              "      <td>0.403701</td>\n",
              "      <td>0.469008</td>\n",
              "      <td>0.526977</td>\n",
              "      <td>0.696644</td>\n",
              "      <td>0.0</td>\n",
              "      <td>-0.364394</td>\n",
              "      <td>-0.518721</td>\n",
              "      <td>0.279280</td>\n",
              "      <td>0.265331</td>\n",
              "    </tr>\n",
              "    <tr>\n",
              "      <th>...</th>\n",
              "      <td>...</td>\n",
              "      <td>...</td>\n",
              "      <td>...</td>\n",
              "      <td>...</td>\n",
              "      <td>...</td>\n",
              "      <td>...</td>\n",
              "      <td>...</td>\n",
              "      <td>...</td>\n",
              "      <td>...</td>\n",
              "      <td>...</td>\n",
              "      <td>...</td>\n",
              "      <td>...</td>\n",
              "    </tr>\n",
              "    <tr>\n",
              "      <th>1995</th>\n",
              "      <td>-0.180936</td>\n",
              "      <td>0.0</td>\n",
              "      <td>-0.716524</td>\n",
              "      <td>0.705470</td>\n",
              "      <td>-0.476342</td>\n",
              "      <td>0.213887</td>\n",
              "      <td>0.983495</td>\n",
              "      <td>0.0</td>\n",
              "      <td>-0.767013</td>\n",
              "      <td>-0.644086</td>\n",
              "      <td>0.375926</td>\n",
              "      <td>0.443375</td>\n",
              "    </tr>\n",
              "    <tr>\n",
              "      <th>1996</th>\n",
              "      <td>-0.436020</td>\n",
              "      <td>0.0</td>\n",
              "      <td>-0.586483</td>\n",
              "      <td>-0.431478</td>\n",
              "      <td>-0.418666</td>\n",
              "      <td>-0.367536</td>\n",
              "      <td>0.899937</td>\n",
              "      <td>0.0</td>\n",
              "      <td>-0.403517</td>\n",
              "      <td>-0.460230</td>\n",
              "      <td>0.417412</td>\n",
              "      <td>0.370264</td>\n",
              "    </tr>\n",
              "    <tr>\n",
              "      <th>1997</th>\n",
              "      <td>0.509112</td>\n",
              "      <td>0.0</td>\n",
              "      <td>0.315109</td>\n",
              "      <td>0.329809</td>\n",
              "      <td>0.414839</td>\n",
              "      <td>0.353091</td>\n",
              "      <td>0.860700</td>\n",
              "      <td>0.0</td>\n",
              "      <td>-0.362887</td>\n",
              "      <td>-0.402392</td>\n",
              "      <td>0.316205</td>\n",
              "      <td>0.360906</td>\n",
              "    </tr>\n",
              "    <tr>\n",
              "      <th>1998</th>\n",
              "      <td>-0.562029</td>\n",
              "      <td>0.0</td>\n",
              "      <td>-0.556864</td>\n",
              "      <td>-0.261912</td>\n",
              "      <td>-0.576792</td>\n",
              "      <td>-0.366923</td>\n",
              "      <td>0.827117</td>\n",
              "      <td>0.0</td>\n",
              "      <td>-0.427689</td>\n",
              "      <td>-0.381033</td>\n",
              "      <td>0.337665</td>\n",
              "      <td>0.365449</td>\n",
              "    </tr>\n",
              "    <tr>\n",
              "      <th>1999</th>\n",
              "      <td>-0.095188</td>\n",
              "      <td>0.0</td>\n",
              "      <td>-0.614902</td>\n",
              "      <td>0.383480</td>\n",
              "      <td>-0.350774</td>\n",
              "      <td>0.188590</td>\n",
              "      <td>0.995459</td>\n",
              "      <td>0.0</td>\n",
              "      <td>-0.362422</td>\n",
              "      <td>-0.380515</td>\n",
              "      <td>0.467853</td>\n",
              "      <td>0.435398</td>\n",
              "    </tr>\n",
              "  </tbody>\n",
              "</table>\n",
              "<p>2000 rows × 12 columns</p>\n",
              "</div>\n",
              "      <button class=\"colab-df-convert\" onclick=\"convertToInteractive('df-8274b233-b077-45c8-9bad-6445db080e90')\"\n",
              "              title=\"Convert this dataframe to an interactive table.\"\n",
              "              style=\"display:none;\">\n",
              "        \n",
              "  <svg xmlns=\"http://www.w3.org/2000/svg\" height=\"24px\"viewBox=\"0 0 24 24\"\n",
              "       width=\"24px\">\n",
              "    <path d=\"M0 0h24v24H0V0z\" fill=\"none\"/>\n",
              "    <path d=\"M18.56 5.44l.94 2.06.94-2.06 2.06-.94-2.06-.94-.94-2.06-.94 2.06-2.06.94zm-11 1L8.5 8.5l.94-2.06 2.06-.94-2.06-.94L8.5 2.5l-.94 2.06-2.06.94zm10 10l.94 2.06.94-2.06 2.06-.94-2.06-.94-.94-2.06-.94 2.06-2.06.94z\"/><path d=\"M17.41 7.96l-1.37-1.37c-.4-.4-.92-.59-1.43-.59-.52 0-1.04.2-1.43.59L10.3 9.45l-7.72 7.72c-.78.78-.78 2.05 0 2.83L4 21.41c.39.39.9.59 1.41.59.51 0 1.02-.2 1.41-.59l7.78-7.78 2.81-2.81c.8-.78.8-2.07 0-2.86zM5.41 20L4 18.59l7.72-7.72 1.47 1.35L5.41 20z\"/>\n",
              "  </svg>\n",
              "      </button>\n",
              "      \n",
              "  <style>\n",
              "    .colab-df-container {\n",
              "      display:flex;\n",
              "      flex-wrap:wrap;\n",
              "      gap: 12px;\n",
              "    }\n",
              "\n",
              "    .colab-df-convert {\n",
              "      background-color: #E8F0FE;\n",
              "      border: none;\n",
              "      border-radius: 50%;\n",
              "      cursor: pointer;\n",
              "      display: none;\n",
              "      fill: #1967D2;\n",
              "      height: 32px;\n",
              "      padding: 0 0 0 0;\n",
              "      width: 32px;\n",
              "    }\n",
              "\n",
              "    .colab-df-convert:hover {\n",
              "      background-color: #E2EBFA;\n",
              "      box-shadow: 0px 1px 2px rgba(60, 64, 67, 0.3), 0px 1px 3px 1px rgba(60, 64, 67, 0.15);\n",
              "      fill: #174EA6;\n",
              "    }\n",
              "\n",
              "    [theme=dark] .colab-df-convert {\n",
              "      background-color: #3B4455;\n",
              "      fill: #D2E3FC;\n",
              "    }\n",
              "\n",
              "    [theme=dark] .colab-df-convert:hover {\n",
              "      background-color: #434B5C;\n",
              "      box-shadow: 0px 1px 3px 1px rgba(0, 0, 0, 0.15);\n",
              "      filter: drop-shadow(0px 1px 2px rgba(0, 0, 0, 0.3));\n",
              "      fill: #FFFFFF;\n",
              "    }\n",
              "  </style>\n",
              "\n",
              "      <script>\n",
              "        const buttonEl =\n",
              "          document.querySelector('#df-8274b233-b077-45c8-9bad-6445db080e90 button.colab-df-convert');\n",
              "        buttonEl.style.display =\n",
              "          google.colab.kernel.accessAllowed ? 'block' : 'none';\n",
              "\n",
              "        async function convertToInteractive(key) {\n",
              "          const element = document.querySelector('#df-8274b233-b077-45c8-9bad-6445db080e90');\n",
              "          const dataTable =\n",
              "            await google.colab.kernel.invokeFunction('convertToInteractive',\n",
              "                                                     [key], {});\n",
              "          if (!dataTable) return;\n",
              "\n",
              "          const docLinkHtml = 'Like what you see? Visit the ' +\n",
              "            '<a target=\"_blank\" href=https://colab.research.google.com/notebooks/data_table.ipynb>data table notebook</a>'\n",
              "            + ' to learn more about interactive tables.';\n",
              "          element.innerHTML = '';\n",
              "          dataTable['output_type'] = 'display_data';\n",
              "          await google.colab.output.renderOutput(dataTable, element);\n",
              "          const docLink = document.createElement('div');\n",
              "          docLink.innerHTML = docLinkHtml;\n",
              "          element.appendChild(docLink);\n",
              "        }\n",
              "      </script>\n",
              "    </div>\n",
              "  </div>\n",
              "  "
            ]
          },
          "metadata": {},
          "execution_count": 92
        }
      ],
      "source": [
        "X = raw_data[xy_list]\n",
        "X"
      ],
      "metadata": {
        "pycharm": {
          "name": "#%%\n"
        },
        "id": "XX4WjQycxAun",
        "outputId": "0ddacb66-dbf1-48ea-bcb1-13036324cdbb",
        "colab": {
          "base_uri": "https://localhost:8080/",
          "height": 424
        }
      }
    },
    {
      "cell_type": "code",
      "execution_count": null,
      "outputs": [],
      "source": [
        "#pitch, yaw, roll\n",
        "p = raw_data[[\"136\"]].to_numpy()\n",
        "y = raw_data[[\"137\"]].to_numpy()\n",
        "r = raw_data[[\"138\"]].to_numpy()"
      ],
      "metadata": {
        "pycharm": {
          "name": "#%%\n"
        },
        "id": "xwENFeoExAuo"
      }
    },
    {
      "cell_type": "markdown",
      "metadata": {
        "id": "P8cSfkeYfqKL",
        "pycharm": {
          "name": "#%% md\n"
        }
      },
      "source": [
        "Next, we can explore the dataset."
      ]
    },
    {
      "cell_type": "code",
      "execution_count": null,
      "outputs": [
        {
          "output_type": "execute_result",
          "data": {
            "text/plain": [
              "(2000, 12)"
            ]
          },
          "metadata": {},
          "execution_count": 94
        }
      ],
      "source": [
        "X.shape"
      ],
      "metadata": {
        "pycharm": {
          "name": "#%%\n"
        },
        "id": "BXrZlc8_xAup",
        "outputId": "0aa877a1-b2b5-4e4c-e201-524ff0aec3cc",
        "colab": {
          "base_uri": "https://localhost:8080/"
        }
      }
    },
    {
      "cell_type": "code",
      "execution_count": null,
      "outputs": [
        {
          "output_type": "execute_result",
          "data": {
            "text/plain": [
              "2000"
            ]
          },
          "metadata": {},
          "execution_count": 95
        }
      ],
      "source": [
        "X.shape[0]"
      ],
      "metadata": {
        "pycharm": {
          "name": "#%%\n"
        },
        "id": "9A6nQPSpxAuq",
        "outputId": "c710746f-b275-4520-9602-1b44e644f6ed",
        "colab": {
          "base_uri": "https://localhost:8080/"
        }
      }
    },
    {
      "cell_type": "code",
      "execution_count": null,
      "outputs": [
        {
          "output_type": "execute_result",
          "data": {
            "text/plain": [
              "12"
            ]
          },
          "metadata": {},
          "execution_count": 96
        }
      ],
      "source": [
        "X.shape[1]"
      ],
      "metadata": {
        "pycharm": {
          "name": "#%%\n"
        },
        "id": "kIBLmxTmxAuq",
        "outputId": "ac5be9eb-dacc-47c7-fa94-acc54d6c9714",
        "colab": {
          "base_uri": "https://localhost:8080/"
        }
      }
    },
    {
      "cell_type": "code",
      "metadata": {
        "id": "B9A_Cb6afqKL",
        "colab": {
          "base_uri": "https://localhost:8080/"
        },
        "outputId": "b4e1b96c-5f92-4921-f4d5-0c8430d6a998",
        "pycharm": {
          "name": "#%%\n"
        }
      },
      "source": [
        "# Use pandas to examine some info of the dataset\n",
        "raw_data.info()\n"
      ],
      "execution_count": null,
      "outputs": [
        {
          "output_type": "stream",
          "name": "stdout",
          "text": [
            "<class 'pandas.core.frame.DataFrame'>\n",
            "RangeIndex: 2000 entries, 0 to 1999\n",
            "Columns: 139 entries, 0 to 138\n",
            "dtypes: float64(139)\n",
            "memory usage: 2.1 MB\n"
          ]
        }
      ]
    },
    {
      "cell_type": "code",
      "source": [
        "# Use pandas to examine the description of the dataset\n",
        "raw_data.describe()"
      ],
      "metadata": {
        "id": "ipnuOTVtK5mI",
        "colab": {
          "base_uri": "https://localhost:8080/",
          "height": 394
        },
        "outputId": "bf480284-b2b3-4cf0-801e-27ad2d925ef6",
        "pycharm": {
          "name": "#%%\n"
        }
      },
      "execution_count": null,
      "outputs": [
        {
          "output_type": "execute_result",
          "data": {
            "text/plain": [
              "                 0            1            2            3            4  \\\n",
              "count  2000.000000  2000.000000  2000.000000  2000.000000  2000.000000   \n",
              "mean     -0.755232    -0.731983    -0.686050    -0.640433    -0.575223   \n",
              "std       0.782530     0.769068     0.758743     0.739557     0.690143   \n",
              "min      -3.169890    -2.600180    -2.247002    -2.156541    -1.979221   \n",
              "25%      -1.346902    -1.323896    -1.273335    -1.221318    -1.115128   \n",
              "50%      -0.951520    -0.917664    -0.860382    -0.807823    -0.720739   \n",
              "75%      -0.378816    -0.345296    -0.303584    -0.243909    -0.191279   \n",
              "max       1.430376     1.413885     1.519769     1.574971     1.547550   \n",
              "\n",
              "                 5            6            7            8            9  ...  \\\n",
              "count  2000.000000  2000.000000  2000.000000  2000.000000  2000.000000  ...   \n",
              "mean     -0.471651    -0.353945    -0.202407     0.023510     0.248397  ...   \n",
              "std       0.597327     0.483551     0.383559     0.343431     0.380917  ...   \n",
              "min      -1.647210    -1.357087    -1.145315    -0.988148    -0.991923  ...   \n",
              "25%      -0.936380    -0.730467    -0.491613    -0.225987     0.004216  ...   \n",
              "50%      -0.583298    -0.442983    -0.250704     0.026907     0.308737  ...   \n",
              "75%      -0.102777    -0.037159     0.054989     0.267866     0.524930  ...   \n",
              "max       1.418249     1.200278     1.008586     0.977537     1.037080  ...   \n",
              "\n",
              "               129          130          131          132          133  \\\n",
              "count  2000.000000  2000.000000  2000.000000  2000.000000  2000.000000   \n",
              "mean      0.351283     0.349111     0.349352     0.366970     0.422915   \n",
              "std       0.067504     0.061186     0.068736     0.115665     0.075345   \n",
              "min      -0.315574    -0.199487    -0.176575    -0.584151    -0.152882   \n",
              "25%       0.316552     0.316664     0.312843     0.305122     0.386140   \n",
              "50%       0.359513     0.355493     0.358734     0.380160     0.428901   \n",
              "75%       0.397908     0.390865     0.396449     0.440148     0.466681   \n",
              "max       0.544504     0.532746     0.550865     0.661585     0.741273   \n",
              "\n",
              "               134          135          136          137          138  \n",
              "count  2000.000000  2000.000000  2000.000000  2000.000000  2000.000000  \n",
              "mean      0.432049     0.421719    -0.107145     0.014077    -0.034479  \n",
              "std       0.072397     0.074347     0.628119     0.654185     0.716014  \n",
              "min      -0.260228    -0.382177   -12.457202    -6.130066   -16.969362  \n",
              "25%       0.394719     0.385037    -0.258503    -0.294246    -0.174806  \n",
              "50%       0.437636     0.428072    -0.122268     0.019702    -0.018098  \n",
              "75%       0.473515     0.464629     0.040192     0.334715     0.134378  \n",
              "max       0.762734     0.731805    15.598820     3.277500     5.829394  \n",
              "\n",
              "[8 rows x 139 columns]"
            ],
            "text/html": [
              "\n",
              "  <div id=\"df-f4ac5741-a258-4224-88ba-30529b9d02e5\">\n",
              "    <div class=\"colab-df-container\">\n",
              "      <div>\n",
              "<style scoped>\n",
              "    .dataframe tbody tr th:only-of-type {\n",
              "        vertical-align: middle;\n",
              "    }\n",
              "\n",
              "    .dataframe tbody tr th {\n",
              "        vertical-align: top;\n",
              "    }\n",
              "\n",
              "    .dataframe thead th {\n",
              "        text-align: right;\n",
              "    }\n",
              "</style>\n",
              "<table border=\"1\" class=\"dataframe\">\n",
              "  <thead>\n",
              "    <tr style=\"text-align: right;\">\n",
              "      <th></th>\n",
              "      <th>0</th>\n",
              "      <th>1</th>\n",
              "      <th>2</th>\n",
              "      <th>3</th>\n",
              "      <th>4</th>\n",
              "      <th>5</th>\n",
              "      <th>6</th>\n",
              "      <th>7</th>\n",
              "      <th>8</th>\n",
              "      <th>9</th>\n",
              "      <th>...</th>\n",
              "      <th>129</th>\n",
              "      <th>130</th>\n",
              "      <th>131</th>\n",
              "      <th>132</th>\n",
              "      <th>133</th>\n",
              "      <th>134</th>\n",
              "      <th>135</th>\n",
              "      <th>136</th>\n",
              "      <th>137</th>\n",
              "      <th>138</th>\n",
              "    </tr>\n",
              "  </thead>\n",
              "  <tbody>\n",
              "    <tr>\n",
              "      <th>count</th>\n",
              "      <td>2000.000000</td>\n",
              "      <td>2000.000000</td>\n",
              "      <td>2000.000000</td>\n",
              "      <td>2000.000000</td>\n",
              "      <td>2000.000000</td>\n",
              "      <td>2000.000000</td>\n",
              "      <td>2000.000000</td>\n",
              "      <td>2000.000000</td>\n",
              "      <td>2000.000000</td>\n",
              "      <td>2000.000000</td>\n",
              "      <td>...</td>\n",
              "      <td>2000.000000</td>\n",
              "      <td>2000.000000</td>\n",
              "      <td>2000.000000</td>\n",
              "      <td>2000.000000</td>\n",
              "      <td>2000.000000</td>\n",
              "      <td>2000.000000</td>\n",
              "      <td>2000.000000</td>\n",
              "      <td>2000.000000</td>\n",
              "      <td>2000.000000</td>\n",
              "      <td>2000.000000</td>\n",
              "    </tr>\n",
              "    <tr>\n",
              "      <th>mean</th>\n",
              "      <td>-0.755232</td>\n",
              "      <td>-0.731983</td>\n",
              "      <td>-0.686050</td>\n",
              "      <td>-0.640433</td>\n",
              "      <td>-0.575223</td>\n",
              "      <td>-0.471651</td>\n",
              "      <td>-0.353945</td>\n",
              "      <td>-0.202407</td>\n",
              "      <td>0.023510</td>\n",
              "      <td>0.248397</td>\n",
              "      <td>...</td>\n",
              "      <td>0.351283</td>\n",
              "      <td>0.349111</td>\n",
              "      <td>0.349352</td>\n",
              "      <td>0.366970</td>\n",
              "      <td>0.422915</td>\n",
              "      <td>0.432049</td>\n",
              "      <td>0.421719</td>\n",
              "      <td>-0.107145</td>\n",
              "      <td>0.014077</td>\n",
              "      <td>-0.034479</td>\n",
              "    </tr>\n",
              "    <tr>\n",
              "      <th>std</th>\n",
              "      <td>0.782530</td>\n",
              "      <td>0.769068</td>\n",
              "      <td>0.758743</td>\n",
              "      <td>0.739557</td>\n",
              "      <td>0.690143</td>\n",
              "      <td>0.597327</td>\n",
              "      <td>0.483551</td>\n",
              "      <td>0.383559</td>\n",
              "      <td>0.343431</td>\n",
              "      <td>0.380917</td>\n",
              "      <td>...</td>\n",
              "      <td>0.067504</td>\n",
              "      <td>0.061186</td>\n",
              "      <td>0.068736</td>\n",
              "      <td>0.115665</td>\n",
              "      <td>0.075345</td>\n",
              "      <td>0.072397</td>\n",
              "      <td>0.074347</td>\n",
              "      <td>0.628119</td>\n",
              "      <td>0.654185</td>\n",
              "      <td>0.716014</td>\n",
              "    </tr>\n",
              "    <tr>\n",
              "      <th>min</th>\n",
              "      <td>-3.169890</td>\n",
              "      <td>-2.600180</td>\n",
              "      <td>-2.247002</td>\n",
              "      <td>-2.156541</td>\n",
              "      <td>-1.979221</td>\n",
              "      <td>-1.647210</td>\n",
              "      <td>-1.357087</td>\n",
              "      <td>-1.145315</td>\n",
              "      <td>-0.988148</td>\n",
              "      <td>-0.991923</td>\n",
              "      <td>...</td>\n",
              "      <td>-0.315574</td>\n",
              "      <td>-0.199487</td>\n",
              "      <td>-0.176575</td>\n",
              "      <td>-0.584151</td>\n",
              "      <td>-0.152882</td>\n",
              "      <td>-0.260228</td>\n",
              "      <td>-0.382177</td>\n",
              "      <td>-12.457202</td>\n",
              "      <td>-6.130066</td>\n",
              "      <td>-16.969362</td>\n",
              "    </tr>\n",
              "    <tr>\n",
              "      <th>25%</th>\n",
              "      <td>-1.346902</td>\n",
              "      <td>-1.323896</td>\n",
              "      <td>-1.273335</td>\n",
              "      <td>-1.221318</td>\n",
              "      <td>-1.115128</td>\n",
              "      <td>-0.936380</td>\n",
              "      <td>-0.730467</td>\n",
              "      <td>-0.491613</td>\n",
              "      <td>-0.225987</td>\n",
              "      <td>0.004216</td>\n",
              "      <td>...</td>\n",
              "      <td>0.316552</td>\n",
              "      <td>0.316664</td>\n",
              "      <td>0.312843</td>\n",
              "      <td>0.305122</td>\n",
              "      <td>0.386140</td>\n",
              "      <td>0.394719</td>\n",
              "      <td>0.385037</td>\n",
              "      <td>-0.258503</td>\n",
              "      <td>-0.294246</td>\n",
              "      <td>-0.174806</td>\n",
              "    </tr>\n",
              "    <tr>\n",
              "      <th>50%</th>\n",
              "      <td>-0.951520</td>\n",
              "      <td>-0.917664</td>\n",
              "      <td>-0.860382</td>\n",
              "      <td>-0.807823</td>\n",
              "      <td>-0.720739</td>\n",
              "      <td>-0.583298</td>\n",
              "      <td>-0.442983</td>\n",
              "      <td>-0.250704</td>\n",
              "      <td>0.026907</td>\n",
              "      <td>0.308737</td>\n",
              "      <td>...</td>\n",
              "      <td>0.359513</td>\n",
              "      <td>0.355493</td>\n",
              "      <td>0.358734</td>\n",
              "      <td>0.380160</td>\n",
              "      <td>0.428901</td>\n",
              "      <td>0.437636</td>\n",
              "      <td>0.428072</td>\n",
              "      <td>-0.122268</td>\n",
              "      <td>0.019702</td>\n",
              "      <td>-0.018098</td>\n",
              "    </tr>\n",
              "    <tr>\n",
              "      <th>75%</th>\n",
              "      <td>-0.378816</td>\n",
              "      <td>-0.345296</td>\n",
              "      <td>-0.303584</td>\n",
              "      <td>-0.243909</td>\n",
              "      <td>-0.191279</td>\n",
              "      <td>-0.102777</td>\n",
              "      <td>-0.037159</td>\n",
              "      <td>0.054989</td>\n",
              "      <td>0.267866</td>\n",
              "      <td>0.524930</td>\n",
              "      <td>...</td>\n",
              "      <td>0.397908</td>\n",
              "      <td>0.390865</td>\n",
              "      <td>0.396449</td>\n",
              "      <td>0.440148</td>\n",
              "      <td>0.466681</td>\n",
              "      <td>0.473515</td>\n",
              "      <td>0.464629</td>\n",
              "      <td>0.040192</td>\n",
              "      <td>0.334715</td>\n",
              "      <td>0.134378</td>\n",
              "    </tr>\n",
              "    <tr>\n",
              "      <th>max</th>\n",
              "      <td>1.430376</td>\n",
              "      <td>1.413885</td>\n",
              "      <td>1.519769</td>\n",
              "      <td>1.574971</td>\n",
              "      <td>1.547550</td>\n",
              "      <td>1.418249</td>\n",
              "      <td>1.200278</td>\n",
              "      <td>1.008586</td>\n",
              "      <td>0.977537</td>\n",
              "      <td>1.037080</td>\n",
              "      <td>...</td>\n",
              "      <td>0.544504</td>\n",
              "      <td>0.532746</td>\n",
              "      <td>0.550865</td>\n",
              "      <td>0.661585</td>\n",
              "      <td>0.741273</td>\n",
              "      <td>0.762734</td>\n",
              "      <td>0.731805</td>\n",
              "      <td>15.598820</td>\n",
              "      <td>3.277500</td>\n",
              "      <td>5.829394</td>\n",
              "    </tr>\n",
              "  </tbody>\n",
              "</table>\n",
              "<p>8 rows × 139 columns</p>\n",
              "</div>\n",
              "      <button class=\"colab-df-convert\" onclick=\"convertToInteractive('df-f4ac5741-a258-4224-88ba-30529b9d02e5')\"\n",
              "              title=\"Convert this dataframe to an interactive table.\"\n",
              "              style=\"display:none;\">\n",
              "        \n",
              "  <svg xmlns=\"http://www.w3.org/2000/svg\" height=\"24px\"viewBox=\"0 0 24 24\"\n",
              "       width=\"24px\">\n",
              "    <path d=\"M0 0h24v24H0V0z\" fill=\"none\"/>\n",
              "    <path d=\"M18.56 5.44l.94 2.06.94-2.06 2.06-.94-2.06-.94-.94-2.06-.94 2.06-2.06.94zm-11 1L8.5 8.5l.94-2.06 2.06-.94-2.06-.94L8.5 2.5l-.94 2.06-2.06.94zm10 10l.94 2.06.94-2.06 2.06-.94-2.06-.94-.94-2.06-.94 2.06-2.06.94z\"/><path d=\"M17.41 7.96l-1.37-1.37c-.4-.4-.92-.59-1.43-.59-.52 0-1.04.2-1.43.59L10.3 9.45l-7.72 7.72c-.78.78-.78 2.05 0 2.83L4 21.41c.39.39.9.59 1.41.59.51 0 1.02-.2 1.41-.59l7.78-7.78 2.81-2.81c.8-.78.8-2.07 0-2.86zM5.41 20L4 18.59l7.72-7.72 1.47 1.35L5.41 20z\"/>\n",
              "  </svg>\n",
              "      </button>\n",
              "      \n",
              "  <style>\n",
              "    .colab-df-container {\n",
              "      display:flex;\n",
              "      flex-wrap:wrap;\n",
              "      gap: 12px;\n",
              "    }\n",
              "\n",
              "    .colab-df-convert {\n",
              "      background-color: #E8F0FE;\n",
              "      border: none;\n",
              "      border-radius: 50%;\n",
              "      cursor: pointer;\n",
              "      display: none;\n",
              "      fill: #1967D2;\n",
              "      height: 32px;\n",
              "      padding: 0 0 0 0;\n",
              "      width: 32px;\n",
              "    }\n",
              "\n",
              "    .colab-df-convert:hover {\n",
              "      background-color: #E2EBFA;\n",
              "      box-shadow: 0px 1px 2px rgba(60, 64, 67, 0.3), 0px 1px 3px 1px rgba(60, 64, 67, 0.15);\n",
              "      fill: #174EA6;\n",
              "    }\n",
              "\n",
              "    [theme=dark] .colab-df-convert {\n",
              "      background-color: #3B4455;\n",
              "      fill: #D2E3FC;\n",
              "    }\n",
              "\n",
              "    [theme=dark] .colab-df-convert:hover {\n",
              "      background-color: #434B5C;\n",
              "      box-shadow: 0px 1px 3px 1px rgba(0, 0, 0, 0.15);\n",
              "      filter: drop-shadow(0px 1px 2px rgba(0, 0, 0, 0.3));\n",
              "      fill: #FFFFFF;\n",
              "    }\n",
              "  </style>\n",
              "\n",
              "      <script>\n",
              "        const buttonEl =\n",
              "          document.querySelector('#df-f4ac5741-a258-4224-88ba-30529b9d02e5 button.colab-df-convert');\n",
              "        buttonEl.style.display =\n",
              "          google.colab.kernel.accessAllowed ? 'block' : 'none';\n",
              "\n",
              "        async function convertToInteractive(key) {\n",
              "          const element = document.querySelector('#df-f4ac5741-a258-4224-88ba-30529b9d02e5');\n",
              "          const dataTable =\n",
              "            await google.colab.kernel.invokeFunction('convertToInteractive',\n",
              "                                                     [key], {});\n",
              "          if (!dataTable) return;\n",
              "\n",
              "          const docLinkHtml = 'Like what you see? Visit the ' +\n",
              "            '<a target=\"_blank\" href=https://colab.research.google.com/notebooks/data_table.ipynb>data table notebook</a>'\n",
              "            + ' to learn more about interactive tables.';\n",
              "          element.innerHTML = '';\n",
              "          dataTable['output_type'] = 'display_data';\n",
              "          await google.colab.output.renderOutput(dataTable, element);\n",
              "          const docLink = document.createElement('div');\n",
              "          docLink.innerHTML = docLinkHtml;\n",
              "          element.appendChild(docLink);\n",
              "        }\n",
              "      </script>\n",
              "    </div>\n",
              "  </div>\n",
              "  "
            ]
          },
          "metadata": {},
          "execution_count": 98
        }
      ]
    },
    {
      "cell_type": "code",
      "source": [
        "# Use pandas to examine the histograms of the dataset columns\n",
        "raw_data.hist(bins = 50, figsize = (20, 5))"
      ],
      "metadata": {
        "id": "F5x-1ojDLTVt",
        "colab": {
          "base_uri": "https://localhost:8080/",
          "height": 1000
        },
        "outputId": "8f84b4ad-772e-4039-eb03-2360bc2d2b6e",
        "pycharm": {
          "name": "#%%\n"
        }
      },
      "execution_count": null,
      "outputs": [
        {
          "output_type": "execute_result",
          "data": {
            "text/plain": [
              "array([[<matplotlib.axes._subplots.AxesSubplot object at 0x7f596757d2d0>,\n",
              "        <matplotlib.axes._subplots.AxesSubplot object at 0x7f5969d3d6d0>,\n",
              "        <matplotlib.axes._subplots.AxesSubplot object at 0x7f5968099650>,\n",
              "        <matplotlib.axes._subplots.AxesSubplot object at 0x7f5968164510>,\n",
              "        <matplotlib.axes._subplots.AxesSubplot object at 0x7f59670c47d0>,\n",
              "        <matplotlib.axes._subplots.AxesSubplot object at 0x7f5967571550>,\n",
              "        <matplotlib.axes._subplots.AxesSubplot object at 0x7f59674c4990>,\n",
              "        <matplotlib.axes._subplots.AxesSubplot object at 0x7f59674ffdd0>,\n",
              "        <matplotlib.axes._subplots.AxesSubplot object at 0x7f59674ffe10>,\n",
              "        <matplotlib.axes._subplots.AxesSubplot object at 0x7f5967520d10>,\n",
              "        <matplotlib.axes._subplots.AxesSubplot object at 0x7f5967229d10>,\n",
              "        <matplotlib.axes._subplots.AxesSubplot object at 0x7f596758f250>],\n",
              "       [<matplotlib.axes._subplots.AxesSubplot object at 0x7f59672ed390>,\n",
              "        <matplotlib.axes._subplots.AxesSubplot object at 0x7f5967385890>,\n",
              "        <matplotlib.axes._subplots.AxesSubplot object at 0x7f59674521d0>,\n",
              "        <matplotlib.axes._subplots.AxesSubplot object at 0x7f59674496d0>,\n",
              "        <matplotlib.axes._subplots.AxesSubplot object at 0x7f596710abd0>,\n",
              "        <matplotlib.axes._subplots.AxesSubplot object at 0x7f596715e150>,\n",
              "        <matplotlib.axes._subplots.AxesSubplot object at 0x7f5967075650>,\n",
              "        <matplotlib.axes._subplots.AxesSubplot object at 0x7f5967085b50>,\n",
              "        <matplotlib.axes._subplots.AxesSubplot object at 0x7f596700cb90>,\n",
              "        <matplotlib.axes._subplots.AxesSubplot object at 0x7f5967027590>,\n",
              "        <matplotlib.axes._subplots.AxesSubplot object at 0x7f5967039a90>,\n",
              "        <matplotlib.axes._subplots.AxesSubplot object at 0x7f5966fd8f90>],\n",
              "       [<matplotlib.axes._subplots.AxesSubplot object at 0x7f59670054d0>,\n",
              "        <matplotlib.axes._subplots.AxesSubplot object at 0x7f5966fa99d0>,\n",
              "        <matplotlib.axes._subplots.AxesSubplot object at 0x7f5966f4eed0>,\n",
              "        <matplotlib.axes._subplots.AxesSubplot object at 0x7f5966f7a410>,\n",
              "        <matplotlib.axes._subplots.AxesSubplot object at 0x7f5966f1e910>,\n",
              "        <matplotlib.axes._subplots.AxesSubplot object at 0x7f5966f43e10>,\n",
              "        <matplotlib.axes._subplots.AxesSubplot object at 0x7f5966ef1350>,\n",
              "        <matplotlib.axes._subplots.AxesSubplot object at 0x7f5966e95850>,\n",
              "        <matplotlib.axes._subplots.AxesSubplot object at 0x7f5966ebdd50>,\n",
              "        <matplotlib.axes._subplots.AxesSubplot object at 0x7f5966e77290>,\n",
              "        <matplotlib.axes._subplots.AxesSubplot object at 0x7f5966e27790>,\n",
              "        <matplotlib.axes._subplots.AxesSubplot object at 0x7f5966dd4c90>],\n",
              "       [<matplotlib.axes._subplots.AxesSubplot object at 0x7f5966d8d1d0>,\n",
              "        <matplotlib.axes._subplots.AxesSubplot object at 0x7f5966dbe6d0>,\n",
              "        <matplotlib.axes._subplots.AxesSubplot object at 0x7f5966d6cbd0>,\n",
              "        <matplotlib.axes._subplots.AxesSubplot object at 0x7f5966d28110>,\n",
              "        <matplotlib.axes._subplots.AxesSubplot object at 0x7f5966cd5610>,\n",
              "        <matplotlib.axes._subplots.AxesSubplot object at 0x7f5966c87b10>,\n",
              "        <matplotlib.axes._subplots.AxesSubplot object at 0x7f5966cb5fd0>,\n",
              "        <matplotlib.axes._subplots.AxesSubplot object at 0x7f5966c6f550>,\n",
              "        <matplotlib.axes._subplots.AxesSubplot object at 0x7f5966c1ea50>,\n",
              "        <matplotlib.axes._subplots.AxesSubplot object at 0x7f5966bcdf50>,\n",
              "        <matplotlib.axes._subplots.AxesSubplot object at 0x7f5966b88490>,\n",
              "        <matplotlib.axes._subplots.AxesSubplot object at 0x7f5966bbf990>],\n",
              "       [<matplotlib.axes._subplots.AxesSubplot object at 0x7f5966b75e90>,\n",
              "        <matplotlib.axes._subplots.AxesSubplot object at 0x7f5966b383d0>,\n",
              "        <matplotlib.axes._subplots.AxesSubplot object at 0x7f5966af08d0>,\n",
              "        <matplotlib.axes._subplots.AxesSubplot object at 0x7f5966aa6dd0>,\n",
              "        <matplotlib.axes._subplots.AxesSubplot object at 0x7f5966a6a310>,\n",
              "        <matplotlib.axes._subplots.AxesSubplot object at 0x7f5966a1e810>,\n",
              "        <matplotlib.axes._subplots.AxesSubplot object at 0x7f59669d5d10>,\n",
              "        <matplotlib.axes._subplots.AxesSubplot object at 0x7f5966999250>,\n",
              "        <matplotlib.axes._subplots.AxesSubplot object at 0x7f5966950750>,\n",
              "        <matplotlib.axes._subplots.AxesSubplot object at 0x7f5966908c50>,\n",
              "        <matplotlib.axes._subplots.AxesSubplot object at 0x7f59668ca190>,\n",
              "        <matplotlib.axes._subplots.AxesSubplot object at 0x7f5966900690>],\n",
              "       [<matplotlib.axes._subplots.AxesSubplot object at 0x7f59668b6b90>,\n",
              "        <matplotlib.axes._subplots.AxesSubplot object at 0x7f5966862c90>,\n",
              "        <matplotlib.axes._subplots.AxesSubplot object at 0x7f5966836590>,\n",
              "        <matplotlib.axes._subplots.AxesSubplot object at 0x7f59667eda90>,\n",
              "        <matplotlib.axes._subplots.AxesSubplot object at 0x7f59667a4f90>,\n",
              "        <matplotlib.axes._subplots.AxesSubplot object at 0x7f59667674d0>,\n",
              "        <matplotlib.axes._subplots.AxesSubplot object at 0x7f596671d9d0>,\n",
              "        <matplotlib.axes._subplots.AxesSubplot object at 0x7f59666d5ed0>,\n",
              "        <matplotlib.axes._subplots.AxesSubplot object at 0x7f5966699410>,\n",
              "        <matplotlib.axes._subplots.AxesSubplot object at 0x7f596664e910>,\n",
              "        <matplotlib.axes._subplots.AxesSubplot object at 0x7f5966685e10>,\n",
              "        <matplotlib.axes._subplots.AxesSubplot object at 0x7f59665c8350>],\n",
              "       [<matplotlib.axes._subplots.AxesSubplot object at 0x7f59665fd850>,\n",
              "        <matplotlib.axes._subplots.AxesSubplot object at 0x7f59665b5d50>,\n",
              "        <matplotlib.axes._subplots.AxesSubplot object at 0x7f5966579290>,\n",
              "        <matplotlib.axes._subplots.AxesSubplot object at 0x7f596652d790>,\n",
              "        <matplotlib.axes._subplots.AxesSubplot object at 0x7f59664e4c90>,\n",
              "        <matplotlib.axes._subplots.AxesSubplot object at 0x7f59664a91d0>,\n",
              "        <matplotlib.axes._subplots.AxesSubplot object at 0x7f59664606d0>,\n",
              "        <matplotlib.axes._subplots.AxesSubplot object at 0x7f5966417bd0>,\n",
              "        <matplotlib.axes._subplots.AxesSubplot object at 0x7f59663db110>,\n",
              "        <matplotlib.axes._subplots.AxesSubplot object at 0x7f5966390610>,\n",
              "        <matplotlib.axes._subplots.AxesSubplot object at 0x7f5966347b10>,\n",
              "        <matplotlib.axes._subplots.AxesSubplot object at 0x7f596637dfd0>],\n",
              "       [<matplotlib.axes._subplots.AxesSubplot object at 0x7f5966340550>,\n",
              "        <matplotlib.axes._subplots.AxesSubplot object at 0x7f59662f6a50>,\n",
              "        <matplotlib.axes._subplots.AxesSubplot object at 0x7f59662adf50>,\n",
              "        <matplotlib.axes._subplots.AxesSubplot object at 0x7f5966271490>,\n",
              "        <matplotlib.axes._subplots.AxesSubplot object at 0x7f5966226990>,\n",
              "        <matplotlib.axes._subplots.AxesSubplot object at 0x7f59661dde90>,\n",
              "        <matplotlib.axes._subplots.AxesSubplot object at 0x7f59661a03d0>,\n",
              "        <matplotlib.axes._subplots.AxesSubplot object at 0x7f59661598d0>,\n",
              "        <matplotlib.axes._subplots.AxesSubplot object at 0x7f596610fdd0>,\n",
              "        <matplotlib.axes._subplots.AxesSubplot object at 0x7f5971c1f9d0>,\n",
              "        <matplotlib.axes._subplots.AxesSubplot object at 0x7f596ae5f190>,\n",
              "        <matplotlib.axes._subplots.AxesSubplot object at 0x7f596aa80ed0>],\n",
              "       [<matplotlib.axes._subplots.AxesSubplot object at 0x7f596a6ed710>,\n",
              "        <matplotlib.axes._subplots.AxesSubplot object at 0x7f59685d3b90>,\n",
              "        <matplotlib.axes._subplots.AxesSubplot object at 0x7f5966021590>,\n",
              "        <matplotlib.axes._subplots.AxesSubplot object at 0x7f5965fd2b90>,\n",
              "        <matplotlib.axes._subplots.AxesSubplot object at 0x7f5965f951d0>,\n",
              "        <matplotlib.axes._subplots.AxesSubplot object at 0x7f5965f4a7d0>,\n",
              "        <matplotlib.axes._subplots.AxesSubplot object at 0x7f5965f80dd0>,\n",
              "        <matplotlib.axes._subplots.AxesSubplot object at 0x7f5965ec6410>,\n",
              "        <matplotlib.axes._subplots.AxesSubplot object at 0x7f5965efba10>,\n",
              "        <matplotlib.axes._subplots.AxesSubplot object at 0x7f5965eb3fd0>,\n",
              "        <matplotlib.axes._subplots.AxesSubplot object at 0x7f5965e77650>,\n",
              "        <matplotlib.axes._subplots.AxesSubplot object at 0x7f5965e2dc50>],\n",
              "       [<matplotlib.axes._subplots.AxesSubplot object at 0x7f5965df1290>,\n",
              "        <matplotlib.axes._subplots.AxesSubplot object at 0x7f5965da7890>,\n",
              "        <matplotlib.axes._subplots.AxesSubplot object at 0x7f5965d5ee90>,\n",
              "        <matplotlib.axes._subplots.AxesSubplot object at 0x7f5965d214d0>,\n",
              "        <matplotlib.axes._subplots.AxesSubplot object at 0x7f5965cd9ad0>,\n",
              "        <matplotlib.axes._subplots.AxesSubplot object at 0x7f5965c9c110>,\n",
              "        <matplotlib.axes._subplots.AxesSubplot object at 0x7f5965c52710>,\n",
              "        <matplotlib.axes._subplots.AxesSubplot object at 0x7f5965c09d10>,\n",
              "        <matplotlib.axes._subplots.AxesSubplot object at 0x7f5965bcd350>,\n",
              "        <matplotlib.axes._subplots.AxesSubplot object at 0x7f5965c03950>,\n",
              "        <matplotlib.axes._subplots.AxesSubplot object at 0x7f5965bbbf50>,\n",
              "        <matplotlib.axes._subplots.AxesSubplot object at 0x7f5965b7e590>],\n",
              "       [<matplotlib.axes._subplots.AxesSubplot object at 0x7f5965b35b90>,\n",
              "        <matplotlib.axes._subplots.AxesSubplot object at 0x7f5965afa1d0>,\n",
              "        <matplotlib.axes._subplots.AxesSubplot object at 0x7f5965aaf7d0>,\n",
              "        <matplotlib.axes._subplots.AxesSubplot object at 0x7f5965a6b910>,\n",
              "        <matplotlib.axes._subplots.AxesSubplot object at 0x7f5965a1fe10>,\n",
              "        <matplotlib.axes._subplots.AxesSubplot object at 0x7f59659e3350>,\n",
              "        <matplotlib.axes._subplots.AxesSubplot object at 0x7f596599a850>,\n",
              "        <matplotlib.axes._subplots.AxesSubplot object at 0x7f5965952d50>,\n",
              "        <matplotlib.axes._subplots.AxesSubplot object at 0x7f5965915290>,\n",
              "        <matplotlib.axes._subplots.AxesSubplot object at 0x7f59658cb790>,\n",
              "        <matplotlib.axes._subplots.AxesSubplot object at 0x7f5965901c90>,\n",
              "        <matplotlib.axes._subplots.AxesSubplot object at 0x7f59658c51d0>],\n",
              "       [<matplotlib.axes._subplots.AxesSubplot object at 0x7f596587c6d0>,\n",
              "        <matplotlib.axes._subplots.AxesSubplot object at 0x7f5965833bd0>,\n",
              "        <matplotlib.axes._subplots.AxesSubplot object at 0x7f59657f6110>,\n",
              "        <matplotlib.axes._subplots.AxesSubplot object at 0x7f59657ae610>,\n",
              "        <matplotlib.axes._subplots.AxesSubplot object at 0x7f5965765b10>,\n",
              "        <matplotlib.axes._subplots.AxesSubplot object at 0x7f596571cfd0>,\n",
              "        <matplotlib.axes._subplots.AxesSubplot object at 0x7f59656dd550>,\n",
              "        <matplotlib.axes._subplots.AxesSubplot object at 0x7f5965694a50>,\n",
              "        <matplotlib.axes._subplots.AxesSubplot object at 0x7f596564cf50>,\n",
              "        <matplotlib.axes._subplots.AxesSubplot object at 0x7f596560e490>,\n",
              "        <matplotlib.axes._subplots.AxesSubplot object at 0x7f5965644990>,\n",
              "        <matplotlib.axes._subplots.AxesSubplot object at 0x7f59655fee90>]],\n",
              "      dtype=object)"
            ]
          },
          "metadata": {},
          "execution_count": 99
        },
        {
          "output_type": "display_data",
          "data": {
            "text/plain": [
              "<Figure size 1440x360 with 144 Axes>"
            ],
            "image/png": "[encoded data removed]"
          },
          "metadata": {}
        }
      ]
    },
    {
      "cell_type": "code",
      "execution_count": null,
      "outputs": [],
      "source": [
        ""
      ],
      "metadata": {
        "pycharm": {
          "name": "#%%\n"
        },
        "id": "2n7wC7WPxAut"
      }
    },
    {
      "cell_type": "markdown",
      "metadata": {
        "id": "M8251vH3fqKV",
        "pycharm": {
          "name": "#%% md\n"
        }
      },
      "source": [
        "### 12.3.4 Feature selection"
      ]
    },
    {
      "cell_type": "markdown",
      "source": [
        "#### 6 * 2 (12) Selected Features"
      ],
      "metadata": {
        "collapsed": false,
        "pycharm": {
          "name": "#%% md\n"
        },
        "id": "HV_WnVp6xAuw"
      }
    },
    {
      "cell_type": "code",
      "execution_count": null,
      "outputs": [],
      "source": [
        "# preprocessed_data.head()"
      ],
      "metadata": {
        "pycharm": {
          "name": "#%%\n"
        },
        "id": "HTJw5XKoxAux"
      }
    },
    {
      "cell_type": "code",
      "execution_count": null,
      "outputs": [],
      "source": [
        "y_shift = 68\n",
        "xy_list = [\"8\", \"30\", \"36\", \"45\", \"48\", \"54\", str(8 + y_shift), str(30+ y_shift), str(36+ y_shift), str(45+ y_shift), str(48+ y_shift), str(54+ y_shift)]"
      ],
      "metadata": {
        "pycharm": {
          "name": "#%%\n"
        },
        "id": "wab2NBu2xAux"
      }
    },
    {
      "cell_type": "code",
      "execution_count": null,
      "outputs": [
        {
          "output_type": "execute_result",
          "data": {
            "text/plain": [
              "             8   30        36        45        48        54        76   98  \\\n",
              "0    -0.117864  0.0 -0.660870  0.811568 -0.471326  0.388258  0.993030  0.0   \n",
              "1     0.244669  0.0  0.390942  0.818068  0.240005  0.475098  0.969607  0.0   \n",
              "2     0.475943  0.0  0.029326  0.663393  0.186035  0.639567  0.879476  0.0   \n",
              "3     0.545762  0.0 -0.534558  0.548172 -0.038727  0.562913  0.837940  0.0   \n",
              "4     0.717417  0.0  0.251543  0.403701  0.469008  0.526977  0.696644  0.0   \n",
              "...        ...  ...       ...       ...       ...       ...       ...  ...   \n",
              "1995 -0.180936  0.0 -0.716524  0.705470 -0.476342  0.213887  0.983495  0.0   \n",
              "1996 -0.436020  0.0 -0.586483 -0.431478 -0.418666 -0.367536  0.899937  0.0   \n",
              "1997  0.509112  0.0  0.315109  0.329809  0.414839  0.353091  0.860700  0.0   \n",
              "1998 -0.562029  0.0 -0.556864 -0.261912 -0.576792 -0.366923  0.827117  0.0   \n",
              "1999 -0.095188  0.0 -0.614902  0.383480 -0.350774  0.188590  0.995459  0.0   \n",
              "\n",
              "           104       113       116       122  \n",
              "0    -0.868580 -0.734130  0.247089  0.431947  \n",
              "1    -0.268480 -0.445271  0.578156  0.481578  \n",
              "2    -0.389183 -0.480418  0.351012  0.307038  \n",
              "3    -0.411924 -0.792250  0.351042  0.173244  \n",
              "4    -0.364394 -0.518721  0.279280  0.265331  \n",
              "...        ...       ...       ...       ...  \n",
              "1995 -0.767013 -0.644086  0.375926  0.443375  \n",
              "1996 -0.403517 -0.460230  0.417412  0.370264  \n",
              "1997 -0.362887 -0.402392  0.316205  0.360906  \n",
              "1998 -0.427689 -0.381033  0.337665  0.365449  \n",
              "1999 -0.362422 -0.380515  0.467853  0.435398  \n",
              "\n",
              "[2000 rows x 12 columns]"
            ],
            "text/html": [
              "\n",
              "  <div id=\"df-d4e018a6-c96d-4f12-b669-307f4dfeb0cb\">\n",
              "    <div class=\"colab-df-container\">\n",
              "      <div>\n",
              "<style scoped>\n",
              "    .dataframe tbody tr th:only-of-type {\n",
              "        vertical-align: middle;\n",
              "    }\n",
              "\n",
              "    .dataframe tbody tr th {\n",
              "        vertical-align: top;\n",
              "    }\n",
              "\n",
              "    .dataframe thead th {\n",
              "        text-align: right;\n",
              "    }\n",
              "</style>\n",
              "<table border=\"1\" class=\"dataframe\">\n",
              "  <thead>\n",
              "    <tr style=\"text-align: right;\">\n",
              "      <th></th>\n",
              "      <th>8</th>\n",
              "      <th>30</th>\n",
              "      <th>36</th>\n",
              "      <th>45</th>\n",
              "      <th>48</th>\n",
              "      <th>54</th>\n",
              "      <th>76</th>\n",
              "      <th>98</th>\n",
              "      <th>104</th>\n",
              "      <th>113</th>\n",
              "      <th>116</th>\n",
              "      <th>122</th>\n",
              "    </tr>\n",
              "  </thead>\n",
              "  <tbody>\n",
              "    <tr>\n",
              "      <th>0</th>\n",
              "      <td>-0.117864</td>\n",
              "      <td>0.0</td>\n",
              "      <td>-0.660870</td>\n",
              "      <td>0.811568</td>\n",
              "      <td>-0.471326</td>\n",
              "      <td>0.388258</td>\n",
              "      <td>0.993030</td>\n",
              "      <td>0.0</td>\n",
              "      <td>-0.868580</td>\n",
              "      <td>-0.734130</td>\n",
              "      <td>0.247089</td>\n",
              "      <td>0.431947</td>\n",
              "    </tr>\n",
              "    <tr>\n",
              "      <th>1</th>\n",
              "      <td>0.244669</td>\n",
              "      <td>0.0</td>\n",
              "      <td>0.390942</td>\n",
              "      <td>0.818068</td>\n",
              "      <td>0.240005</td>\n",
              "      <td>0.475098</td>\n",
              "      <td>0.969607</td>\n",
              "      <td>0.0</td>\n",
              "      <td>-0.268480</td>\n",
              "      <td>-0.445271</td>\n",
              "      <td>0.578156</td>\n",
              "      <td>0.481578</td>\n",
              "    </tr>\n",
              "    <tr>\n",
              "      <th>2</th>\n",
              "      <td>0.475943</td>\n",
              "      <td>0.0</td>\n",
              "      <td>0.029326</td>\n",
              "      <td>0.663393</td>\n",
              "      <td>0.186035</td>\n",
              "      <td>0.639567</td>\n",
              "      <td>0.879476</td>\n",
              "      <td>0.0</td>\n",
              "      <td>-0.389183</td>\n",
              "      <td>-0.480418</td>\n",
              "      <td>0.351012</td>\n",
              "      <td>0.307038</td>\n",
              "    </tr>\n",
              "    <tr>\n",
              "      <th>3</th>\n",
              "      <td>0.545762</td>\n",
              "      <td>0.0</td>\n",
              "      <td>-0.534558</td>\n",
              "      <td>0.548172</td>\n",
              "      <td>-0.038727</td>\n",
              "      <td>0.562913</td>\n",
              "      <td>0.837940</td>\n",
              "      <td>0.0</td>\n",
              "      <td>-0.411924</td>\n",
              "      <td>-0.792250</td>\n",
              "      <td>0.351042</td>\n",
              "      <td>0.173244</td>\n",
              "    </tr>\n",
              "    <tr>\n",
              "      <th>4</th>\n",
              "      <td>0.717417</td>\n",
              "      <td>0.0</td>\n",
              "      <td>0.251543</td>\n",
              "      <td>0.403701</td>\n",
              "      <td>0.469008</td>\n",
              "      <td>0.526977</td>\n",
              "      <td>0.696644</td>\n",
              "      <td>0.0</td>\n",
              "      <td>-0.364394</td>\n",
              "      <td>-0.518721</td>\n",
              "      <td>0.279280</td>\n",
              "      <td>0.265331</td>\n",
              "    </tr>\n",
              "    <tr>\n",
              "      <th>...</th>\n",
              "      <td>...</td>\n",
              "      <td>...</td>\n",
              "      <td>...</td>\n",
              "      <td>...</td>\n",
              "      <td>...</td>\n",
              "      <td>...</td>\n",
              "      <td>...</td>\n",
              "      <td>...</td>\n",
              "      <td>...</td>\n",
              "      <td>...</td>\n",
              "      <td>...</td>\n",
              "      <td>...</td>\n",
              "    </tr>\n",
              "    <tr>\n",
              "      <th>1995</th>\n",
              "      <td>-0.180936</td>\n",
              "      <td>0.0</td>\n",
              "      <td>-0.716524</td>\n",
              "      <td>0.705470</td>\n",
              "      <td>-0.476342</td>\n",
              "      <td>0.213887</td>\n",
              "      <td>0.983495</td>\n",
              "      <td>0.0</td>\n",
              "      <td>-0.767013</td>\n",
              "      <td>-0.644086</td>\n",
              "      <td>0.375926</td>\n",
              "      <td>0.443375</td>\n",
              "    </tr>\n",
              "    <tr>\n",
              "      <th>1996</th>\n",
              "      <td>-0.436020</td>\n",
              "      <td>0.0</td>\n",
              "      <td>-0.586483</td>\n",
              "      <td>-0.431478</td>\n",
              "      <td>-0.418666</td>\n",
              "      <td>-0.367536</td>\n",
              "      <td>0.899937</td>\n",
              "      <td>0.0</td>\n",
              "      <td>-0.403517</td>\n",
              "      <td>-0.460230</td>\n",
              "      <td>0.417412</td>\n",
              "      <td>0.370264</td>\n",
              "    </tr>\n",
              "    <tr>\n",
              "      <th>1997</th>\n",
              "      <td>0.509112</td>\n",
              "      <td>0.0</td>\n",
              "      <td>0.315109</td>\n",
              "      <td>0.329809</td>\n",
              "      <td>0.414839</td>\n",
              "      <td>0.353091</td>\n",
              "      <td>0.860700</td>\n",
              "      <td>0.0</td>\n",
              "      <td>-0.362887</td>\n",
              "      <td>-0.402392</td>\n",
              "      <td>0.316205</td>\n",
              "      <td>0.360906</td>\n",
              "    </tr>\n",
              "    <tr>\n",
              "      <th>1998</th>\n",
              "      <td>-0.562029</td>\n",
              "      <td>0.0</td>\n",
              "      <td>-0.556864</td>\n",
              "      <td>-0.261912</td>\n",
              "      <td>-0.576792</td>\n",
              "      <td>-0.366923</td>\n",
              "      <td>0.827117</td>\n",
              "      <td>0.0</td>\n",
              "      <td>-0.427689</td>\n",
              "      <td>-0.381033</td>\n",
              "      <td>0.337665</td>\n",
              "      <td>0.365449</td>\n",
              "    </tr>\n",
              "    <tr>\n",
              "      <th>1999</th>\n",
              "      <td>-0.095188</td>\n",
              "      <td>0.0</td>\n",
              "      <td>-0.614902</td>\n",
              "      <td>0.383480</td>\n",
              "      <td>-0.350774</td>\n",
              "      <td>0.188590</td>\n",
              "      <td>0.995459</td>\n",
              "      <td>0.0</td>\n",
              "      <td>-0.362422</td>\n",
              "      <td>-0.380515</td>\n",
              "      <td>0.467853</td>\n",
              "      <td>0.435398</td>\n",
              "    </tr>\n",
              "  </tbody>\n",
              "</table>\n",
              "<p>2000 rows × 12 columns</p>\n",
              "</div>\n",
              "      <button class=\"colab-df-convert\" onclick=\"convertToInteractive('df-d4e018a6-c96d-4f12-b669-307f4dfeb0cb')\"\n",
              "              title=\"Convert this dataframe to an interactive table.\"\n",
              "              style=\"display:none;\">\n",
              "        \n",
              "  <svg xmlns=\"http://www.w3.org/2000/svg\" height=\"24px\"viewBox=\"0 0 24 24\"\n",
              "       width=\"24px\">\n",
              "    <path d=\"M0 0h24v24H0V0z\" fill=\"none\"/>\n",
              "    <path d=\"M18.56 5.44l.94 2.06.94-2.06 2.06-.94-2.06-.94-.94-2.06-.94 2.06-2.06.94zm-11 1L8.5 8.5l.94-2.06 2.06-.94-2.06-.94L8.5 2.5l-.94 2.06-2.06.94zm10 10l.94 2.06.94-2.06 2.06-.94-2.06-.94-.94-2.06-.94 2.06-2.06.94z\"/><path d=\"M17.41 7.96l-1.37-1.37c-.4-.4-.92-.59-1.43-.59-.52 0-1.04.2-1.43.59L10.3 9.45l-7.72 7.72c-.78.78-.78 2.05 0 2.83L4 21.41c.39.39.9.59 1.41.59.51 0 1.02-.2 1.41-.59l7.78-7.78 2.81-2.81c.8-.78.8-2.07 0-2.86zM5.41 20L4 18.59l7.72-7.72 1.47 1.35L5.41 20z\"/>\n",
              "  </svg>\n",
              "      </button>\n",
              "      \n",
              "  <style>\n",
              "    .colab-df-container {\n",
              "      display:flex;\n",
              "      flex-wrap:wrap;\n",
              "      gap: 12px;\n",
              "    }\n",
              "\n",
              "    .colab-df-convert {\n",
              "      background-color: #E8F0FE;\n",
              "      border: none;\n",
              "      border-radius: 50%;\n",
              "      cursor: pointer;\n",
              "      display: none;\n",
              "      fill: #1967D2;\n",
              "      height: 32px;\n",
              "      padding: 0 0 0 0;\n",
              "      width: 32px;\n",
              "    }\n",
              "\n",
              "    .colab-df-convert:hover {\n",
              "      background-color: #E2EBFA;\n",
              "      box-shadow: 0px 1px 2px rgba(60, 64, 67, 0.3), 0px 1px 3px 1px rgba(60, 64, 67, 0.15);\n",
              "      fill: #174EA6;\n",
              "    }\n",
              "\n",
              "    [theme=dark] .colab-df-convert {\n",
              "      background-color: #3B4455;\n",
              "      fill: #D2E3FC;\n",
              "    }\n",
              "\n",
              "    [theme=dark] .colab-df-convert:hover {\n",
              "      background-color: #434B5C;\n",
              "      box-shadow: 0px 1px 3px 1px rgba(0, 0, 0, 0.15);\n",
              "      filter: drop-shadow(0px 1px 2px rgba(0, 0, 0, 0.3));\n",
              "      fill: #FFFFFF;\n",
              "    }\n",
              "  </style>\n",
              "\n",
              "      <script>\n",
              "        const buttonEl =\n",
              "          document.querySelector('#df-d4e018a6-c96d-4f12-b669-307f4dfeb0cb button.colab-df-convert');\n",
              "        buttonEl.style.display =\n",
              "          google.colab.kernel.accessAllowed ? 'block' : 'none';\n",
              "\n",
              "        async function convertToInteractive(key) {\n",
              "          const element = document.querySelector('#df-d4e018a6-c96d-4f12-b669-307f4dfeb0cb');\n",
              "          const dataTable =\n",
              "            await google.colab.kernel.invokeFunction('convertToInteractive',\n",
              "                                                     [key], {});\n",
              "          if (!dataTable) return;\n",
              "\n",
              "          const docLinkHtml = 'Like what you see? Visit the ' +\n",
              "            '<a target=\"_blank\" href=https://colab.research.google.com/notebooks/data_table.ipynb>data table notebook</a>'\n",
              "            + ' to learn more about interactive tables.';\n",
              "          element.innerHTML = '';\n",
              "          dataTable['output_type'] = 'display_data';\n",
              "          await google.colab.output.renderOutput(dataTable, element);\n",
              "          const docLink = document.createElement('div');\n",
              "          docLink.innerHTML = docLinkHtml;\n",
              "          element.appendChild(docLink);\n",
              "        }\n",
              "      </script>\n",
              "    </div>\n",
              "  </div>\n",
              "  "
            ]
          },
          "metadata": {},
          "execution_count": 102
        }
      ],
      "source": [
        "X = raw_data[xy_list]\n",
        "X"
      ],
      "metadata": {
        "pycharm": {
          "name": "#%%\n"
        },
        "id": "0MrMpLjhxAux",
        "outputId": "55c2a542-fc99-4dcc-cdbc-e35dd4300b6b",
        "colab": {
          "base_uri": "https://localhost:8080/",
          "height": 424
        }
      }
    },
    {
      "cell_type": "markdown",
      "source": [
        "Next, we can explore the dataset."
      ],
      "metadata": {
        "collapsed": false,
        "pycharm": {
          "name": "#%% md\n"
        },
        "id": "GCBBY2LKxAux"
      }
    },
    {
      "cell_type": "code",
      "execution_count": null,
      "outputs": [
        {
          "output_type": "execute_result",
          "data": {
            "text/plain": [
              "(2000, 12)"
            ]
          },
          "metadata": {},
          "execution_count": 103
        }
      ],
      "source": [
        "X.shape"
      ],
      "metadata": {
        "pycharm": {
          "name": "#%%\n"
        },
        "id": "W5_H-fbQxAux",
        "outputId": "e071b8e5-b2dc-46d9-a42d-e37fc75b5057",
        "colab": {
          "base_uri": "https://localhost:8080/"
        }
      }
    },
    {
      "cell_type": "code",
      "execution_count": null,
      "outputs": [
        {
          "output_type": "execute_result",
          "data": {
            "text/plain": [
              "2000"
            ]
          },
          "metadata": {},
          "execution_count": 104
        }
      ],
      "source": [
        "X.shape[0]"
      ],
      "metadata": {
        "pycharm": {
          "name": "#%%\n"
        },
        "id": "F1GjVT8UxAuy",
        "outputId": "d8e6c6b4-a30c-4b68-c129-204761bce8d9",
        "colab": {
          "base_uri": "https://localhost:8080/"
        }
      }
    },
    {
      "cell_type": "code",
      "execution_count": null,
      "outputs": [
        {
          "output_type": "execute_result",
          "data": {
            "text/plain": [
              "12"
            ]
          },
          "metadata": {},
          "execution_count": 105
        }
      ],
      "source": [
        "X.shape[1]"
      ],
      "metadata": {
        "pycharm": {
          "name": "#%%\n"
        },
        "id": "hb8GVbrCxAuy",
        "outputId": "b6a2a3b8-b21d-484f-e9d9-79bcbf87cd01",
        "colab": {
          "base_uri": "https://localhost:8080/"
        }
      }
    },
    {
      "cell_type": "markdown",
      "metadata": {
        "id": "mw-TKDt1fqKV",
        "pycharm": {
          "name": "#%% md\n"
        }
      },
      "source": [
        "### 12.3.5 Saving for future use"
      ]
    },
    {
      "cell_type": "code",
      "metadata": {
        "id": "MzlAdRmffqKW",
        "pycharm": {
          "name": "#%%\n"
        }
      },
      "source": [
        "#preprocessed_data.to_csv('./preprocessed_titanic_data.csv', index=None)"
      ],
      "execution_count": null,
      "outputs": []
    },
    {
      "cell_type": "markdown",
      "metadata": {
        "id": "bS3XGQrXfqKW",
        "pycharm": {
          "name": "#%% md\n"
        }
      },
      "source": [
        "# 12.4 Training models"
      ]
    },
    {
      "cell_type": "markdown",
      "metadata": {
        "id": "akXchKUDfqKW",
        "pycharm": {
          "name": "#%% md\n"
        }
      },
      "source": [
        "### 12.4.1 Features-labels split and train-validation split"
      ]
    },
    {
      "cell_type": "code",
      "execution_count": null,
      "outputs": [],
      "source": [
        "features = raw_data[xy_list]\n",
        "#features = raw_data.iloc[:,0:136].to_numpy()"
      ],
      "metadata": {
        "pycharm": {
          "name": "#%%\n"
        },
        "id": "Gs_hYAgGxAuz"
      }
    },
    {
      "cell_type": "code",
      "execution_count": null,
      "outputs": [],
      "source": [
        "#pitch, yaw, roll\n",
        "# p = data[[\"136\"]].to_numpy()\n",
        "labels = raw_data[[\"138\"]].to_numpy()\n",
        "# y = raw_data[[\"137\"]].to_numpy()\n",
        "# r = raw_data[[\"138\"]].to_numpy()"
      ],
      "metadata": {
        "pycharm": {
          "name": "#%%\n"
        },
        "id": "24m2Oj46xAuz"
      }
    },
    {
      "cell_type": "code",
      "metadata": {
        "id": "_lzo2QNufqKX",
        "pycharm": {
          "name": "#%%\n"
        }
      },
      "source": [
        "# # drop [\"Survived\"] column and save that to features\n",
        "# features = data.drop([\"Survived\"], axis = 1)\n",
        "#\n",
        "# # save the [\"Survived\"] column to labels\n",
        "# labels = data[\"Survived\"]"
      ],
      "execution_count": null,
      "outputs": []
    },
    {
      "cell_type": "code",
      "metadata": {
        "id": "U-gIWUBhfqKY",
        "pycharm": {
          "name": "#%%\n"
        }
      },
      "source": [
        "from sklearn.model_selection import train_test_split"
      ],
      "execution_count": null,
      "outputs": []
    },
    {
      "cell_type": "code",
      "metadata": {
        "id": "p3CZd8UGfqKY",
        "pycharm": {
          "name": "#%%\n"
        }
      },
      "source": [
        "# split data by 60% train ; use random_state=100\n",
        "features_train, features_validation_test, labels_train, labels_validation_test = train_test_split(features, labels, test_size = 0.4, random_state=100)"
      ],
      "execution_count": null,
      "outputs": []
    },
    {
      "cell_type": "code",
      "metadata": {
        "id": "oZXTP5lgfqKY",
        "pycharm": {
          "name": "#%%\n"
        }
      },
      "source": [
        "# split test data by 50% validation and 50% test ; use random_state=100\n",
        "features_validation, features_test, labels_validation, labels_test = train_test_split(features_validation_test, labels_validation_test, test_size = 0.5, random_state=42)"
      ],
      "execution_count": null,
      "outputs": []
    },
    {
      "cell_type": "code",
      "metadata": {
        "id": "oCRpVXr0fqKY",
        "colab": {
          "base_uri": "https://localhost:8080/"
        },
        "outputId": "8775d1ff-339f-414f-f195-7a0be48e7ec5",
        "pycharm": {
          "name": "#%%\n"
        }
      },
      "source": [
        "print(len(features_train))\n",
        "print(len(features_validation))\n",
        "print(len(features_test))\n",
        "print(len(labels_train))\n",
        "print(len(labels_validation))\n",
        "print(len(labels_test))"
      ],
      "execution_count": null,
      "outputs": [
        {
          "output_type": "stream",
          "name": "stdout",
          "text": [
            "1200\n",
            "400\n",
            "400\n",
            "1200\n",
            "400\n",
            "400\n"
          ]
        }
      ]
    },
    {
      "cell_type": "markdown",
      "metadata": {
        "id": "5dJMAfTUfqKZ",
        "pycharm": {
          "name": "#%% md\n"
        }
      },
      "source": [
        "### 12.4.2 Training different models on our dataset\n",
        "\n",
        "We'll train six models:\n",
        "- Linear Regression\n",
        "- Decision tree Regressor\n",
        "- Support vector Regression (SVR)\n",
        "- RandomForestRegressor\n",
        "- GradientBoostingRegressor\n",
        "- AdaBoostRegressor"
      ]
    },
    {
      "cell_type": "code",
      "execution_count": null,
      "outputs": [],
      "source": [
        "# Train linear regression model\n",
        "from sklearn.linear_model import LinearRegression\n",
        "\n",
        "lr_model = LinearRegression().fit(features_train, labels_train)"
      ],
      "metadata": {
        "pycharm": {
          "name": "#%%\n"
        },
        "id": "3Bf7yJDkxAu1"
      }
    },
    {
      "cell_type": "code",
      "metadata": {
        "id": "DThp9iwIfqKZ",
        "pycharm": {
          "name": "#%%\n"
        }
      },
      "source": [
        "# Train decision tree model ; don't use any hyperparameter\n",
        "from sklearn.tree import DecisionTreeRegressor\n",
        "\n",
        "dt_model = DecisionTreeRegressor().fit(features_train, labels_train)"
      ],
      "execution_count": null,
      "outputs": []
    },
    {
      "cell_type": "code",
      "metadata": {
        "id": "8yMO82c9fqKa",
        "pycharm": {
          "name": "#%%\n"
        },
        "outputId": "eec39004-de7e-4373-bbdd-d1c2753c979b",
        "colab": {
          "base_uri": "https://localhost:8080/"
        }
      },
      "source": [
        "# Train SVM model ; don't use any hyperparameter\n",
        "from sklearn.svm import SVR\n",
        "\n",
        "svm_model = SVR().fit(features_train, labels_train)"
      ],
      "execution_count": null,
      "outputs": [
        {
          "output_type": "stream",
          "name": "stderr",
          "text": [
            "/usr/local/lib/python3.7/dist-packages/sklearn/utils/validation.py:993: DataConversionWarning: A column-vector y was passed when a 1d array was expected. Please change the shape of y to (n_samples, ), for example using ravel().\n",
            "  y = column_or_1d(y, warn=True)\n"
          ]
        }
      ]
    },
    {
      "cell_type": "code",
      "metadata": {
        "id": "yhIfxavqfqKa",
        "pycharm": {
          "name": "#%%\n"
        },
        "outputId": "359e63c1-d8a3-461b-ed81-d56c03d8aaaf",
        "colab": {
          "base_uri": "https://localhost:8080/"
        }
      },
      "source": [
        "# Train random forest model ; don't use any hyperparameter\n",
        "from sklearn.ensemble import RandomForestRegressor\n",
        "\n",
        "rf_model = RandomForestRegressor().fit(features_train, labels_train)"
      ],
      "execution_count": null,
      "outputs": [
        {
          "output_type": "stream",
          "name": "stderr",
          "text": [
            "/usr/local/lib/python3.7/dist-packages/ipykernel_launcher.py:4: DataConversionWarning: A column-vector y was passed when a 1d array was expected. Please change the shape of y to (n_samples,), for example using ravel().\n",
            "  after removing the cwd from sys.path.\n"
          ]
        }
      ]
    },
    {
      "cell_type": "code",
      "metadata": {
        "id": "EW7wDPHIfqKa",
        "pycharm": {
          "name": "#%%\n"
        },
        "outputId": "6a21411e-7bd4-4213-f2f2-c28d3e93c8c9",
        "colab": {
          "base_uri": "https://localhost:8080/"
        }
      },
      "source": [
        "# Train gradient boosting model ; don't use any hyperparameter\n",
        "from sklearn.ensemble import GradientBoostingRegressor\n",
        "\n",
        "gb_model = GradientBoostingRegressor().fit(features_train, labels_train)"
      ],
      "execution_count": null,
      "outputs": [
        {
          "output_type": "stream",
          "name": "stderr",
          "text": [
            "/usr/local/lib/python3.7/dist-packages/sklearn/ensemble/_gb.py:494: DataConversionWarning: A column-vector y was passed when a 1d array was expected. Please change the shape of y to (n_samples, ), for example using ravel().\n",
            "  y = column_or_1d(y, warn=True)\n"
          ]
        }
      ]
    },
    {
      "cell_type": "code",
      "metadata": {
        "id": "YPmyHC-ZfqKa",
        "pycharm": {
          "name": "#%%\n"
        },
        "outputId": "56631151-1f43-43bb-f791-256bb5860847",
        "colab": {
          "base_uri": "https://localhost:8080/"
        }
      },
      "source": [
        "# Train Adaboost model ; don't use any hyperparameter\n",
        "from sklearn.ensemble import AdaBoostRegressor\n",
        "\n",
        "ab_model = AdaBoostRegressor().fit(features_train, labels_train)"
      ],
      "execution_count": null,
      "outputs": [
        {
          "output_type": "stream",
          "name": "stderr",
          "text": [
            "/usr/local/lib/python3.7/dist-packages/sklearn/utils/validation.py:993: DataConversionWarning: A column-vector y was passed when a 1d array was expected. Please change the shape of y to (n_samples, ), for example using ravel().\n",
            "  y = column_or_1d(y, warn=True)\n"
          ]
        }
      ]
    },
    {
      "cell_type": "code",
      "execution_count": null,
      "outputs": [],
      "source": [
        "# Train Adaboost model ; don't use any hyperparameter\n",
        "from sklearn.multioutput import MultiOutputRegressor\n",
        "labels_train = raw_data.iloc[0:1200,136:140].to_numpy()\n",
        "# ab_model = AdaBoostRegressor().fit(features_train, labels_train)\n",
        "mor_model = MultiOutputRegressor(GradientBoostingRegressor(random_state=0)).fit(features_train, labels_train)\n",
        "    # .predict(features_validation)"
      ],
      "metadata": {
        "pycharm": {
          "name": "#%%\n"
        },
        "id": "954V97JUxAu2"
      }
    },
    {
      "cell_type": "markdown",
      "metadata": {
        "id": "6jF0KbS_fqKb",
        "pycharm": {
          "name": "#%% md\n"
        }
      },
      "source": [
        "### 12.4.3 Evaluating the models\n",
        "\n",
        "#### Accuracy"
      ]
    },
    {
      "cell_type": "code",
      "metadata": {
        "id": "hjeMJk4KfqKb",
        "colab": {
          "base_uri": "https://localhost:8080/"
        },
        "outputId": "d77b2128-b904-4b27-eb8a-845f868f8852",
        "pycharm": {
          "name": "#%%\n"
        }
      },
      "source": [
        "# print accuracy of each model on validation data\n",
        "print(\"Scores of the models\")\n",
        "print(\"Linear regression:\", lr_model.score(features_validation,labels_validation))\n",
        "print(\"Decision tree:\", dt_model.score(features_validation,labels_validation))\n",
        "print(\"SVR:\", svm_model.score(features_validation,labels_validation))\n",
        "print(\"Random forest:\", rf_model.score(features_validation,labels_validation))\n",
        "print(\"Gradient boosting:\", gb_model.score(features_validation,labels_validation))\n",
        "print(\"AdaBoost:\", ab_model.score(features_validation,labels_validation))"
      ],
      "execution_count": null,
      "outputs": [
        {
          "output_type": "stream",
          "name": "stdout",
          "text": [
            "Scores of the models\n",
            "Linear regression: 0.9438886388660596\n",
            "Decision tree: 0.9671890207690176\n",
            "SVR: 0.9908945361824275\n",
            "Random forest: 0.989286959894671\n",
            "Gradient boosting: 0.9896649320699481\n",
            "AdaBoost: 0.9674107016400567\n"
          ]
        }
      ]
    },
    {
      "cell_type": "code",
      "execution_count": null,
      "outputs": [
        {
          "ename": "ValueError",
          "evalue": "y_true and y_pred have different number of output (1!=3)",
          "output_type": "error",
          "traceback": [
            "\u001b[1;31m---------------------------------------------------------------------------\u001b[0m",
            "\u001b[1;31mValueError\u001b[0m                                Traceback (most recent call last)",
            "\u001b[1;32mC:\\Users\\ABDELR~1\\AppData\\Local\\Temp/ipykernel_18636/3992625779.py\u001b[0m in \u001b[0;36m<module>\u001b[1;34m\u001b[0m\n\u001b[1;32m----> 1\u001b[1;33m \u001b[0mprint\u001b[0m\u001b[1;33m(\u001b[0m\u001b[1;34m\"MultiOutputRegressor:\"\u001b[0m\u001b[1;33m,\u001b[0m \u001b[0mmor_model\u001b[0m\u001b[1;33m.\u001b[0m\u001b[0mscore\u001b[0m\u001b[1;33m(\u001b[0m\u001b[0mfeatures_validation\u001b[0m\u001b[1;33m,\u001b[0m\u001b[0mlabels_validation\u001b[0m\u001b[1;33m)\u001b[0m\u001b[1;33m)\u001b[0m\u001b[1;33m\u001b[0m\u001b[1;33m\u001b[0m\u001b[0m\n\u001b[0m",
            "\u001b[1;32mD:\\Applications\\Anaconda\\Installation\\lib\\site-packages\\sklearn\\base.py\u001b[0m in \u001b[0;36mscore\u001b[1;34m(self, X, y, sample_weight)\u001b[0m\n\u001b[0;32m    552\u001b[0m         \u001b[1;32mfrom\u001b[0m \u001b[1;33m.\u001b[0m\u001b[0mmetrics\u001b[0m \u001b[1;32mimport\u001b[0m \u001b[0mr2_score\u001b[0m\u001b[1;33m\u001b[0m\u001b[1;33m\u001b[0m\u001b[0m\n\u001b[0;32m    553\u001b[0m         \u001b[0my_pred\u001b[0m \u001b[1;33m=\u001b[0m \u001b[0mself\u001b[0m\u001b[1;33m.\u001b[0m\u001b[0mpredict\u001b[0m\u001b[1;33m(\u001b[0m\u001b[0mX\u001b[0m\u001b[1;33m)\u001b[0m\u001b[1;33m\u001b[0m\u001b[1;33m\u001b[0m\u001b[0m\n\u001b[1;32m--> 554\u001b[1;33m         \u001b[1;32mreturn\u001b[0m \u001b[0mr2_score\u001b[0m\u001b[1;33m(\u001b[0m\u001b[0my\u001b[0m\u001b[1;33m,\u001b[0m \u001b[0my_pred\u001b[0m\u001b[1;33m,\u001b[0m \u001b[0msample_weight\u001b[0m\u001b[1;33m=\u001b[0m\u001b[0msample_weight\u001b[0m\u001b[1;33m)\u001b[0m\u001b[1;33m\u001b[0m\u001b[1;33m\u001b[0m\u001b[0m\n\u001b[0m\u001b[0;32m    555\u001b[0m \u001b[1;33m\u001b[0m\u001b[0m\n\u001b[0;32m    556\u001b[0m     \u001b[1;32mdef\u001b[0m \u001b[0m_more_tags\u001b[0m\u001b[1;33m(\u001b[0m\u001b[0mself\u001b[0m\u001b[1;33m)\u001b[0m\u001b[1;33m:\u001b[0m\u001b[1;33m\u001b[0m\u001b[1;33m\u001b[0m\u001b[0m\n",
            "\u001b[1;32mD:\\Applications\\Anaconda\\Installation\\lib\\site-packages\\sklearn\\utils\\validation.py\u001b[0m in \u001b[0;36minner_f\u001b[1;34m(*args, **kwargs)\u001b[0m\n\u001b[0;32m     61\u001b[0m             \u001b[0mextra_args\u001b[0m \u001b[1;33m=\u001b[0m \u001b[0mlen\u001b[0m\u001b[1;33m(\u001b[0m\u001b[0margs\u001b[0m\u001b[1;33m)\u001b[0m \u001b[1;33m-\u001b[0m \u001b[0mlen\u001b[0m\u001b[1;33m(\u001b[0m\u001b[0mall_args\u001b[0m\u001b[1;33m)\u001b[0m\u001b[1;33m\u001b[0m\u001b[1;33m\u001b[0m\u001b[0m\n\u001b[0;32m     62\u001b[0m             \u001b[1;32mif\u001b[0m \u001b[0mextra_args\u001b[0m \u001b[1;33m<=\u001b[0m \u001b[1;36m0\u001b[0m\u001b[1;33m:\u001b[0m\u001b[1;33m\u001b[0m\u001b[1;33m\u001b[0m\u001b[0m\n\u001b[1;32m---> 63\u001b[1;33m                 \u001b[1;32mreturn\u001b[0m \u001b[0mf\u001b[0m\u001b[1;33m(\u001b[0m\u001b[1;33m*\u001b[0m\u001b[0margs\u001b[0m\u001b[1;33m,\u001b[0m \u001b[1;33m**\u001b[0m\u001b[0mkwargs\u001b[0m\u001b[1;33m)\u001b[0m\u001b[1;33m\u001b[0m\u001b[1;33m\u001b[0m\u001b[0m\n\u001b[0m\u001b[0;32m     64\u001b[0m \u001b[1;33m\u001b[0m\u001b[0m\n\u001b[0;32m     65\u001b[0m             \u001b[1;31m# extra_args > 0\u001b[0m\u001b[1;33m\u001b[0m\u001b[1;33m\u001b[0m\u001b[0m\n",
            "\u001b[1;32mD:\\Applications\\Anaconda\\Installation\\lib\\site-packages\\sklearn\\metrics\\_regression.py\u001b[0m in \u001b[0;36mr2_score\u001b[1;34m(y_true, y_pred, sample_weight, multioutput)\u001b[0m\n\u001b[0;32m    674\u001b[0m     \u001b[1;33m-\u001b[0m\u001b[1;36m3.0\u001b[0m\u001b[1;33m\u001b[0m\u001b[1;33m\u001b[0m\u001b[0m\n\u001b[0;32m    675\u001b[0m     \"\"\"\n\u001b[1;32m--> 676\u001b[1;33m     y_type, y_true, y_pred, multioutput = _check_reg_targets(\n\u001b[0m\u001b[0;32m    677\u001b[0m         y_true, y_pred, multioutput)\n\u001b[0;32m    678\u001b[0m     \u001b[0mcheck_consistent_length\u001b[0m\u001b[1;33m(\u001b[0m\u001b[0my_true\u001b[0m\u001b[1;33m,\u001b[0m \u001b[0my_pred\u001b[0m\u001b[1;33m,\u001b[0m \u001b[0msample_weight\u001b[0m\u001b[1;33m)\u001b[0m\u001b[1;33m\u001b[0m\u001b[1;33m\u001b[0m\u001b[0m\n",
            "\u001b[1;32mD:\\Applications\\Anaconda\\Installation\\lib\\site-packages\\sklearn\\metrics\\_regression.py\u001b[0m in \u001b[0;36m_check_reg_targets\u001b[1;34m(y_true, y_pred, multioutput, dtype)\u001b[0m\n\u001b[0;32m     97\u001b[0m \u001b[1;33m\u001b[0m\u001b[0m\n\u001b[0;32m     98\u001b[0m     \u001b[1;32mif\u001b[0m \u001b[0my_true\u001b[0m\u001b[1;33m.\u001b[0m\u001b[0mshape\u001b[0m\u001b[1;33m[\u001b[0m\u001b[1;36m1\u001b[0m\u001b[1;33m]\u001b[0m \u001b[1;33m!=\u001b[0m \u001b[0my_pred\u001b[0m\u001b[1;33m.\u001b[0m\u001b[0mshape\u001b[0m\u001b[1;33m[\u001b[0m\u001b[1;36m1\u001b[0m\u001b[1;33m]\u001b[0m\u001b[1;33m:\u001b[0m\u001b[1;33m\u001b[0m\u001b[1;33m\u001b[0m\u001b[0m\n\u001b[1;32m---> 99\u001b[1;33m         raise ValueError(\"y_true and y_pred have different number of output \"\n\u001b[0m\u001b[0;32m    100\u001b[0m                          \"({0}!={1})\".format(y_true.shape[1], y_pred.shape[1]))\n\u001b[0;32m    101\u001b[0m \u001b[1;33m\u001b[0m\u001b[0m\n",
            "\u001b[1;31mValueError\u001b[0m: y_true and y_pred have different number of output (1!=3)"
          ]
        }
      ],
      "source": [
        "print(\"MultiOutputRegressor:\", mor_model.score(features_validation,labels_validation))"
      ],
      "metadata": {
        "pycharm": {
          "name": "#%%\n"
        },
        "id": "4e_44YEkxAu3",
        "outputId": "771818a5-c016-4b24-cfcc-53ee313684d3"
      }
    },
    {
      "cell_type": "markdown",
      "metadata": {
        "id": "gCUK9NJXfqKb",
        "pycharm": {
          "name": "#%% md\n"
        }
      },
      "source": [
        "#### R2-score"
      ]
    },
    {
      "cell_type": "code",
      "metadata": {
        "id": "QU9uZMJkfqKb",
        "colab": {
          "base_uri": "https://localhost:8080/"
        },
        "outputId": "5632a402-6845-4232-f4c5-1280ffe80bde",
        "pycharm": {
          "name": "#%%\n"
        }
      },
      "source": [
        "# print F1-score of each model on validation data\n",
        "from sklearn.metrics import r2_score\n",
        "\n",
        "print(\"R2-scores of the models:\")\n",
        "labels_predict = lr_model.predict(features_validation)\n",
        "print(\"Linear regression:\", r2_score(labels_validation, labels_predict))\n",
        "labels_predict = dt_model.predict(features_validation)\n",
        "print(\"Decision tree:\", r2_score(labels_validation, labels_predict))\n",
        "labels_predict = svm_model.predict(features_validation)\n",
        "print(\"SVR:\", r2_score(labels_validation, labels_predict))\n",
        "labels_predict = rf_model.predict(features_validation)\n",
        "print(\"Random forest:\", r2_score(labels_validation, labels_predict))\n",
        "labels_predict = gb_model.predict(features_validation)\n",
        "print(\"Gradient boosting:\", r2_score(labels_validation, labels_predict))\n",
        "labels_predict = ab_model.predict(features_validation)\n",
        "print(\"AdaBoost:\", r2_score(labels_validation, labels_predict))"
      ],
      "execution_count": null,
      "outputs": [
        {
          "output_type": "stream",
          "name": "stdout",
          "text": [
            "R2-scores of the models:\n",
            "Linear regression: -0.19952146568111795\n",
            "Decision tree: -2.370717934401864\n",
            "SVR: 0.10480441239409277\n",
            "Random forest: -0.6085018124714967\n",
            "Gradient boosting: -0.9096131192438963\n",
            "AdaBoost: -0.035297869553500894\n"
          ]
        }
      ]
    },
    {
      "cell_type": "markdown",
      "source": [
        "### R2-score"
      ],
      "metadata": {
        "collapsed": false,
        "pycharm": {
          "name": "#%% md\n"
        },
        "id": "3f-7mKf0xAu3"
      }
    },
    {
      "cell_type": "code",
      "execution_count": null,
      "outputs": [],
      "source": [
        "# r2score = r2_score(labels_validation, labels_predict, sample_weight=None, multioutput='uniform_average')\n",
        "# r2score"
      ],
      "metadata": {
        "pycharm": {
          "name": "#%%\n"
        },
        "id": "fcpmO6f9xAu3"
      }
    },
    {
      "cell_type": "markdown",
      "metadata": {
        "id": "cN_q429mfqKb",
        "pycharm": {
          "name": "#%% md\n"
        }
      },
      "source": [
        "### 12.4.4 Testing the model\n",
        "\n",
        "Finding the accuracy and the F1-score of the model in the testing set."
      ]
    },
    {
      "cell_type": "code",
      "metadata": {
        "id": "_nfxWhppfqKb",
        "colab": {
          "base_uri": "https://localhost:8080/"
        },
        "outputId": "86c55d9c-d254-496b-ac0b-f09a1d12162b",
        "pycharm": {
          "name": "#%%\n"
        }
      },
      "source": [
        "# print accuracy of gradient boost model on testing data\n",
        "print(\"Scores of the models\")\n",
        "print(\"Linear regression:\", lr_model.score(features_test,labels_test))\n",
        "print(\"Decision tree:\", dt_model.score(features_test,labels_test))\n",
        "print(\"SVR:\", svm_model.score(features_test,labels_test))\n",
        "print(\"Random forest:\", rf_model.score(features_test,labels_test))\n",
        "print(\"Gradient boosting:\", gb_model.score(features_test,labels_test))\n",
        "print(\"AdaBoost:\", ab_model.score(features_test,labels_test))\n"
      ],
      "execution_count": null,
      "outputs": [
        {
          "output_type": "stream",
          "name": "stdout",
          "text": [
            "Scores of the models\n",
            "Linear regression: 0.7108522661047507\n",
            "Decision tree: 0.5224516723031557\n",
            "SVR: 0.7533826323473077\n",
            "Random forest: 0.7240752333542174\n",
            "Gradient boosting: 0.7365860192351068\n",
            "AdaBoost: 0.6640291293259952\n"
          ]
        }
      ]
    },
    {
      "cell_type": "code",
      "execution_count": null,
      "outputs": [
        {
          "ename": "ValueError",
          "evalue": "y_true and y_pred have different number of output (1!=3)",
          "output_type": "error",
          "traceback": [
            "\u001b[1;31m---------------------------------------------------------------------------\u001b[0m",
            "\u001b[1;31mValueError\u001b[0m                                Traceback (most recent call last)",
            "\u001b[1;32mC:\\Users\\ABDELR~1\\AppData\\Local\\Temp/ipykernel_8592/1438678486.py\u001b[0m in \u001b[0;36m<module>\u001b[1;34m\u001b[0m\n\u001b[1;32m----> 1\u001b[1;33m \u001b[0mprint\u001b[0m\u001b[1;33m(\u001b[0m\u001b[1;34m\"MultiOutputRegressor:\"\u001b[0m\u001b[1;33m,\u001b[0m \u001b[0mmor_model\u001b[0m\u001b[1;33m.\u001b[0m\u001b[0mscore\u001b[0m\u001b[1;33m(\u001b[0m\u001b[0mfeatures_test\u001b[0m\u001b[1;33m,\u001b[0m\u001b[0mlabels_test\u001b[0m\u001b[1;33m)\u001b[0m\u001b[1;33m)\u001b[0m\u001b[1;33m\u001b[0m\u001b[1;33m\u001b[0m\u001b[0m\n\u001b[0m",
            "\u001b[1;32mD:\\Applications\\Anaconda\\Installation\\lib\\site-packages\\sklearn\\base.py\u001b[0m in \u001b[0;36mscore\u001b[1;34m(self, X, y, sample_weight)\u001b[0m\n\u001b[0;32m    552\u001b[0m         \u001b[1;32mfrom\u001b[0m \u001b[1;33m.\u001b[0m\u001b[0mmetrics\u001b[0m \u001b[1;32mimport\u001b[0m \u001b[0mr2_score\u001b[0m\u001b[1;33m\u001b[0m\u001b[1;33m\u001b[0m\u001b[0m\n\u001b[0;32m    553\u001b[0m         \u001b[0my_pred\u001b[0m \u001b[1;33m=\u001b[0m \u001b[0mself\u001b[0m\u001b[1;33m.\u001b[0m\u001b[0mpredict\u001b[0m\u001b[1;33m(\u001b[0m\u001b[0mX\u001b[0m\u001b[1;33m)\u001b[0m\u001b[1;33m\u001b[0m\u001b[1;33m\u001b[0m\u001b[0m\n\u001b[1;32m--> 554\u001b[1;33m         \u001b[1;32mreturn\u001b[0m \u001b[0mr2_score\u001b[0m\u001b[1;33m(\u001b[0m\u001b[0my\u001b[0m\u001b[1;33m,\u001b[0m \u001b[0my_pred\u001b[0m\u001b[1;33m,\u001b[0m \u001b[0msample_weight\u001b[0m\u001b[1;33m=\u001b[0m\u001b[0msample_weight\u001b[0m\u001b[1;33m)\u001b[0m\u001b[1;33m\u001b[0m\u001b[1;33m\u001b[0m\u001b[0m\n\u001b[0m\u001b[0;32m    555\u001b[0m \u001b[1;33m\u001b[0m\u001b[0m\n\u001b[0;32m    556\u001b[0m     \u001b[1;32mdef\u001b[0m \u001b[0m_more_tags\u001b[0m\u001b[1;33m(\u001b[0m\u001b[0mself\u001b[0m\u001b[1;33m)\u001b[0m\u001b[1;33m:\u001b[0m\u001b[1;33m\u001b[0m\u001b[1;33m\u001b[0m\u001b[0m\n",
            "\u001b[1;32mD:\\Applications\\Anaconda\\Installation\\lib\\site-packages\\sklearn\\utils\\validation.py\u001b[0m in \u001b[0;36minner_f\u001b[1;34m(*args, **kwargs)\u001b[0m\n\u001b[0;32m     61\u001b[0m             \u001b[0mextra_args\u001b[0m \u001b[1;33m=\u001b[0m \u001b[0mlen\u001b[0m\u001b[1;33m(\u001b[0m\u001b[0margs\u001b[0m\u001b[1;33m)\u001b[0m \u001b[1;33m-\u001b[0m \u001b[0mlen\u001b[0m\u001b[1;33m(\u001b[0m\u001b[0mall_args\u001b[0m\u001b[1;33m)\u001b[0m\u001b[1;33m\u001b[0m\u001b[1;33m\u001b[0m\u001b[0m\n\u001b[0;32m     62\u001b[0m             \u001b[1;32mif\u001b[0m \u001b[0mextra_args\u001b[0m \u001b[1;33m<=\u001b[0m \u001b[1;36m0\u001b[0m\u001b[1;33m:\u001b[0m\u001b[1;33m\u001b[0m\u001b[1;33m\u001b[0m\u001b[0m\n\u001b[1;32m---> 63\u001b[1;33m                 \u001b[1;32mreturn\u001b[0m \u001b[0mf\u001b[0m\u001b[1;33m(\u001b[0m\u001b[1;33m*\u001b[0m\u001b[0margs\u001b[0m\u001b[1;33m,\u001b[0m \u001b[1;33m**\u001b[0m\u001b[0mkwargs\u001b[0m\u001b[1;33m)\u001b[0m\u001b[1;33m\u001b[0m\u001b[1;33m\u001b[0m\u001b[0m\n\u001b[0m\u001b[0;32m     64\u001b[0m \u001b[1;33m\u001b[0m\u001b[0m\n\u001b[0;32m     65\u001b[0m             \u001b[1;31m# extra_args > 0\u001b[0m\u001b[1;33m\u001b[0m\u001b[1;33m\u001b[0m\u001b[0m\n",
            "\u001b[1;32mD:\\Applications\\Anaconda\\Installation\\lib\\site-packages\\sklearn\\metrics\\_regression.py\u001b[0m in \u001b[0;36mr2_score\u001b[1;34m(y_true, y_pred, sample_weight, multioutput)\u001b[0m\n\u001b[0;32m    674\u001b[0m     \u001b[1;33m-\u001b[0m\u001b[1;36m3.0\u001b[0m\u001b[1;33m\u001b[0m\u001b[1;33m\u001b[0m\u001b[0m\n\u001b[0;32m    675\u001b[0m     \"\"\"\n\u001b[1;32m--> 676\u001b[1;33m     y_type, y_true, y_pred, multioutput = _check_reg_targets(\n\u001b[0m\u001b[0;32m    677\u001b[0m         y_true, y_pred, multioutput)\n\u001b[0;32m    678\u001b[0m     \u001b[0mcheck_consistent_length\u001b[0m\u001b[1;33m(\u001b[0m\u001b[0my_true\u001b[0m\u001b[1;33m,\u001b[0m \u001b[0my_pred\u001b[0m\u001b[1;33m,\u001b[0m \u001b[0msample_weight\u001b[0m\u001b[1;33m)\u001b[0m\u001b[1;33m\u001b[0m\u001b[1;33m\u001b[0m\u001b[0m\n",
            "\u001b[1;32mD:\\Applications\\Anaconda\\Installation\\lib\\site-packages\\sklearn\\metrics\\_regression.py\u001b[0m in \u001b[0;36m_check_reg_targets\u001b[1;34m(y_true, y_pred, multioutput, dtype)\u001b[0m\n\u001b[0;32m     97\u001b[0m \u001b[1;33m\u001b[0m\u001b[0m\n\u001b[0;32m     98\u001b[0m     \u001b[1;32mif\u001b[0m \u001b[0my_true\u001b[0m\u001b[1;33m.\u001b[0m\u001b[0mshape\u001b[0m\u001b[1;33m[\u001b[0m\u001b[1;36m1\u001b[0m\u001b[1;33m]\u001b[0m \u001b[1;33m!=\u001b[0m \u001b[0my_pred\u001b[0m\u001b[1;33m.\u001b[0m\u001b[0mshape\u001b[0m\u001b[1;33m[\u001b[0m\u001b[1;36m1\u001b[0m\u001b[1;33m]\u001b[0m\u001b[1;33m:\u001b[0m\u001b[1;33m\u001b[0m\u001b[1;33m\u001b[0m\u001b[0m\n\u001b[1;32m---> 99\u001b[1;33m         raise ValueError(\"y_true and y_pred have different number of output \"\n\u001b[0m\u001b[0;32m    100\u001b[0m                          \"({0}!={1})\".format(y_true.shape[1], y_pred.shape[1]))\n\u001b[0;32m    101\u001b[0m \u001b[1;33m\u001b[0m\u001b[0m\n",
            "\u001b[1;31mValueError\u001b[0m: y_true and y_pred have different number of output (1!=3)"
          ]
        }
      ],
      "source": [
        "print(\"MultiOutputRegressor:\", mor_model.score(features_test,labels_test))"
      ],
      "metadata": {
        "pycharm": {
          "name": "#%%\n"
        },
        "id": "G29XZkyuxAu4",
        "outputId": "daccba6c-c28b-4643-b5e2-cdcb08ce1f23"
      }
    },
    {
      "cell_type": "code",
      "metadata": {
        "id": "oW0DEPGxfqKc",
        "colab": {
          "base_uri": "https://localhost:8080/"
        },
        "outputId": "e6d8b275-6358-44a0-a7bc-81b8a7ab451d",
        "pycharm": {
          "name": "#%%\n"
        }
      },
      "source": [
        "# print F1-score of gradient boost model on testing data\n",
        "print(\"F1-scores of the models:\")\n",
        "labels_predict = lr_model.predict(features_test)\n",
        "print(\"Linear regression:\", f1_score(labels_test, labels_predict))\n",
        "labels_predict = dt_model.predict(features_test)\n",
        "print(\"Decision tree:\", f1_score(labels_test, labels_predict))\n",
        "labels_predict = svm_model.predict(features_test)\n",
        "print(\"SVM:\", f1_score(labels_test, labels_predict))\n",
        "labels_predict = rf_model.predict(features_test)\n",
        "print(\"Random forest:\", f1_score(labels_test, labels_predict))\n",
        "labels_predict = gb_model.predict(features_test)\n",
        "print(\"Gradient boosting:\", f1_score(labels_test, labels_predict))\n",
        "labels_predict = ab_model.predict(features_test)\n",
        "print(\"AdaBoost:\", f1_score(labels_test, labels_predict))"
      ],
      "execution_count": null,
      "outputs": [
        {
          "name": "stdout",
          "output_type": "stream",
          "text": [
            "F1-scores of the models:\n"
          ]
        },
        {
          "ename": "NameError",
          "evalue": "name 'f1_score' is not defined",
          "output_type": "error",
          "traceback": [
            "\u001b[1;31m---------------------------------------------------------------------------\u001b[0m",
            "\u001b[1;31mNameError\u001b[0m                                 Traceback (most recent call last)",
            "\u001b[1;32mC:\\Users\\ABDELR~1\\AppData\\Local\\Temp/ipykernel_8592/1914555830.py\u001b[0m in \u001b[0;36m<module>\u001b[1;34m\u001b[0m\n\u001b[0;32m      2\u001b[0m \u001b[0mprint\u001b[0m\u001b[1;33m(\u001b[0m\u001b[1;34m\"F1-scores of the models:\"\u001b[0m\u001b[1;33m)\u001b[0m\u001b[1;33m\u001b[0m\u001b[1;33m\u001b[0m\u001b[0m\n\u001b[0;32m      3\u001b[0m \u001b[0mlabels_predict\u001b[0m \u001b[1;33m=\u001b[0m \u001b[0mlr_model\u001b[0m\u001b[1;33m.\u001b[0m\u001b[0mpredict\u001b[0m\u001b[1;33m(\u001b[0m\u001b[0mfeatures_test\u001b[0m\u001b[1;33m)\u001b[0m\u001b[1;33m\u001b[0m\u001b[1;33m\u001b[0m\u001b[0m\n\u001b[1;32m----> 4\u001b[1;33m \u001b[0mprint\u001b[0m\u001b[1;33m(\u001b[0m\u001b[1;34m\"Linear regression:\"\u001b[0m\u001b[1;33m,\u001b[0m \u001b[0mf1_score\u001b[0m\u001b[1;33m(\u001b[0m\u001b[0mlabels_test\u001b[0m\u001b[1;33m,\u001b[0m \u001b[0mlabels_predict\u001b[0m\u001b[1;33m)\u001b[0m\u001b[1;33m)\u001b[0m\u001b[1;33m\u001b[0m\u001b[1;33m\u001b[0m\u001b[0m\n\u001b[0m\u001b[0;32m      5\u001b[0m \u001b[0mlabels_predict\u001b[0m \u001b[1;33m=\u001b[0m \u001b[0mdt_model\u001b[0m\u001b[1;33m.\u001b[0m\u001b[0mpredict\u001b[0m\u001b[1;33m(\u001b[0m\u001b[0mfeatures_test\u001b[0m\u001b[1;33m)\u001b[0m\u001b[1;33m\u001b[0m\u001b[1;33m\u001b[0m\u001b[0m\n\u001b[0;32m      6\u001b[0m \u001b[0mprint\u001b[0m\u001b[1;33m(\u001b[0m\u001b[1;34m\"Decision tree:\"\u001b[0m\u001b[1;33m,\u001b[0m \u001b[0mf1_score\u001b[0m\u001b[1;33m(\u001b[0m\u001b[0mlabels_test\u001b[0m\u001b[1;33m,\u001b[0m \u001b[0mlabels_predict\u001b[0m\u001b[1;33m)\u001b[0m\u001b[1;33m)\u001b[0m\u001b[1;33m\u001b[0m\u001b[1;33m\u001b[0m\u001b[0m\n",
            "\u001b[1;31mNameError\u001b[0m: name 'f1_score' is not defined"
          ]
        }
      ]
    },
    {
      "cell_type": "markdown",
      "metadata": {
        "id": "r1XGztd2fqKc",
        "pycharm": {
          "name": "#%% md\n"
        }
      },
      "source": [
        "# 12.5 Grid search"
      ]
    },
    {
      "cell_type": "code",
      "metadata": {
        "id": "gAK1vV5WfqKc",
        "pycharm": {
          "name": "#%%\n"
        }
      },
      "source": [
        "from sklearn.model_selection import GridSearchCV\n",
        "# CV -> Cross validation"
      ],
      "execution_count": null,
      "outputs": []
    },
    {
      "cell_type": "code",
      "metadata": {
        "id": "XrcPjLM1fqKc",
        "colab": {
          "base_uri": "https://localhost:8080/"
        },
        "outputId": "b954ea00-c5d7-4b4a-8df4-b33e71c1226b",
        "pycharm": {
          "name": "#%%\n"
        }
      },
      "source": [
        "svm_parameters = {'kernel': ['rbf'],\n",
        "                  'C': [0.00001, 0.0005, 0.0001, 0.005, 0.001, 0.01, 0.1, 1 , 10, 50 ,100],\n",
        "                  'gamma': [0.00001, 0.0005, 0.0001, 0.005, 0.001, 0.01, 0.1, 1 , 10, 50 ,100]\n",
        "                }\n",
        "# use gridsearch to find the best hyperparameters \n",
        "svm = SVR()\n",
        "svm_gs = GridSearchCV(estimator = svm, param_grid = svm_parameters)\n",
        "\n",
        "svm_gs.fit(features_train, np.ravel(labels_train))\n",
        "# git the best model \n",
        "svm_winner = svm_gs.best_estimator_\n",
        "svm_winner\n",
        "\n",
        "svm_winner.score(features_validation, labels_validation)"
      ],
      "execution_count": null,
      "outputs": [
        {
          "data": {
            "text/plain": "0.6189654392139047"
          },
          "execution_count": 331,
          "metadata": {},
          "output_type": "execute_result"
        }
      ]
    },
    {
      "cell_type": "code",
      "metadata": {
        "id": "jmtr0bLVfqKd",
        "colab": {
          "base_uri": "https://localhost:8080/"
        },
        "outputId": "5199b404-fe2a-4816-95f8-03e91f8ba628",
        "pycharm": {
          "name": "#%%\n"
        }
      },
      "source": [
        "svm_winner"
      ],
      "execution_count": null,
      "outputs": [
        {
          "data": {
            "text/plain": "SVR(C=50, gamma=1e-05)"
          },
          "execution_count": 332,
          "metadata": {},
          "output_type": "execute_result"
        }
      ]
    },
    {
      "cell_type": "markdown",
      "metadata": {
        "id": "VDqUNXY1fqKd",
        "pycharm": {
          "name": "#%% md\n"
        }
      },
      "source": [
        "# 12.6 Cross validation"
      ]
    },
    {
      "cell_type": "code",
      "metadata": {
        "id": "kqi1xhi0fqKd",
        "colab": {
          "base_uri": "https://localhost:8080/"
        },
        "outputId": "c7dedcc0-3b25-4706-bb2e-d696ead9f248",
        "pycharm": {
          "name": "#%%\n"
        }
      },
      "source": [
        "# print the k-fold cross validation output\n",
        "svm_gs.cv_results_"
      ],
      "execution_count": null,
      "outputs": [
        {
          "data": {
            "text/plain": "{'mean_fit_time': array([0.05192423, 0.05552797, 0.11294394, 0.07624984, 0.05362787,\n        0.08500457, 0.0918818 , 0.0911211 , 0.08886089, 0.08854189,\n        0.08902335, 0.04861059, 0.05252037, 0.05182009, 0.0736475 ,\n        0.05201273, 0.06732144, 0.06741934, 0.06679621, 0.06701655,\n        0.06491923, 0.06758389, 0.03951039, 0.04225998, 0.03755021,\n        0.05570354, 0.04211044, 0.0611618 , 0.06484876, 0.06654816,\n        0.06730332, 0.06630135, 0.06471848, 0.02440987, 0.0392086 ,\n        0.03519092, 0.05503874, 0.04131393, 0.06261997, 0.06801348,\n        0.06543641, 0.06375866, 0.06716695, 0.06832628, 0.03400517,\n        0.04132209, 0.03760705, 0.05652719, 0.04341707, 0.06544628,\n        0.06783042, 0.06571741, 0.06956148, 0.06748595, 0.06640873,\n        0.02344017, 0.04020495, 0.03260674, 0.05327444, 0.04320707,\n        0.06161575, 0.0688148 , 0.06702003, 0.06822028, 0.06731205,\n        0.06851916, 0.01040206, 0.03960915, 0.02340899, 0.05761561,\n        0.04301786, 0.06351471, 0.06841536, 0.07163281, 0.07602429,\n        0.06862683, 0.0694551 , 0.01060414, 0.04515882, 0.0238081 ,\n        0.06223297, 0.04870696, 0.06861315, 0.07153063, 0.0755022 ,\n        0.07812905, 0.07411494, 0.07304797, 0.02320786, 0.0463675 ,\n        0.02380185, 0.06283798, 0.04960642, 0.06694517, 0.07252493,\n        0.07346177, 0.07222428, 0.07303033, 0.07339315, 0.03040895,\n        0.04738188, 0.02528782, 0.06351862, 0.05012875, 0.06971922,\n        0.07221723, 0.07212963, 0.07401953, 0.07251711, 0.0740149 ,\n        0.03040833, 0.04636273, 0.02620983, 0.06227598, 0.04921722,\n        0.06801777, 0.07427988, 0.08281403, 0.07075882, 0.07201686,\n        0.07420959]),\n 'std_fit_time': array([0.0016156 , 0.00453099, 0.1171831 , 0.00659539, 0.00215645,\n        0.0046572 , 0.00607228, 0.0030077 , 0.00471537, 0.00232967,\n        0.00463223, 0.00102222, 0.0004523 , 0.00132539, 0.0028396 ,\n        0.00303932, 0.00293412, 0.00185878, 0.00127873, 0.00141372,\n        0.00102272, 0.00100446, 0.00044763, 0.00241775, 0.00085935,\n        0.00322305, 0.00241914, 0.00102675, 0.00227946, 0.00242844,\n        0.00383455, 0.00161905, 0.00166521, 0.00049362, 0.00075453,\n        0.00244948, 0.00138233, 0.0013308 , 0.00215873, 0.0017903 ,\n        0.00217875, 0.00136263, 0.00279609, 0.00310918, 0.00071986,\n        0.00150181, 0.00224857, 0.00062439, 0.00302511, 0.00520405,\n        0.00271614, 0.00370651, 0.00596603, 0.00296122, 0.00162486,\n        0.00146456, 0.00194197, 0.00205473, 0.00038989, 0.00349564,\n        0.00241459, 0.00132724, 0.00555428, 0.00097856, 0.00074508,\n        0.00109933, 0.00102045, 0.0004852 , 0.00101812, 0.00049456,\n        0.00316879, 0.00351435, 0.00135649, 0.00245131, 0.01903404,\n        0.00211794, 0.00197533, 0.00135501, 0.00147849, 0.00075188,\n        0.00192309, 0.00209169, 0.00101679, 0.00270124, 0.00351058,\n        0.00429178, 0.00219748, 0.00293686, 0.00159864, 0.00212952,\n        0.00040333, 0.00148544, 0.00119857, 0.00354032, 0.00109738,\n        0.00185434, 0.00132637, 0.00336859, 0.0015621 , 0.00300797,\n        0.00181154, 0.00084848, 0.00204834, 0.00168278, 0.00293955,\n        0.00406714, 0.00078906, 0.00384587, 0.00232468, 0.00189783,\n        0.00343892, 0.00177916, 0.00160147, 0.00349712, 0.00074079,\n        0.00384588, 0.0026334 , 0.01516315, 0.00066105, 0.00179098,\n        0.00335039]),\n 'mean_score_time': array([0.02481074, 0.02440243, 0.03461361, 0.0299088 , 0.02439966,\n        0.03493352, 0.03580861, 0.03440299, 0.03360758, 0.03390279,\n        0.03301196, 0.02201257, 0.02403679, 0.02320013, 0.02920647,\n        0.02298994, 0.02580462, 0.02627053, 0.02523832, 0.02600698,\n        0.02641234, 0.02540021, 0.01900649, 0.01819057, 0.01785274,\n        0.02200704, 0.018606  , 0.02480655, 0.02477303, 0.02472997,\n        0.02700691, 0.02521091, 0.02520366, 0.01120763, 0.01761107,\n        0.01620078, 0.02180667, 0.01870322, 0.0242095 , 0.02660913,\n        0.02420807, 0.02441244, 0.02847528, 0.02562938, 0.01560202,\n        0.01960635, 0.01724653, 0.02329726, 0.02040462, 0.02460966,\n        0.02721286, 0.02421284, 0.02582221, 0.02420158, 0.02580981,\n        0.01130629, 0.01760998, 0.01600628, 0.02140751, 0.01860414,\n        0.02340326, 0.02581358, 0.02480578, 0.02677674, 0.02600436,\n        0.02600965, 0.00420432, 0.01820259, 0.01060286, 0.02367687,\n        0.01819978, 0.0244657 , 0.02540231, 0.02628832, 0.02580485,\n        0.02541656, 0.02640548, 0.00319862, 0.01780319, 0.00910726,\n        0.02220984, 0.01827025, 0.0255271 , 0.02580113, 0.02721   ,\n        0.03000374, 0.02651391, 0.0247797 , 0.00459843, 0.01840429,\n        0.00888543, 0.0232048 , 0.01931987, 0.02381377, 0.02540956,\n        0.02480593, 0.02580414, 0.0257051 , 0.02601032, 0.00539842,\n        0.0175993 , 0.00940237, 0.02342553, 0.01880693, 0.02471428,\n        0.02560883, 0.02581582, 0.02580147, 0.02629638, 0.02664614,\n        0.00600228, 0.01761022, 0.00980034, 0.02320356, 0.01920514,\n        0.02370825, 0.02560983, 0.02900906, 0.024403  , 0.02440758,\n        0.0250021 ]),\n 'std_score_time': array([2.22536321e-03, 1.85623891e-03, 1.37958502e-02, 8.06887653e-04,\n        1.02306679e-03, 5.01680368e-03, 4.78984687e-03, 1.01998255e-03,\n        1.36036860e-03, 1.28407789e-03, 6.34403560e-04, 1.27642814e-05,\n        2.11246663e-03, 9.86885418e-04, 4.00483672e-04, 1.25763427e-03,\n        1.17223189e-03, 2.48945125e-03, 3.88697617e-04, 1.67305987e-03,\n        2.94031368e-03, 7.97971724e-04, 8.91917028e-04, 7.29176482e-04,\n        7.04677825e-04, 1.09397915e-03, 8.01795158e-04, 9.76376013e-04,\n        3.25709051e-04, 7.41671403e-04, 3.34338388e-03, 9.77183895e-04,\n        2.63850751e-03, 3.97962230e-04, 7.96706117e-04, 9.76674869e-04,\n        3.95905416e-04, 3.97886623e-04, 7.36059065e-04, 1.02000900e-03,\n        3.98895217e-04, 8.00345032e-04, 3.94031136e-03, 9.94103340e-04,\n        4.88359978e-04, 7.98834619e-04, 3.86896496e-04, 1.72846694e-03,\n        3.00737392e-03, 2.72557795e-03, 3.96705839e-03, 3.96746912e-04,\n        2.63518381e-03, 7.52231638e-04, 1.16823892e-03, 2.26780085e-03,\n        4.90522378e-04, 1.67363272e-03, 4.89189576e-04, 1.35684309e-03,\n        1.02195717e-03, 7.46995992e-04, 1.46891186e-03, 9.41733401e-04,\n        6.29247680e-04, 6.29105480e-04, 3.98277573e-04, 4.00795102e-04,\n        4.94697435e-04, 1.29284718e-03, 9.82868852e-04, 8.57148165e-04,\n        1.01469853e-03, 1.09498203e-03, 1.72051660e-03, 7.97644746e-04,\n        1.01853269e-03, 3.96132566e-04, 3.99664841e-04, 1.01505262e-03,\n        9.78809483e-04, 7.42263918e-04, 1.37115842e-03, 2.13395981e-03,\n        1.60188118e-03, 4.85632827e-03, 7.68914217e-04, 1.73548893e-03,\n        4.92852839e-04, 1.63004804e-03, 8.77712104e-04, 1.60289668e-03,\n        1.67493809e-03, 1.32811369e-03, 1.01629738e-03, 1.16052779e-03,\n        2.31505681e-03, 1.07649189e-03, 6.35884375e-04, 4.87246306e-04,\n        1.01898369e-03, 4.89804371e-04, 1.36338615e-03, 7.53271644e-04,\n        7.48350010e-04, 2.34696893e-03, 1.17033299e-03, 2.32381625e-03,\n        1.30574497e-03, 1.63587917e-03, 8.96069853e-04, 4.90989722e-04,\n        7.48759226e-04, 3.95977916e-04, 1.47049777e-03, 9.83292616e-04,\n        1.35929113e-03, 5.09905344e-03, 4.91287955e-04, 4.87509934e-04,\n        1.26493668e-03]),\n 'param_C': masked_array(data=[1e-05, 1e-05, 1e-05, 1e-05, 1e-05, 1e-05, 1e-05, 1e-05,\n                    1e-05, 1e-05, 1e-05, 0.0005, 0.0005, 0.0005, 0.0005,\n                    0.0005, 0.0005, 0.0005, 0.0005, 0.0005, 0.0005, 0.0005,\n                    0.0001, 0.0001, 0.0001, 0.0001, 0.0001, 0.0001, 0.0001,\n                    0.0001, 0.0001, 0.0001, 0.0001, 0.005, 0.005, 0.005,\n                    0.005, 0.005, 0.005, 0.005, 0.005, 0.005, 0.005, 0.005,\n                    0.001, 0.001, 0.001, 0.001, 0.001, 0.001, 0.001, 0.001,\n                    0.001, 0.001, 0.001, 0.01, 0.01, 0.01, 0.01, 0.01,\n                    0.01, 0.01, 0.01, 0.01, 0.01, 0.01, 0.1, 0.1, 0.1, 0.1,\n                    0.1, 0.1, 0.1, 0.1, 0.1, 0.1, 0.1, 1, 1, 1, 1, 1, 1, 1,\n                    1, 1, 1, 1, 10, 10, 10, 10, 10, 10, 10, 10, 10, 10, 10,\n                    50, 50, 50, 50, 50, 50, 50, 50, 50, 50, 50, 100, 100,\n                    100, 100, 100, 100, 100, 100, 100, 100, 100],\n              mask=[False, False, False, False, False, False, False, False,\n                    False, False, False, False, False, False, False, False,\n                    False, False, False, False, False, False, False, False,\n                    False, False, False, False, False, False, False, False,\n                    False, False, False, False, False, False, False, False,\n                    False, False, False, False, False, False, False, False,\n                    False, False, False, False, False, False, False, False,\n                    False, False, False, False, False, False, False, False,\n                    False, False, False, False, False, False, False, False,\n                    False, False, False, False, False, False, False, False,\n                    False, False, False, False, False, False, False, False,\n                    False, False, False, False, False, False, False, False,\n                    False, False, False, False, False, False, False, False,\n                    False, False, False, False, False, False, False, False,\n                    False, False, False, False, False, False, False, False,\n                    False],\n        fill_value='?',\n             dtype=object),\n 'param_gamma': masked_array(data=[1e-05, 0.0005, 0.0001, 0.005, 0.001, 0.01, 0.1, 1, 10,\n                    50, 100, 1e-05, 0.0005, 0.0001, 0.005, 0.001, 0.01,\n                    0.1, 1, 10, 50, 100, 1e-05, 0.0005, 0.0001, 0.005,\n                    0.001, 0.01, 0.1, 1, 10, 50, 100, 1e-05, 0.0005,\n                    0.0001, 0.005, 0.001, 0.01, 0.1, 1, 10, 50, 100, 1e-05,\n                    0.0005, 0.0001, 0.005, 0.001, 0.01, 0.1, 1, 10, 50,\n                    100, 1e-05, 0.0005, 0.0001, 0.005, 0.001, 0.01, 0.1, 1,\n                    10, 50, 100, 1e-05, 0.0005, 0.0001, 0.005, 0.001, 0.01,\n                    0.1, 1, 10, 50, 100, 1e-05, 0.0005, 0.0001, 0.005,\n                    0.001, 0.01, 0.1, 1, 10, 50, 100, 1e-05, 0.0005,\n                    0.0001, 0.005, 0.001, 0.01, 0.1, 1, 10, 50, 100, 1e-05,\n                    0.0005, 0.0001, 0.005, 0.001, 0.01, 0.1, 1, 10, 50,\n                    100, 1e-05, 0.0005, 0.0001, 0.005, 0.001, 0.01, 0.1, 1,\n                    10, 50, 100],\n              mask=[False, False, False, False, False, False, False, False,\n                    False, False, False, False, False, False, False, False,\n                    False, False, False, False, False, False, False, False,\n                    False, False, False, False, False, False, False, False,\n                    False, False, False, False, False, False, False, False,\n                    False, False, False, False, False, False, False, False,\n                    False, False, False, False, False, False, False, False,\n                    False, False, False, False, False, False, False, False,\n                    False, False, False, False, False, False, False, False,\n                    False, False, False, False, False, False, False, False,\n                    False, False, False, False, False, False, False, False,\n                    False, False, False, False, False, False, False, False,\n                    False, False, False, False, False, False, False, False,\n                    False, False, False, False, False, False, False, False,\n                    False, False, False, False, False, False, False, False,\n                    False],\n        fill_value='?',\n             dtype=object),\n 'param_kernel': masked_array(data=['rbf', 'rbf', 'rbf', 'rbf', 'rbf', 'rbf', 'rbf', 'rbf',\n                    'rbf', 'rbf', 'rbf', 'rbf', 'rbf', 'rbf', 'rbf', 'rbf',\n                    'rbf', 'rbf', 'rbf', 'rbf', 'rbf', 'rbf', 'rbf', 'rbf',\n                    'rbf', 'rbf', 'rbf', 'rbf', 'rbf', 'rbf', 'rbf', 'rbf',\n                    'rbf', 'rbf', 'rbf', 'rbf', 'rbf', 'rbf', 'rbf', 'rbf',\n                    'rbf', 'rbf', 'rbf', 'rbf', 'rbf', 'rbf', 'rbf', 'rbf',\n                    'rbf', 'rbf', 'rbf', 'rbf', 'rbf', 'rbf', 'rbf', 'rbf',\n                    'rbf', 'rbf', 'rbf', 'rbf', 'rbf', 'rbf', 'rbf', 'rbf',\n                    'rbf', 'rbf', 'rbf', 'rbf', 'rbf', 'rbf', 'rbf', 'rbf',\n                    'rbf', 'rbf', 'rbf', 'rbf', 'rbf', 'rbf', 'rbf', 'rbf',\n                    'rbf', 'rbf', 'rbf', 'rbf', 'rbf', 'rbf', 'rbf', 'rbf',\n                    'rbf', 'rbf', 'rbf', 'rbf', 'rbf', 'rbf', 'rbf', 'rbf',\n                    'rbf', 'rbf', 'rbf', 'rbf', 'rbf', 'rbf', 'rbf', 'rbf',\n                    'rbf', 'rbf', 'rbf', 'rbf', 'rbf', 'rbf', 'rbf', 'rbf',\n                    'rbf', 'rbf', 'rbf', 'rbf', 'rbf', 'rbf', 'rbf', 'rbf',\n                    'rbf'],\n              mask=[False, False, False, False, False, False, False, False,\n                    False, False, False, False, False, False, False, False,\n                    False, False, False, False, False, False, False, False,\n                    False, False, False, False, False, False, False, False,\n                    False, False, False, False, False, False, False, False,\n                    False, False, False, False, False, False, False, False,\n                    False, False, False, False, False, False, False, False,\n                    False, False, False, False, False, False, False, False,\n                    False, False, False, False, False, False, False, False,\n                    False, False, False, False, False, False, False, False,\n                    False, False, False, False, False, False, False, False,\n                    False, False, False, False, False, False, False, False,\n                    False, False, False, False, False, False, False, False,\n                    False, False, False, False, False, False, False, False,\n                    False, False, False, False, False, False, False, False,\n                    False],\n        fill_value='?',\n             dtype=object),\n 'params': [{'C': 1e-05, 'gamma': 1e-05, 'kernel': 'rbf'},\n  {'C': 1e-05, 'gamma': 0.0005, 'kernel': 'rbf'},\n  {'C': 1e-05, 'gamma': 0.0001, 'kernel': 'rbf'},\n  {'C': 1e-05, 'gamma': 0.005, 'kernel': 'rbf'},\n  {'C': 1e-05, 'gamma': 0.001, 'kernel': 'rbf'},\n  {'C': 1e-05, 'gamma': 0.01, 'kernel': 'rbf'},\n  {'C': 1e-05, 'gamma': 0.1, 'kernel': 'rbf'},\n  {'C': 1e-05, 'gamma': 1, 'kernel': 'rbf'},\n  {'C': 1e-05, 'gamma': 10, 'kernel': 'rbf'},\n  {'C': 1e-05, 'gamma': 50, 'kernel': 'rbf'},\n  {'C': 1e-05, 'gamma': 100, 'kernel': 'rbf'},\n  {'C': 0.0005, 'gamma': 1e-05, 'kernel': 'rbf'},\n  {'C': 0.0005, 'gamma': 0.0005, 'kernel': 'rbf'},\n  {'C': 0.0005, 'gamma': 0.0001, 'kernel': 'rbf'},\n  {'C': 0.0005, 'gamma': 0.005, 'kernel': 'rbf'},\n  {'C': 0.0005, 'gamma': 0.001, 'kernel': 'rbf'},\n  {'C': 0.0005, 'gamma': 0.01, 'kernel': 'rbf'},\n  {'C': 0.0005, 'gamma': 0.1, 'kernel': 'rbf'},\n  {'C': 0.0005, 'gamma': 1, 'kernel': 'rbf'},\n  {'C': 0.0005, 'gamma': 10, 'kernel': 'rbf'},\n  {'C': 0.0005, 'gamma': 50, 'kernel': 'rbf'},\n  {'C': 0.0005, 'gamma': 100, 'kernel': 'rbf'},\n  {'C': 0.0001, 'gamma': 1e-05, 'kernel': 'rbf'},\n  {'C': 0.0001, 'gamma': 0.0005, 'kernel': 'rbf'},\n  {'C': 0.0001, 'gamma': 0.0001, 'kernel': 'rbf'},\n  {'C': 0.0001, 'gamma': 0.005, 'kernel': 'rbf'},\n  {'C': 0.0001, 'gamma': 0.001, 'kernel': 'rbf'},\n  {'C': 0.0001, 'gamma': 0.01, 'kernel': 'rbf'},\n  {'C': 0.0001, 'gamma': 0.1, 'kernel': 'rbf'},\n  {'C': 0.0001, 'gamma': 1, 'kernel': 'rbf'},\n  {'C': 0.0001, 'gamma': 10, 'kernel': 'rbf'},\n  {'C': 0.0001, 'gamma': 50, 'kernel': 'rbf'},\n  {'C': 0.0001, 'gamma': 100, 'kernel': 'rbf'},\n  {'C': 0.005, 'gamma': 1e-05, 'kernel': 'rbf'},\n  {'C': 0.005, 'gamma': 0.0005, 'kernel': 'rbf'},\n  {'C': 0.005, 'gamma': 0.0001, 'kernel': 'rbf'},\n  {'C': 0.005, 'gamma': 0.005, 'kernel': 'rbf'},\n  {'C': 0.005, 'gamma': 0.001, 'kernel': 'rbf'},\n  {'C': 0.005, 'gamma': 0.01, 'kernel': 'rbf'},\n  {'C': 0.005, 'gamma': 0.1, 'kernel': 'rbf'},\n  {'C': 0.005, 'gamma': 1, 'kernel': 'rbf'},\n  {'C': 0.005, 'gamma': 10, 'kernel': 'rbf'},\n  {'C': 0.005, 'gamma': 50, 'kernel': 'rbf'},\n  {'C': 0.005, 'gamma': 100, 'kernel': 'rbf'},\n  {'C': 0.001, 'gamma': 1e-05, 'kernel': 'rbf'},\n  {'C': 0.001, 'gamma': 0.0005, 'kernel': 'rbf'},\n  {'C': 0.001, 'gamma': 0.0001, 'kernel': 'rbf'},\n  {'C': 0.001, 'gamma': 0.005, 'kernel': 'rbf'},\n  {'C': 0.001, 'gamma': 0.001, 'kernel': 'rbf'},\n  {'C': 0.001, 'gamma': 0.01, 'kernel': 'rbf'},\n  {'C': 0.001, 'gamma': 0.1, 'kernel': 'rbf'},\n  {'C': 0.001, 'gamma': 1, 'kernel': 'rbf'},\n  {'C': 0.001, 'gamma': 10, 'kernel': 'rbf'},\n  {'C': 0.001, 'gamma': 50, 'kernel': 'rbf'},\n  {'C': 0.001, 'gamma': 100, 'kernel': 'rbf'},\n  {'C': 0.01, 'gamma': 1e-05, 'kernel': 'rbf'},\n  {'C': 0.01, 'gamma': 0.0005, 'kernel': 'rbf'},\n  {'C': 0.01, 'gamma': 0.0001, 'kernel': 'rbf'},\n  {'C': 0.01, 'gamma': 0.005, 'kernel': 'rbf'},\n  {'C': 0.01, 'gamma': 0.001, 'kernel': 'rbf'},\n  {'C': 0.01, 'gamma': 0.01, 'kernel': 'rbf'},\n  {'C': 0.01, 'gamma': 0.1, 'kernel': 'rbf'},\n  {'C': 0.01, 'gamma': 1, 'kernel': 'rbf'},\n  {'C': 0.01, 'gamma': 10, 'kernel': 'rbf'},\n  {'C': 0.01, 'gamma': 50, 'kernel': 'rbf'},\n  {'C': 0.01, 'gamma': 100, 'kernel': 'rbf'},\n  {'C': 0.1, 'gamma': 1e-05, 'kernel': 'rbf'},\n  {'C': 0.1, 'gamma': 0.0005, 'kernel': 'rbf'},\n  {'C': 0.1, 'gamma': 0.0001, 'kernel': 'rbf'},\n  {'C': 0.1, 'gamma': 0.005, 'kernel': 'rbf'},\n  {'C': 0.1, 'gamma': 0.001, 'kernel': 'rbf'},\n  {'C': 0.1, 'gamma': 0.01, 'kernel': 'rbf'},\n  {'C': 0.1, 'gamma': 0.1, 'kernel': 'rbf'},\n  {'C': 0.1, 'gamma': 1, 'kernel': 'rbf'},\n  {'C': 0.1, 'gamma': 10, 'kernel': 'rbf'},\n  {'C': 0.1, 'gamma': 50, 'kernel': 'rbf'},\n  {'C': 0.1, 'gamma': 100, 'kernel': 'rbf'},\n  {'C': 1, 'gamma': 1e-05, 'kernel': 'rbf'},\n  {'C': 1, 'gamma': 0.0005, 'kernel': 'rbf'},\n  {'C': 1, 'gamma': 0.0001, 'kernel': 'rbf'},\n  {'C': 1, 'gamma': 0.005, 'kernel': 'rbf'},\n  {'C': 1, 'gamma': 0.001, 'kernel': 'rbf'},\n  {'C': 1, 'gamma': 0.01, 'kernel': 'rbf'},\n  {'C': 1, 'gamma': 0.1, 'kernel': 'rbf'},\n  {'C': 1, 'gamma': 1, 'kernel': 'rbf'},\n  {'C': 1, 'gamma': 10, 'kernel': 'rbf'},\n  {'C': 1, 'gamma': 50, 'kernel': 'rbf'},\n  {'C': 1, 'gamma': 100, 'kernel': 'rbf'},\n  {'C': 10, 'gamma': 1e-05, 'kernel': 'rbf'},\n  {'C': 10, 'gamma': 0.0005, 'kernel': 'rbf'},\n  {'C': 10, 'gamma': 0.0001, 'kernel': 'rbf'},\n  {'C': 10, 'gamma': 0.005, 'kernel': 'rbf'},\n  {'C': 10, 'gamma': 0.001, 'kernel': 'rbf'},\n  {'C': 10, 'gamma': 0.01, 'kernel': 'rbf'},\n  {'C': 10, 'gamma': 0.1, 'kernel': 'rbf'},\n  {'C': 10, 'gamma': 1, 'kernel': 'rbf'},\n  {'C': 10, 'gamma': 10, 'kernel': 'rbf'},\n  {'C': 10, 'gamma': 50, 'kernel': 'rbf'},\n  {'C': 10, 'gamma': 100, 'kernel': 'rbf'},\n  {'C': 50, 'gamma': 1e-05, 'kernel': 'rbf'},\n  {'C': 50, 'gamma': 0.0005, 'kernel': 'rbf'},\n  {'C': 50, 'gamma': 0.0001, 'kernel': 'rbf'},\n  {'C': 50, 'gamma': 0.005, 'kernel': 'rbf'},\n  {'C': 50, 'gamma': 0.001, 'kernel': 'rbf'},\n  {'C': 50, 'gamma': 0.01, 'kernel': 'rbf'},\n  {'C': 50, 'gamma': 0.1, 'kernel': 'rbf'},\n  {'C': 50, 'gamma': 1, 'kernel': 'rbf'},\n  {'C': 50, 'gamma': 10, 'kernel': 'rbf'},\n  {'C': 50, 'gamma': 50, 'kernel': 'rbf'},\n  {'C': 50, 'gamma': 100, 'kernel': 'rbf'},\n  {'C': 100, 'gamma': 1e-05, 'kernel': 'rbf'},\n  {'C': 100, 'gamma': 0.0005, 'kernel': 'rbf'},\n  {'C': 100, 'gamma': 0.0001, 'kernel': 'rbf'},\n  {'C': 100, 'gamma': 0.005, 'kernel': 'rbf'},\n  {'C': 100, 'gamma': 0.001, 'kernel': 'rbf'},\n  {'C': 100, 'gamma': 0.01, 'kernel': 'rbf'},\n  {'C': 100, 'gamma': 0.1, 'kernel': 'rbf'},\n  {'C': 100, 'gamma': 1, 'kernel': 'rbf'},\n  {'C': 100, 'gamma': 10, 'kernel': 'rbf'},\n  {'C': 100, 'gamma': 50, 'kernel': 'rbf'},\n  {'C': 100, 'gamma': 100, 'kernel': 'rbf'}],\n 'split0_test_score': array([-1.35170031e-04, -8.50769064e-04, -8.09009274e-04, -8.54183619e-04,\n        -8.53734708e-04, -8.54186439e-04, -8.54186567e-04, -8.54186567e-04,\n        -8.54186567e-04, -8.54186567e-04, -8.54186567e-04,  3.41642311e-02,\n        -7.35342472e-04,  3.43861676e-03, -8.64182642e-04, -8.45083885e-04,\n        -8.64323553e-04, -8.64329976e-04, -8.64329976e-04, -8.64329976e-04,\n        -8.64329976e-04, -8.64329976e-04,  6.64646033e-03, -8.62891842e-04,\n        -3.07944015e-05, -8.54157086e-04, -8.49668159e-04, -8.54185282e-04,\n        -8.54186567e-04, -8.54186567e-04, -8.54186567e-04, -8.54186567e-04,\n        -8.54186567e-04,  1.72490433e-01,  5.53010875e-04,  3.46401052e-02,\n        -9.18452282e-04, -7.15554909e-04, -9.19857420e-04, -9.19921494e-04,\n        -9.19921494e-04, -9.19921494e-04, -9.19921494e-04, -9.19921494e-04,\n         6.30203651e-02, -5.74893462e-04,  7.65294652e-03, -8.90621835e-04,\n        -8.51974215e-04, -8.90903325e-04, -8.90916156e-04, -8.90916156e-04,\n        -8.90916156e-04, -8.90916156e-04, -8.90916156e-04,  2.33761735e-01,\n         2.08745751e-03,  5.89544964e-02, -9.89002247e-04, -5.86787554e-04,\n        -9.91801447e-04, -9.91929203e-04, -9.91929203e-04, -9.91929203e-04,\n        -9.91929203e-04, -9.91929203e-04,  4.30806093e-01,  2.02496837e-02,\n         1.98006547e-01, -1.64984686e-03,  1.71286577e-03, -1.65220915e-03,\n        -1.64952185e-03, -1.64952185e-03, -1.64952185e-03, -1.64952185e-03,\n        -1.64952185e-03,  4.62198743e-01,  4.75700120e-02,  3.04997413e-01,\n        -5.42183854e-04,  7.41324934e-03, -5.62675540e-04, -5.63029514e-04,\n        -5.63029514e-04, -5.63029514e-04, -5.63029514e-04, -5.63029514e-04,\n         5.21648459e-01,  4.76736950e-02,  2.40675957e-01, -3.99069420e-03,\n         3.72042913e-03, -3.99803251e-03, -3.99663993e-03, -3.99663993e-03,\n        -3.99663993e-03, -3.99663993e-03, -3.99663993e-03,  5.83383858e-01,\n         4.38472375e-02,  2.32500365e-01, -7.01939732e-03,  4.84900395e-04,\n        -7.01918328e-03, -7.01668949e-03, -7.01668949e-03, -7.01668949e-03,\n        -7.01668949e-03, -7.01668949e-03,  5.52610248e-01,  4.38472375e-02,\n         2.32500365e-01, -7.01939732e-03,  4.84900395e-04, -7.01918328e-03,\n        -7.01668949e-03, -7.01668949e-03, -7.01668949e-03, -7.01668949e-03,\n        -7.01668949e-03]),\n 'split1_test_score': array([-3.49586115e-03, -5.09381712e-03, -4.87667649e-03, -5.10161722e-03,\n        -5.10054840e-03, -5.10163525e-03, -5.10163860e-03, -5.10163860e-03,\n        -5.10163860e-03, -5.10163860e-03, -5.10163860e-03,  6.43580315e-02,\n        -4.65366257e-03,  4.42298626e-03, -5.03212436e-03, -4.97921225e-03,\n        -5.03302489e-03, -5.03319233e-03, -5.03319233e-03, -5.03319233e-03,\n        -5.03319233e-03, -5.03319233e-03,  1.02165609e-02, -5.00572291e-03,\n        -2.88407109e-03, -5.08370748e-03, -5.07302027e-03, -5.08388775e-03,\n        -5.08392126e-03, -5.08392126e-03, -5.08392126e-03, -5.08392126e-03,\n        -5.08392126e-03,  3.44439968e-01, -1.39979465e-03,  6.92612132e-02,\n        -4.92970106e-03, -4.39944270e-03, -4.93867175e-03, -4.94034331e-03,\n        -4.94034331e-03, -4.94034331e-03, -4.94034331e-03, -4.94034331e-03,\n         1.21449997e-01, -4.21257296e-03,  1.29533786e-02, -5.03105686e-03,\n        -4.92526580e-03, -5.03285747e-03, -5.03319233e-03, -5.03319233e-03,\n        -5.03319233e-03, -5.03319233e-03, -5.03319233e-03,  4.63826263e-01,\n         1.67381432e-03,  1.22464781e-01, -5.06134310e-03, -4.05964148e-03,\n        -5.07927222e-03, -5.08262070e-03, -5.08262070e-03, -5.08262070e-03,\n        -5.08262070e-03, -5.08262070e-03,  7.80267209e-01,  4.23779257e-02,\n         3.80974847e-01, -7.34948565e-03,  1.22213325e-03, -7.50553506e-03,\n        -7.53265365e-03, -7.53265365e-03, -7.53265365e-03, -7.53265365e-03,\n        -7.53265365e-03,  8.89015701e-01,  8.88903110e-02,  5.30245859e-01,\n        -5.80707829e-03,  1.30144222e-02, -5.95754972e-03, -5.98257799e-03,\n        -5.98257799e-03, -5.98257799e-03, -5.98257799e-03, -5.98257799e-03,\n         8.69656211e-01,  8.60782866e-02,  5.38148329e-01, -1.09658433e-02,\n         7.92141085e-03, -1.11401565e-02, -1.11702023e-02, -1.11702023e-02,\n        -1.11702023e-02, -1.11702023e-02, -1.11702023e-02,  8.10360060e-01,\n         7.90627255e-02,  5.24016186e-01, -1.80962425e-02,  7.56562336e-04,\n        -1.82976323e-02, -1.83333076e-02, -1.83333076e-02, -1.83333076e-02,\n        -1.83333076e-02, -1.83333076e-02,  8.08764151e-01,  7.90627255e-02,\n         5.24016186e-01, -1.80962425e-02,  7.56562336e-04, -1.82976323e-02,\n        -1.83333076e-02, -1.83333076e-02, -1.83333076e-02, -1.83333076e-02,\n        -1.83333076e-02]),\n 'split2_test_score': array([-0.00302845, -0.00316345, -0.00314013, -0.00316441, -0.0031643 ,\n        -0.00316441, -0.00316441, -0.00316441, -0.00316441, -0.00316441,\n        -0.00316441,  0.0035998 , -0.00313509, -0.00223658, -0.00316433,\n        -0.00315885, -0.0031644 , -0.00316441, -0.00316441, -0.00316441,\n        -0.00316441, -0.00316441, -0.00174495, -0.00315481, -0.00303451,\n        -0.0031644 , -0.0031633 , -0.00316441, -0.00316441, -0.00316441,\n        -0.00316441, -0.00316441, -0.00316441,  0.02977259, -0.00280855,\n         0.0047208 , -0.00315426, -0.00311937, -0.00315495, -0.00315508,\n        -0.00315508, -0.00315508, -0.00315508, -0.00315508,  0.00885783,\n        -0.00316476, -0.00126427, -0.00318151, -0.00317438, -0.00318165,\n        -0.00318168, -0.00318168, -0.00318168, -0.00318168, -0.00318168,\n         0.03982051, -0.00234798,  0.00970817, -0.00308086, -0.00300158,\n        -0.00308222, -0.0030825 , -0.0030825 , -0.0030825 , -0.0030825 ,\n        -0.0030825 ,  0.07767647,  0.00214976,  0.03762984, -0.00233706,\n        -0.00164684, -0.00234695, -0.00234931, -0.00234931, -0.00234931,\n        -0.00234931, -0.00234931,  0.11418175,  0.0062144 ,  0.0640284 ,\n        -0.00317344, -0.00194697, -0.00318216, -0.0031842 , -0.0031842 ,\n        -0.0031842 , -0.0031842 , -0.0031842 ,  0.11200818,  0.00623536,\n         0.06172099, -0.00351144, -0.00227091, -0.00351952, -0.00352144,\n        -0.00352144, -0.00352144, -0.00352144, -0.00352144,  0.11790871,\n         0.00623536,  0.06172099, -0.00351144, -0.00227091, -0.00351952,\n        -0.00352144, -0.00352144, -0.00352144, -0.00352144, -0.00352144,\n         0.11790871,  0.00623536,  0.06172099, -0.00351144, -0.00227091,\n        -0.00351952, -0.00352144, -0.00352144, -0.00352144, -0.00352144,\n        -0.00352144]),\n 'split3_test_score': array([ 9.33497679e-04, -4.18016895e-04, -2.74087145e-04, -4.23228507e-04,\n        -4.22598574e-04, -4.23232147e-04, -4.23232315e-04, -4.23232315e-04,\n        -4.23232315e-04, -4.23232315e-04, -4.23232315e-04,  6.20492454e-02,\n        -1.62641592e-04,  6.99629174e-03, -4.23041941e-04, -3.91551058e-04,\n        -4.23223913e-04, -4.23232315e-04, -4.23232315e-04, -4.23232315e-04,\n        -4.23232315e-04, -4.23232315e-04,  1.29885426e-02, -3.71084743e-04,\n         1.06441877e-03, -4.23194238e-04, -4.16895124e-04, -4.23230634e-04,\n        -4.23232315e-04, -4.23232315e-04, -4.23232315e-04, -4.23232315e-04,\n        -4.23232315e-04,  3.11345755e-01,  2.16060058e-03,  6.06691034e-02,\n        -4.12717966e-04, -1.05325241e-04, -4.14535580e-04, -4.14619551e-04,\n        -4.14619551e-04, -4.14619551e-04, -4.14619551e-04, -4.14619551e-04,\n         1.12800920e-01,  9.75812928e-05,  1.41251418e-02, -4.22851593e-04,\n        -3.59881548e-04, -4.23215511e-04, -4.23232315e-04, -4.23232315e-04,\n        -4.23232315e-04, -4.23232315e-04, -4.23232315e-04,  4.14428392e-01,\n         4.72035628e-03,  1.03888570e-01, -4.41053457e-04,  1.88158297e-04,\n        -4.44692581e-04, -4.44860827e-04, -4.44860827e-04, -4.44860827e-04,\n        -4.44860827e-04, -4.44860827e-04,  6.96461701e-01,  3.63673182e-02,\n         3.53629426e-01, -8.52145296e-05,  5.21028124e-03, -1.22868925e-04,\n        -1.25678735e-04, -1.25678735e-04, -1.25678735e-04, -1.25678735e-04,\n        -1.25678735e-04,  7.93740554e-01,  7.78611564e-02,  5.49280078e-01,\n        -2.57163043e-03,  1.01178197e-02, -2.62115683e-03, -2.62474562e-03,\n        -2.62474562e-03, -2.62474562e-03, -2.62474562e-03, -2.62474562e-03,\n         7.93377047e-01,  8.24115385e-02,  5.33050373e-01, -1.13893736e-03,\n         1.21336308e-02, -1.18260203e-03, -1.18551030e-03, -1.18551030e-03,\n        -1.18551030e-03, -1.18551030e-03, -1.18551030e-03,  8.52625433e-01,\n         8.40404062e-02,  5.29340418e-01, -2.08406224e-05,  1.33453583e-02,\n        -5.49457984e-05, -5.66734142e-05, -5.66734142e-05, -5.66734142e-05,\n        -5.66734142e-05, -5.66734142e-05,  8.47776696e-01,  8.40404062e-02,\n         5.29340418e-01, -2.08406224e-05,  1.33453583e-02, -5.49457984e-05,\n        -5.66734142e-05, -5.66734142e-05, -5.66734142e-05, -5.66734142e-05,\n        -5.66734142e-05]),\n 'split4_test_score': array([ 7.80864721e-04, -4.72664493e-04, -3.17032479e-04, -4.78370617e-04,\n        -4.77578421e-04, -4.78372021e-04, -4.78372029e-04, -4.78372029e-04,\n        -4.78372029e-04, -4.78372029e-04, -4.78372029e-04,  5.63741022e-02,\n        -1.67836787e-04,  7.27334405e-03, -4.52538419e-04, -4.12962577e-04,\n        -4.52608653e-04, -4.52609043e-04, -4.52609043e-04, -4.52609043e-04,\n        -4.52609043e-04, -4.52609043e-04,  1.17600928e-02, -4.16533444e-04,\n         1.15033381e-03, -4.73572477e-04, -4.65651764e-04, -4.73586515e-04,\n        -4.73586593e-04, -4.73586593e-04, -4.73586593e-04, -4.73586593e-04,\n        -4.73586593e-04,  2.78032331e-01,  2.39486414e-03,  6.03711667e-02,\n        -3.45819435e-04,  3.50865978e-05, -3.46517204e-04, -3.46521126e-04,\n        -3.46521126e-04, -3.46521126e-04, -3.46521126e-04, -3.46521126e-04,\n         1.01986914e-01,  1.41754002e-04,  1.43431229e-02, -4.25439529e-04,\n        -3.46406328e-04, -4.25580100e-04, -4.25580881e-04, -4.25580881e-04,\n        -4.25580881e-04, -4.25580881e-04, -4.25580881e-04,  3.75745983e-01,\n         5.01494160e-03,  1.01981871e-01, -2.78527256e-04,  4.89556836e-04,\n        -2.79931684e-04, -2.79939559e-04, -2.79939559e-04, -2.79939559e-04,\n        -2.79939559e-04, -2.79939559e-04,  6.64716438e-01,  3.62898620e-02,\n         3.20929445e-01,  2.44347728e-06,  6.37328085e-03, -9.20892285e-06,\n        -8.93906298e-06, -8.93906298e-06, -8.93906298e-06, -8.93906298e-06,\n        -8.93906298e-06,  7.94912871e-01,  7.43307679e-02,  4.72993891e-01,\n        -6.27087809e-04,  1.34296472e-02, -6.52618718e-04, -6.53505164e-04,\n        -6.53505164e-04, -6.53505164e-04, -6.53505164e-04, -6.53505164e-04,\n         7.32174866e-01,  7.54543748e-02,  4.38433996e-01,  1.12855475e-05,\n         1.41240244e-02, -1.30869351e-05, -1.32969445e-05, -1.32969445e-05,\n        -1.32969445e-05, -1.32969445e-05, -1.32969445e-05,  7.84796460e-01,\n         7.53899039e-02,  4.40461590e-01, -4.97150955e-04,  1.36493012e-02,\n        -5.19124219e-04, -5.18416268e-04, -5.18416268e-04, -5.18416268e-04,\n        -5.18416268e-04, -5.18416268e-04,  7.73338646e-01,  7.53899039e-02,\n         4.40461590e-01, -4.97150955e-04,  1.36493012e-02, -5.19124219e-04,\n        -5.18416268e-04, -5.18416268e-04, -5.18416268e-04, -5.18416268e-04,\n        -5.18416268e-04]),\n 'mean_test_score': array([-9.89024623e-04, -1.99974399e-03, -1.88338631e-03, -2.00436215e-03,\n        -2.00375226e-03, -2.00436761e-03, -2.00436839e-03, -2.00436839e-03,\n        -2.00436839e-03, -2.00436839e-03, -2.00436839e-03,  4.41090828e-02,\n        -1.77091516e-03,  3.97893180e-03, -1.98724351e-03, -1.95753186e-03,\n        -1.98751590e-03, -1.98755522e-03, -1.98755522e-03, -1.98755522e-03,\n        -1.98755522e-03, -1.98755522e-03,  7.97334199e-03, -1.96220928e-03,\n        -7.46925462e-04, -1.99980546e-03, -1.99370700e-03, -1.99985997e-03,\n        -1.99986784e-03, -1.99986784e-03, -1.99986784e-03, -1.99986784e-03,\n        -1.99986784e-03,  2.27216216e-01,  1.80026879e-04,  4.59324770e-02,\n        -1.95219076e-03, -1.66092056e-03, -1.95490541e-03, -1.95529802e-03,\n        -1.95529802e-03, -1.95529802e-03, -1.95529802e-03, -1.95529802e-03,\n         8.16232050e-02, -1.54257726e-03,  9.56206366e-03, -1.99029695e-03,\n        -1.93158101e-03, -1.99084156e-03, -1.99092019e-03, -1.99092019e-03,\n        -1.99092019e-03, -1.99092019e-03, -1.99092019e-03,  3.05516577e-01,\n         2.22971795e-03,  7.93995773e-02, -1.97015736e-03, -1.39405836e-03,\n        -1.97558354e-03, -1.97637006e-03, -1.97637006e-03, -1.97637006e-03,\n        -1.97637006e-03, -1.97637006e-03,  5.29985582e-01,  2.74869092e-02,\n         2.58234022e-01, -2.28383193e-03,  2.57434422e-03, -2.32735393e-03,\n        -2.33322129e-03, -2.33322129e-03, -2.33322129e-03, -2.33322129e-03,\n        -2.33322129e-03,  6.10809924e-01,  5.89733287e-02,  3.84309127e-01,\n        -2.54428353e-03,  8.40563449e-03, -2.59523221e-03, -2.60161193e-03,\n        -2.60161193e-03, -2.60161193e-03, -2.60161193e-03, -2.60161193e-03,\n         6.05772952e-01,  5.95706512e-02,  3.62405928e-01, -3.91912605e-03,\n         7.12571759e-03, -3.97068019e-03, -3.97741703e-03, -3.97741703e-03,\n        -3.97741703e-03, -3.97741703e-03, -3.97741703e-03,  6.29814904e-01,\n         5.77151268e-02,  3.57607910e-01, -5.82901446e-03,  5.19304302e-03,\n        -5.88208172e-03, -5.88930450e-03, -5.88930450e-03, -5.88930450e-03,\n        -5.88930450e-03, -5.88930450e-03,  6.20079690e-01,  5.77151268e-02,\n         3.57607910e-01, -5.82901446e-03,  5.19304302e-03, -5.88208172e-03,\n        -5.88930450e-03, -5.88930450e-03, -5.88930450e-03, -5.88930450e-03,\n        -5.88930450e-03]),\n 'std_test_score': array([0.00189743, 0.00184832, 0.00182958, 0.0018488 , 0.00184872,\n        0.0018488 , 0.0018488 , 0.0018488 , 0.0018488 , 0.0018488 ,\n        0.0018488 , 0.02290066, 0.00181108, 0.00343742, 0.00182867,\n        0.00182479, 0.00182892, 0.00182897, 0.00182897, 0.00182897,\n        0.00182897, 0.00182897, 0.00530527, 0.00183382, 0.00185439,\n        0.0018436 , 0.00184284, 0.00184365, 0.00184366, 0.00184366,\n        0.00184366, 0.00184366, 0.00184366, 0.11435065, 0.00201964,\n        0.02364654, 0.00180718, 0.00177857, 0.00180964, 0.00181018,\n        0.00181018, 0.00181018, 0.00181018, 0.00181018, 0.04150607,\n        0.00180132, 0.00593356, 0.00183195, 0.00182512, 0.00183244,\n        0.00183255, 0.00183255, 0.00183255, 0.00183255, 0.00183255,\n        0.15336171, 0.00265501, 0.04059354, 0.00184128, 0.00181067,\n        0.00184631, 0.00184742, 0.00184742, 0.00184742, 0.00184742,\n        0.00184742, 0.25413685, 0.01464544, 0.12679894, 0.002688  ,\n        0.0028903 , 0.00273873, 0.00274872, 0.00274872, 0.00274872,\n        0.00274872, 0.00274872, 0.2875694 , 0.02966873, 0.1817955 ,\n        0.00193528, 0.00561381, 0.00197764, 0.00198604, 0.00198604,\n        0.00198604, 0.00198604, 0.00198604, 0.27264912, 0.02987589,\n        0.18494043, 0.00382113, 0.005909  , 0.00387406, 0.00388467,\n        0.00388467, 0.00388467, 0.00388467, 0.00388467, 0.27219999,\n        0.02933811, 0.18289312, 0.00662475, 0.00686335, 0.00668936,\n        0.00670219, 0.00670219, 0.00670219, 0.00670219, 0.00670219,\n        0.27116928, 0.02933811, 0.18289312, 0.00662475, 0.00686335,\n        0.00668936, 0.00670219, 0.00670219, 0.00670219, 0.00670219,\n        0.00670219]),\n 'rank_test_score': array([ 33,  71,  38,  80,  79,  81,  82,  82,  82,  82,  82,  20,  37,\n         28,  56,  47,  57,  58,  58,  58,  58,  58,  24,  48,  32,  72,\n         70,  73,  74,  74,  74,  74,  74,  12,  31,  19,  40,  36,  41,\n         42,  42,  42,  42,  42,  13,  35,  22,  63,  39,  64,  65,  65,\n         65,  65,  65,  10,  30,  14,  49,  34,  50,  51,  51,  51,  51,\n         51,   5,  21,  11,  87,  29,  88,  89,  89,  89,  89,  89,   3,\n         16,   6,  94,  23,  95,  96,  96,  96,  96,  96,   4,  15,   7,\n        101,  25, 102, 103, 103, 103, 103, 103,   1,  17,   8, 108,  26,\n        110, 112, 112, 112, 112, 112,   2,  17,   8, 108,  26, 110, 112,\n        112, 112, 112, 112])}"
          },
          "execution_count": 333,
          "metadata": {},
          "output_type": "execute_result"
        }
      ]
    },
    {
      "cell_type": "markdown",
      "source": [
        "# 12.7 Save the model"
      ],
      "metadata": {
        "id": "4DhPEZv_SCjn",
        "pycharm": {
          "name": "#%% md\n"
        }
      }
    },
    {
      "cell_type": "code",
      "source": [
        "# use joblib to save the model\n",
        "import joblib\n",
        "\n",
        "joblib.dump(svm_winner, \"svm_model.pkl\")\n",
        "\n",
        "# Later \n",
        "# my_model_loaded = joblib.load(\"svm_model.pkl\")"
      ],
      "metadata": {
        "id": "SVgPG_UrSLXC",
        "colab": {
          "base_uri": "https://localhost:8080/"
        },
        "outputId": "bdaadd4b-6880-452e-eba0-f755c4c813aa",
        "pycharm": {
          "name": "#%%\n"
        }
      },
      "execution_count": null,
      "outputs": [
        {
          "output_type": "execute_result",
          "data": {
            "text/plain": [
              "['svm_model.pkl']"
            ]
          },
          "metadata": {},
          "execution_count": 104
        }
      ]
    },
    {
      "cell_type": "code",
      "execution_count": null,
      "outputs": [
        {
          "data": {
            "text/plain": "['dt_model_p.pkl']"
          },
          "execution_count": 402,
          "metadata": {},
          "output_type": "execute_result"
        }
      ],
      "source": [
        "# use joblib to save the model\n",
        "import joblib\n",
        "\n",
        "# joblib.dump(gb_model, \"gb_model.pkl\")\n",
        "\n",
        "# joblib.dump(svm_model, \"svm_model_p.pkl\")\n",
        "joblib.dump(dt_model, \"dt_model_p.pkl\")\n",
        "\n",
        "\n",
        "# Later\n",
        "# my_model_loaded = joblib.load(\"svm_model.pkl\")"
      ],
      "metadata": {
        "pycharm": {
          "name": "#%%\n"
        },
        "id": "BVBGJ2zQxAu6",
        "outputId": "a3392dbd-f691-4764-cd45-a6229c0dc3d1"
      }
    },
    {
      "cell_type": "code",
      "execution_count": null,
      "outputs": [],
      "source": [
        ""
      ],
      "metadata": {
        "pycharm": {
          "name": "#%%\n"
        },
        "id": "KZ_xlyXnxAu6"
      }
    }
  ]
}