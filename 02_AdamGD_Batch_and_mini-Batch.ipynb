{
 "cells": [
  {
   "cell_type": "markdown",
   "id": "5d295531",
   "metadata": {
    "pycharm": {
     "name": "#%% md\n"
    }
   },
   "source": [
    "## Imports"
   ]
  },
  {
   "cell_type": "code",
   "execution_count": 1,
   "id": "90ac6cf4",
   "metadata": {
    "pycharm": {
     "name": "#%%\n"
    }
   },
   "outputs": [],
   "source": [
    "import numpy as np\n",
    "import pandas as pd\n",
    "import matplotlib.pyplot as plt\n",
    "%matplotlib inline\n",
    "import math\n",
    "from sklearn.metrics import r2_score"
   ]
  },
  {
   "cell_type": "code",
   "execution_count": 2,
   "id": "33eec2f0",
   "metadata": {
    "pycharm": {
     "name": "#%%\n"
    }
   },
   "outputs": [],
   "source": [
    "plt.style.use(['ggplot'])"
   ]
  },
  {
   "cell_type": "markdown",
   "id": "059851ff",
   "metadata": {
    "id": "0cbf0144",
    "pycharm": {
     "name": "#%% md\n"
    }
   },
   "source": [
    "# Dataset (MV)"
   ]
  },
  {
   "cell_type": "code",
   "execution_count": 4,
   "id": "fbd2ab17",
   "metadata": {
    "pycharm": {
     "name": "#%%\n"
    }
   },
   "outputs": [],
   "source": [
    "data = pd.read_csv('AFLW2000_CSV_Original.csv', sep = ',')"
   ]
  },
  {
   "cell_type": "code",
   "execution_count": 5,
   "outputs": [
    {
     "data": {
      "text/plain": "               0           1           2           3           4           5  \\\n0     121.868034  122.367607  126.819237  130.831787  137.523132  148.521729   \n1     281.238159  277.339417  274.876953  269.523773  257.788269  240.968155   \n2     236.385101  239.198257  242.566376  243.971375  242.828186  238.567902   \n3     168.029221  177.697510  190.641602  201.395294  211.957214  222.723099   \n4     280.462250  287.249817  293.892456  297.539368  295.677002  287.270355   \n...          ...         ...         ...         ...         ...         ...   \n1995  112.578934  113.787857  119.259262  125.335999  133.637939  146.153839   \n1996  111.117966  113.647079  115.328712  120.565918  134.109467  158.448425   \n1997  308.227417  309.905334  311.432251  310.488586  303.662415  288.275238   \n1998  106.611572  106.089981  107.328842  109.023941  116.216049  136.338547   \n1999  119.028824  122.094360  128.492767  135.464172  145.886490  162.124481   \n\n               6           7           8           9  ...         129  \\\n0     161.528015  182.876678  213.940063  248.005371  ...  310.149048   \n1     221.801483  205.846298  207.085449  226.185638  ...  303.093811   \n2     232.561859  229.155289  238.303162  259.122467  ...  303.122009   \n3     231.350220  244.332855  268.327637  291.832214  ...  315.469391   \n4     271.661591  254.701157  250.219299  261.212463  ...  306.811768   \n...          ...         ...         ...         ...  ...         ...   \n1995  162.205170  183.907257  213.987427  243.809875  ...  317.068970   \n1996  187.568314  212.202332  223.977646  218.683380  ...  316.934998   \n1997  268.575409  248.855255  239.939240  248.186981  ...  311.084686   \n1998  162.523712  190.193268  208.983047  210.192596  ...  309.402283   \n1999  178.543701  197.620682  226.310699  251.696899  ...  311.286865   \n\n             130         131         132         133         134         135  \\\n0     313.233856  315.107117  322.384613  330.965576  330.701965  324.903870   \n1     300.724457  300.060974  303.260895  299.485168  300.598602  302.286499   \n2     302.877289  302.146454  300.489380  303.481873  304.681732  304.631042   \n3     312.701294  310.133301  300.041290  315.544800  319.498596  320.843994   \n4     307.014893  305.351318  309.934814  311.558899  312.920746  312.058350   \n...          ...         ...         ...         ...         ...         ...   \n1995  317.718140  319.277924  321.063141  324.635498  324.518494  322.085815   \n1996  316.013428  315.392395  316.949585  316.981415  317.922302  318.168457   \n1997  311.580597  311.960449  316.873444  314.677002  315.051239  313.333374   \n1998  310.208862  310.287506  312.933044  313.265747  313.581848  312.269653   \n1999  311.103455  310.486755  311.463318  313.172699  313.902283  313.622345   \n\n           136       137       138  \n0    -0.399231  0.018227  0.085676  \n1     0.470065  1.189533  0.300959  \n2    -0.184650  0.881137 -0.236852  \n3    -0.175379  0.299208 -0.373374  \n4    -0.882169  1.198004 -1.033374  \n...        ...       ...       ...  \n1995 -0.197102 -0.070430  0.105118  \n1996 -0.232617 -1.418751  0.175960  \n1997 -1.447955  1.431267 -1.509418  \n1998 -0.420465 -1.191176  0.451515  \n1999 -0.015552 -0.180126 -0.024546  \n\n[2000 rows x 139 columns]",
      "text/html": "<div>\n<style scoped>\n    .dataframe tbody tr th:only-of-type {\n        vertical-align: middle;\n    }\n\n    .dataframe tbody tr th {\n        vertical-align: top;\n    }\n\n    .dataframe thead th {\n        text-align: right;\n    }\n</style>\n<table border=\"1\" class=\"dataframe\">\n  <thead>\n    <tr style=\"text-align: right;\">\n      <th></th>\n      <th>0</th>\n      <th>1</th>\n      <th>2</th>\n      <th>3</th>\n      <th>4</th>\n      <th>5</th>\n      <th>6</th>\n      <th>7</th>\n      <th>8</th>\n      <th>9</th>\n      <th>...</th>\n      <th>129</th>\n      <th>130</th>\n      <th>131</th>\n      <th>132</th>\n      <th>133</th>\n      <th>134</th>\n      <th>135</th>\n      <th>136</th>\n      <th>137</th>\n      <th>138</th>\n    </tr>\n  </thead>\n  <tbody>\n    <tr>\n      <th>0</th>\n      <td>121.868034</td>\n      <td>122.367607</td>\n      <td>126.819237</td>\n      <td>130.831787</td>\n      <td>137.523132</td>\n      <td>148.521729</td>\n      <td>161.528015</td>\n      <td>182.876678</td>\n      <td>213.940063</td>\n      <td>248.005371</td>\n      <td>...</td>\n      <td>310.149048</td>\n      <td>313.233856</td>\n      <td>315.107117</td>\n      <td>322.384613</td>\n      <td>330.965576</td>\n      <td>330.701965</td>\n      <td>324.903870</td>\n      <td>-0.399231</td>\n      <td>0.018227</td>\n      <td>0.085676</td>\n    </tr>\n    <tr>\n      <th>1</th>\n      <td>281.238159</td>\n      <td>277.339417</td>\n      <td>274.876953</td>\n      <td>269.523773</td>\n      <td>257.788269</td>\n      <td>240.968155</td>\n      <td>221.801483</td>\n      <td>205.846298</td>\n      <td>207.085449</td>\n      <td>226.185638</td>\n      <td>...</td>\n      <td>303.093811</td>\n      <td>300.724457</td>\n      <td>300.060974</td>\n      <td>303.260895</td>\n      <td>299.485168</td>\n      <td>300.598602</td>\n      <td>302.286499</td>\n      <td>0.470065</td>\n      <td>1.189533</td>\n      <td>0.300959</td>\n    </tr>\n    <tr>\n      <th>2</th>\n      <td>236.385101</td>\n      <td>239.198257</td>\n      <td>242.566376</td>\n      <td>243.971375</td>\n      <td>242.828186</td>\n      <td>238.567902</td>\n      <td>232.561859</td>\n      <td>229.155289</td>\n      <td>238.303162</td>\n      <td>259.122467</td>\n      <td>...</td>\n      <td>303.122009</td>\n      <td>302.877289</td>\n      <td>302.146454</td>\n      <td>300.489380</td>\n      <td>303.481873</td>\n      <td>304.681732</td>\n      <td>304.631042</td>\n      <td>-0.184650</td>\n      <td>0.881137</td>\n      <td>-0.236852</td>\n    </tr>\n    <tr>\n      <th>3</th>\n      <td>168.029221</td>\n      <td>177.697510</td>\n      <td>190.641602</td>\n      <td>201.395294</td>\n      <td>211.957214</td>\n      <td>222.723099</td>\n      <td>231.350220</td>\n      <td>244.332855</td>\n      <td>268.327637</td>\n      <td>291.832214</td>\n      <td>...</td>\n      <td>315.469391</td>\n      <td>312.701294</td>\n      <td>310.133301</td>\n      <td>300.041290</td>\n      <td>315.544800</td>\n      <td>319.498596</td>\n      <td>320.843994</td>\n      <td>-0.175379</td>\n      <td>0.299208</td>\n      <td>-0.373374</td>\n    </tr>\n    <tr>\n      <th>4</th>\n      <td>280.462250</td>\n      <td>287.249817</td>\n      <td>293.892456</td>\n      <td>297.539368</td>\n      <td>295.677002</td>\n      <td>287.270355</td>\n      <td>271.661591</td>\n      <td>254.701157</td>\n      <td>250.219299</td>\n      <td>261.212463</td>\n      <td>...</td>\n      <td>306.811768</td>\n      <td>307.014893</td>\n      <td>305.351318</td>\n      <td>309.934814</td>\n      <td>311.558899</td>\n      <td>312.920746</td>\n      <td>312.058350</td>\n      <td>-0.882169</td>\n      <td>1.198004</td>\n      <td>-1.033374</td>\n    </tr>\n    <tr>\n      <th>...</th>\n      <td>...</td>\n      <td>...</td>\n      <td>...</td>\n      <td>...</td>\n      <td>...</td>\n      <td>...</td>\n      <td>...</td>\n      <td>...</td>\n      <td>...</td>\n      <td>...</td>\n      <td>...</td>\n      <td>...</td>\n      <td>...</td>\n      <td>...</td>\n      <td>...</td>\n      <td>...</td>\n      <td>...</td>\n      <td>...</td>\n      <td>...</td>\n      <td>...</td>\n      <td>...</td>\n    </tr>\n    <tr>\n      <th>1995</th>\n      <td>112.578934</td>\n      <td>113.787857</td>\n      <td>119.259262</td>\n      <td>125.335999</td>\n      <td>133.637939</td>\n      <td>146.153839</td>\n      <td>162.205170</td>\n      <td>183.907257</td>\n      <td>213.987427</td>\n      <td>243.809875</td>\n      <td>...</td>\n      <td>317.068970</td>\n      <td>317.718140</td>\n      <td>319.277924</td>\n      <td>321.063141</td>\n      <td>324.635498</td>\n      <td>324.518494</td>\n      <td>322.085815</td>\n      <td>-0.197102</td>\n      <td>-0.070430</td>\n      <td>0.105118</td>\n    </tr>\n    <tr>\n      <th>1996</th>\n      <td>111.117966</td>\n      <td>113.647079</td>\n      <td>115.328712</td>\n      <td>120.565918</td>\n      <td>134.109467</td>\n      <td>158.448425</td>\n      <td>187.568314</td>\n      <td>212.202332</td>\n      <td>223.977646</td>\n      <td>218.683380</td>\n      <td>...</td>\n      <td>316.934998</td>\n      <td>316.013428</td>\n      <td>315.392395</td>\n      <td>316.949585</td>\n      <td>316.981415</td>\n      <td>317.922302</td>\n      <td>318.168457</td>\n      <td>-0.232617</td>\n      <td>-1.418751</td>\n      <td>0.175960</td>\n    </tr>\n    <tr>\n      <th>1997</th>\n      <td>308.227417</td>\n      <td>309.905334</td>\n      <td>311.432251</td>\n      <td>310.488586</td>\n      <td>303.662415</td>\n      <td>288.275238</td>\n      <td>268.575409</td>\n      <td>248.855255</td>\n      <td>239.939240</td>\n      <td>248.186981</td>\n      <td>...</td>\n      <td>311.084686</td>\n      <td>311.580597</td>\n      <td>311.960449</td>\n      <td>316.873444</td>\n      <td>314.677002</td>\n      <td>315.051239</td>\n      <td>313.333374</td>\n      <td>-1.447955</td>\n      <td>1.431267</td>\n      <td>-1.509418</td>\n    </tr>\n    <tr>\n      <th>1998</th>\n      <td>106.611572</td>\n      <td>106.089981</td>\n      <td>107.328842</td>\n      <td>109.023941</td>\n      <td>116.216049</td>\n      <td>136.338547</td>\n      <td>162.523712</td>\n      <td>190.193268</td>\n      <td>208.983047</td>\n      <td>210.192596</td>\n      <td>...</td>\n      <td>309.402283</td>\n      <td>310.208862</td>\n      <td>310.287506</td>\n      <td>312.933044</td>\n      <td>313.265747</td>\n      <td>313.581848</td>\n      <td>312.269653</td>\n      <td>-0.420465</td>\n      <td>-1.191176</td>\n      <td>0.451515</td>\n    </tr>\n    <tr>\n      <th>1999</th>\n      <td>119.028824</td>\n      <td>122.094360</td>\n      <td>128.492767</td>\n      <td>135.464172</td>\n      <td>145.886490</td>\n      <td>162.124481</td>\n      <td>178.543701</td>\n      <td>197.620682</td>\n      <td>226.310699</td>\n      <td>251.696899</td>\n      <td>...</td>\n      <td>311.286865</td>\n      <td>311.103455</td>\n      <td>310.486755</td>\n      <td>311.463318</td>\n      <td>313.172699</td>\n      <td>313.902283</td>\n      <td>313.622345</td>\n      <td>-0.015552</td>\n      <td>-0.180126</td>\n      <td>-0.024546</td>\n    </tr>\n  </tbody>\n</table>\n<p>2000 rows × 139 columns</p>\n</div>"
     },
     "execution_count": 5,
     "metadata": {},
     "output_type": "execute_result"
    }
   ],
   "source": [
    "data"
   ],
   "metadata": {
    "collapsed": false,
    "pycharm": {
     "name": "#%%\n"
    }
   }
  },
  {
   "cell_type": "code",
   "execution_count": 6,
   "id": "79b392b9",
   "metadata": {
    "pycharm": {
     "name": "#%%\n"
    }
   },
   "outputs": [],
   "source": [
    "y_shift = 68\n",
    "xy_list = [\"8\", \"30\", \"36\", \"45\", \"48\", \"54\", str(8 + y_shift), str(30+ y_shift), str(36+ y_shift), str(45+ y_shift), str(48+ y_shift), str(54+ y_shift)]"
   ]
  },
  {
   "cell_type": "code",
   "execution_count": 7,
   "outputs": [
    {
     "data": {
      "text/plain": "               8          30          36          45          48          54  \\\n0     213.940063  225.088425  162.579117  301.851685  180.507431  261.812347   \n1     207.085449  186.151962  219.600342  256.144623  206.686462  226.800659   \n2     238.303162  196.313782  198.901047  254.840668  212.726471  252.738708   \n3     268.327637  216.827087  166.383850  268.555054  213.172653  269.946014   \n4     250.219299  173.975540  200.708405  216.878983  223.819580  229.980194   \n...          ...         ...         ...         ...         ...         ...   \n1995  213.987427  231.108200  163.308197  297.862183  186.035110  251.346939   \n1996  223.977646  271.463501  207.591187  224.472351  225.867645  231.436157   \n1997  239.939240  179.231552  216.805939  218.558716  228.697906  221.335007   \n1998  208.983047  282.930267  209.662598  248.470062  207.040680  234.653503   \n1999  226.310699  236.993896  167.981781  280.032898  197.625595  258.159851   \n\n              76          98         104         113         116         122  \n0     375.730499  281.803406  199.647583  212.364670  305.174622  322.659698  \n1     345.316071  262.358002  239.387238  224.261322  311.824158  303.561066  \n2     351.412842  273.822266  239.487122  231.438049  304.789856  300.910248  \n3     362.018036  282.946289  244.075317  208.186081  316.072205  299.294373  \n4     356.444702  282.408569  243.682465  227.281342  312.089142  310.606750  \n...          ...         ...         ...         ...         ...         ...  \n1995  372.599121  279.537415  206.959961  218.591782  315.108887  321.491089  \n1996  374.818481  276.808716  232.862717  226.686249  322.267975  317.133240  \n1997  377.363190  274.731262  231.459717  226.749115  312.436340  317.766571  \n1998  374.496033  265.670654  209.398865  215.537491  310.097931  313.753479  \n1999  374.324219  262.601196  221.925629  219.895020  315.109558  311.467102  \n\n[2000 rows x 12 columns]",
      "text/html": "<div>\n<style scoped>\n    .dataframe tbody tr th:only-of-type {\n        vertical-align: middle;\n    }\n\n    .dataframe tbody tr th {\n        vertical-align: top;\n    }\n\n    .dataframe thead th {\n        text-align: right;\n    }\n</style>\n<table border=\"1\" class=\"dataframe\">\n  <thead>\n    <tr style=\"text-align: right;\">\n      <th></th>\n      <th>8</th>\n      <th>30</th>\n      <th>36</th>\n      <th>45</th>\n      <th>48</th>\n      <th>54</th>\n      <th>76</th>\n      <th>98</th>\n      <th>104</th>\n      <th>113</th>\n      <th>116</th>\n      <th>122</th>\n    </tr>\n  </thead>\n  <tbody>\n    <tr>\n      <th>0</th>\n      <td>213.940063</td>\n      <td>225.088425</td>\n      <td>162.579117</td>\n      <td>301.851685</td>\n      <td>180.507431</td>\n      <td>261.812347</td>\n      <td>375.730499</td>\n      <td>281.803406</td>\n      <td>199.647583</td>\n      <td>212.364670</td>\n      <td>305.174622</td>\n      <td>322.659698</td>\n    </tr>\n    <tr>\n      <th>1</th>\n      <td>207.085449</td>\n      <td>186.151962</td>\n      <td>219.600342</td>\n      <td>256.144623</td>\n      <td>206.686462</td>\n      <td>226.800659</td>\n      <td>345.316071</td>\n      <td>262.358002</td>\n      <td>239.387238</td>\n      <td>224.261322</td>\n      <td>311.824158</td>\n      <td>303.561066</td>\n    </tr>\n    <tr>\n      <th>2</th>\n      <td>238.303162</td>\n      <td>196.313782</td>\n      <td>198.901047</td>\n      <td>254.840668</td>\n      <td>212.726471</td>\n      <td>252.738708</td>\n      <td>351.412842</td>\n      <td>273.822266</td>\n      <td>239.487122</td>\n      <td>231.438049</td>\n      <td>304.789856</td>\n      <td>300.910248</td>\n    </tr>\n    <tr>\n      <th>3</th>\n      <td>268.327637</td>\n      <td>216.827087</td>\n      <td>166.383850</td>\n      <td>268.555054</td>\n      <td>213.172653</td>\n      <td>269.946014</td>\n      <td>362.018036</td>\n      <td>282.946289</td>\n      <td>244.075317</td>\n      <td>208.186081</td>\n      <td>316.072205</td>\n      <td>299.294373</td>\n    </tr>\n    <tr>\n      <th>4</th>\n      <td>250.219299</td>\n      <td>173.975540</td>\n      <td>200.708405</td>\n      <td>216.878983</td>\n      <td>223.819580</td>\n      <td>229.980194</td>\n      <td>356.444702</td>\n      <td>282.408569</td>\n      <td>243.682465</td>\n      <td>227.281342</td>\n      <td>312.089142</td>\n      <td>310.606750</td>\n    </tr>\n    <tr>\n      <th>...</th>\n      <td>...</td>\n      <td>...</td>\n      <td>...</td>\n      <td>...</td>\n      <td>...</td>\n      <td>...</td>\n      <td>...</td>\n      <td>...</td>\n      <td>...</td>\n      <td>...</td>\n      <td>...</td>\n      <td>...</td>\n    </tr>\n    <tr>\n      <th>1995</th>\n      <td>213.987427</td>\n      <td>231.108200</td>\n      <td>163.308197</td>\n      <td>297.862183</td>\n      <td>186.035110</td>\n      <td>251.346939</td>\n      <td>372.599121</td>\n      <td>279.537415</td>\n      <td>206.959961</td>\n      <td>218.591782</td>\n      <td>315.108887</td>\n      <td>321.491089</td>\n    </tr>\n    <tr>\n      <th>1996</th>\n      <td>223.977646</td>\n      <td>271.463501</td>\n      <td>207.591187</td>\n      <td>224.472351</td>\n      <td>225.867645</td>\n      <td>231.436157</td>\n      <td>374.818481</td>\n      <td>276.808716</td>\n      <td>232.862717</td>\n      <td>226.686249</td>\n      <td>322.267975</td>\n      <td>317.133240</td>\n    </tr>\n    <tr>\n      <th>1997</th>\n      <td>239.939240</td>\n      <td>179.231552</td>\n      <td>216.805939</td>\n      <td>218.558716</td>\n      <td>228.697906</td>\n      <td>221.335007</td>\n      <td>377.363190</td>\n      <td>274.731262</td>\n      <td>231.459717</td>\n      <td>226.749115</td>\n      <td>312.436340</td>\n      <td>317.766571</td>\n    </tr>\n    <tr>\n      <th>1998</th>\n      <td>208.983047</td>\n      <td>282.930267</td>\n      <td>209.662598</td>\n      <td>248.470062</td>\n      <td>207.040680</td>\n      <td>234.653503</td>\n      <td>374.496033</td>\n      <td>265.670654</td>\n      <td>209.398865</td>\n      <td>215.537491</td>\n      <td>310.097931</td>\n      <td>313.753479</td>\n    </tr>\n    <tr>\n      <th>1999</th>\n      <td>226.310699</td>\n      <td>236.993896</td>\n      <td>167.981781</td>\n      <td>280.032898</td>\n      <td>197.625595</td>\n      <td>258.159851</td>\n      <td>374.324219</td>\n      <td>262.601196</td>\n      <td>221.925629</td>\n      <td>219.895020</td>\n      <td>315.109558</td>\n      <td>311.467102</td>\n    </tr>\n  </tbody>\n</table>\n<p>2000 rows × 12 columns</p>\n</div>"
     },
     "execution_count": 7,
     "metadata": {},
     "output_type": "execute_result"
    }
   ],
   "source": [
    "X = data[xy_list]\n",
    "X"
   ],
   "metadata": {
    "collapsed": false,
    "pycharm": {
     "name": "#%%\n"
    }
   }
  },
  {
   "cell_type": "code",
   "execution_count": 8,
   "outputs": [],
   "source": [
    "X = data.iloc[:,0:136].to_numpy()"
   ],
   "metadata": {
    "collapsed": false,
    "pycharm": {
     "name": "#%%\n"
    }
   }
  },
  {
   "cell_type": "code",
   "execution_count": 9,
   "outputs": [],
   "source": [
    "#pitch, yaw, roll\n",
    "p = data[[\"136\"]].to_numpy()\n",
    "y = data[[\"137\"]].to_numpy()\n",
    "r = data[[\"138\"]].to_numpy()"
   ],
   "metadata": {
    "collapsed": false,
    "pycharm": {
     "name": "#%%\n"
    }
   }
  },
  {
   "cell_type": "code",
   "execution_count": 10,
   "id": "16ecab9b",
   "metadata": {
    "pycharm": {
     "name": "#%%\n"
    }
   },
   "outputs": [
    {
     "data": {
      "text/plain": "(2000, 136)"
     },
     "execution_count": 10,
     "metadata": {},
     "output_type": "execute_result"
    }
   ],
   "source": [
    "X.shape"
   ]
  },
  {
   "cell_type": "code",
   "execution_count": 11,
   "id": "57b0ce14",
   "metadata": {
    "pycharm": {
     "name": "#%%\n"
    }
   },
   "outputs": [
    {
     "data": {
      "text/plain": "2000"
     },
     "execution_count": 11,
     "metadata": {},
     "output_type": "execute_result"
    }
   ],
   "source": [
    "X.shape[0]"
   ]
  },
  {
   "cell_type": "code",
   "execution_count": 12,
   "id": "5fbe4bd3",
   "metadata": {
    "pycharm": {
     "name": "#%%\n"
    }
   },
   "outputs": [
    {
     "data": {
      "text/plain": "136"
     },
     "execution_count": 12,
     "metadata": {},
     "output_type": "execute_result"
    }
   ],
   "source": [
    "X.shape[1]"
   ]
  },
  {
   "cell_type": "markdown",
   "id": "b40adf3e",
   "metadata": {
    "pycharm": {
     "name": "#%% md\n"
    }
   },
   "source": [
    "## Cost Function"
   ]
  },
  {
   "cell_type": "code",
   "execution_count": 13,
   "id": "d3774d43",
   "metadata": {
    "pycharm": {
     "name": "#%%\n"
    }
   },
   "outputs": [],
   "source": [
    "def  cal_cost(theta,X,y):\n",
    "    '''\n",
    "    \n",
    "    Calculates the cost for given X and Y. The following shows and example of a single dimensional X\n",
    "    theta = Vector of thetas \n",
    "    X     = Row of X's np.zeros((2,j))\n",
    "    y     = Actual y's np.zeros((2,1))\n",
    "    \n",
    "    where:\n",
    "        j is the no of features\n",
    "    '''\n",
    "    \n",
    "    m = X.shape[0]\n",
    "    # print(\"m: \",m)\n",
    "    \n",
    "    \n",
    "    predictions = X.dot(theta)\n",
    "    cost = (1/(2*m)) * np.sum(np.square(predictions-y))\n",
    "    return cost"
   ]
  },
  {
   "cell_type": "markdown",
   "id": "1e93cac5",
   "metadata": {
    "pycharm": {
     "name": "#%% md\n"
    }
   },
   "source": [
    "## 1. Batch/Vanilla GD (MV)"
   ]
  },
  {
   "cell_type": "code",
   "execution_count": 14,
   "id": "1d20eac8",
   "metadata": {
    "pycharm": {
     "name": "#%%\n"
    }
   },
   "outputs": [],
   "source": [
    "def gradient_descent(X,y,theta,learning_rate=0.01,iterations=100,epsilon = 10e-8,beta1 = 0.9,beta2=0.9):\n",
    "    '''\n",
    "    X    = X matrix with concatinated bias column of (1s) --> which is multiplied by (theta_0)\n",
    "    y    = Vector of Y\n",
    "    theta=Vector of thetas np.zeros((n,1))\n",
    "    learning_rate \n",
    "    iterations = no of iterations\n",
    "    \n",
    "    Returns the final theta vector and array of cost history over no of iterations\n",
    "    '''\n",
    "    \n",
    "    # m = len(y)\n",
    "    m = X.shape[0]\n",
    "    n = X.shape[1]\n",
    "    # print(X.shape)     # --> (13, 2)\n",
    "    # print(theta.shape) # --> (2, 1)\n",
    "    \n",
    "    hyothesis_history = np.zeros((iterations, m))\n",
    "    gradient_history = np.zeros((iterations, n))\n",
    "    cost_history = np.zeros(iterations)\n",
    "    theta_history = np.zeros((iterations,n))\n",
    "    cost = 0.0\n",
    "    # Momentum\n",
    "    V = np.zeros((n,1))\n",
    "    M = np.zeros((n,1))\n",
    "    M_cap, V_cap = np.zeros((n,1)), np.zeros((n,1))\n",
    "    for it in range(iterations):\n",
    "        theta_history[it,:] =theta.T             # --> (1, 2)\n",
    "        prediction = np.dot(X,theta)                           # --> (13, 1) \n",
    "        hyothesis_history[it,:] =prediction.T \n",
    "        \n",
    "        cost = cal_cost(theta,X,y).T\n",
    "        cost_history[it]  = cost\n",
    "        \n",
    "        \n",
    "        gradient = (1/m)*(X.T.dot((prediction - y)))  # --> (2, 1)\n",
    "        gradient_history[it, :] = gradient.T \n",
    "        \n",
    "        # Stopping Condition\n",
    "        if(np.abs(np.subtract(gradient_history[it], gradient_history[it-1])) < 0.001).all() and (it > 2):\n",
    "            print(\"Grdaient Stopping Condition..\")\n",
    "            break\n",
    "        \n",
    "        # Adam\n",
    "        M = beta1*M + (1-beta1)*gradient\n",
    "        V = beta2*V + (1 - beta2)*np.square(gradient)\n",
    "        \n",
    "        #Bias Correction\n",
    "        M_cap = M/(1-beta1**(it+1))\n",
    "        V_cap = V/(1-beta2**(it+1))\n",
    "        \n",
    "        theta = theta - (learning_rate*M_cap)/(np.sqrt(V_cap) + epsilon)\n",
    "        \n",
    "        \n",
    "        # Stopping Condition\n",
    "        # if (np.abs(np.subtract(theta_history[it], theta_history[it-1])) < 0.001).all() and (it > 2):\n",
    "        #     print(\"Theta Stopping Condition..\")\n",
    "        #     break\n",
    "        \n",
    "        if (np.abs(np.subtract(cost_history[it], cost_history[it-1])) < 0.001).all() and (it > 2):\n",
    "            print(\"Cost Stopping Condition..\")\n",
    "            break\n",
    "        print(it)\n",
    "           \n",
    "    return theta, cost_history, theta_history, hyothesis_history"
   ]
  },
  {
   "cell_type": "markdown",
   "id": "6dead257",
   "metadata": {
    "pycharm": {
     "name": "#%% md\n"
    }
   },
   "source": [
    "## Hyperparameter Tuning"
   ]
  },
  {
   "cell_type": "code",
   "execution_count": 15,
   "id": "06318cfb",
   "metadata": {
    "pycharm": {
     "name": "#%%\n"
    }
   },
   "outputs": [],
   "source": [
    "'''\n",
    "lr     = learning rate (hyperparamater)\n",
    "n_iter = number of iterations\n",
    "'''\n",
    "# 72\n",
    "# lr =0.00145 #0.01\n",
    "# n_iter = 1000\n",
    "# epsilon = 10e-8\n",
    "# beta1 = 0.5\n",
    "# beta2 = 0.7\n",
    "\n",
    "lr =0.0011 #0.01\n",
    "n_iter = 1000\n",
    "epsilon = 10e-8\n",
    "beta1 = 0.8\n",
    "beta2 = 0.9"
   ]
  },
  {
   "cell_type": "markdown",
   "source": [
    "## All Features"
   ],
   "metadata": {
    "collapsed": false,
    "pycharm": {
     "name": "#%% md\n"
    }
   }
  },
  {
   "cell_type": "markdown",
   "source": [
    "#### 83 % Logical behaviour"
   ],
   "metadata": {
    "collapsed": false,
    "pycharm": {
     "name": "#%% md\n"
    }
   }
  },
  {
   "cell_type": "code",
   "execution_count": 117,
   "outputs": [],
   "source": [
    "lr =0.001 #0.01\n",
    "n_iter = 1000\n",
    "epsilon = 10e-8\n",
    "beta1 = 0.9\n",
    "beta2 = 0.99"
   ],
   "metadata": {
    "collapsed": false,
    "pycharm": {
     "name": "#%%\n"
    }
   }
  },
  {
   "cell_type": "code",
   "execution_count": 118,
   "id": "4d9209e7",
   "metadata": {
    "pycharm": {
     "name": "#%%\n"
    }
   },
   "outputs": [
    {
     "name": "stdout",
     "output_type": "stream",
     "text": [
      "0\n",
      "1\n",
      "2\n",
      "3\n",
      "4\n",
      "5\n",
      "6\n",
      "7\n",
      "8\n",
      "9\n",
      "10\n",
      "11\n",
      "12\n",
      "13\n",
      "14\n",
      "15\n",
      "16\n",
      "17\n",
      "18\n",
      "19\n",
      "20\n",
      "21\n",
      "22\n",
      "23\n",
      "24\n",
      "25\n",
      "26\n",
      "27\n",
      "28\n",
      "29\n",
      "30\n",
      "31\n",
      "32\n",
      "33\n",
      "34\n",
      "35\n",
      "36\n",
      "37\n",
      "38\n",
      "39\n",
      "40\n",
      "41\n",
      "42\n",
      "43\n",
      "44\n",
      "45\n",
      "46\n",
      "47\n",
      "48\n",
      "49\n",
      "50\n",
      "51\n",
      "52\n",
      "53\n",
      "54\n",
      "55\n",
      "56\n",
      "57\n",
      "58\n",
      "59\n",
      "60\n",
      "61\n",
      "62\n",
      "63\n",
      "64\n",
      "65\n",
      "66\n",
      "67\n",
      "68\n",
      "69\n",
      "70\n",
      "71\n",
      "72\n",
      "73\n",
      "74\n",
      "75\n",
      "76\n",
      "77\n",
      "78\n",
      "79\n",
      "80\n",
      "81\n",
      "82\n",
      "83\n",
      "84\n",
      "85\n",
      "86\n",
      "87\n",
      "88\n",
      "89\n",
      "90\n",
      "91\n",
      "92\n",
      "93\n",
      "94\n",
      "95\n",
      "96\n",
      "97\n",
      "98\n",
      "99\n",
      "100\n",
      "101\n",
      "102\n",
      "103\n",
      "104\n",
      "105\n",
      "106\n",
      "107\n",
      "108\n",
      "109\n",
      "110\n",
      "111\n",
      "112\n",
      "113\n",
      "114\n",
      "115\n",
      "Cost Stopping Condition..\n",
      "Theta0:          0.000,\n",
      "Theta1:          0.000,\n",
      "Theta2:          0.000,\n",
      "Theta3:          0.000,\n",
      "Theta4:          0.000,\n",
      "Theta5:          0.000,\n",
      "Theta6:          0.000,\n",
      "Theta7:          0.001,\n",
      "Theta8:          0.001,\n",
      "Theta9:          0.001,\n",
      "Theta10:          0.001,\n",
      "Theta11:          0.000,\n",
      "Theta12:          0.000,\n",
      "Theta13:          0.000,\n",
      "Theta14:          0.000,\n",
      "Theta15:          0.000,\n",
      "Theta16:          0.000,\n",
      "Theta17:          0.000,\n",
      "Theta18:          0.000,\n",
      "Theta19:          0.000,\n",
      "Theta20:          -0.002,\n",
      "Theta21:          -0.002,\n",
      "Theta22:          -0.002,\n",
      "Theta23:          -0.002,\n",
      "Theta24:          -0.002,\n",
      "Theta25:          0.000,\n",
      "Theta26:          0.000,\n",
      "Theta27:          0.000,\n",
      "Theta28:          -0.002,\n",
      "Theta29:          -0.002,\n",
      "Theta30:          -0.001,\n",
      "Theta31:          -0.001,\n",
      "Theta32:          -0.001,\n",
      "Theta33:          -0.001,\n",
      "Theta34:          -0.001,\n",
      "Theta35:          -0.001,\n",
      "Theta36:          -0.001,\n",
      "Theta37:          0.000,\n",
      "Theta38:          0.000,\n",
      "Theta39:          0.000,\n",
      "Theta40:          0.000,\n",
      "Theta41:          0.000,\n",
      "Theta42:          0.000,\n",
      "Theta43:          0.000,\n",
      "Theta44:          0.000,\n",
      "Theta45:          0.000,\n",
      "Theta46:          0.000,\n",
      "Theta47:          0.000,\n",
      "Theta48:          0.000,\n",
      "Theta49:          0.001,\n",
      "Theta50:          -0.001,\n",
      "Theta51:          -0.001,\n",
      "Theta52:          -0.001,\n",
      "Theta53:          -0.001,\n",
      "Theta54:          -0.001,\n",
      "Theta55:          0.001,\n",
      "Theta56:          -0.001,\n",
      "Theta57:          -0.001,\n",
      "Theta58:          -0.001,\n",
      "Theta59:          -0.001,\n",
      "Theta60:          -0.001,\n",
      "Theta61:          0.001,\n",
      "Theta62:          -0.001,\n",
      "Theta63:          -0.001,\n",
      "Theta64:          -0.001,\n",
      "Theta65:          0.001,\n",
      "Theta66:          -0.001,\n",
      "Theta67:          -0.001,\n",
      "Theta68:          -0.001,\n",
      "Theta69:          0.000,\n",
      "Theta70:          0.000,\n",
      "Theta71:          0.000,\n",
      "Theta72:          0.000,\n",
      "Theta73:          0.000,\n",
      "Theta74:          0.000,\n",
      "Theta75:          0.000,\n",
      "Theta76:          0.000,\n",
      "Theta77:          0.000,\n",
      "Theta78:          0.000,\n",
      "Theta79:          0.000,\n",
      "Theta80:          0.000,\n",
      "Theta81:          0.000,\n",
      "Theta82:          0.000,\n",
      "Theta83:          0.000,\n",
      "Theta84:          0.000,\n",
      "Theta85:          0.000,\n",
      "Theta86:          0.000,\n",
      "Theta87:          0.000,\n",
      "Theta88:          0.000,\n",
      "Theta89:          0.000,\n",
      "Theta90:          0.000,\n",
      "Theta91:          0.000,\n",
      "Theta92:          0.000,\n",
      "Theta93:          0.000,\n",
      "Theta94:          0.000,\n",
      "Theta95:          0.000,\n",
      "Theta96:          0.000,\n",
      "Theta97:          0.000,\n",
      "Theta98:          0.000,\n",
      "Theta99:          0.000,\n",
      "Theta100:          0.000,\n",
      "Theta101:          0.000,\n",
      "Theta102:          0.000,\n",
      "Theta103:          0.000,\n",
      "Theta104:          0.000,\n",
      "Theta105:          0.000,\n",
      "Theta106:          0.000,\n",
      "Theta107:          0.000,\n",
      "Theta108:          0.000,\n",
      "Theta109:          0.000,\n",
      "Theta110:          0.000,\n",
      "Theta111:          0.000,\n",
      "Theta112:          0.000,\n",
      "Theta113:          0.000,\n",
      "Theta114:          0.000,\n",
      "Theta115:          0.000,\n",
      "Theta116:          0.000,\n",
      "Theta117:          0.000,\n",
      "Theta118:          0.000,\n",
      "Theta119:          0.000,\n",
      "Theta120:          0.000,\n",
      "Theta121:          0.000,\n",
      "Theta122:          0.000,\n",
      "Theta123:          0.000,\n",
      "Theta124:          0.000,\n",
      "Theta125:          0.000,\n",
      "Theta126:          0.000,\n",
      "Theta127:          0.000,\n",
      "Theta128:          0.000,\n",
      "Theta129:          0.000,\n",
      "Theta130:          0.000,\n",
      "Theta131:          0.000,\n",
      "Theta132:          0.000,\n",
      "Theta133:          0.000,\n",
      "Theta134:          0.000,\n",
      "Theta135:          0.000,\n",
      "Theta136:          0.000,\n",
      "Final cost/MSE:  0.000\n"
     ]
    }
   ],
   "source": [
    "'''\n",
    "m      = number of obseravations/records\n",
    "n      = number of features + bias(theta_0)\n",
    "X_b    = X matrix with concatinated bias column of (1s) --> which is multiplied by (theta_0)\n",
    "\n",
    "'''\n",
    "#theta = np.random.randn(2,1)\n",
    "\n",
    "m = X.shape[0]\n",
    "\n",
    "n = X.shape[1] + 1 \n",
    "\n",
    "# theta initialization with zeros of size n*1\n",
    "theta = np.zeros((n,1))        # --> (2, 1)\n",
    "\n",
    "# Concatinate the b (column of 1s) on X to be multiplied by theta_0\n",
    "X_b = np.c_[np.ones((m,1)),X]\n",
    "# print(X_b)\n",
    "theta,cost_history,theta_history,hyothesis_history = gradient_descent(X_b,y,theta,lr,n_iter,epsilon,beta1,beta2)\n",
    "\n",
    "for i in range(0, n):\n",
    "    print('Theta{}:          {:0.3f},'.format(i, theta[i][0]))\n",
    "\n",
    "# print('Theta0:          {:0.3f},\\nTheta1:          {:0.3f}'.format(theta[0][0],theta[1][0]))\n",
    "print('Final cost/MSE:  {:0.3f}'.format(cost_history[-1]))\n",
    "\n",
    "#theta_history for plotting \n",
    "theta0 = theta_history[:,0]\n",
    "theta1 = theta_history[:,1]\n",
    "theta2 = theta_history[:,2]\n",
    "theta3 = theta_history[:,3]"
   ]
  },
  {
   "cell_type": "code",
   "execution_count": 119,
   "id": "c6a8146d",
   "metadata": {
    "pycharm": {
     "name": "#%%\n"
    }
   },
   "outputs": [
    {
     "data": {
      "text/plain": "array([[-0.82856809],\n       [ 0.17674623],\n       [-0.33295602],\n       ...,\n       [-0.30673268],\n       [ 0.16572672],\n       [-0.58360648]])"
     },
     "execution_count": 119,
     "metadata": {},
     "output_type": "execute_result"
    }
   ],
   "source": [
    "y_pred = np.dot(X_b, theta)\n",
    "y_pred"
   ]
  },
  {
   "cell_type": "markdown",
   "id": "4f456513",
   "metadata": {
    "pycharm": {
     "name": "#%% md\n"
    }
   },
   "source": [
    "## R2 score"
   ]
  },
  {
   "cell_type": "code",
   "execution_count": 120,
   "id": "52b82c14",
   "metadata": {
    "pycharm": {
     "name": "#%%\n"
    }
   },
   "outputs": [
    {
     "data": {
      "text/plain": "0.8339209554231832"
     },
     "execution_count": 120,
     "metadata": {},
     "output_type": "execute_result"
    }
   ],
   "source": [
    "r2score = r2_score(y, y_pred, sample_weight=None, multioutput='uniform_average')\n",
    "r2score"
   ]
  },
  {
   "cell_type": "markdown",
   "id": "309f10a6",
   "metadata": {
    "pycharm": {
     "name": "#%% md\n"
    }
   },
   "source": [
    "## Plotting"
   ]
  },
  {
   "cell_type": "markdown",
   "id": "3c27e046",
   "metadata": {
    "pycharm": {
     "name": "#%% md\n"
    }
   },
   "source": [
    "#### Plot loss vs. epochs"
   ]
  },
  {
   "cell_type": "code",
   "execution_count": 121,
   "id": "405cd552",
   "metadata": {
    "pycharm": {
     "name": "#%%\n"
    }
   },
   "outputs": [
    {
     "data": {
      "text/plain": "<Figure size 864x576 with 1 Axes>",
      "image/png": "[encoded data removed]"
     },
     "metadata": {},
     "output_type": "display_data"
    }
   ],
   "source": [
    "fig,ax = plt.subplots(figsize=(12,8))\n",
    "\n",
    "ax.set_ylabel('J(Theta)')\n",
    "ax.set_xlabel('Iterations')\n",
    "# _=ax.plot(range(n_iter),cost_history,'b.')\n",
    "_=ax.plot(cost_history,'b.')"
   ]
  },
  {
   "cell_type": "markdown",
   "id": "24c08764",
   "metadata": {
    "pycharm": {
     "name": "#%% md\n"
    }
   },
   "source": [
    "#### Plot Theta_0 vs. loss"
   ]
  },
  {
   "cell_type": "code",
   "execution_count": 122,
   "id": "2183a3e0",
   "metadata": {
    "pycharm": {
     "name": "#%%\n"
    }
   },
   "outputs": [
    {
     "data": {
      "text/plain": "<Figure size 864x576 with 1 Axes>",
      "image/png": "[encoded data removed]"
     },
     "metadata": {},
     "output_type": "display_data"
    }
   ],
   "source": [
    "fig,ax = plt.subplots(figsize=(12,8))\n",
    "\n",
    "ax.set_ylabel('J(Theta)')\n",
    "ax.set_xlabel('Theta0')\n",
    "_=ax.plot(theta0,cost_history,'b.')"
   ]
  },
  {
   "cell_type": "markdown",
   "id": "28810bb7",
   "metadata": {
    "pycharm": {
     "name": "#%% md\n"
    }
   },
   "source": [
    "#### Plot Theta_1 vs. loss"
   ]
  },
  {
   "cell_type": "code",
   "execution_count": 22,
   "id": "8508d6c9",
   "metadata": {
    "pycharm": {
     "name": "#%%\n"
    }
   },
   "outputs": [
    {
     "data": {
      "text/plain": "<Figure size 864x576 with 1 Axes>",
      "image/png": "[encoded data removed]"
     },
     "metadata": {},
     "output_type": "display_data"
    }
   ],
   "source": [
    "fig,ax = plt.subplots(figsize=(12,8))\n",
    "\n",
    "ax.set_ylabel('J(Theta)')\n",
    "ax.set_xlabel('Theta0')\n",
    "_=ax.plot(theta1,cost_history,'b.')"
   ]
  },
  {
   "cell_type": "markdown",
   "id": "a43de724",
   "metadata": {
    "pycharm": {
     "name": "#%% md\n"
    }
   },
   "source": [
    "#### Plot Theta_2 vs. loss"
   ]
  },
  {
   "cell_type": "code",
   "execution_count": 23,
   "id": "a0471b69",
   "metadata": {
    "pycharm": {
     "name": "#%%\n"
    }
   },
   "outputs": [
    {
     "data": {
      "text/plain": "<Figure size 864x576 with 1 Axes>",
      "image/png": "[encoded data removed]"
     },
     "metadata": {},
     "output_type": "display_data"
    }
   ],
   "source": [
    "fig,ax = plt.subplots(figsize=(12,8))\n",
    "\n",
    "ax.set_ylabel('J(Theta)')\n",
    "ax.set_xlabel('Theta0')\n",
    "_=ax.plot(theta2,cost_history,'b.')"
   ]
  },
  {
   "cell_type": "markdown",
   "id": "60b6332d",
   "metadata": {
    "pycharm": {
     "name": "#%% md\n"
    }
   },
   "source": [
    "#### Plot Theta_3 vs. loss"
   ]
  },
  {
   "cell_type": "code",
   "execution_count": 24,
   "id": "59134398",
   "metadata": {
    "scrolled": false,
    "pycharm": {
     "name": "#%%\n"
    }
   },
   "outputs": [
    {
     "data": {
      "text/plain": "<Figure size 864x576 with 1 Axes>",
      "image/png": "[encoded data removed]"
     },
     "metadata": {},
     "output_type": "display_data"
    }
   ],
   "source": [
    "fig,ax = plt.subplots(figsize=(12,8))\n",
    "\n",
    "ax.set_ylabel('J(Theta)')\n",
    "ax.set_xlabel('Theta0')\n",
    "_=ax.plot(theta3,cost_history,'b.')"
   ]
  },
  {
   "cell_type": "markdown",
   "id": "2bf454cd",
   "metadata": {
    "pycharm": {
     "name": "#%% md\n"
    }
   },
   "source": [
    "## 2. Mini-Batch Adam (MV)"
   ]
  },
  {
   "cell_type": "code",
   "execution_count": 64,
   "id": "2bb2e691",
   "metadata": {
    "pycharm": {
     "name": "#%%\n"
    }
   },
   "outputs": [],
   "source": [
    "#Shuffle\n",
    "indices = np.random.permutation(m)\n",
    "X = X[indices]\n",
    "y = y[indices]\n",
    "#Shuffle\n",
    "\n",
    "def minibatch_gradient_descent(X,y,theta,learning_rate=0.01,iterations=10,batch_size =15, epsilon = 10e-8,beta1=0.5,beta2=0.7):\n",
    "    '''\n",
    "    X    = Matrix of X without added bias units\n",
    "    y    = Vector of Y\n",
    "    theta=Vector of thetas np.random.randn(j,1)\n",
    "    learning_rate \n",
    "    iterations = no of iterations\n",
    "    \n",
    "    Returns the final theta vector and array of cost history over no of iterations\n",
    "    '''\n",
    "    \n",
    "    m = X.shape[0]\n",
    "    #print(\"m: \",m)\n",
    "    n = X.shape[1] + 1\n",
    "    # print(n)\n",
    "    \n",
    "    # n_batches = math.ceil(m/batch_size)\n",
    "    n_batches = int(m/batch_size)\n",
    "    cost_history_by_batch = np.zeros(iterations*n_batches)\n",
    "    theta_history_by_batch = np.zeros((iterations*n_batches,n))\n",
    "    by_batch_count = 0\n",
    "    \n",
    "    \n",
    "    \n",
    "    hyothesis_history = np.zeros((iterations, m))\n",
    "    gradient_history = np.zeros((iterations, n))\n",
    "    cost_history = np.zeros(iterations)\n",
    "    theta_history = np.zeros((iterations,n))\n",
    "\n",
    "#     print(\"hyothesis_history: \" ,hyothesis_history.shape)\n",
    "#     print(\"cost_history: \" ,cost_history.shape)\n",
    "#     print(\"theta_history: \" ,theta_history.shape)\n",
    "    \n",
    "    \n",
    "    cost = 0.0\n",
    "    # Momentum\n",
    "    V = np.zeros((n,1))\n",
    "    M = np.zeros((n,1))\n",
    "    M_cap, V_cap = np.zeros((n,1)), np.zeros((n,1))\n",
    "    \n",
    "    for it in range(0, iterations):\n",
    "        \n",
    "        hypothesis_list = np.array([])\n",
    "        theta_history[it,:] =theta.T\n",
    "        \n",
    "        sizer = 0\n",
    "        counter = n_batches\n",
    "        for i in range(0,m,batch_size):\n",
    "            # print(i)\n",
    "            # print(\"batch: \", batch_size)\n",
    "            #print(counter)\n",
    "            if(counter == 0):\n",
    "                break\n",
    "            theta_history_by_batch[by_batch_count, :] = theta.T\n",
    "\n",
    "            # print(\"i: \", i)\n",
    "            sizer = m-(i+batch_size)\n",
    "            # print(\"sizer: \", sizer)\n",
    "            if(sizer > batch_size):\n",
    "                X_i = X[i:i+batch_size]\n",
    "                X_i = np.c_[np.ones(len(X_i)),X_i]\n",
    "                y_i = y[i:i+batch_size]\n",
    "            if(sizer < batch_size and sizer > 0):\n",
    "                X_i = X[i:m]\n",
    "                X_i = np.c_[np.ones(len(X_i)),X_i]\n",
    "                y_i = y[i:m]              \n",
    "            #print(\"X_i length: \", len(X_i))\n",
    "            #X_i = np.c_[np.ones(len(X_i)),X_i]\n",
    "            #print(X_i)\n",
    "\n",
    "            prediction = np.dot(X_i,theta)\n",
    "            # print(\"prediction\", prediction.shape)\n",
    "            hypothesis_list = np.append(hypothesis_list, prediction) \n",
    "#             print(\"hypothesis_list: \", hypothesis_list)\n",
    "#             print(\"hypothesis_list size: \", len(hypothesis_list))\n",
    "\n",
    "            cost = cal_cost(theta,X_i,y_i).T\n",
    "            cost_history_by_batch[by_batch_count] = cost\n",
    "            #print(\"cost: \", cost)\n",
    "            # counter ++\n",
    "            by_batch_count = by_batch_count + 1\n",
    "\n",
    "            gradient = (1/batch_size)*(X_i.T.dot((prediction - y_i)))   # --> (4, 1)\n",
    "#             print(\"gradient shape: \",gradient.shape)\n",
    "#             print(\"gradient: \",gradient)\n",
    "\n",
    "            # Adam\n",
    "            M = beta1*M + (1-beta1)*gradient\n",
    "            V = beta2*V + (1 - beta2)*np.square(gradient)\n",
    "\n",
    "            #Bias Correction\n",
    "            M_cap = M/(1-beta1**(it+1))\n",
    "            V_cap = V/(1-beta2**(it+1))\n",
    "\n",
    "            theta = theta - (learning_rate*M_cap)/(np.sqrt(V_cap) + epsilon)\n",
    "            #print(\"theta:\", theta)\n",
    "            counter = counter - 1\n",
    "\n",
    "\n",
    "        gradient_history[it, :] = gradient.T \n",
    "        hyothesis_history[it, :] = hypothesis_list \n",
    "        # cost_history[it]  = cal_cost(theta,X_i,y_i).T\n",
    "        cost_history[it]  = cost\n",
    "\n",
    "        # Stopping Conditions\n",
    "#         if(np.abs(np.subtract(gradient_history[it], gradient_history[it-1])) < 0.001).all():\n",
    "#             print(\"Grdaient Stopping Condition..\")\n",
    "#             break\n",
    "# #         if (np.abs(np.subtract(theta_history[it], theta_history[it-1])) < 0.001).all():\n",
    "# #             print(\"Theta Stopping Condition..\")\n",
    "# #             break\n",
    "#         if (np.abs(np.subtract(cost_history[it], cost_history[it-1])) < 0.001).all():\n",
    "#             print(\"Cost Stopping Condition..\")\n",
    "#             break\n",
    "\n",
    "        # theta_history[it+1,:] =theta.T \n",
    "        \n",
    "    return theta, cost_history, theta_history, hyothesis_history, theta_history_by_batch, cost_history_by_batch"
   ]
  },
  {
   "cell_type": "markdown",
   "id": "11799f26",
   "metadata": {
    "pycharm": {
     "name": "#%% md\n"
    }
   },
   "source": [
    "## Hyperparameter Tuning"
   ]
  },
  {
   "cell_type": "code",
   "execution_count": 65,
   "id": "b1be2cd1",
   "metadata": {
    "pycharm": {
     "name": "#%%\n"
    }
   },
   "outputs": [],
   "source": [
    "# '''\n",
    "# lr     = learning rate (hyperparamater)\n",
    "# n_iter = number of iterations\n",
    "# '''\n",
    "\n",
    "# lr = 0.3 #0.1\n",
    "# n_iter = 1000 #200\n",
    "# batch_size =5\n",
    "# epsilon = 10e-8\n",
    "# beta1 = 0.9\n",
    "# beta2 = 0.9\n",
    "\n"
   ]
  },
  {
   "cell_type": "markdown",
   "source": [
    "### All Features"
   ],
   "metadata": {
    "collapsed": false,
    "pycharm": {
     "name": "#%% md\n"
    }
   }
  },
  {
   "cell_type": "code",
   "execution_count": 111,
   "outputs": [],
   "source": [
    "lr =0.0005 #0.01\n",
    "n_iter = 1000\n",
    "epsilon = 10e-8\n",
    "batch_size = 32\n",
    "beta1 = 0.9\n",
    "beta2 = 0.99"
   ],
   "metadata": {
    "collapsed": false,
    "pycharm": {
     "name": "#%%\n"
    }
   }
  },
  {
   "cell_type": "code",
   "execution_count": 112,
   "outputs": [],
   "source": [
    "### 90% , not consistent"
   ],
   "metadata": {
    "collapsed": false,
    "pycharm": {
     "name": "#%%\n"
    }
   }
  },
  {
   "cell_type": "code",
   "execution_count": 113,
   "id": "b8807907",
   "metadata": {
    "pycharm": {
     "name": "#%%\n"
    }
   },
   "outputs": [],
   "source": [
    "# '''\n",
    "# lr     = learning rate (hyperparamater)\n",
    "# n_iter = number of iterations\n",
    "# '''\n",
    "#\n",
    "# lr = 0.0001    #0.22 #0.1\n",
    "# n_iter = 1000 #200\n",
    "# batch_size =32\n",
    "# epsilon = 10e-8\n",
    "# beta1 = 0.5\n",
    "# beta2 = 0.7"
   ]
  },
  {
   "cell_type": "code",
   "execution_count": 114,
   "id": "ead06724",
   "metadata": {
    "pycharm": {
     "name": "#%%\n"
    }
   },
   "outputs": [
    {
     "name": "stdout",
     "output_type": "stream",
     "text": [
      "Theta0:          0.000,\n",
      "Theta1:          0.005,\n",
      "Theta2:          0.003,\n",
      "Theta3:          0.003,\n",
      "Theta4:          0.003,\n",
      "Theta5:          -0.001,\n",
      "Theta6:          -0.004,\n",
      "Theta7:          -0.003,\n",
      "Theta8:          -0.003,\n",
      "Theta9:          -0.000,\n",
      "Theta10:          0.001,\n",
      "Theta11:          -0.000,\n",
      "Theta12:          -0.002,\n",
      "Theta13:          0.001,\n",
      "Theta14:          0.003,\n",
      "Theta15:          0.003,\n",
      "Theta16:          0.002,\n",
      "Theta17:          0.000,\n",
      "Theta18:          -0.003,\n",
      "Theta19:          -0.004,\n",
      "Theta20:          -0.002,\n",
      "Theta21:          -0.000,\n",
      "Theta22:          0.001,\n",
      "Theta23:          0.000,\n",
      "Theta24:          0.001,\n",
      "Theta25:          0.001,\n",
      "Theta26:          0.000,\n",
      "Theta27:          -0.001,\n",
      "Theta28:          0.002,\n",
      "Theta29:          0.000,\n",
      "Theta30:          -0.002,\n",
      "Theta31:          -0.004,\n",
      "Theta32:          -0.000,\n",
      "Theta33:          -0.001,\n",
      "Theta34:          -0.000,\n",
      "Theta35:          0.001,\n",
      "Theta36:          0.000,\n",
      "Theta37:          -0.001,\n",
      "Theta38:          0.002,\n",
      "Theta39:          0.002,\n",
      "Theta40:          -0.003,\n",
      "Theta41:          -0.002,\n",
      "Theta42:          -0.001,\n",
      "Theta43:          0.001,\n",
      "Theta44:          0.001,\n",
      "Theta45:          -0.000,\n",
      "Theta46:          -0.004,\n",
      "Theta47:          -0.003,\n",
      "Theta48:          0.000,\n",
      "Theta49:          -0.001,\n",
      "Theta50:          0.001,\n",
      "Theta51:          0.001,\n",
      "Theta52:          0.001,\n",
      "Theta53:          0.002,\n",
      "Theta54:          0.001,\n",
      "Theta55:          -0.002,\n",
      "Theta56:          -0.002,\n",
      "Theta57:          -0.000,\n",
      "Theta58:          0.001,\n",
      "Theta59:          0.000,\n",
      "Theta60:          0.000,\n",
      "Theta61:          0.000,\n",
      "Theta62:          0.001,\n",
      "Theta63:          0.001,\n",
      "Theta64:          0.001,\n",
      "Theta65:          -0.003,\n",
      "Theta66:          0.001,\n",
      "Theta67:          0.001,\n",
      "Theta68:          0.002,\n",
      "Theta69:          -0.002,\n",
      "Theta70:          -0.001,\n",
      "Theta71:          0.002,\n",
      "Theta72:          0.002,\n",
      "Theta73:          0.001,\n",
      "Theta74:          0.001,\n",
      "Theta75:          0.002,\n",
      "Theta76:          0.001,\n",
      "Theta77:          0.000,\n",
      "Theta78:          0.000,\n",
      "Theta79:          -0.001,\n",
      "Theta80:          -0.003,\n",
      "Theta81:          -0.002,\n",
      "Theta82:          0.000,\n",
      "Theta83:          0.001,\n",
      "Theta84:          -0.001,\n",
      "Theta85:          -0.003,\n",
      "Theta86:          0.000,\n",
      "Theta87:          -0.004,\n",
      "Theta88:          -0.003,\n",
      "Theta89:          -0.001,\n",
      "Theta90:          0.001,\n",
      "Theta91:          -0.002,\n",
      "Theta92:          0.001,\n",
      "Theta93:          0.003,\n",
      "Theta94:          0.004,\n",
      "Theta95:          0.003,\n",
      "Theta96:          -0.002,\n",
      "Theta97:          -0.002,\n",
      "Theta98:          -0.002,\n",
      "Theta99:          -0.002,\n",
      "Theta100:          0.002,\n",
      "Theta101:          0.001,\n",
      "Theta102:          -0.000,\n",
      "Theta103:          0.000,\n",
      "Theta104:          0.001,\n",
      "Theta105:          0.003,\n",
      "Theta106:          0.001,\n",
      "Theta107:          0.000,\n",
      "Theta108:          -0.001,\n",
      "Theta109:          0.001,\n",
      "Theta110:          0.002,\n",
      "Theta111:          0.001,\n",
      "Theta112:          -0.001,\n",
      "Theta113:          -0.003,\n",
      "Theta114:          0.000,\n",
      "Theta115:          0.000,\n",
      "Theta116:          0.001,\n",
      "Theta117:          0.000,\n",
      "Theta118:          0.000,\n",
      "Theta119:          -0.001,\n",
      "Theta120:          -0.001,\n",
      "Theta121:          -0.001,\n",
      "Theta122:          -0.001,\n",
      "Theta123:          0.001,\n",
      "Theta124:          -0.000,\n",
      "Theta125:          0.000,\n",
      "Theta126:          -0.000,\n",
      "Theta127:          -0.001,\n",
      "Theta128:          -0.001,\n",
      "Theta129:          -0.001,\n",
      "Theta130:          0.000,\n",
      "Theta131:          0.000,\n",
      "Theta132:          -0.001,\n",
      "Theta133:          0.001,\n",
      "Theta134:          0.000,\n",
      "Theta135:          0.000,\n",
      "Theta136:          0.000,\n",
      "Final cost/MSE:  0.230\n"
     ]
    }
   ],
   "source": [
    "'''\n",
    "m      = number of obseravations/records\n",
    "n      = number of features + bias(theta_0)\n",
    "X_b    = X matrix with concatinated bias column of (1s) --> which is multiplied by (theta_0)\n",
    "\n",
    "'''\n",
    "#theta = np.random.randn(2,1)\n",
    "\n",
    "m = X.shape[0]\n",
    "n = X.shape[1] + 1 \n",
    "\n",
    "# theta initialization with zeros of size n*1\n",
    "theta = np.zeros((n,1))        # --> (2, 1)\n",
    "\n",
    "# Concatinate the b (column of 1s) on X to be multiplied by theta_0\n",
    "X_b = np.c_[np.ones((m,1)),X]\n",
    "# print(X_b)\n",
    "theta,cost_history,theta_history,hyothesis_history,theta_history_by_batch,cost_history_by_batch = minibatch_gradient_descent(X,y,theta,lr,n_iter,batch_size,epsilon,beta1,beta2)\n",
    "\n",
    "for i in range(0, n):\n",
    "    print('Theta{}:          {:0.3f},'.format(i, theta[i][0]))\n",
    "\n",
    "#print('Theta0:          {:0.3f},\\nTheta1:          {:0.3f}'.format(theta[0][0],theta[1][0]))\n",
    "print('Final cost/MSE:  {:0.3f}'.format(cost_history[-1]))\n",
    "\n",
    "#theta_history for plotting \n",
    "theta0 = theta_history[:,0]\n",
    "theta1 = theta_history[:,1]\n",
    "theta2 = theta_history[:,2]\n",
    "theta3 = theta_history[:,3]\n",
    "\n",
    "theta0_by_batch = theta_history_by_batch[:,0]\n",
    "theta1_by_batch = theta_history_by_batch[:,1]\n",
    "theta2_by_batch = theta_history_by_batch[:,2]\n",
    "theta3_by_batch = theta_history_by_batch[:,3]"
   ]
  },
  {
   "cell_type": "code",
   "execution_count": 115,
   "id": "80981ef8",
   "metadata": {
    "pycharm": {
     "name": "#%%\n"
    }
   },
   "outputs": [
    {
     "data": {
      "text/plain": "array([[-2.58351352],\n       [-1.67942178],\n       [-1.95484755],\n       ...,\n       [-2.22936816],\n       [-1.47141708],\n       [-2.23565312]])"
     },
     "execution_count": 115,
     "metadata": {},
     "output_type": "execute_result"
    }
   ],
   "source": [
    "y_pred = np.dot(X_b, theta)\n",
    "y_pred"
   ]
  },
  {
   "cell_type": "markdown",
   "id": "b5398311",
   "metadata": {
    "pycharm": {
     "name": "#%% md\n"
    }
   },
   "source": [
    "### R2 Score"
   ]
  },
  {
   "cell_type": "code",
   "execution_count": 116,
   "id": "30ce1319",
   "metadata": {
    "pycharm": {
     "name": "#%%\n"
    }
   },
   "outputs": [
    {
     "data": {
      "text/plain": "-5.717680125603182"
     },
     "execution_count": 116,
     "metadata": {},
     "output_type": "execute_result"
    }
   ],
   "source": [
    "r2score = r2_score(y, y_pred, sample_weight=None, multioutput='uniform_average')\n",
    "r2score"
   ]
  },
  {
   "cell_type": "markdown",
   "id": "f05c6d7e",
   "metadata": {
    "pycharm": {
     "name": "#%% md\n"
    }
   },
   "source": [
    "## Plotting"
   ]
  },
  {
   "cell_type": "markdown",
   "id": "e53a42cd",
   "metadata": {
    "pycharm": {
     "name": "#%% md\n"
    }
   },
   "source": [
    "### 1. Plot loss vs. epochs"
   ]
  },
  {
   "cell_type": "code",
   "execution_count": 80,
   "id": "905f0fd7",
   "metadata": {
    "pycharm": {
     "name": "#%%\n"
    }
   },
   "outputs": [
    {
     "data": {
      "text/plain": "<Figure size 864x576 with 1 Axes>",
      "image/png": "[encoded data removed]"
     },
     "metadata": {},
     "output_type": "display_data"
    }
   ],
   "source": [
    "fig,ax = plt.subplots(figsize=(12,8))\n",
    "\n",
    "ax.set_ylabel('J(Theta)')\n",
    "ax.set_xlabel('Iterations')\n",
    "_=ax.plot(range(n_iter),cost_history,'b.')"
   ]
  },
  {
   "cell_type": "markdown",
   "id": "ec7420c4",
   "metadata": {
    "pycharm": {
     "name": "#%% md\n"
    }
   },
   "source": [
    "m#### Plot Theta_0 vs. loss"
   ]
  },
  {
   "cell_type": "code",
   "execution_count": 73,
   "id": "e098807c",
   "metadata": {
    "pycharm": {
     "name": "#%%\n"
    }
   },
   "outputs": [
    {
     "data": {
      "text/plain": "<Figure size 864x576 with 1 Axes>",
      "image/png": "[encoded data removed]"
     },
     "metadata": {},
     "output_type": "display_data"
    }
   ],
   "source": [
    "fig,ax = plt.subplots(figsize=(12,8))\n",
    "\n",
    "ax.set_ylabel('J(Theta)')\n",
    "ax.set_xlabel('Theta0')\n",
    "_=ax.plot(theta0,cost_history,'b.')"
   ]
  },
  {
   "cell_type": "markdown",
   "id": "a2b8b658",
   "metadata": {
    "pycharm": {
     "name": "#%% md\n"
    }
   },
   "source": [
    "#### Plot Theta_1 vs. loss"
   ]
  },
  {
   "cell_type": "code",
   "execution_count": 62,
   "id": "961854bf",
   "metadata": {
    "pycharm": {
     "name": "#%%\n"
    }
   },
   "outputs": [
    {
     "data": {
      "text/plain": "<Figure size 864x576 with 1 Axes>",
      "image/png": "[encoded data removed]"
     },
     "metadata": {},
     "output_type": "display_data"
    }
   ],
   "source": [
    "fig,ax = plt.subplots(figsize=(12,8))\n",
    "\n",
    "ax.set_ylabel('J(Theta)')\n",
    "ax.set_xlabel('Theta0')\n",
    "_=ax.plot(theta1,cost_history,'b.')"
   ]
  },
  {
   "cell_type": "markdown",
   "id": "1358f54d",
   "metadata": {
    "pycharm": {
     "name": "#%% md\n"
    }
   },
   "source": [
    "#### Plot Theta_2 vs. loss"
   ]
  },
  {
   "cell_type": "code",
   "execution_count": 63,
   "id": "05720a34",
   "metadata": {
    "pycharm": {
     "name": "#%%\n"
    }
   },
   "outputs": [
    {
     "data": {
      "text/plain": "<Figure size 864x576 with 1 Axes>",
      "image/png": "[encoded data removed]"
     },
     "metadata": {},
     "output_type": "display_data"
    }
   ],
   "source": [
    "fig,ax = plt.subplots(figsize=(12,8))\n",
    "\n",
    "ax.set_ylabel('J(Theta)')\n",
    "ax.set_xlabel('Theta0')\n",
    "_=ax.plot(theta2,cost_history,'b.')"
   ]
  },
  {
   "cell_type": "markdown",
   "id": "009e7b53",
   "metadata": {
    "pycharm": {
     "name": "#%% md\n"
    }
   },
   "source": [
    "#### Plot Theta_3 vs. loss"
   ]
  },
  {
   "cell_type": "code",
   "execution_count": 526,
   "id": "534ddffa",
   "metadata": {
    "scrolled": true,
    "pycharm": {
     "name": "#%%\n"
    }
   },
   "outputs": [
    {
     "data": {
      "image/png": "[encoded data removed]",
      "text/plain": [
       "<Figure size 864x576 with 1 Axes>"
      ]
     },
     "metadata": {},
     "output_type": "display_data"
    }
   ],
   "source": [
    "fig,ax = plt.subplots(figsize=(12,8))\n",
    "\n",
    "ax.set_ylabel('J(Theta)')\n",
    "ax.set_xlabel('Theta0')\n",
    "_=ax.plot(theta3,cost_history,'b.')"
   ]
  },
  {
   "cell_type": "markdown",
   "id": "f1c8a6f7",
   "metadata": {
    "pycharm": {
     "name": "#%% md\n"
    }
   },
   "source": [
    "### 2. Plot loss vs. Iterations"
   ]
  },
  {
   "cell_type": "code",
   "execution_count": 527,
   "id": "da1ea369",
   "metadata": {
    "pycharm": {
     "name": "#%%\n"
    }
   },
   "outputs": [],
   "source": [
    "# number of batches\n",
    "n_batches = math.ceil(m/batch_size) "
   ]
  },
  {
   "cell_type": "code",
   "execution_count": 529,
   "id": "5480b3b7",
   "metadata": {
    "pycharm": {
     "name": "#%%\n"
    }
   },
   "outputs": [
    {
     "data": {
      "image/png": "[encoded data removed]",
      "text/plain": [
       "<Figure size 864x576 with 1 Axes>"
      ]
     },
     "metadata": {},
     "output_type": "display_data"
    }
   ],
   "source": [
    "fig,ax = plt.subplots(figsize=(12,8))\n",
    "\n",
    "ax.set_ylabel('J(Theta)')\n",
    "ax.set_xlabel('Iterations * #batches')\n",
    "_=ax.plot(cost_history_by_batch,'b.')"
   ]
  },
  {
   "cell_type": "markdown",
   "id": "aaf074cd",
   "metadata": {
    "pycharm": {
     "name": "#%% md\n"
    }
   },
   "source": [
    "#### Plot Theta_0 vs. loss"
   ]
  },
  {
   "cell_type": "code",
   "execution_count": 532,
   "id": "41cd4ea7",
   "metadata": {
    "pycharm": {
     "name": "#%%\n"
    }
   },
   "outputs": [
    {
     "data": {
      "image/png": "[encoded data removed]",
      "text/plain": [
       "<Figure size 864x576 with 1 Axes>"
      ]
     },
     "metadata": {},
     "output_type": "display_data"
    }
   ],
   "source": [
    "fig,ax = plt.subplots(figsize=(12,8))\n",
    "\n",
    "ax.set_ylabel('J(Theta)')\n",
    "ax.set_xlabel('Theta0')\n",
    "_=ax.plot(theta0_by_batch,cost_history_by_batch,'b.')"
   ]
  },
  {
   "cell_type": "markdown",
   "id": "10e7a1af",
   "metadata": {
    "pycharm": {
     "name": "#%% md\n"
    }
   },
   "source": [
    "#### Plot Theta_1 vs. loss"
   ]
  },
  {
   "cell_type": "code",
   "execution_count": 533,
   "id": "bb995c86",
   "metadata": {
    "pycharm": {
     "name": "#%%\n"
    }
   },
   "outputs": [
    {
     "data": {
      "image/png": "[encoded data removed]",
      "text/plain": [
       "<Figure size 864x576 with 1 Axes>"
      ]
     },
     "metadata": {},
     "output_type": "display_data"
    }
   ],
   "source": [
    "fig,ax = plt.subplots(figsize=(12,8))\n",
    "\n",
    "ax.set_ylabel('J(Theta)')\n",
    "ax.set_xlabel('Theta1')\n",
    "_=ax.plot(theta1_by_batch,cost_history_by_batch,'b.')"
   ]
  },
  {
   "cell_type": "markdown",
   "id": "9f773ec2",
   "metadata": {
    "pycharm": {
     "name": "#%% md\n"
    }
   },
   "source": [
    "#### Plot Theta_2 vs. loss"
   ]
  },
  {
   "cell_type": "code",
   "execution_count": 534,
   "id": "15c503bf",
   "metadata": {
    "pycharm": {
     "name": "#%%\n"
    }
   },
   "outputs": [
    {
     "data": {
      "image/png": "[encoded data removed]",
      "text/plain": [
       "<Figure size 864x576 with 1 Axes>"
      ]
     },
     "metadata": {},
     "output_type": "display_data"
    }
   ],
   "source": [
    "fig,ax = plt.subplots(figsize=(12,8))\n",
    "\n",
    "ax.set_ylabel('J(Theta)')\n",
    "ax.set_xlabel('Theta2')\n",
    "_=ax.plot(theta2_by_batch,cost_history_by_batch,'b.')"
   ]
  },
  {
   "cell_type": "markdown",
   "id": "72902762",
   "metadata": {
    "pycharm": {
     "name": "#%% md\n"
    }
   },
   "source": [
    "#### Plot Theta_3 vs. loss"
   ]
  },
  {
   "cell_type": "code",
   "execution_count": 535,
   "id": "fcbf9381",
   "metadata": {
    "scrolled": false,
    "pycharm": {
     "name": "#%%\n"
    }
   },
   "outputs": [
    {
     "data": {
      "image/png": "[encoded data removed]",
      "text/plain": [
       "<Figure size 864x576 with 1 Axes>"
      ]
     },
     "metadata": {},
     "output_type": "display_data"
    }
   ],
   "source": [
    "fig,ax = plt.subplots(figsize=(12,8))\n",
    "\n",
    "ax.set_ylabel('J(Theta)')\n",
    "ax.set_xlabel('Theta3')\n",
    "_=ax.plot(theta3_by_batch,cost_history_by_batch,'b.')"
   ]
  },
  {
   "cell_type": "code",
   "execution_count": null,
   "id": "7c7eea4d",
   "metadata": {
    "pycharm": {
     "name": "#%%\n"
    }
   },
   "outputs": [],
   "source": []
  }
 ],
 "metadata": {
  "colab": {
   "name": "NOFML&DS Final Practical Exam.ipynb",
   "provenance": []
  },
  "kernelspec": {
   "display_name": "Python 3 (ipykernel)",
   "language": "python",
   "name": "python3"
  },
  "language_info": {
   "codemirror_mode": {
    "name": "ipython",
    "version": 3
   },
   "file_extension": ".py",
   "mimetype": "text/x-python",
   "name": "python",
   "nbconvert_exporter": "python",
   "pygments_lexer": "ipython3",
   "version": "3.8.12"
  }
 },
 "nbformat": 4,
 "nbformat_minor": 5
}