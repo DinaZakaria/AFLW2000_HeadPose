{
 "nbformat": 4,
 "nbformat_minor": 0,
 "metadata": {
  "kernelspec": {
   "display_name": "Python 3",
   "language": "python",
   "name": "python3"
  },
  "language_info": {
   "codemirror_mode": {
    "name": "ipython",
    "version": 3
   },
   "file_extension": ".py",
   "mimetype": "text/x-python",
   "name": "python",
   "nbconvert_exporter": "python",
   "pygments_lexer": "ipython3",
   "version": "3.7.6"
  },
  "colab": {
   "name": "End_to_end_example.ipynb",
   "provenance": [
    {
     "file_id": "https://github.com/s7s/machine_learning_1/blob/master/ML_in_practice/End_to_end_example.ipynb",
     "timestamp": 1649500857705
    }
   ],
   "collapsed_sections": []
  }
 },
 "cells": [
  {
   "cell_type": "markdown",
   "source": [
    "## Imports"
   ],
   "metadata": {
    "collapsed": false,
    "pycharm": {
     "name": "#%% md\n"
    }
   }
  },
  {
   "cell_type": "code",
   "execution_count": 1,
   "outputs": [],
   "source": [
    "import numpy as np\n",
    "import pandas as pd\n",
    "import matplotlib.pyplot as plt\n",
    "%matplotlib inline\n",
    "import math\n",
    "from sklearn.metrics import r2_score"
   ],
   "metadata": {
    "collapsed": false,
    "pycharm": {
     "name": "#%%\n"
    }
   }
  },
  {
   "cell_type": "code",
   "execution_count": 2,
   "outputs": [],
   "source": [
    "plt.style.use(['ggplot'])"
   ],
   "metadata": {
    "collapsed": false,
    "pycharm": {
     "name": "#%%\n"
    }
   }
  },
  {
   "cell_type": "markdown",
   "metadata": {
    "id": "P_9IavYxfqKF",
    "pycharm": {
     "name": "#%% md\n"
    }
   },
   "source": [
    "# 12. Machine learning techniques"
   ]
  },
  {
   "cell_type": "code",
   "metadata": {
    "id": "m3nP5yDNfqKI",
    "executionInfo": {
     "status": "ok",
     "timestamp": 1649550537681,
     "user_tz": -120,
     "elapsed": 2,
     "user": {
      "displayName": "Abdelrhman Amr",
      "userId": "09344834973078055484"
     }
    },
    "pycharm": {
     "name": "#%%\n"
    }
   },
   "source": [
    "import random as rd\n",
    "rd.seed(0)"
   ],
   "execution_count": 3,
   "outputs": []
  },
  {
   "cell_type": "code",
   "metadata": {
    "id": "bAbJWz2MfqKH",
    "executionInfo": {
     "status": "ok",
     "timestamp": 1649550539670,
     "user_tz": -120,
     "elapsed": 849,
     "user": {
      "displayName": "Abdelrhman Amr",
      "userId": "09344834973078055484"
     }
    },
    "pycharm": {
     "name": "#%%\n"
    }
   },
   "source": [
    "import pandas as pd\n",
    "import numpy as np\n",
    "import matplotlib.pyplot as plt"
   ],
   "execution_count": 4,
   "outputs": []
  },
  {
   "cell_type": "markdown",
   "metadata": {
    "id": "E8GM6HeSfqKI",
    "pycharm": {
     "name": "#%% md\n"
    }
   },
   "source": [
    "## 12.1 Loading and exploring the dataset\n",
    "\n",
    "First, we use pandas to load the dataset from a csv file."
   ]
  },
  {
   "cell_type": "code",
   "metadata": {
    "id": "FFuOhKGrfqKJ",
    "colab": {
     "base_uri": "https://localhost:8080/",
     "height": 423
    },
    "executionInfo": {
     "status": "ok",
     "timestamp": 1649503285002,
     "user_tz": -120,
     "elapsed": 14,
     "user": {
      "displayName": "Abdelrhman Amr",
      "userId": "09344834973078055484"
     }
    },
    "outputId": "ab70ba4d-c040-47fa-fd18-ccfb71c7e794",
    "pycharm": {
     "name": "#%%\n"
    }
   },
   "source": [
    "# use pabdas to read './titanic.csv'\n",
    "# raw_data = pd.read_csv('AFLW2000_CSV_Original.csv', sep = ',')\n",
    "raw_data = pd.read_csv('AFLW2000_CSV_nose_CG.csv', sep = ',')\n",
    "raw_data"
   ],
   "execution_count": 5,
   "outputs": [
    {
     "data": {
      "text/plain": "               0           1           2           3           4           5  \\\n0    -213.092697 -182.621887 -148.964188 -125.196884 -102.633507  -83.391914   \n1     141.449341  134.715347  137.844635  135.328583  118.621475   88.183647   \n2      37.623722   34.558197   38.250843   44.057930   51.311413   53.727238   \n3     -43.286400  -24.791330  -12.196454   -8.089785   -3.694779    5.834447   \n4     178.818909  189.500595  208.076172  222.511887  222.096985  203.590744   \n...          ...         ...         ...         ...         ...         ...   \n1995 -238.678436 -209.555252 -177.583481 -155.053314 -135.591095 -114.967705   \n1996 -343.137756 -325.811707 -319.889709 -305.768616 -268.032593 -201.311768   \n1997  242.792099  239.752106  244.596832  246.683578  234.331589  199.184052   \n1998 -387.662445 -375.652130 -365.819763 -361.723114 -343.310638 -282.493408   \n1999 -216.746429 -199.901093 -180.557281 -166.798309 -152.225830 -125.893623   \n\n               6           7           8           9  ...        129  \\\n0     -71.607590  -51.245358  -14.111894   27.358389  ...  13.328711   \n1      53.228462   27.025391   28.008690   54.404907  ...  27.368664   \n2      49.964600   48.213493   66.071434  105.478897  ...  17.808167   \n3      16.853344   37.238663   77.960678  117.788025  ...  18.180548   \n4     164.431107  126.438324  117.214203  139.293961  ...  14.906126   \n...          ...         ...         ...         ...  ...        ...   \n1995  -91.722557  -62.625736  -22.451447   15.579508  ...  22.096004   \n1996 -132.243332  -86.601471  -67.560341  -72.100883  ...  26.532953   \n1997  155.070923  116.819427  101.067543  114.232285  ...  24.136539   \n1998 -212.638199 -151.356064 -115.421379 -109.330437  ...  31.745657   \n1999  -98.614067  -68.017036  -18.144213   23.806757  ...  37.301006   \n\n            130        131        132        133        134        135  \\\n0     13.705876  14.995514  28.884621  32.390213  32.880932  28.251083   \n1     24.510475  24.840654  36.377304  23.803810  24.160664  25.925100   \n2     18.707985  20.324097  29.031967  22.446207  21.285217  19.854816   \n3     17.023132  17.113342  14.694556  23.410395  25.295345  24.857164   \n4     14.755774  14.770131  24.439550  19.976929  20.360374  19.992081   \n...         ...        ...        ...        ...        ...        ...   \n1995  20.939669  21.904694  25.948797  28.199394  28.955616  28.067997   \n1996  24.622257  24.244431  29.568369  25.874664  26.811287  27.487370   \n1997  23.879990  24.905781  34.506981  28.172068  28.215862  27.228628   \n1998  30.302311  30.013666  37.768940  35.145229  35.996048  36.665348   \n1999  35.742474  34.810287  38.950115  38.715378  40.236778  41.527813   \n\n           136       137       138  \n0    -0.399231  0.018227  0.085676  \n1     0.470065  1.189533  0.300959  \n2    -0.184650  0.881137 -0.236852  \n3    -0.175379  0.299208 -0.373374  \n4    -0.882169  1.198004 -1.033374  \n...        ...       ...       ...  \n1995 -0.197102 -0.070430  0.105118  \n1996 -0.232617 -1.418751  0.175960  \n1997 -1.447955  1.431267 -1.509418  \n1998 -0.420465 -1.191176  0.451515  \n1999 -0.015552 -0.180126 -0.024546  \n\n[2000 rows x 139 columns]",
      "text/html": "<div>\n<style scoped>\n    .dataframe tbody tr th:only-of-type {\n        vertical-align: middle;\n    }\n\n    .dataframe tbody tr th {\n        vertical-align: top;\n    }\n\n    .dataframe thead th {\n        text-align: right;\n    }\n</style>\n<table border=\"1\" class=\"dataframe\">\n  <thead>\n    <tr style=\"text-align: right;\">\n      <th></th>\n      <th>0</th>\n      <th>1</th>\n      <th>2</th>\n      <th>3</th>\n      <th>4</th>\n      <th>5</th>\n      <th>6</th>\n      <th>7</th>\n      <th>8</th>\n      <th>9</th>\n      <th>...</th>\n      <th>129</th>\n      <th>130</th>\n      <th>131</th>\n      <th>132</th>\n      <th>133</th>\n      <th>134</th>\n      <th>135</th>\n      <th>136</th>\n      <th>137</th>\n      <th>138</th>\n    </tr>\n  </thead>\n  <tbody>\n    <tr>\n      <th>0</th>\n      <td>-213.092697</td>\n      <td>-182.621887</td>\n      <td>-148.964188</td>\n      <td>-125.196884</td>\n      <td>-102.633507</td>\n      <td>-83.391914</td>\n      <td>-71.607590</td>\n      <td>-51.245358</td>\n      <td>-14.111894</td>\n      <td>27.358389</td>\n      <td>...</td>\n      <td>13.328711</td>\n      <td>13.705876</td>\n      <td>14.995514</td>\n      <td>28.884621</td>\n      <td>32.390213</td>\n      <td>32.880932</td>\n      <td>28.251083</td>\n      <td>-0.399231</td>\n      <td>0.018227</td>\n      <td>0.085676</td>\n    </tr>\n    <tr>\n      <th>1</th>\n      <td>141.449341</td>\n      <td>134.715347</td>\n      <td>137.844635</td>\n      <td>135.328583</td>\n      <td>118.621475</td>\n      <td>88.183647</td>\n      <td>53.228462</td>\n      <td>27.025391</td>\n      <td>28.008690</td>\n      <td>54.404907</td>\n      <td>...</td>\n      <td>27.368664</td>\n      <td>24.510475</td>\n      <td>24.840654</td>\n      <td>36.377304</td>\n      <td>23.803810</td>\n      <td>24.160664</td>\n      <td>25.925100</td>\n      <td>0.470065</td>\n      <td>1.189533</td>\n      <td>0.300959</td>\n    </tr>\n    <tr>\n      <th>2</th>\n      <td>37.623722</td>\n      <td>34.558197</td>\n      <td>38.250843</td>\n      <td>44.057930</td>\n      <td>51.311413</td>\n      <td>53.727238</td>\n      <td>49.964600</td>\n      <td>48.213493</td>\n      <td>66.071434</td>\n      <td>105.478897</td>\n      <td>...</td>\n      <td>17.808167</td>\n      <td>18.707985</td>\n      <td>20.324097</td>\n      <td>29.031967</td>\n      <td>22.446207</td>\n      <td>21.285217</td>\n      <td>19.854816</td>\n      <td>-0.184650</td>\n      <td>0.881137</td>\n      <td>-0.236852</td>\n    </tr>\n    <tr>\n      <th>3</th>\n      <td>-43.286400</td>\n      <td>-24.791330</td>\n      <td>-12.196454</td>\n      <td>-8.089785</td>\n      <td>-3.694779</td>\n      <td>5.834447</td>\n      <td>16.853344</td>\n      <td>37.238663</td>\n      <td>77.960678</td>\n      <td>117.788025</td>\n      <td>...</td>\n      <td>18.180548</td>\n      <td>17.023132</td>\n      <td>17.113342</td>\n      <td>14.694556</td>\n      <td>23.410395</td>\n      <td>25.295345</td>\n      <td>24.857164</td>\n      <td>-0.175379</td>\n      <td>0.299208</td>\n      <td>-0.373374</td>\n    </tr>\n    <tr>\n      <th>4</th>\n      <td>178.818909</td>\n      <td>189.500595</td>\n      <td>208.076172</td>\n      <td>222.511887</td>\n      <td>222.096985</td>\n      <td>203.590744</td>\n      <td>164.431107</td>\n      <td>126.438324</td>\n      <td>117.214203</td>\n      <td>139.293961</td>\n      <td>...</td>\n      <td>14.906126</td>\n      <td>14.755774</td>\n      <td>14.770131</td>\n      <td>24.439550</td>\n      <td>19.976929</td>\n      <td>20.360374</td>\n      <td>19.992081</td>\n      <td>-0.882169</td>\n      <td>1.198004</td>\n      <td>-1.033374</td>\n    </tr>\n    <tr>\n      <th>...</th>\n      <td>...</td>\n      <td>...</td>\n      <td>...</td>\n      <td>...</td>\n      <td>...</td>\n      <td>...</td>\n      <td>...</td>\n      <td>...</td>\n      <td>...</td>\n      <td>...</td>\n      <td>...</td>\n      <td>...</td>\n      <td>...</td>\n      <td>...</td>\n      <td>...</td>\n      <td>...</td>\n      <td>...</td>\n      <td>...</td>\n      <td>...</td>\n      <td>...</td>\n      <td>...</td>\n    </tr>\n    <tr>\n      <th>1995</th>\n      <td>-238.678436</td>\n      <td>-209.555252</td>\n      <td>-177.583481</td>\n      <td>-155.053314</td>\n      <td>-135.591095</td>\n      <td>-114.967705</td>\n      <td>-91.722557</td>\n      <td>-62.625736</td>\n      <td>-22.451447</td>\n      <td>15.579508</td>\n      <td>...</td>\n      <td>22.096004</td>\n      <td>20.939669</td>\n      <td>21.904694</td>\n      <td>25.948797</td>\n      <td>28.199394</td>\n      <td>28.955616</td>\n      <td>28.067997</td>\n      <td>-0.197102</td>\n      <td>-0.070430</td>\n      <td>0.105118</td>\n    </tr>\n    <tr>\n      <th>1996</th>\n      <td>-343.137756</td>\n      <td>-325.811707</td>\n      <td>-319.889709</td>\n      <td>-305.768616</td>\n      <td>-268.032593</td>\n      <td>-201.311768</td>\n      <td>-132.243332</td>\n      <td>-86.601471</td>\n      <td>-67.560341</td>\n      <td>-72.100883</td>\n      <td>...</td>\n      <td>26.532953</td>\n      <td>24.622257</td>\n      <td>24.244431</td>\n      <td>29.568369</td>\n      <td>25.874664</td>\n      <td>26.811287</td>\n      <td>27.487370</td>\n      <td>-0.232617</td>\n      <td>-1.418751</td>\n      <td>0.175960</td>\n    </tr>\n    <tr>\n      <th>1997</th>\n      <td>242.792099</td>\n      <td>239.752106</td>\n      <td>244.596832</td>\n      <td>246.683578</td>\n      <td>234.331589</td>\n      <td>199.184052</td>\n      <td>155.070923</td>\n      <td>116.819427</td>\n      <td>101.067543</td>\n      <td>114.232285</td>\n      <td>...</td>\n      <td>24.136539</td>\n      <td>23.879990</td>\n      <td>24.905781</td>\n      <td>34.506981</td>\n      <td>28.172068</td>\n      <td>28.215862</td>\n      <td>27.228628</td>\n      <td>-1.447955</td>\n      <td>1.431267</td>\n      <td>-1.509418</td>\n    </tr>\n    <tr>\n      <th>1998</th>\n      <td>-387.662445</td>\n      <td>-375.652130</td>\n      <td>-365.819763</td>\n      <td>-361.723114</td>\n      <td>-343.310638</td>\n      <td>-282.493408</td>\n      <td>-212.638199</td>\n      <td>-151.356064</td>\n      <td>-115.421379</td>\n      <td>-109.330437</td>\n      <td>...</td>\n      <td>31.745657</td>\n      <td>30.302311</td>\n      <td>30.013666</td>\n      <td>37.768940</td>\n      <td>35.145229</td>\n      <td>35.996048</td>\n      <td>36.665348</td>\n      <td>-0.420465</td>\n      <td>-1.191176</td>\n      <td>0.451515</td>\n    </tr>\n    <tr>\n      <th>1999</th>\n      <td>-216.746429</td>\n      <td>-199.901093</td>\n      <td>-180.557281</td>\n      <td>-166.798309</td>\n      <td>-152.225830</td>\n      <td>-125.893623</td>\n      <td>-98.614067</td>\n      <td>-68.017036</td>\n      <td>-18.144213</td>\n      <td>23.806757</td>\n      <td>...</td>\n      <td>37.301006</td>\n      <td>35.742474</td>\n      <td>34.810287</td>\n      <td>38.950115</td>\n      <td>38.715378</td>\n      <td>40.236778</td>\n      <td>41.527813</td>\n      <td>-0.015552</td>\n      <td>-0.180126</td>\n      <td>-0.024546</td>\n    </tr>\n  </tbody>\n</table>\n<p>2000 rows × 139 columns</p>\n</div>"
     },
     "execution_count": 5,
     "metadata": {},
     "output_type": "execute_result"
    }
   ]
  },
  {
   "cell_type": "markdown",
   "source": [
    "## All Features"
   ],
   "metadata": {
    "collapsed": false,
    "pycharm": {
     "name": "#%% md\n"
    }
   }
  },
  {
   "cell_type": "code",
   "execution_count": 6,
   "outputs": [],
   "source": [
    "X = raw_data.iloc[:,0:136].to_numpy()"
   ],
   "metadata": {
    "collapsed": false,
    "pycharm": {
     "name": "#%%\n"
    }
   }
  },
  {
   "cell_type": "markdown",
   "source": [
    "## 6 * 2 (12) Selected Features"
   ],
   "metadata": {
    "collapsed": false,
    "pycharm": {
     "name": "#%% md\n"
    }
   }
  },
  {
   "cell_type": "code",
   "execution_count": 7,
   "outputs": [],
   "source": [
    "y_shift = 68\n",
    "xy_list = [\"8\", \"30\", \"36\", \"45\", \"48\", \"54\", str(8 + y_shift), str(30+ y_shift), str(36+ y_shift), str(45+ y_shift), str(48+ y_shift), str(54+ y_shift)]"
   ],
   "metadata": {
    "collapsed": false,
    "pycharm": {
     "name": "#%%\n"
    }
   }
  },
  {
   "cell_type": "code",
   "execution_count": 8,
   "outputs": [
    {
     "data": {
      "text/plain": "               8   30         36          45         48         54  \\\n0     -14.111894  0.0 -86.359016  106.336342 -30.031094  26.998892   \n1      28.008690  0.0  21.224506   87.224571  17.199062  36.792374   \n2      66.071434  0.0   1.588908   75.432022  10.259671  62.989285   \n3      77.960678  0.0 -51.532242   75.439499  -1.953755  47.359287   \n4     117.214203  0.0  18.197535   43.354347  41.828522  50.799007   \n...          ...  ...        ...         ...        ...        ...   \n1995  -22.451447  0.0 -93.322311   83.622391 -35.866840  13.064929   \n1996  -67.560341  0.0 -64.692429  -42.177132 -38.351772 -29.710566   \n1997  101.067543  0.0  30.064106   34.064278  42.956017  35.391064   \n1998 -115.421379  0.0 -80.298431  -24.869637 -79.169510 -39.022976   \n1999  -18.144213  0.0 -83.659439   39.489162 -39.097717  17.056860   \n\n              76   98         104         113        116        122  \n0     118.895439  0.0 -113.501427  -96.190041  15.743551  30.036949  \n1     110.996643  0.0  -14.575986  -47.475929  41.431324  37.294151  \n2     122.090889  0.0  -21.086123  -54.626640  19.358028  30.239342  \n3     119.697502  0.0  -39.710144 -109.029472  17.709976  14.575475  \n4     113.820282  0.0  -26.361544  -55.706600  24.907581  25.577152  \n...          ...  ...         ...         ...        ...        ...  \n1995  122.037125  0.0  -99.898163  -76.346306  28.305943  27.082804  \n1996  139.443069  0.0  -44.510262  -44.987659  38.236877  29.931149  \n1997  170.863983  0.0  -34.622532  -41.561020  32.742657  36.174358  \n1998  169.861359  0.0  -61.671631  -36.180676  46.347412  38.866211  \n1999  189.749039  0.0  -49.308666  -39.183788  52.147461  39.379223  \n\n[2000 rows x 12 columns]",
      "text/html": "<div>\n<style scoped>\n    .dataframe tbody tr th:only-of-type {\n        vertical-align: middle;\n    }\n\n    .dataframe tbody tr th {\n        vertical-align: top;\n    }\n\n    .dataframe thead th {\n        text-align: right;\n    }\n</style>\n<table border=\"1\" class=\"dataframe\">\n  <thead>\n    <tr style=\"text-align: right;\">\n      <th></th>\n      <th>8</th>\n      <th>30</th>\n      <th>36</th>\n      <th>45</th>\n      <th>48</th>\n      <th>54</th>\n      <th>76</th>\n      <th>98</th>\n      <th>104</th>\n      <th>113</th>\n      <th>116</th>\n      <th>122</th>\n    </tr>\n  </thead>\n  <tbody>\n    <tr>\n      <th>0</th>\n      <td>-14.111894</td>\n      <td>0.0</td>\n      <td>-86.359016</td>\n      <td>106.336342</td>\n      <td>-30.031094</td>\n      <td>26.998892</td>\n      <td>118.895439</td>\n      <td>0.0</td>\n      <td>-113.501427</td>\n      <td>-96.190041</td>\n      <td>15.743551</td>\n      <td>30.036949</td>\n    </tr>\n    <tr>\n      <th>1</th>\n      <td>28.008690</td>\n      <td>0.0</td>\n      <td>21.224506</td>\n      <td>87.224571</td>\n      <td>17.199062</td>\n      <td>36.792374</td>\n      <td>110.996643</td>\n      <td>0.0</td>\n      <td>-14.575986</td>\n      <td>-47.475929</td>\n      <td>41.431324</td>\n      <td>37.294151</td>\n    </tr>\n    <tr>\n      <th>2</th>\n      <td>66.071434</td>\n      <td>0.0</td>\n      <td>1.588908</td>\n      <td>75.432022</td>\n      <td>10.259671</td>\n      <td>62.989285</td>\n      <td>122.090889</td>\n      <td>0.0</td>\n      <td>-21.086123</td>\n      <td>-54.626640</td>\n      <td>19.358028</td>\n      <td>30.239342</td>\n    </tr>\n    <tr>\n      <th>3</th>\n      <td>77.960678</td>\n      <td>0.0</td>\n      <td>-51.532242</td>\n      <td>75.439499</td>\n      <td>-1.953755</td>\n      <td>47.359287</td>\n      <td>119.697502</td>\n      <td>0.0</td>\n      <td>-39.710144</td>\n      <td>-109.029472</td>\n      <td>17.709976</td>\n      <td>14.575475</td>\n    </tr>\n    <tr>\n      <th>4</th>\n      <td>117.214203</td>\n      <td>0.0</td>\n      <td>18.197535</td>\n      <td>43.354347</td>\n      <td>41.828522</td>\n      <td>50.799007</td>\n      <td>113.820282</td>\n      <td>0.0</td>\n      <td>-26.361544</td>\n      <td>-55.706600</td>\n      <td>24.907581</td>\n      <td>25.577152</td>\n    </tr>\n    <tr>\n      <th>...</th>\n      <td>...</td>\n      <td>...</td>\n      <td>...</td>\n      <td>...</td>\n      <td>...</td>\n      <td>...</td>\n      <td>...</td>\n      <td>...</td>\n      <td>...</td>\n      <td>...</td>\n      <td>...</td>\n      <td>...</td>\n    </tr>\n    <tr>\n      <th>1995</th>\n      <td>-22.451447</td>\n      <td>0.0</td>\n      <td>-93.322311</td>\n      <td>83.622391</td>\n      <td>-35.866840</td>\n      <td>13.064929</td>\n      <td>122.037125</td>\n      <td>0.0</td>\n      <td>-99.898163</td>\n      <td>-76.346306</td>\n      <td>28.305943</td>\n      <td>27.082804</td>\n    </tr>\n    <tr>\n      <th>1996</th>\n      <td>-67.560341</td>\n      <td>0.0</td>\n      <td>-64.692429</td>\n      <td>-42.177132</td>\n      <td>-38.351772</td>\n      <td>-29.710566</td>\n      <td>139.443069</td>\n      <td>0.0</td>\n      <td>-44.510262</td>\n      <td>-44.987659</td>\n      <td>38.236877</td>\n      <td>29.931149</td>\n    </tr>\n    <tr>\n      <th>1997</th>\n      <td>101.067543</td>\n      <td>0.0</td>\n      <td>30.064106</td>\n      <td>34.064278</td>\n      <td>42.956017</td>\n      <td>35.391064</td>\n      <td>170.863983</td>\n      <td>0.0</td>\n      <td>-34.622532</td>\n      <td>-41.561020</td>\n      <td>32.742657</td>\n      <td>36.174358</td>\n    </tr>\n    <tr>\n      <th>1998</th>\n      <td>-115.421379</td>\n      <td>0.0</td>\n      <td>-80.298431</td>\n      <td>-24.869637</td>\n      <td>-79.169510</td>\n      <td>-39.022976</td>\n      <td>169.861359</td>\n      <td>0.0</td>\n      <td>-61.671631</td>\n      <td>-36.180676</td>\n      <td>46.347412</td>\n      <td>38.866211</td>\n    </tr>\n    <tr>\n      <th>1999</th>\n      <td>-18.144213</td>\n      <td>0.0</td>\n      <td>-83.659439</td>\n      <td>39.489162</td>\n      <td>-39.097717</td>\n      <td>17.056860</td>\n      <td>189.749039</td>\n      <td>0.0</td>\n      <td>-49.308666</td>\n      <td>-39.183788</td>\n      <td>52.147461</td>\n      <td>39.379223</td>\n    </tr>\n  </tbody>\n</table>\n<p>2000 rows × 12 columns</p>\n</div>"
     },
     "execution_count": 8,
     "metadata": {},
     "output_type": "execute_result"
    }
   ],
   "source": [
    "X = raw_data[xy_list]\n",
    "X"
   ],
   "metadata": {
    "collapsed": false,
    "pycharm": {
     "name": "#%%\n"
    }
   }
  },
  {
   "cell_type": "code",
   "execution_count": 9,
   "outputs": [],
   "source": [
    "#pitch, yaw, roll\n",
    "p = raw_data[[\"136\"]].to_numpy()\n",
    "y = raw_data[[\"137\"]].to_numpy()\n",
    "r = raw_data[[\"138\"]].to_numpy()"
   ],
   "metadata": {
    "collapsed": false,
    "pycharm": {
     "name": "#%%\n"
    }
   }
  },
  {
   "cell_type": "markdown",
   "metadata": {
    "id": "P8cSfkeYfqKL",
    "pycharm": {
     "name": "#%% md\n"
    }
   },
   "source": [
    "Next, we can explore the dataset."
   ]
  },
  {
   "cell_type": "code",
   "execution_count": 10,
   "outputs": [
    {
     "data": {
      "text/plain": "(2000, 12)"
     },
     "execution_count": 10,
     "metadata": {},
     "output_type": "execute_result"
    }
   ],
   "source": [
    "X.shape"
   ],
   "metadata": {
    "collapsed": false,
    "pycharm": {
     "name": "#%%\n"
    }
   }
  },
  {
   "cell_type": "code",
   "execution_count": 11,
   "outputs": [
    {
     "data": {
      "text/plain": "2000"
     },
     "execution_count": 11,
     "metadata": {},
     "output_type": "execute_result"
    }
   ],
   "source": [
    "X.shape[0]"
   ],
   "metadata": {
    "collapsed": false,
    "pycharm": {
     "name": "#%%\n"
    }
   }
  },
  {
   "cell_type": "code",
   "execution_count": 12,
   "outputs": [
    {
     "data": {
      "text/plain": "12"
     },
     "execution_count": 12,
     "metadata": {},
     "output_type": "execute_result"
    }
   ],
   "source": [
    "X.shape[1]"
   ],
   "metadata": {
    "collapsed": false,
    "pycharm": {
     "name": "#%%\n"
    }
   }
  },
  {
   "cell_type": "code",
   "metadata": {
    "id": "B9A_Cb6afqKL",
    "colab": {
     "base_uri": "https://localhost:8080/"
    },
    "executionInfo": {
     "status": "ok",
     "timestamp": 1649503285003,
     "user_tz": -120,
     "elapsed": 13,
     "user": {
      "displayName": "Abdelrhman Amr",
      "userId": "09344834973078055484"
     }
    },
    "outputId": "ef4acef5-9859-44ba-904a-745c9e74a6d9",
    "pycharm": {
     "name": "#%%\n"
    }
   },
   "source": [
    "# Use pandas to examine some info of the dataset\n",
    "raw_data.info()\n"
   ],
   "execution_count": 13,
   "outputs": [
    {
     "name": "stdout",
     "output_type": "stream",
     "text": [
      "<class 'pandas.core.frame.DataFrame'>\n",
      "RangeIndex: 2000 entries, 0 to 1999\n",
      "Columns: 139 entries, 0 to 138\n",
      "dtypes: float64(139)\n",
      "memory usage: 2.1 MB\n"
     ]
    }
   ]
  },
  {
   "cell_type": "code",
   "source": [
    "# Use pandas to examine the description of the dataset\n",
    "raw_data.describe()"
   ],
   "metadata": {
    "id": "ipnuOTVtK5mI",
    "colab": {
     "base_uri": "https://localhost:8080/",
     "height": 300
    },
    "executionInfo": {
     "status": "ok",
     "timestamp": 1649503285327,
     "user_tz": -120,
     "elapsed": 6,
     "user": {
      "displayName": "Abdelrhman Amr",
      "userId": "09344834973078055484"
     }
    },
    "outputId": "082772ac-a8bc-4fb7-abe0-3660bb530e84",
    "pycharm": {
     "name": "#%%\n"
    }
   },
   "execution_count": 14,
   "outputs": [
    {
     "data": {
      "text/plain": "                 0            1            2            3            4  \\\ncount  2000.000000  2000.000000  2000.000000  2000.000000  2000.000000   \nmean   -161.027651  -145.729522  -130.529749  -119.292113  -105.297168   \nstd     172.348274   161.509997   154.859382   148.288296   134.525884   \nmin    -688.513229  -638.594984  -603.557495  -579.051270  -527.308899   \n25%    -301.119331  -278.858643  -255.092182  -239.337517  -214.127460   \n50%    -172.375916  -150.646797  -128.134998  -115.018074  -103.833805   \n75%     -36.034544   -26.933035   -19.152114   -15.572049   -14.271688   \nmax     450.365173   443.536865   449.264740   456.870361   437.993347   \n\n                 5            6            7            8            9  ...  \\\ncount  2000.000000  2000.000000  2000.000000  2000.000000  2000.000000  ...   \nmean    -82.411269   -57.943890   -31.762970     4.529596    40.614503  ...   \nstd     108.954521    81.219695    61.905144    56.088391    62.514947  ...   \nmin    -427.072144  -316.031330  -229.767166  -194.634918  -171.953690  ...   \n25%    -169.947620  -119.411940   -74.711836   -32.913113     0.556930  ...   \n50%     -87.426094   -66.030842   -38.407513     4.212631    47.709356  ...   \n75%     -11.181964    -5.402642     7.676825    41.340690    82.517908  ...   \nmax     380.141937   307.159546   231.395218   250.905136   283.856720  ...   \n\n               129          130          131          132          133  \\\ncount  2000.000000  2000.000000  2000.000000  2000.000000  2000.000000   \nmean     22.586416    21.486367    22.503174    31.839961    32.523602   \nstd       7.931105     7.257393     8.005112    15.538560    12.527156   \nmin     -19.663429    -9.483186   -13.768067   -43.711842   -13.307638   \n25%      17.344500    16.597186    17.215225    21.368098    24.583103   \n50%      22.058003    21.025359    22.027716    30.689666    30.684111   \n75%      27.369054    25.673134    27.259632    40.832695    38.965296   \nmax      95.607635    89.031269    94.223997   147.268519   115.271530   \n\n               134          135          136          137          138  \ncount  2000.000000  2000.000000  2000.000000  2000.000000  2000.000000  \nmean     32.976627    32.223936    -0.107145     0.014077    -0.034479  \nstd      12.576263    12.349744     0.628119     0.654185     0.716014  \nmin     -11.901423   -22.802475   -12.457202    -6.130066   -16.969362  \n25%      24.877148    23.959063    -0.258503    -0.294246    -0.174806  \n50%      31.458817    31.017475    -0.122268     0.019702    -0.018098  \n75%      39.360614    38.430325     0.040192     0.334715     0.134378  \nmax     120.550697   110.984779    15.598820     3.277500     5.829394  \n\n[8 rows x 139 columns]",
      "text/html": "<div>\n<style scoped>\n    .dataframe tbody tr th:only-of-type {\n        vertical-align: middle;\n    }\n\n    .dataframe tbody tr th {\n        vertical-align: top;\n    }\n\n    .dataframe thead th {\n        text-align: right;\n    }\n</style>\n<table border=\"1\" class=\"dataframe\">\n  <thead>\n    <tr style=\"text-align: right;\">\n      <th></th>\n      <th>0</th>\n      <th>1</th>\n      <th>2</th>\n      <th>3</th>\n      <th>4</th>\n      <th>5</th>\n      <th>6</th>\n      <th>7</th>\n      <th>8</th>\n      <th>9</th>\n      <th>...</th>\n      <th>129</th>\n      <th>130</th>\n      <th>131</th>\n      <th>132</th>\n      <th>133</th>\n      <th>134</th>\n      <th>135</th>\n      <th>136</th>\n      <th>137</th>\n      <th>138</th>\n    </tr>\n  </thead>\n  <tbody>\n    <tr>\n      <th>count</th>\n      <td>2000.000000</td>\n      <td>2000.000000</td>\n      <td>2000.000000</td>\n      <td>2000.000000</td>\n      <td>2000.000000</td>\n      <td>2000.000000</td>\n      <td>2000.000000</td>\n      <td>2000.000000</td>\n      <td>2000.000000</td>\n      <td>2000.000000</td>\n      <td>...</td>\n      <td>2000.000000</td>\n      <td>2000.000000</td>\n      <td>2000.000000</td>\n      <td>2000.000000</td>\n      <td>2000.000000</td>\n      <td>2000.000000</td>\n      <td>2000.000000</td>\n      <td>2000.000000</td>\n      <td>2000.000000</td>\n      <td>2000.000000</td>\n    </tr>\n    <tr>\n      <th>mean</th>\n      <td>-161.027651</td>\n      <td>-145.729522</td>\n      <td>-130.529749</td>\n      <td>-119.292113</td>\n      <td>-105.297168</td>\n      <td>-82.411269</td>\n      <td>-57.943890</td>\n      <td>-31.762970</td>\n      <td>4.529596</td>\n      <td>40.614503</td>\n      <td>...</td>\n      <td>22.586416</td>\n      <td>21.486367</td>\n      <td>22.503174</td>\n      <td>31.839961</td>\n      <td>32.523602</td>\n      <td>32.976627</td>\n      <td>32.223936</td>\n      <td>-0.107145</td>\n      <td>0.014077</td>\n      <td>-0.034479</td>\n    </tr>\n    <tr>\n      <th>std</th>\n      <td>172.348274</td>\n      <td>161.509997</td>\n      <td>154.859382</td>\n      <td>148.288296</td>\n      <td>134.525884</td>\n      <td>108.954521</td>\n      <td>81.219695</td>\n      <td>61.905144</td>\n      <td>56.088391</td>\n      <td>62.514947</td>\n      <td>...</td>\n      <td>7.931105</td>\n      <td>7.257393</td>\n      <td>8.005112</td>\n      <td>15.538560</td>\n      <td>12.527156</td>\n      <td>12.576263</td>\n      <td>12.349744</td>\n      <td>0.628119</td>\n      <td>0.654185</td>\n      <td>0.716014</td>\n    </tr>\n    <tr>\n      <th>min</th>\n      <td>-688.513229</td>\n      <td>-638.594984</td>\n      <td>-603.557495</td>\n      <td>-579.051270</td>\n      <td>-527.308899</td>\n      <td>-427.072144</td>\n      <td>-316.031330</td>\n      <td>-229.767166</td>\n      <td>-194.634918</td>\n      <td>-171.953690</td>\n      <td>...</td>\n      <td>-19.663429</td>\n      <td>-9.483186</td>\n      <td>-13.768067</td>\n      <td>-43.711842</td>\n      <td>-13.307638</td>\n      <td>-11.901423</td>\n      <td>-22.802475</td>\n      <td>-12.457202</td>\n      <td>-6.130066</td>\n      <td>-16.969362</td>\n    </tr>\n    <tr>\n      <th>25%</th>\n      <td>-301.119331</td>\n      <td>-278.858643</td>\n      <td>-255.092182</td>\n      <td>-239.337517</td>\n      <td>-214.127460</td>\n      <td>-169.947620</td>\n      <td>-119.411940</td>\n      <td>-74.711836</td>\n      <td>-32.913113</td>\n      <td>0.556930</td>\n      <td>...</td>\n      <td>17.344500</td>\n      <td>16.597186</td>\n      <td>17.215225</td>\n      <td>21.368098</td>\n      <td>24.583103</td>\n      <td>24.877148</td>\n      <td>23.959063</td>\n      <td>-0.258503</td>\n      <td>-0.294246</td>\n      <td>-0.174806</td>\n    </tr>\n    <tr>\n      <th>50%</th>\n      <td>-172.375916</td>\n      <td>-150.646797</td>\n      <td>-128.134998</td>\n      <td>-115.018074</td>\n      <td>-103.833805</td>\n      <td>-87.426094</td>\n      <td>-66.030842</td>\n      <td>-38.407513</td>\n      <td>4.212631</td>\n      <td>47.709356</td>\n      <td>...</td>\n      <td>22.058003</td>\n      <td>21.025359</td>\n      <td>22.027716</td>\n      <td>30.689666</td>\n      <td>30.684111</td>\n      <td>31.458817</td>\n      <td>31.017475</td>\n      <td>-0.122268</td>\n      <td>0.019702</td>\n      <td>-0.018098</td>\n    </tr>\n    <tr>\n      <th>75%</th>\n      <td>-36.034544</td>\n      <td>-26.933035</td>\n      <td>-19.152114</td>\n      <td>-15.572049</td>\n      <td>-14.271688</td>\n      <td>-11.181964</td>\n      <td>-5.402642</td>\n      <td>7.676825</td>\n      <td>41.340690</td>\n      <td>82.517908</td>\n      <td>...</td>\n      <td>27.369054</td>\n      <td>25.673134</td>\n      <td>27.259632</td>\n      <td>40.832695</td>\n      <td>38.965296</td>\n      <td>39.360614</td>\n      <td>38.430325</td>\n      <td>0.040192</td>\n      <td>0.334715</td>\n      <td>0.134378</td>\n    </tr>\n    <tr>\n      <th>max</th>\n      <td>450.365173</td>\n      <td>443.536865</td>\n      <td>449.264740</td>\n      <td>456.870361</td>\n      <td>437.993347</td>\n      <td>380.141937</td>\n      <td>307.159546</td>\n      <td>231.395218</td>\n      <td>250.905136</td>\n      <td>283.856720</td>\n      <td>...</td>\n      <td>95.607635</td>\n      <td>89.031269</td>\n      <td>94.223997</td>\n      <td>147.268519</td>\n      <td>115.271530</td>\n      <td>120.550697</td>\n      <td>110.984779</td>\n      <td>15.598820</td>\n      <td>3.277500</td>\n      <td>5.829394</td>\n    </tr>\n  </tbody>\n</table>\n<p>8 rows × 139 columns</p>\n</div>"
     },
     "execution_count": 14,
     "metadata": {},
     "output_type": "execute_result"
    }
   ]
  },
  {
   "cell_type": "code",
   "source": [
    "# Use pandas to examine the histograms of the dataset columns\n",
    "raw_data.hist(bins = 50, figsize = (20, 5))"
   ],
   "metadata": {
    "id": "F5x-1ojDLTVt",
    "colab": {
     "base_uri": "https://localhost:8080/",
     "height": 509
    },
    "executionInfo": {
     "status": "ok",
     "timestamp": 1649503289793,
     "user_tz": -120,
     "elapsed": 4470,
     "user": {
      "displayName": "Abdelrhman Amr",
      "userId": "09344834973078055484"
     }
    },
    "outputId": "7480f8a7-d079-4c38-ea61-9c14f08821b4",
    "pycharm": {
     "name": "#%%\n"
    }
   },
   "execution_count": 15,
   "outputs": [
    {
     "data": {
      "text/plain": "array([[<AxesSubplot:title={'center':'0'}>,\n        <AxesSubplot:title={'center':'1'}>,\n        <AxesSubplot:title={'center':'2'}>,\n        <AxesSubplot:title={'center':'3'}>,\n        <AxesSubplot:title={'center':'4'}>,\n        <AxesSubplot:title={'center':'5'}>,\n        <AxesSubplot:title={'center':'6'}>,\n        <AxesSubplot:title={'center':'7'}>,\n        <AxesSubplot:title={'center':'8'}>,\n        <AxesSubplot:title={'center':'9'}>,\n        <AxesSubplot:title={'center':'10'}>,\n        <AxesSubplot:title={'center':'11'}>],\n       [<AxesSubplot:title={'center':'12'}>,\n        <AxesSubplot:title={'center':'13'}>,\n        <AxesSubplot:title={'center':'14'}>,\n        <AxesSubplot:title={'center':'15'}>,\n        <AxesSubplot:title={'center':'16'}>,\n        <AxesSubplot:title={'center':'17'}>,\n        <AxesSubplot:title={'center':'18'}>,\n        <AxesSubplot:title={'center':'19'}>,\n        <AxesSubplot:title={'center':'20'}>,\n        <AxesSubplot:title={'center':'21'}>,\n        <AxesSubplot:title={'center':'22'}>,\n        <AxesSubplot:title={'center':'23'}>],\n       [<AxesSubplot:title={'center':'24'}>,\n        <AxesSubplot:title={'center':'25'}>,\n        <AxesSubplot:title={'center':'26'}>,\n        <AxesSubplot:title={'center':'27'}>,\n        <AxesSubplot:title={'center':'28'}>,\n        <AxesSubplot:title={'center':'29'}>,\n        <AxesSubplot:title={'center':'30'}>,\n        <AxesSubplot:title={'center':'31'}>,\n        <AxesSubplot:title={'center':'32'}>,\n        <AxesSubplot:title={'center':'33'}>,\n        <AxesSubplot:title={'center':'34'}>,\n        <AxesSubplot:title={'center':'35'}>],\n       [<AxesSubplot:title={'center':'36'}>,\n        <AxesSubplot:title={'center':'37'}>,\n        <AxesSubplot:title={'center':'38'}>,\n        <AxesSubplot:title={'center':'39'}>,\n        <AxesSubplot:title={'center':'40'}>,\n        <AxesSubplot:title={'center':'41'}>,\n        <AxesSubplot:title={'center':'42'}>,\n        <AxesSubplot:title={'center':'43'}>,\n        <AxesSubplot:title={'center':'44'}>,\n        <AxesSubplot:title={'center':'45'}>,\n        <AxesSubplot:title={'center':'46'}>,\n        <AxesSubplot:title={'center':'47'}>],\n       [<AxesSubplot:title={'center':'48'}>,\n        <AxesSubplot:title={'center':'49'}>,\n        <AxesSubplot:title={'center':'50'}>,\n        <AxesSubplot:title={'center':'51'}>,\n        <AxesSubplot:title={'center':'52'}>,\n        <AxesSubplot:title={'center':'53'}>,\n        <AxesSubplot:title={'center':'54'}>,\n        <AxesSubplot:title={'center':'55'}>,\n        <AxesSubplot:title={'center':'56'}>,\n        <AxesSubplot:title={'center':'57'}>,\n        <AxesSubplot:title={'center':'58'}>,\n        <AxesSubplot:title={'center':'59'}>],\n       [<AxesSubplot:title={'center':'60'}>,\n        <AxesSubplot:title={'center':'61'}>,\n        <AxesSubplot:title={'center':'62'}>,\n        <AxesSubplot:title={'center':'63'}>,\n        <AxesSubplot:title={'center':'64'}>,\n        <AxesSubplot:title={'center':'65'}>,\n        <AxesSubplot:title={'center':'66'}>,\n        <AxesSubplot:title={'center':'67'}>,\n        <AxesSubplot:title={'center':'68'}>,\n        <AxesSubplot:title={'center':'69'}>,\n        <AxesSubplot:title={'center':'70'}>,\n        <AxesSubplot:title={'center':'71'}>],\n       [<AxesSubplot:title={'center':'72'}>,\n        <AxesSubplot:title={'center':'73'}>,\n        <AxesSubplot:title={'center':'74'}>,\n        <AxesSubplot:title={'center':'75'}>,\n        <AxesSubplot:title={'center':'76'}>,\n        <AxesSubplot:title={'center':'77'}>,\n        <AxesSubplot:title={'center':'78'}>,\n        <AxesSubplot:title={'center':'79'}>,\n        <AxesSubplot:title={'center':'80'}>,\n        <AxesSubplot:title={'center':'81'}>,\n        <AxesSubplot:title={'center':'82'}>,\n        <AxesSubplot:title={'center':'83'}>],\n       [<AxesSubplot:title={'center':'84'}>,\n        <AxesSubplot:title={'center':'85'}>,\n        <AxesSubplot:title={'center':'86'}>,\n        <AxesSubplot:title={'center':'87'}>,\n        <AxesSubplot:title={'center':'88'}>,\n        <AxesSubplot:title={'center':'89'}>,\n        <AxesSubplot:title={'center':'90'}>,\n        <AxesSubplot:title={'center':'91'}>,\n        <AxesSubplot:title={'center':'92'}>,\n        <AxesSubplot:title={'center':'93'}>,\n        <AxesSubplot:title={'center':'94'}>,\n        <AxesSubplot:title={'center':'95'}>],\n       [<AxesSubplot:title={'center':'96'}>,\n        <AxesSubplot:title={'center':'97'}>,\n        <AxesSubplot:title={'center':'98'}>,\n        <AxesSubplot:title={'center':'99'}>,\n        <AxesSubplot:title={'center':'100'}>,\n        <AxesSubplot:title={'center':'101'}>,\n        <AxesSubplot:title={'center':'102'}>,\n        <AxesSubplot:title={'center':'103'}>,\n        <AxesSubplot:title={'center':'104'}>,\n        <AxesSubplot:title={'center':'105'}>,\n        <AxesSubplot:title={'center':'106'}>,\n        <AxesSubplot:title={'center':'107'}>],\n       [<AxesSubplot:title={'center':'108'}>,\n        <AxesSubplot:title={'center':'109'}>,\n        <AxesSubplot:title={'center':'110'}>,\n        <AxesSubplot:title={'center':'111'}>,\n        <AxesSubplot:title={'center':'112'}>,\n        <AxesSubplot:title={'center':'113'}>,\n        <AxesSubplot:title={'center':'114'}>,\n        <AxesSubplot:title={'center':'115'}>,\n        <AxesSubplot:title={'center':'116'}>,\n        <AxesSubplot:title={'center':'117'}>,\n        <AxesSubplot:title={'center':'118'}>,\n        <AxesSubplot:title={'center':'119'}>],\n       [<AxesSubplot:title={'center':'120'}>,\n        <AxesSubplot:title={'center':'121'}>,\n        <AxesSubplot:title={'center':'122'}>,\n        <AxesSubplot:title={'center':'123'}>,\n        <AxesSubplot:title={'center':'124'}>,\n        <AxesSubplot:title={'center':'125'}>,\n        <AxesSubplot:title={'center':'126'}>,\n        <AxesSubplot:title={'center':'127'}>,\n        <AxesSubplot:title={'center':'128'}>,\n        <AxesSubplot:title={'center':'129'}>,\n        <AxesSubplot:title={'center':'130'}>,\n        <AxesSubplot:title={'center':'131'}>],\n       [<AxesSubplot:title={'center':'132'}>,\n        <AxesSubplot:title={'center':'133'}>,\n        <AxesSubplot:title={'center':'134'}>,\n        <AxesSubplot:title={'center':'135'}>,\n        <AxesSubplot:title={'center':'136'}>,\n        <AxesSubplot:title={'center':'137'}>,\n        <AxesSubplot:title={'center':'138'}>, <AxesSubplot:>,\n        <AxesSubplot:>, <AxesSubplot:>, <AxesSubplot:>, <AxesSubplot:>]],\n      dtype=object)"
     },
     "execution_count": 15,
     "metadata": {},
     "output_type": "execute_result"
    },
    {
     "data": {
      "text/plain": "<Figure size 1440x360 with 144 Axes>",
      "image/png": "[encoded data removed]"
     },
     "metadata": {},
     "output_type": "display_data"
    }
   ]
  },
  {
   "cell_type": "code",
   "execution_count": null,
   "outputs": [],
   "source": [],
   "metadata": {
    "collapsed": false,
    "pycharm": {
     "name": "#%%\n"
    }
   }
  },
  {
   "cell_type": "markdown",
   "source": [
    "### 12.3.4 Feature selection"
   ],
   "metadata": {
    "collapsed": false,
    "pycharm": {
     "name": "#%% md\n"
    }
   }
  },
  {
   "cell_type": "markdown",
   "source": [
    "#### 6 * 2 (12) Selected Features"
   ],
   "metadata": {
    "collapsed": false,
    "pycharm": {
     "name": "#%% md\n"
    }
   }
  },
  {
   "cell_type": "code",
   "execution_count": 16,
   "outputs": [],
   "source": [
    "# preprocessed_data.head()"
   ],
   "metadata": {
    "collapsed": false,
    "pycharm": {
     "name": "#%%\n"
    }
   }
  },
  {
   "cell_type": "code",
   "execution_count": 17,
   "outputs": [],
   "source": [
    "y_shift = 68\n",
    "xy_list = [\"8\", \"30\", \"36\", \"45\", \"48\", \"54\", str(8 + y_shift), str(30+ y_shift), str(36+ y_shift), str(45+ y_shift), str(48+ y_shift), str(54+ y_shift)]"
   ],
   "metadata": {
    "collapsed": false,
    "pycharm": {
     "name": "#%%\n"
    }
   }
  },
  {
   "cell_type": "code",
   "execution_count": 18,
   "outputs": [
    {
     "data": {
      "text/plain": "               8   30         36          45         48         54  \\\n0     -14.111894  0.0 -86.359016  106.336342 -30.031094  26.998892   \n1      28.008690  0.0  21.224506   87.224571  17.199062  36.792374   \n2      66.071434  0.0   1.588908   75.432022  10.259671  62.989285   \n3      77.960678  0.0 -51.532242   75.439499  -1.953755  47.359287   \n4     117.214203  0.0  18.197535   43.354347  41.828522  50.799007   \n...          ...  ...        ...         ...        ...        ...   \n1995  -22.451447  0.0 -93.322311   83.622391 -35.866840  13.064929   \n1996  -67.560341  0.0 -64.692429  -42.177132 -38.351772 -29.710566   \n1997  101.067543  0.0  30.064106   34.064278  42.956017  35.391064   \n1998 -115.421379  0.0 -80.298431  -24.869637 -79.169510 -39.022976   \n1999  -18.144213  0.0 -83.659439   39.489162 -39.097717  17.056860   \n\n              76   98         104         113        116        122  \n0     118.895439  0.0 -113.501427  -96.190041  15.743551  30.036949  \n1     110.996643  0.0  -14.575986  -47.475929  41.431324  37.294151  \n2     122.090889  0.0  -21.086123  -54.626640  19.358028  30.239342  \n3     119.697502  0.0  -39.710144 -109.029472  17.709976  14.575475  \n4     113.820282  0.0  -26.361544  -55.706600  24.907581  25.577152  \n...          ...  ...         ...         ...        ...        ...  \n1995  122.037125  0.0  -99.898163  -76.346306  28.305943  27.082804  \n1996  139.443069  0.0  -44.510262  -44.987659  38.236877  29.931149  \n1997  170.863983  0.0  -34.622532  -41.561020  32.742657  36.174358  \n1998  169.861359  0.0  -61.671631  -36.180676  46.347412  38.866211  \n1999  189.749039  0.0  -49.308666  -39.183788  52.147461  39.379223  \n\n[2000 rows x 12 columns]",
      "text/html": "<div>\n<style scoped>\n    .dataframe tbody tr th:only-of-type {\n        vertical-align: middle;\n    }\n\n    .dataframe tbody tr th {\n        vertical-align: top;\n    }\n\n    .dataframe thead th {\n        text-align: right;\n    }\n</style>\n<table border=\"1\" class=\"dataframe\">\n  <thead>\n    <tr style=\"text-align: right;\">\n      <th></th>\n      <th>8</th>\n      <th>30</th>\n      <th>36</th>\n      <th>45</th>\n      <th>48</th>\n      <th>54</th>\n      <th>76</th>\n      <th>98</th>\n      <th>104</th>\n      <th>113</th>\n      <th>116</th>\n      <th>122</th>\n    </tr>\n  </thead>\n  <tbody>\n    <tr>\n      <th>0</th>\n      <td>-14.111894</td>\n      <td>0.0</td>\n      <td>-86.359016</td>\n      <td>106.336342</td>\n      <td>-30.031094</td>\n      <td>26.998892</td>\n      <td>118.895439</td>\n      <td>0.0</td>\n      <td>-113.501427</td>\n      <td>-96.190041</td>\n      <td>15.743551</td>\n      <td>30.036949</td>\n    </tr>\n    <tr>\n      <th>1</th>\n      <td>28.008690</td>\n      <td>0.0</td>\n      <td>21.224506</td>\n      <td>87.224571</td>\n      <td>17.199062</td>\n      <td>36.792374</td>\n      <td>110.996643</td>\n      <td>0.0</td>\n      <td>-14.575986</td>\n      <td>-47.475929</td>\n      <td>41.431324</td>\n      <td>37.294151</td>\n    </tr>\n    <tr>\n      <th>2</th>\n      <td>66.071434</td>\n      <td>0.0</td>\n      <td>1.588908</td>\n      <td>75.432022</td>\n      <td>10.259671</td>\n      <td>62.989285</td>\n      <td>122.090889</td>\n      <td>0.0</td>\n      <td>-21.086123</td>\n      <td>-54.626640</td>\n      <td>19.358028</td>\n      <td>30.239342</td>\n    </tr>\n    <tr>\n      <th>3</th>\n      <td>77.960678</td>\n      <td>0.0</td>\n      <td>-51.532242</td>\n      <td>75.439499</td>\n      <td>-1.953755</td>\n      <td>47.359287</td>\n      <td>119.697502</td>\n      <td>0.0</td>\n      <td>-39.710144</td>\n      <td>-109.029472</td>\n      <td>17.709976</td>\n      <td>14.575475</td>\n    </tr>\n    <tr>\n      <th>4</th>\n      <td>117.214203</td>\n      <td>0.0</td>\n      <td>18.197535</td>\n      <td>43.354347</td>\n      <td>41.828522</td>\n      <td>50.799007</td>\n      <td>113.820282</td>\n      <td>0.0</td>\n      <td>-26.361544</td>\n      <td>-55.706600</td>\n      <td>24.907581</td>\n      <td>25.577152</td>\n    </tr>\n    <tr>\n      <th>...</th>\n      <td>...</td>\n      <td>...</td>\n      <td>...</td>\n      <td>...</td>\n      <td>...</td>\n      <td>...</td>\n      <td>...</td>\n      <td>...</td>\n      <td>...</td>\n      <td>...</td>\n      <td>...</td>\n      <td>...</td>\n    </tr>\n    <tr>\n      <th>1995</th>\n      <td>-22.451447</td>\n      <td>0.0</td>\n      <td>-93.322311</td>\n      <td>83.622391</td>\n      <td>-35.866840</td>\n      <td>13.064929</td>\n      <td>122.037125</td>\n      <td>0.0</td>\n      <td>-99.898163</td>\n      <td>-76.346306</td>\n      <td>28.305943</td>\n      <td>27.082804</td>\n    </tr>\n    <tr>\n      <th>1996</th>\n      <td>-67.560341</td>\n      <td>0.0</td>\n      <td>-64.692429</td>\n      <td>-42.177132</td>\n      <td>-38.351772</td>\n      <td>-29.710566</td>\n      <td>139.443069</td>\n      <td>0.0</td>\n      <td>-44.510262</td>\n      <td>-44.987659</td>\n      <td>38.236877</td>\n      <td>29.931149</td>\n    </tr>\n    <tr>\n      <th>1997</th>\n      <td>101.067543</td>\n      <td>0.0</td>\n      <td>30.064106</td>\n      <td>34.064278</td>\n      <td>42.956017</td>\n      <td>35.391064</td>\n      <td>170.863983</td>\n      <td>0.0</td>\n      <td>-34.622532</td>\n      <td>-41.561020</td>\n      <td>32.742657</td>\n      <td>36.174358</td>\n    </tr>\n    <tr>\n      <th>1998</th>\n      <td>-115.421379</td>\n      <td>0.0</td>\n      <td>-80.298431</td>\n      <td>-24.869637</td>\n      <td>-79.169510</td>\n      <td>-39.022976</td>\n      <td>169.861359</td>\n      <td>0.0</td>\n      <td>-61.671631</td>\n      <td>-36.180676</td>\n      <td>46.347412</td>\n      <td>38.866211</td>\n    </tr>\n    <tr>\n      <th>1999</th>\n      <td>-18.144213</td>\n      <td>0.0</td>\n      <td>-83.659439</td>\n      <td>39.489162</td>\n      <td>-39.097717</td>\n      <td>17.056860</td>\n      <td>189.749039</td>\n      <td>0.0</td>\n      <td>-49.308666</td>\n      <td>-39.183788</td>\n      <td>52.147461</td>\n      <td>39.379223</td>\n    </tr>\n  </tbody>\n</table>\n<p>2000 rows × 12 columns</p>\n</div>"
     },
     "execution_count": 18,
     "metadata": {},
     "output_type": "execute_result"
    }
   ],
   "source": [
    "X = raw_data[xy_list]\n",
    "X"
   ],
   "metadata": {
    "collapsed": false,
    "pycharm": {
     "name": "#%%\n"
    }
   }
  },
  {
   "cell_type": "markdown",
   "source": [
    "Next, we can explore the dataset."
   ],
   "metadata": {
    "collapsed": false,
    "pycharm": {
     "name": "#%% md\n"
    }
   }
  },
  {
   "cell_type": "code",
   "execution_count": 19,
   "outputs": [
    {
     "data": {
      "text/plain": "(2000, 12)"
     },
     "execution_count": 19,
     "metadata": {},
     "output_type": "execute_result"
    }
   ],
   "source": [
    "X.shape"
   ],
   "metadata": {
    "collapsed": false,
    "pycharm": {
     "name": "#%%\n"
    }
   }
  },
  {
   "cell_type": "code",
   "execution_count": 20,
   "outputs": [
    {
     "data": {
      "text/plain": "2000"
     },
     "execution_count": 20,
     "metadata": {},
     "output_type": "execute_result"
    }
   ],
   "source": [
    "X.shape[0]"
   ],
   "metadata": {
    "collapsed": false,
    "pycharm": {
     "name": "#%%\n"
    }
   }
  },
  {
   "cell_type": "code",
   "execution_count": 21,
   "outputs": [
    {
     "data": {
      "text/plain": "12"
     },
     "execution_count": 21,
     "metadata": {},
     "output_type": "execute_result"
    }
   ],
   "source": [
    "X.shape[1]"
   ],
   "metadata": {
    "collapsed": false,
    "pycharm": {
     "name": "#%%\n"
    }
   }
  },
  {
   "cell_type": "markdown",
   "metadata": {
    "id": "mw-TKDt1fqKV",
    "pycharm": {
     "name": "#%% md\n"
    }
   },
   "source": [
    "### 12.3.5 Saving for future use"
   ]
  },
  {
   "cell_type": "code",
   "metadata": {
    "id": "MzlAdRmffqKW",
    "pycharm": {
     "name": "#%%\n"
    }
   },
   "source": [
    "#preprocessed_data.to_csv('./preprocessed_titanic_data.csv', index=None)"
   ],
   "execution_count": 22,
   "outputs": []
  },
  {
   "cell_type": "markdown",
   "metadata": {
    "id": "bS3XGQrXfqKW",
    "pycharm": {
     "name": "#%% md\n"
    }
   },
   "source": [
    "# 12.4 Training models"
   ]
  },
  {
   "cell_type": "markdown",
   "metadata": {
    "id": "akXchKUDfqKW",
    "pycharm": {
     "name": "#%% md\n"
    }
   },
   "source": [
    "### 12.4.1 Features-labels split and train-validation split"
   ]
  },
  {
   "cell_type": "code",
   "execution_count": 22,
   "outputs": [],
   "source": [
    "# features = raw_data[xy_list]\n",
    "features = raw_data.iloc[:,0:136].to_numpy()"
   ],
   "metadata": {
    "collapsed": false,
    "pycharm": {
     "name": "#%%\n"
    }
   }
  },
  {
   "cell_type": "code",
   "execution_count": 54,
   "outputs": [],
   "source": [
    "#pitch, yaw, roll\n",
    "# p = data[[\"136\"]].to_numpy()\n",
    "labels = raw_data[[\"138\"]].to_numpy()\n",
    "# y = raw_data[[\"137\"]].to_numpy()\n",
    "# r = raw_data[[\"138\"]].to_numpy()"
   ],
   "metadata": {
    "collapsed": false,
    "pycharm": {
     "name": "#%%\n"
    }
   }
  },
  {
   "cell_type": "code",
   "metadata": {
    "id": "U-gIWUBhfqKY",
    "executionInfo": {
     "status": "ok",
     "timestamp": 1649550560338,
     "user_tz": -120,
     "elapsed": 703,
     "user": {
      "displayName": "Abdelrhman Amr",
      "userId": "09344834973078055484"
     }
    },
    "pycharm": {
     "name": "#%%\n"
    }
   },
   "source": [
    "from sklearn.model_selection import train_test_split"
   ],
   "execution_count": 55,
   "outputs": []
  },
  {
   "cell_type": "code",
   "metadata": {
    "id": "p3CZd8UGfqKY",
    "executionInfo": {
     "status": "ok",
     "timestamp": 1649550560338,
     "user_tz": -120,
     "elapsed": 3,
     "user": {
      "displayName": "Abdelrhman Amr",
      "userId": "09344834973078055484"
     }
    },
    "pycharm": {
     "name": "#%%\n"
    }
   },
   "source": [
    "# split data by 60% train ; use random_state=100\n",
    "features_train, features_validation_test, labels_train, labels_validation_test = train_test_split(features, labels, test_size = 0.4, random_state=100)"
   ],
   "execution_count": 56,
   "outputs": []
  },
  {
   "cell_type": "code",
   "metadata": {
    "id": "oZXTP5lgfqKY",
    "executionInfo": {
     "status": "ok",
     "timestamp": 1649550561048,
     "user_tz": -120,
     "elapsed": 2,
     "user": {
      "displayName": "Abdelrhman Amr",
      "userId": "09344834973078055484"
     }
    },
    "pycharm": {
     "name": "#%%\n"
    }
   },
   "source": [
    "# split test data by 50% validation and 50% test ; use random_state=100\n",
    "features_validation, features_test, labels_validation, labels_test = train_test_split(features_validation_test, labels_validation_test, test_size = 0.5, random_state=100)"
   ],
   "execution_count": 57,
   "outputs": []
  },
  {
   "cell_type": "code",
   "metadata": {
    "id": "oCRpVXr0fqKY",
    "colab": {
     "base_uri": "https://localhost:8080/"
    },
    "executionInfo": {
     "status": "ok",
     "timestamp": 1649550561629,
     "user_tz": -120,
     "elapsed": 2,
     "user": {
      "displayName": "Abdelrhman Amr",
      "userId": "09344834973078055484"
     }
    },
    "outputId": "f2648227-abfa-4b64-959b-95164f2f13cd",
    "pycharm": {
     "name": "#%%\n"
    }
   },
   "source": [
    "print(len(features_train))\n",
    "print(len(features_validation))\n",
    "print(len(features_test))\n",
    "print(len(labels_train))\n",
    "print(len(labels_validation))\n",
    "print(len(labels_test))"
   ],
   "execution_count": 58,
   "outputs": [
    {
     "name": "stdout",
     "output_type": "stream",
     "text": [
      "1200\n",
      "400\n",
      "400\n",
      "1200\n",
      "400\n",
      "400\n"
     ]
    }
   ]
  },
  {
   "cell_type": "markdown",
   "metadata": {
    "id": "5dJMAfTUfqKZ",
    "pycharm": {
     "name": "#%% md\n"
    }
   },
   "source": [
    "### 12.4.2 Training different models on our dataset\n",
    "\n",
    "We'll train six models:\n",
    "- Linear Regression\n",
    "- Decision tree Regressor\n",
    "- Support vector Regression (SVR)\n",
    "- RandomForestRegressor\n",
    "- GradientBoostingRegressor\n",
    "- AdaBoostRegressor"
   ]
  },
  {
   "cell_type": "code",
   "execution_count": 59,
   "outputs": [],
   "source": [
    "# Train linear regression model\n",
    "from sklearn.linear_model import LinearRegression\n",
    "\n",
    "lr_model = LinearRegression().fit(features_train, labels_train)"
   ],
   "metadata": {
    "collapsed": false,
    "pycharm": {
     "name": "#%%\n"
    }
   }
  },
  {
   "cell_type": "code",
   "metadata": {
    "id": "DThp9iwIfqKZ",
    "executionInfo": {
     "status": "ok",
     "timestamp": 1649550563656,
     "user_tz": -120,
     "elapsed": 282,
     "user": {
      "displayName": "Abdelrhman Amr",
      "userId": "09344834973078055484"
     }
    },
    "pycharm": {
     "name": "#%%\n"
    }
   },
   "source": [
    "# Train decision tree model ; don't use any hyperparameter\n",
    "from sklearn.tree import DecisionTreeRegressor\n",
    "\n",
    "dt_model = DecisionTreeRegressor().fit(features_train, labels_train)"
   ],
   "execution_count": 60,
   "outputs": []
  },
  {
   "cell_type": "code",
   "metadata": {
    "id": "8yMO82c9fqKa",
    "executionInfo": {
     "status": "ok",
     "timestamp": 1649550563957,
     "user_tz": -120,
     "elapsed": 1,
     "user": {
      "displayName": "Abdelrhman Amr",
      "userId": "09344834973078055484"
     }
    },
    "pycharm": {
     "name": "#%%\n"
    }
   },
   "source": [
    "# Train SVM model ; don't use any hyperparameter\n",
    "from sklearn.svm import SVR\n",
    "\n",
    "svm_model = SVR().fit(features_train, labels_train)"
   ],
   "execution_count": 61,
   "outputs": [
    {
     "name": "stderr",
     "output_type": "stream",
     "text": [
      "D:\\Applications\\Anaconda\\Installation\\lib\\site-packages\\sklearn\\utils\\validation.py:63: DataConversionWarning: A column-vector y was passed when a 1d array was expected. Please change the shape of y to (n_samples, ), for example using ravel().\n",
      "  return f(*args, **kwargs)\n"
     ]
    }
   ]
  },
  {
   "cell_type": "code",
   "metadata": {
    "id": "yhIfxavqfqKa",
    "executionInfo": {
     "status": "ok",
     "timestamp": 1649550565109,
     "user_tz": -120,
     "elapsed": 281,
     "user": {
      "displayName": "Abdelrhman Amr",
      "userId": "09344834973078055484"
     }
    },
    "pycharm": {
     "name": "#%%\n"
    }
   },
   "source": [
    "# Train random forest model ; don't use any hyperparameter\n",
    "from sklearn.ensemble import RandomForestRegressor\n",
    "\n",
    "rf_model = RandomForestRegressor().fit(features_train, labels_train)"
   ],
   "execution_count": 62,
   "outputs": [
    {
     "name": "stderr",
     "output_type": "stream",
     "text": [
      "C:\\Users\\ABDELR~1\\AppData\\Local\\Temp/ipykernel_3860/198170182.py:4: DataConversionWarning: A column-vector y was passed when a 1d array was expected. Please change the shape of y to (n_samples,), for example using ravel().\n",
      "  rf_model = RandomForestRegressor().fit(features_train, labels_train)\n"
     ]
    }
   ]
  },
  {
   "cell_type": "code",
   "metadata": {
    "id": "EW7wDPHIfqKa",
    "executionInfo": {
     "status": "ok",
     "timestamp": 1649550565109,
     "user_tz": -120,
     "elapsed": 2,
     "user": {
      "displayName": "Abdelrhman Amr",
      "userId": "09344834973078055484"
     }
    },
    "pycharm": {
     "name": "#%%\n"
    }
   },
   "source": [
    "# Train gradient boosting model ; don't use any hyperparameter\n",
    "from sklearn.ensemble import GradientBoostingRegressor\n",
    "\n",
    "gb_model = GradientBoostingRegressor().fit(features_train, labels_train)"
   ],
   "execution_count": 63,
   "outputs": [
    {
     "name": "stderr",
     "output_type": "stream",
     "text": [
      "D:\\Applications\\Anaconda\\Installation\\lib\\site-packages\\sklearn\\utils\\validation.py:63: DataConversionWarning: A column-vector y was passed when a 1d array was expected. Please change the shape of y to (n_samples, ), for example using ravel().\n",
      "  return f(*args, **kwargs)\n"
     ]
    }
   ]
  },
  {
   "cell_type": "code",
   "metadata": {
    "id": "YPmyHC-ZfqKa",
    "executionInfo": {
     "status": "ok",
     "timestamp": 1649550565406,
     "user_tz": -120,
     "elapsed": 2,
     "user": {
      "displayName": "Abdelrhman Amr",
      "userId": "09344834973078055484"
     }
    },
    "pycharm": {
     "name": "#%%\n"
    }
   },
   "source": [
    "# Train Adaboost model ; don't use any hyperparameter\n",
    "from sklearn.ensemble import AdaBoostRegressor\n",
    "\n",
    "ab_model = AdaBoostRegressor().fit(features_train, labels_train)"
   ],
   "execution_count": 64,
   "outputs": [
    {
     "name": "stderr",
     "output_type": "stream",
     "text": [
      "D:\\Applications\\Anaconda\\Installation\\lib\\site-packages\\sklearn\\utils\\validation.py:63: DataConversionWarning: A column-vector y was passed when a 1d array was expected. Please change the shape of y to (n_samples, ), for example using ravel().\n",
      "  return f(*args, **kwargs)\n"
     ]
    }
   ]
  },
  {
   "cell_type": "code",
   "execution_count": 65,
   "outputs": [],
   "source": [
    "# Train Adaboost model ; don't use any hyperparameter\n",
    "from sklearn.multioutput import MultiOutputRegressor\n",
    "labels_train = raw_data.iloc[0:1200,136:140].to_numpy()\n",
    "# ab_model = AdaBoostRegressor().fit(features_train, labels_train)\n",
    "mor_model = MultiOutputRegressor(GradientBoostingRegressor(random_state=0)).fit(features_train, labels_train)\n",
    "    # .predict(features_validation)"
   ],
   "metadata": {
    "collapsed": false,
    "pycharm": {
     "name": "#%%\n"
    }
   }
  },
  {
   "cell_type": "markdown",
   "metadata": {
    "id": "6jF0KbS_fqKb",
    "pycharm": {
     "name": "#%% md\n"
    }
   },
   "source": [
    "### 12.4.3 Evaluating the models\n",
    "\n",
    "#### Accuracy"
   ]
  },
  {
   "cell_type": "code",
   "metadata": {
    "id": "hjeMJk4KfqKb",
    "colab": {
     "base_uri": "https://localhost:8080/"
    },
    "executionInfo": {
     "status": "ok",
     "timestamp": 1649550566317,
     "user_tz": -120,
     "elapsed": 2,
     "user": {
      "displayName": "Abdelrhman Amr",
      "userId": "09344834973078055484"
     }
    },
    "outputId": "fc559e6f-4639-4fe5-8c9e-6238c0a4533c",
    "pycharm": {
     "name": "#%%\n"
    }
   },
   "source": [
    "# print accuracy of each model on validation data\n",
    "print(\"Scores of the models\")\n",
    "print(\"Linear regression:\", lr_model.score(features_validation,labels_validation))\n",
    "print(\"Decision tree:\", dt_model.score(features_validation,labels_validation))\n",
    "print(\"SVR:\", svm_model.score(features_validation,labels_validation))\n",
    "print(\"Random forest:\", rf_model.score(features_validation,labels_validation))\n",
    "print(\"Gradient boosting:\", gb_model.score(features_validation,labels_validation))\n",
    "print(\"AdaBoost:\", ab_model.score(features_validation,labels_validation))"
   ],
   "execution_count": 66,
   "outputs": [
    {
     "name": "stdout",
     "output_type": "stream",
     "text": [
      "Scores of the models\n",
      "Linear regression: 0.19650861690647092\n",
      "Decision tree: 0.5811634185513159\n",
      "SVR: 0.13121994544967064\n",
      "Random forest: 0.6082313171477245\n",
      "Gradient boosting: 0.7319123693352193\n",
      "AdaBoost: 0.7603695129405954\n"
     ]
    }
   ]
  },
  {
   "cell_type": "code",
   "execution_count": 67,
   "outputs": [
    {
     "ename": "ValueError",
     "evalue": "y_true and y_pred have different number of output (1!=3)",
     "output_type": "error",
     "traceback": [
      "\u001B[1;31m---------------------------------------------------------------------------\u001B[0m",
      "\u001B[1;31mValueError\u001B[0m                                Traceback (most recent call last)",
      "\u001B[1;32mC:\\Users\\ABDELR~1\\AppData\\Local\\Temp/ipykernel_3860/3992625779.py\u001B[0m in \u001B[0;36m<module>\u001B[1;34m\u001B[0m\n\u001B[1;32m----> 1\u001B[1;33m \u001B[0mprint\u001B[0m\u001B[1;33m(\u001B[0m\u001B[1;34m\"MultiOutputRegressor:\"\u001B[0m\u001B[1;33m,\u001B[0m \u001B[0mmor_model\u001B[0m\u001B[1;33m.\u001B[0m\u001B[0mscore\u001B[0m\u001B[1;33m(\u001B[0m\u001B[0mfeatures_validation\u001B[0m\u001B[1;33m,\u001B[0m\u001B[0mlabels_validation\u001B[0m\u001B[1;33m)\u001B[0m\u001B[1;33m)\u001B[0m\u001B[1;33m\u001B[0m\u001B[1;33m\u001B[0m\u001B[0m\n\u001B[0m",
      "\u001B[1;32mD:\\Applications\\Anaconda\\Installation\\lib\\site-packages\\sklearn\\base.py\u001B[0m in \u001B[0;36mscore\u001B[1;34m(self, X, y, sample_weight)\u001B[0m\n\u001B[0;32m    552\u001B[0m         \u001B[1;32mfrom\u001B[0m \u001B[1;33m.\u001B[0m\u001B[0mmetrics\u001B[0m \u001B[1;32mimport\u001B[0m \u001B[0mr2_score\u001B[0m\u001B[1;33m\u001B[0m\u001B[1;33m\u001B[0m\u001B[0m\n\u001B[0;32m    553\u001B[0m         \u001B[0my_pred\u001B[0m \u001B[1;33m=\u001B[0m \u001B[0mself\u001B[0m\u001B[1;33m.\u001B[0m\u001B[0mpredict\u001B[0m\u001B[1;33m(\u001B[0m\u001B[0mX\u001B[0m\u001B[1;33m)\u001B[0m\u001B[1;33m\u001B[0m\u001B[1;33m\u001B[0m\u001B[0m\n\u001B[1;32m--> 554\u001B[1;33m         \u001B[1;32mreturn\u001B[0m \u001B[0mr2_score\u001B[0m\u001B[1;33m(\u001B[0m\u001B[0my\u001B[0m\u001B[1;33m,\u001B[0m \u001B[0my_pred\u001B[0m\u001B[1;33m,\u001B[0m \u001B[0msample_weight\u001B[0m\u001B[1;33m=\u001B[0m\u001B[0msample_weight\u001B[0m\u001B[1;33m)\u001B[0m\u001B[1;33m\u001B[0m\u001B[1;33m\u001B[0m\u001B[0m\n\u001B[0m\u001B[0;32m    555\u001B[0m \u001B[1;33m\u001B[0m\u001B[0m\n\u001B[0;32m    556\u001B[0m     \u001B[1;32mdef\u001B[0m \u001B[0m_more_tags\u001B[0m\u001B[1;33m(\u001B[0m\u001B[0mself\u001B[0m\u001B[1;33m)\u001B[0m\u001B[1;33m:\u001B[0m\u001B[1;33m\u001B[0m\u001B[1;33m\u001B[0m\u001B[0m\n",
      "\u001B[1;32mD:\\Applications\\Anaconda\\Installation\\lib\\site-packages\\sklearn\\utils\\validation.py\u001B[0m in \u001B[0;36minner_f\u001B[1;34m(*args, **kwargs)\u001B[0m\n\u001B[0;32m     61\u001B[0m             \u001B[0mextra_args\u001B[0m \u001B[1;33m=\u001B[0m \u001B[0mlen\u001B[0m\u001B[1;33m(\u001B[0m\u001B[0margs\u001B[0m\u001B[1;33m)\u001B[0m \u001B[1;33m-\u001B[0m \u001B[0mlen\u001B[0m\u001B[1;33m(\u001B[0m\u001B[0mall_args\u001B[0m\u001B[1;33m)\u001B[0m\u001B[1;33m\u001B[0m\u001B[1;33m\u001B[0m\u001B[0m\n\u001B[0;32m     62\u001B[0m             \u001B[1;32mif\u001B[0m \u001B[0mextra_args\u001B[0m \u001B[1;33m<=\u001B[0m \u001B[1;36m0\u001B[0m\u001B[1;33m:\u001B[0m\u001B[1;33m\u001B[0m\u001B[1;33m\u001B[0m\u001B[0m\n\u001B[1;32m---> 63\u001B[1;33m                 \u001B[1;32mreturn\u001B[0m \u001B[0mf\u001B[0m\u001B[1;33m(\u001B[0m\u001B[1;33m*\u001B[0m\u001B[0margs\u001B[0m\u001B[1;33m,\u001B[0m \u001B[1;33m**\u001B[0m\u001B[0mkwargs\u001B[0m\u001B[1;33m)\u001B[0m\u001B[1;33m\u001B[0m\u001B[1;33m\u001B[0m\u001B[0m\n\u001B[0m\u001B[0;32m     64\u001B[0m \u001B[1;33m\u001B[0m\u001B[0m\n\u001B[0;32m     65\u001B[0m             \u001B[1;31m# extra_args > 0\u001B[0m\u001B[1;33m\u001B[0m\u001B[1;33m\u001B[0m\u001B[0m\n",
      "\u001B[1;32mD:\\Applications\\Anaconda\\Installation\\lib\\site-packages\\sklearn\\metrics\\_regression.py\u001B[0m in \u001B[0;36mr2_score\u001B[1;34m(y_true, y_pred, sample_weight, multioutput)\u001B[0m\n\u001B[0;32m    674\u001B[0m     \u001B[1;33m-\u001B[0m\u001B[1;36m3.0\u001B[0m\u001B[1;33m\u001B[0m\u001B[1;33m\u001B[0m\u001B[0m\n\u001B[0;32m    675\u001B[0m     \"\"\"\n\u001B[1;32m--> 676\u001B[1;33m     y_type, y_true, y_pred, multioutput = _check_reg_targets(\n\u001B[0m\u001B[0;32m    677\u001B[0m         y_true, y_pred, multioutput)\n\u001B[0;32m    678\u001B[0m     \u001B[0mcheck_consistent_length\u001B[0m\u001B[1;33m(\u001B[0m\u001B[0my_true\u001B[0m\u001B[1;33m,\u001B[0m \u001B[0my_pred\u001B[0m\u001B[1;33m,\u001B[0m \u001B[0msample_weight\u001B[0m\u001B[1;33m)\u001B[0m\u001B[1;33m\u001B[0m\u001B[1;33m\u001B[0m\u001B[0m\n",
      "\u001B[1;32mD:\\Applications\\Anaconda\\Installation\\lib\\site-packages\\sklearn\\metrics\\_regression.py\u001B[0m in \u001B[0;36m_check_reg_targets\u001B[1;34m(y_true, y_pred, multioutput, dtype)\u001B[0m\n\u001B[0;32m     97\u001B[0m \u001B[1;33m\u001B[0m\u001B[0m\n\u001B[0;32m     98\u001B[0m     \u001B[1;32mif\u001B[0m \u001B[0my_true\u001B[0m\u001B[1;33m.\u001B[0m\u001B[0mshape\u001B[0m\u001B[1;33m[\u001B[0m\u001B[1;36m1\u001B[0m\u001B[1;33m]\u001B[0m \u001B[1;33m!=\u001B[0m \u001B[0my_pred\u001B[0m\u001B[1;33m.\u001B[0m\u001B[0mshape\u001B[0m\u001B[1;33m[\u001B[0m\u001B[1;36m1\u001B[0m\u001B[1;33m]\u001B[0m\u001B[1;33m:\u001B[0m\u001B[1;33m\u001B[0m\u001B[1;33m\u001B[0m\u001B[0m\n\u001B[1;32m---> 99\u001B[1;33m         raise ValueError(\"y_true and y_pred have different number of output \"\n\u001B[0m\u001B[0;32m    100\u001B[0m                          \"({0}!={1})\".format(y_true.shape[1], y_pred.shape[1]))\n\u001B[0;32m    101\u001B[0m \u001B[1;33m\u001B[0m\u001B[0m\n",
      "\u001B[1;31mValueError\u001B[0m: y_true and y_pred have different number of output (1!=3)"
     ]
    }
   ],
   "source": [
    "print(\"MultiOutputRegressor:\", mor_model.score(features_validation,labels_validation))"
   ],
   "metadata": {
    "collapsed": false,
    "pycharm": {
     "name": "#%%\n"
    }
   }
  },
  {
   "cell_type": "markdown",
   "metadata": {
    "id": "gCUK9NJXfqKb",
    "pycharm": {
     "name": "#%% md\n"
    }
   },
   "source": [
    "#### R2-score"
   ]
  },
  {
   "cell_type": "code",
   "metadata": {
    "id": "QU9uZMJkfqKb",
    "colab": {
     "base_uri": "https://localhost:8080/"
    },
    "executionInfo": {
     "status": "ok",
     "timestamp": 1649550567068,
     "user_tz": -120,
     "elapsed": 3,
     "user": {
      "displayName": "Abdelrhman Amr",
      "userId": "09344834973078055484"
     }
    },
    "outputId": "1a03abf9-ffe7-433b-c1e6-dd15799d304c",
    "pycharm": {
     "name": "#%%\n"
    }
   },
   "source": [
    "# print F1-score of each model on validation data\n",
    "from sklearn.metrics import r2_score\n",
    "\n",
    "print(\"R2-scores of the models:\")\n",
    "labels_predict = lr_model.predict(features_validation)\n",
    "print(\"Linear regression:\", r2_score(labels_validation, labels_predict))\n",
    "labels_predict = dt_model.predict(features_validation)\n",
    "print(\"Decision tree:\", r2_score(labels_validation, labels_predict))\n",
    "labels_predict = svm_model.predict(features_validation)\n",
    "print(\"SVR:\", r2_score(labels_validation, labels_predict))\n",
    "labels_predict = rf_model.predict(features_validation)\n",
    "print(\"Random forest:\", r2_score(labels_validation, labels_predict))\n",
    "labels_predict = gb_model.predict(features_validation)\n",
    "print(\"Gradient boosting:\", r2_score(labels_validation, labels_predict))\n",
    "labels_predict = ab_model.predict(features_validation)\n",
    "print(\"AdaBoost:\", r2_score(labels_validation, labels_predict))"
   ],
   "execution_count": 68,
   "outputs": [
    {
     "name": "stdout",
     "output_type": "stream",
     "text": [
      "R2-scores of the models:\n",
      "Linear regression: 0.19650861690647092\n",
      "Decision tree: 0.5811634185513159\n",
      "SVR: 0.13121994544967064\n",
      "Random forest: 0.6082313171477245\n",
      "Gradient boosting: 0.7319123693352193\n",
      "AdaBoost: 0.7603695129405954\n"
     ]
    }
   ]
  },
  {
   "cell_type": "markdown",
   "source": [
    "### R2-score"
   ],
   "metadata": {
    "collapsed": false,
    "pycharm": {
     "name": "#%% md\n"
    }
   }
  },
  {
   "cell_type": "code",
   "execution_count": 399,
   "outputs": [],
   "source": [
    "# r2score = r2_score(labels_validation, labels_predict, sample_weight=None, multioutput='uniform_average')\n",
    "# r2score"
   ],
   "metadata": {
    "collapsed": false,
    "pycharm": {
     "name": "#%%\n"
    }
   }
  },
  {
   "cell_type": "markdown",
   "metadata": {
    "id": "cN_q429mfqKb",
    "pycharm": {
     "name": "#%% md\n"
    }
   },
   "source": [
    "### 12.4.4 Testing the model\n",
    "\n",
    "Finding the accuracy and the F1-score of the model in the testing set."
   ]
  },
  {
   "cell_type": "code",
   "metadata": {
    "id": "_nfxWhppfqKb",
    "colab": {
     "base_uri": "https://localhost:8080/"
    },
    "executionInfo": {
     "status": "ok",
     "timestamp": 1649550568926,
     "user_tz": -120,
     "elapsed": 2,
     "user": {
      "displayName": "Abdelrhman Amr",
      "userId": "09344834973078055484"
     }
    },
    "outputId": "822ebfef-638d-4506-90ac-eee43221ec11",
    "pycharm": {
     "name": "#%%\n"
    }
   },
   "source": [
    "# print accuracy of gradient boost model on testing data\n",
    "print(\"Scores of the models\")\n",
    "print(\"Linear regression:\", lr_model.score(features_test,labels_test))\n",
    "print(\"Decision tree:\", dt_model.score(features_test,labels_test))\n",
    "print(\"SVR:\", svm_model.score(features_test,labels_test))\n",
    "print(\"Random forest:\", rf_model.score(features_test,labels_test))\n",
    "print(\"Gradient boosting:\", gb_model.score(features_test,labels_test))\n",
    "print(\"AdaBoost:\", ab_model.score(features_test,labels_test))\n"
   ],
   "execution_count": 69,
   "outputs": [
    {
     "name": "stdout",
     "output_type": "stream",
     "text": [
      "Scores of the models\n",
      "Linear regression: 0.1411802903816144\n",
      "Decision tree: 0.5436649153084543\n",
      "SVR: 0.808584389943825\n",
      "Random forest: 0.782252318959525\n",
      "Gradient boosting: 0.7005193066472188\n",
      "AdaBoost: 0.566723185560427\n"
     ]
    }
   ]
  },
  {
   "cell_type": "code",
   "execution_count": 37,
   "outputs": [
    {
     "ename": "ValueError",
     "evalue": "y_true and y_pred have different number of output (1!=3)",
     "output_type": "error",
     "traceback": [
      "\u001B[1;31m---------------------------------------------------------------------------\u001B[0m",
      "\u001B[1;31mValueError\u001B[0m                                Traceback (most recent call last)",
      "\u001B[1;32mC:\\Users\\ABDELR~1\\AppData\\Local\\Temp/ipykernel_8592/1438678486.py\u001B[0m in \u001B[0;36m<module>\u001B[1;34m\u001B[0m\n\u001B[1;32m----> 1\u001B[1;33m \u001B[0mprint\u001B[0m\u001B[1;33m(\u001B[0m\u001B[1;34m\"MultiOutputRegressor:\"\u001B[0m\u001B[1;33m,\u001B[0m \u001B[0mmor_model\u001B[0m\u001B[1;33m.\u001B[0m\u001B[0mscore\u001B[0m\u001B[1;33m(\u001B[0m\u001B[0mfeatures_test\u001B[0m\u001B[1;33m,\u001B[0m\u001B[0mlabels_test\u001B[0m\u001B[1;33m)\u001B[0m\u001B[1;33m)\u001B[0m\u001B[1;33m\u001B[0m\u001B[1;33m\u001B[0m\u001B[0m\n\u001B[0m",
      "\u001B[1;32mD:\\Applications\\Anaconda\\Installation\\lib\\site-packages\\sklearn\\base.py\u001B[0m in \u001B[0;36mscore\u001B[1;34m(self, X, y, sample_weight)\u001B[0m\n\u001B[0;32m    552\u001B[0m         \u001B[1;32mfrom\u001B[0m \u001B[1;33m.\u001B[0m\u001B[0mmetrics\u001B[0m \u001B[1;32mimport\u001B[0m \u001B[0mr2_score\u001B[0m\u001B[1;33m\u001B[0m\u001B[1;33m\u001B[0m\u001B[0m\n\u001B[0;32m    553\u001B[0m         \u001B[0my_pred\u001B[0m \u001B[1;33m=\u001B[0m \u001B[0mself\u001B[0m\u001B[1;33m.\u001B[0m\u001B[0mpredict\u001B[0m\u001B[1;33m(\u001B[0m\u001B[0mX\u001B[0m\u001B[1;33m)\u001B[0m\u001B[1;33m\u001B[0m\u001B[1;33m\u001B[0m\u001B[0m\n\u001B[1;32m--> 554\u001B[1;33m         \u001B[1;32mreturn\u001B[0m \u001B[0mr2_score\u001B[0m\u001B[1;33m(\u001B[0m\u001B[0my\u001B[0m\u001B[1;33m,\u001B[0m \u001B[0my_pred\u001B[0m\u001B[1;33m,\u001B[0m \u001B[0msample_weight\u001B[0m\u001B[1;33m=\u001B[0m\u001B[0msample_weight\u001B[0m\u001B[1;33m)\u001B[0m\u001B[1;33m\u001B[0m\u001B[1;33m\u001B[0m\u001B[0m\n\u001B[0m\u001B[0;32m    555\u001B[0m \u001B[1;33m\u001B[0m\u001B[0m\n\u001B[0;32m    556\u001B[0m     \u001B[1;32mdef\u001B[0m \u001B[0m_more_tags\u001B[0m\u001B[1;33m(\u001B[0m\u001B[0mself\u001B[0m\u001B[1;33m)\u001B[0m\u001B[1;33m:\u001B[0m\u001B[1;33m\u001B[0m\u001B[1;33m\u001B[0m\u001B[0m\n",
      "\u001B[1;32mD:\\Applications\\Anaconda\\Installation\\lib\\site-packages\\sklearn\\utils\\validation.py\u001B[0m in \u001B[0;36minner_f\u001B[1;34m(*args, **kwargs)\u001B[0m\n\u001B[0;32m     61\u001B[0m             \u001B[0mextra_args\u001B[0m \u001B[1;33m=\u001B[0m \u001B[0mlen\u001B[0m\u001B[1;33m(\u001B[0m\u001B[0margs\u001B[0m\u001B[1;33m)\u001B[0m \u001B[1;33m-\u001B[0m \u001B[0mlen\u001B[0m\u001B[1;33m(\u001B[0m\u001B[0mall_args\u001B[0m\u001B[1;33m)\u001B[0m\u001B[1;33m\u001B[0m\u001B[1;33m\u001B[0m\u001B[0m\n\u001B[0;32m     62\u001B[0m             \u001B[1;32mif\u001B[0m \u001B[0mextra_args\u001B[0m \u001B[1;33m<=\u001B[0m \u001B[1;36m0\u001B[0m\u001B[1;33m:\u001B[0m\u001B[1;33m\u001B[0m\u001B[1;33m\u001B[0m\u001B[0m\n\u001B[1;32m---> 63\u001B[1;33m                 \u001B[1;32mreturn\u001B[0m \u001B[0mf\u001B[0m\u001B[1;33m(\u001B[0m\u001B[1;33m*\u001B[0m\u001B[0margs\u001B[0m\u001B[1;33m,\u001B[0m \u001B[1;33m**\u001B[0m\u001B[0mkwargs\u001B[0m\u001B[1;33m)\u001B[0m\u001B[1;33m\u001B[0m\u001B[1;33m\u001B[0m\u001B[0m\n\u001B[0m\u001B[0;32m     64\u001B[0m \u001B[1;33m\u001B[0m\u001B[0m\n\u001B[0;32m     65\u001B[0m             \u001B[1;31m# extra_args > 0\u001B[0m\u001B[1;33m\u001B[0m\u001B[1;33m\u001B[0m\u001B[0m\n",
      "\u001B[1;32mD:\\Applications\\Anaconda\\Installation\\lib\\site-packages\\sklearn\\metrics\\_regression.py\u001B[0m in \u001B[0;36mr2_score\u001B[1;34m(y_true, y_pred, sample_weight, multioutput)\u001B[0m\n\u001B[0;32m    674\u001B[0m     \u001B[1;33m-\u001B[0m\u001B[1;36m3.0\u001B[0m\u001B[1;33m\u001B[0m\u001B[1;33m\u001B[0m\u001B[0m\n\u001B[0;32m    675\u001B[0m     \"\"\"\n\u001B[1;32m--> 676\u001B[1;33m     y_type, y_true, y_pred, multioutput = _check_reg_targets(\n\u001B[0m\u001B[0;32m    677\u001B[0m         y_true, y_pred, multioutput)\n\u001B[0;32m    678\u001B[0m     \u001B[0mcheck_consistent_length\u001B[0m\u001B[1;33m(\u001B[0m\u001B[0my_true\u001B[0m\u001B[1;33m,\u001B[0m \u001B[0my_pred\u001B[0m\u001B[1;33m,\u001B[0m \u001B[0msample_weight\u001B[0m\u001B[1;33m)\u001B[0m\u001B[1;33m\u001B[0m\u001B[1;33m\u001B[0m\u001B[0m\n",
      "\u001B[1;32mD:\\Applications\\Anaconda\\Installation\\lib\\site-packages\\sklearn\\metrics\\_regression.py\u001B[0m in \u001B[0;36m_check_reg_targets\u001B[1;34m(y_true, y_pred, multioutput, dtype)\u001B[0m\n\u001B[0;32m     97\u001B[0m \u001B[1;33m\u001B[0m\u001B[0m\n\u001B[0;32m     98\u001B[0m     \u001B[1;32mif\u001B[0m \u001B[0my_true\u001B[0m\u001B[1;33m.\u001B[0m\u001B[0mshape\u001B[0m\u001B[1;33m[\u001B[0m\u001B[1;36m1\u001B[0m\u001B[1;33m]\u001B[0m \u001B[1;33m!=\u001B[0m \u001B[0my_pred\u001B[0m\u001B[1;33m.\u001B[0m\u001B[0mshape\u001B[0m\u001B[1;33m[\u001B[0m\u001B[1;36m1\u001B[0m\u001B[1;33m]\u001B[0m\u001B[1;33m:\u001B[0m\u001B[1;33m\u001B[0m\u001B[1;33m\u001B[0m\u001B[0m\n\u001B[1;32m---> 99\u001B[1;33m         raise ValueError(\"y_true and y_pred have different number of output \"\n\u001B[0m\u001B[0;32m    100\u001B[0m                          \"({0}!={1})\".format(y_true.shape[1], y_pred.shape[1]))\n\u001B[0;32m    101\u001B[0m \u001B[1;33m\u001B[0m\u001B[0m\n",
      "\u001B[1;31mValueError\u001B[0m: y_true and y_pred have different number of output (1!=3)"
     ]
    }
   ],
   "source": [
    "print(\"MultiOutputRegressor:\", mor_model.score(features_test,labels_test))"
   ],
   "metadata": {
    "collapsed": false,
    "pycharm": {
     "name": "#%%\n"
    }
   }
  },
  {
   "cell_type": "code",
   "metadata": {
    "id": "oW0DEPGxfqKc",
    "colab": {
     "base_uri": "https://localhost:8080/"
    },
    "executionInfo": {
     "status": "ok",
     "timestamp": 1649550570106,
     "user_tz": -120,
     "elapsed": 2,
     "user": {
      "displayName": "Abdelrhman Amr",
      "userId": "09344834973078055484"
     }
    },
    "outputId": "e6d8b275-6358-44a0-a7bc-81b8a7ab451d",
    "pycharm": {
     "name": "#%%\n"
    }
   },
   "source": [
    "# print F1-score of gradient boost model on testing data\n",
    "print(\"F1-scores of the models:\")\n",
    "labels_predict = lr_model.predict(features_test)\n",
    "print(\"Linear regression:\", f1_score(labels_test, labels_predict))\n",
    "labels_predict = dt_model.predict(features_test)\n",
    "print(\"Decision tree:\", f1_score(labels_test, labels_predict))\n",
    "labels_predict = svm_model.predict(features_test)\n",
    "print(\"SVM:\", f1_score(labels_test, labels_predict))\n",
    "labels_predict = rf_model.predict(features_test)\n",
    "print(\"Random forest:\", f1_score(labels_test, labels_predict))\n",
    "labels_predict = gb_model.predict(features_test)\n",
    "print(\"Gradient boosting:\", f1_score(labels_test, labels_predict))\n",
    "labels_predict = ab_model.predict(features_test)\n",
    "print(\"AdaBoost:\", f1_score(labels_test, labels_predict))"
   ],
   "execution_count": 38,
   "outputs": [
    {
     "name": "stdout",
     "output_type": "stream",
     "text": [
      "F1-scores of the models:\n"
     ]
    },
    {
     "ename": "NameError",
     "evalue": "name 'f1_score' is not defined",
     "output_type": "error",
     "traceback": [
      "\u001B[1;31m---------------------------------------------------------------------------\u001B[0m",
      "\u001B[1;31mNameError\u001B[0m                                 Traceback (most recent call last)",
      "\u001B[1;32mC:\\Users\\ABDELR~1\\AppData\\Local\\Temp/ipykernel_8592/1914555830.py\u001B[0m in \u001B[0;36m<module>\u001B[1;34m\u001B[0m\n\u001B[0;32m      2\u001B[0m \u001B[0mprint\u001B[0m\u001B[1;33m(\u001B[0m\u001B[1;34m\"F1-scores of the models:\"\u001B[0m\u001B[1;33m)\u001B[0m\u001B[1;33m\u001B[0m\u001B[1;33m\u001B[0m\u001B[0m\n\u001B[0;32m      3\u001B[0m \u001B[0mlabels_predict\u001B[0m \u001B[1;33m=\u001B[0m \u001B[0mlr_model\u001B[0m\u001B[1;33m.\u001B[0m\u001B[0mpredict\u001B[0m\u001B[1;33m(\u001B[0m\u001B[0mfeatures_test\u001B[0m\u001B[1;33m)\u001B[0m\u001B[1;33m\u001B[0m\u001B[1;33m\u001B[0m\u001B[0m\n\u001B[1;32m----> 4\u001B[1;33m \u001B[0mprint\u001B[0m\u001B[1;33m(\u001B[0m\u001B[1;34m\"Linear regression:\"\u001B[0m\u001B[1;33m,\u001B[0m \u001B[0mf1_score\u001B[0m\u001B[1;33m(\u001B[0m\u001B[0mlabels_test\u001B[0m\u001B[1;33m,\u001B[0m \u001B[0mlabels_predict\u001B[0m\u001B[1;33m)\u001B[0m\u001B[1;33m)\u001B[0m\u001B[1;33m\u001B[0m\u001B[1;33m\u001B[0m\u001B[0m\n\u001B[0m\u001B[0;32m      5\u001B[0m \u001B[0mlabels_predict\u001B[0m \u001B[1;33m=\u001B[0m \u001B[0mdt_model\u001B[0m\u001B[1;33m.\u001B[0m\u001B[0mpredict\u001B[0m\u001B[1;33m(\u001B[0m\u001B[0mfeatures_test\u001B[0m\u001B[1;33m)\u001B[0m\u001B[1;33m\u001B[0m\u001B[1;33m\u001B[0m\u001B[0m\n\u001B[0;32m      6\u001B[0m \u001B[0mprint\u001B[0m\u001B[1;33m(\u001B[0m\u001B[1;34m\"Decision tree:\"\u001B[0m\u001B[1;33m,\u001B[0m \u001B[0mf1_score\u001B[0m\u001B[1;33m(\u001B[0m\u001B[0mlabels_test\u001B[0m\u001B[1;33m,\u001B[0m \u001B[0mlabels_predict\u001B[0m\u001B[1;33m)\u001B[0m\u001B[1;33m)\u001B[0m\u001B[1;33m\u001B[0m\u001B[1;33m\u001B[0m\u001B[0m\n",
      "\u001B[1;31mNameError\u001B[0m: name 'f1_score' is not defined"
     ]
    }
   ]
  },
  {
   "cell_type": "markdown",
   "metadata": {
    "id": "r1XGztd2fqKc",
    "pycharm": {
     "name": "#%% md\n"
    }
   },
   "source": [
    "# 12.5 Grid search"
   ]
  },
  {
   "cell_type": "code",
   "metadata": {
    "id": "gAK1vV5WfqKc",
    "executionInfo": {
     "status": "ok",
     "timestamp": 1649550571456,
     "user_tz": -120,
     "elapsed": 2,
     "user": {
      "displayName": "Abdelrhman Amr",
      "userId": "09344834973078055484"
     }
    },
    "pycharm": {
     "name": "#%%\n"
    }
   },
   "source": [
    "from sklearn.model_selection import GridSearchCV\n",
    "# CV -> Cross validation"
   ],
   "execution_count": 291,
   "outputs": []
  },
  {
   "cell_type": "code",
   "metadata": {
    "id": "XrcPjLM1fqKc",
    "colab": {
     "base_uri": "https://localhost:8080/"
    },
    "executionInfo": {
     "status": "ok",
     "timestamp": 1649550575213,
     "user_tz": -120,
     "elapsed": 2880,
     "user": {
      "displayName": "Abdelrhman Amr",
      "userId": "09344834973078055484"
     }
    },
    "outputId": "b954ea00-c5d7-4b4a-8df4-b33e71c1226b",
    "pycharm": {
     "name": "#%%\n"
    }
   },
   "source": [
    "svm_parameters = {'kernel': ['rbf'],\n",
    "                  'C': [0.00001, 0.0005, 0.0001, 0.005, 0.001, 0.01, 0.1, 1 , 10, 50 ,100],\n",
    "                  'gamma': [0.00001, 0.0005, 0.0001, 0.005, 0.001, 0.01, 0.1, 1 , 10, 50 ,100]\n",
    "                }\n",
    "# use gridsearch to find the best hyperparameters \n",
    "svm = SVR()\n",
    "svm_gs = GridSearchCV(estimator = svm, param_grid = svm_parameters)\n",
    "\n",
    "svm_gs.fit(features_train, np.ravel(labels_train))\n",
    "# git the best model \n",
    "svm_winner = svm_gs.best_estimator_\n",
    "svm_winner\n",
    "\n",
    "svm_winner.score(features_validation, labels_validation)"
   ],
   "execution_count": 331,
   "outputs": [
    {
     "data": {
      "text/plain": "0.6189654392139047"
     },
     "execution_count": 331,
     "metadata": {},
     "output_type": "execute_result"
    }
   ]
  },
  {
   "cell_type": "code",
   "metadata": {
    "id": "jmtr0bLVfqKd",
    "colab": {
     "base_uri": "https://localhost:8080/"
    },
    "executionInfo": {
     "status": "ok",
     "timestamp": 1649507607939,
     "user_tz": -120,
     "elapsed": 7,
     "user": {
      "displayName": "Abdelrhman Amr",
      "userId": "09344834973078055484"
     }
    },
    "outputId": "5199b404-fe2a-4816-95f8-03e91f8ba628",
    "pycharm": {
     "name": "#%%\n"
    }
   },
   "source": [
    "svm_winner"
   ],
   "execution_count": 332,
   "outputs": [
    {
     "data": {
      "text/plain": "SVR(C=50, gamma=1e-05)"
     },
     "execution_count": 332,
     "metadata": {},
     "output_type": "execute_result"
    }
   ]
  },
  {
   "cell_type": "markdown",
   "metadata": {
    "id": "VDqUNXY1fqKd",
    "pycharm": {
     "name": "#%% md\n"
    }
   },
   "source": [
    "# 12.6 Cross validation"
   ]
  },
  {
   "cell_type": "code",
   "metadata": {
    "id": "kqi1xhi0fqKd",
    "colab": {
     "base_uri": "https://localhost:8080/"
    },
    "executionInfo": {
     "status": "ok",
     "timestamp": 1649508144297,
     "user_tz": -120,
     "elapsed": 649,
     "user": {
      "displayName": "Abdelrhman Amr",
      "userId": "09344834973078055484"
     }
    },
    "outputId": "c7dedcc0-3b25-4706-bb2e-d696ead9f248",
    "pycharm": {
     "name": "#%%\n"
    }
   },
   "source": [
    "# print the k-fold cross validation output\n",
    "svm_gs.cv_results_"
   ],
   "execution_count": 333,
   "outputs": [
    {
     "data": {
      "text/plain": "{'mean_fit_time': array([0.05192423, 0.05552797, 0.11294394, 0.07624984, 0.05362787,\n        0.08500457, 0.0918818 , 0.0911211 , 0.08886089, 0.08854189,\n        0.08902335, 0.04861059, 0.05252037, 0.05182009, 0.0736475 ,\n        0.05201273, 0.06732144, 0.06741934, 0.06679621, 0.06701655,\n        0.06491923, 0.06758389, 0.03951039, 0.04225998, 0.03755021,\n        0.05570354, 0.04211044, 0.0611618 , 0.06484876, 0.06654816,\n        0.06730332, 0.06630135, 0.06471848, 0.02440987, 0.0392086 ,\n        0.03519092, 0.05503874, 0.04131393, 0.06261997, 0.06801348,\n        0.06543641, 0.06375866, 0.06716695, 0.06832628, 0.03400517,\n        0.04132209, 0.03760705, 0.05652719, 0.04341707, 0.06544628,\n        0.06783042, 0.06571741, 0.06956148, 0.06748595, 0.06640873,\n        0.02344017, 0.04020495, 0.03260674, 0.05327444, 0.04320707,\n        0.06161575, 0.0688148 , 0.06702003, 0.06822028, 0.06731205,\n        0.06851916, 0.01040206, 0.03960915, 0.02340899, 0.05761561,\n        0.04301786, 0.06351471, 0.06841536, 0.07163281, 0.07602429,\n        0.06862683, 0.0694551 , 0.01060414, 0.04515882, 0.0238081 ,\n        0.06223297, 0.04870696, 0.06861315, 0.07153063, 0.0755022 ,\n        0.07812905, 0.07411494, 0.07304797, 0.02320786, 0.0463675 ,\n        0.02380185, 0.06283798, 0.04960642, 0.06694517, 0.07252493,\n        0.07346177, 0.07222428, 0.07303033, 0.07339315, 0.03040895,\n        0.04738188, 0.02528782, 0.06351862, 0.05012875, 0.06971922,\n        0.07221723, 0.07212963, 0.07401953, 0.07251711, 0.0740149 ,\n        0.03040833, 0.04636273, 0.02620983, 0.06227598, 0.04921722,\n        0.06801777, 0.07427988, 0.08281403, 0.07075882, 0.07201686,\n        0.07420959]),\n 'std_fit_time': array([0.0016156 , 0.00453099, 0.1171831 , 0.00659539, 0.00215645,\n        0.0046572 , 0.00607228, 0.0030077 , 0.00471537, 0.00232967,\n        0.00463223, 0.00102222, 0.0004523 , 0.00132539, 0.0028396 ,\n        0.00303932, 0.00293412, 0.00185878, 0.00127873, 0.00141372,\n        0.00102272, 0.00100446, 0.00044763, 0.00241775, 0.00085935,\n        0.00322305, 0.00241914, 0.00102675, 0.00227946, 0.00242844,\n        0.00383455, 0.00161905, 0.00166521, 0.00049362, 0.00075453,\n        0.00244948, 0.00138233, 0.0013308 , 0.00215873, 0.0017903 ,\n        0.00217875, 0.00136263, 0.00279609, 0.00310918, 0.00071986,\n        0.00150181, 0.00224857, 0.00062439, 0.00302511, 0.00520405,\n        0.00271614, 0.00370651, 0.00596603, 0.00296122, 0.00162486,\n        0.00146456, 0.00194197, 0.00205473, 0.00038989, 0.00349564,\n        0.00241459, 0.00132724, 0.00555428, 0.00097856, 0.00074508,\n        0.00109933, 0.00102045, 0.0004852 , 0.00101812, 0.00049456,\n        0.00316879, 0.00351435, 0.00135649, 0.00245131, 0.01903404,\n        0.00211794, 0.00197533, 0.00135501, 0.00147849, 0.00075188,\n        0.00192309, 0.00209169, 0.00101679, 0.00270124, 0.00351058,\n        0.00429178, 0.00219748, 0.00293686, 0.00159864, 0.00212952,\n        0.00040333, 0.00148544, 0.00119857, 0.00354032, 0.00109738,\n        0.00185434, 0.00132637, 0.00336859, 0.0015621 , 0.00300797,\n        0.00181154, 0.00084848, 0.00204834, 0.00168278, 0.00293955,\n        0.00406714, 0.00078906, 0.00384587, 0.00232468, 0.00189783,\n        0.00343892, 0.00177916, 0.00160147, 0.00349712, 0.00074079,\n        0.00384588, 0.0026334 , 0.01516315, 0.00066105, 0.00179098,\n        0.00335039]),\n 'mean_score_time': array([0.02481074, 0.02440243, 0.03461361, 0.0299088 , 0.02439966,\n        0.03493352, 0.03580861, 0.03440299, 0.03360758, 0.03390279,\n        0.03301196, 0.02201257, 0.02403679, 0.02320013, 0.02920647,\n        0.02298994, 0.02580462, 0.02627053, 0.02523832, 0.02600698,\n        0.02641234, 0.02540021, 0.01900649, 0.01819057, 0.01785274,\n        0.02200704, 0.018606  , 0.02480655, 0.02477303, 0.02472997,\n        0.02700691, 0.02521091, 0.02520366, 0.01120763, 0.01761107,\n        0.01620078, 0.02180667, 0.01870322, 0.0242095 , 0.02660913,\n        0.02420807, 0.02441244, 0.02847528, 0.02562938, 0.01560202,\n        0.01960635, 0.01724653, 0.02329726, 0.02040462, 0.02460966,\n        0.02721286, 0.02421284, 0.02582221, 0.02420158, 0.02580981,\n        0.01130629, 0.01760998, 0.01600628, 0.02140751, 0.01860414,\n        0.02340326, 0.02581358, 0.02480578, 0.02677674, 0.02600436,\n        0.02600965, 0.00420432, 0.01820259, 0.01060286, 0.02367687,\n        0.01819978, 0.0244657 , 0.02540231, 0.02628832, 0.02580485,\n        0.02541656, 0.02640548, 0.00319862, 0.01780319, 0.00910726,\n        0.02220984, 0.01827025, 0.0255271 , 0.02580113, 0.02721   ,\n        0.03000374, 0.02651391, 0.0247797 , 0.00459843, 0.01840429,\n        0.00888543, 0.0232048 , 0.01931987, 0.02381377, 0.02540956,\n        0.02480593, 0.02580414, 0.0257051 , 0.02601032, 0.00539842,\n        0.0175993 , 0.00940237, 0.02342553, 0.01880693, 0.02471428,\n        0.02560883, 0.02581582, 0.02580147, 0.02629638, 0.02664614,\n        0.00600228, 0.01761022, 0.00980034, 0.02320356, 0.01920514,\n        0.02370825, 0.02560983, 0.02900906, 0.024403  , 0.02440758,\n        0.0250021 ]),\n 'std_score_time': array([2.22536321e-03, 1.85623891e-03, 1.37958502e-02, 8.06887653e-04,\n        1.02306679e-03, 5.01680368e-03, 4.78984687e-03, 1.01998255e-03,\n        1.36036860e-03, 1.28407789e-03, 6.34403560e-04, 1.27642814e-05,\n        2.11246663e-03, 9.86885418e-04, 4.00483672e-04, 1.25763427e-03,\n        1.17223189e-03, 2.48945125e-03, 3.88697617e-04, 1.67305987e-03,\n        2.94031368e-03, 7.97971724e-04, 8.91917028e-04, 7.29176482e-04,\n        7.04677825e-04, 1.09397915e-03, 8.01795158e-04, 9.76376013e-04,\n        3.25709051e-04, 7.41671403e-04, 3.34338388e-03, 9.77183895e-04,\n        2.63850751e-03, 3.97962230e-04, 7.96706117e-04, 9.76674869e-04,\n        3.95905416e-04, 3.97886623e-04, 7.36059065e-04, 1.02000900e-03,\n        3.98895217e-04, 8.00345032e-04, 3.94031136e-03, 9.94103340e-04,\n        4.88359978e-04, 7.98834619e-04, 3.86896496e-04, 1.72846694e-03,\n        3.00737392e-03, 2.72557795e-03, 3.96705839e-03, 3.96746912e-04,\n        2.63518381e-03, 7.52231638e-04, 1.16823892e-03, 2.26780085e-03,\n        4.90522378e-04, 1.67363272e-03, 4.89189576e-04, 1.35684309e-03,\n        1.02195717e-03, 7.46995992e-04, 1.46891186e-03, 9.41733401e-04,\n        6.29247680e-04, 6.29105480e-04, 3.98277573e-04, 4.00795102e-04,\n        4.94697435e-04, 1.29284718e-03, 9.82868852e-04, 8.57148165e-04,\n        1.01469853e-03, 1.09498203e-03, 1.72051660e-03, 7.97644746e-04,\n        1.01853269e-03, 3.96132566e-04, 3.99664841e-04, 1.01505262e-03,\n        9.78809483e-04, 7.42263918e-04, 1.37115842e-03, 2.13395981e-03,\n        1.60188118e-03, 4.85632827e-03, 7.68914217e-04, 1.73548893e-03,\n        4.92852839e-04, 1.63004804e-03, 8.77712104e-04, 1.60289668e-03,\n        1.67493809e-03, 1.32811369e-03, 1.01629738e-03, 1.16052779e-03,\n        2.31505681e-03, 1.07649189e-03, 6.35884375e-04, 4.87246306e-04,\n        1.01898369e-03, 4.89804371e-04, 1.36338615e-03, 7.53271644e-04,\n        7.48350010e-04, 2.34696893e-03, 1.17033299e-03, 2.32381625e-03,\n        1.30574497e-03, 1.63587917e-03, 8.96069853e-04, 4.90989722e-04,\n        7.48759226e-04, 3.95977916e-04, 1.47049777e-03, 9.83292616e-04,\n        1.35929113e-03, 5.09905344e-03, 4.91287955e-04, 4.87509934e-04,\n        1.26493668e-03]),\n 'param_C': masked_array(data=[1e-05, 1e-05, 1e-05, 1e-05, 1e-05, 1e-05, 1e-05, 1e-05,\n                    1e-05, 1e-05, 1e-05, 0.0005, 0.0005, 0.0005, 0.0005,\n                    0.0005, 0.0005, 0.0005, 0.0005, 0.0005, 0.0005, 0.0005,\n                    0.0001, 0.0001, 0.0001, 0.0001, 0.0001, 0.0001, 0.0001,\n                    0.0001, 0.0001, 0.0001, 0.0001, 0.005, 0.005, 0.005,\n                    0.005, 0.005, 0.005, 0.005, 0.005, 0.005, 0.005, 0.005,\n                    0.001, 0.001, 0.001, 0.001, 0.001, 0.001, 0.001, 0.001,\n                    0.001, 0.001, 0.001, 0.01, 0.01, 0.01, 0.01, 0.01,\n                    0.01, 0.01, 0.01, 0.01, 0.01, 0.01, 0.1, 0.1, 0.1, 0.1,\n                    0.1, 0.1, 0.1, 0.1, 0.1, 0.1, 0.1, 1, 1, 1, 1, 1, 1, 1,\n                    1, 1, 1, 1, 10, 10, 10, 10, 10, 10, 10, 10, 10, 10, 10,\n                    50, 50, 50, 50, 50, 50, 50, 50, 50, 50, 50, 100, 100,\n                    100, 100, 100, 100, 100, 100, 100, 100, 100],\n              mask=[False, False, False, False, False, False, False, False,\n                    False, False, False, False, False, False, False, False,\n                    False, False, False, False, False, False, False, False,\n                    False, False, False, False, False, False, False, False,\n                    False, False, False, False, False, False, False, False,\n                    False, False, False, False, False, False, False, False,\n                    False, False, False, False, False, False, False, False,\n                    False, False, False, False, False, False, False, False,\n                    False, False, False, False, False, False, False, False,\n                    False, False, False, False, False, False, False, False,\n                    False, False, False, False, False, False, False, False,\n                    False, False, False, False, False, False, False, False,\n                    False, False, False, False, False, False, False, False,\n                    False, False, False, False, False, False, False, False,\n                    False, False, False, False, False, False, False, False,\n                    False],\n        fill_value='?',\n             dtype=object),\n 'param_gamma': masked_array(data=[1e-05, 0.0005, 0.0001, 0.005, 0.001, 0.01, 0.1, 1, 10,\n                    50, 100, 1e-05, 0.0005, 0.0001, 0.005, 0.001, 0.01,\n                    0.1, 1, 10, 50, 100, 1e-05, 0.0005, 0.0001, 0.005,\n                    0.001, 0.01, 0.1, 1, 10, 50, 100, 1e-05, 0.0005,\n                    0.0001, 0.005, 0.001, 0.01, 0.1, 1, 10, 50, 100, 1e-05,\n                    0.0005, 0.0001, 0.005, 0.001, 0.01, 0.1, 1, 10, 50,\n                    100, 1e-05, 0.0005, 0.0001, 0.005, 0.001, 0.01, 0.1, 1,\n                    10, 50, 100, 1e-05, 0.0005, 0.0001, 0.005, 0.001, 0.01,\n                    0.1, 1, 10, 50, 100, 1e-05, 0.0005, 0.0001, 0.005,\n                    0.001, 0.01, 0.1, 1, 10, 50, 100, 1e-05, 0.0005,\n                    0.0001, 0.005, 0.001, 0.01, 0.1, 1, 10, 50, 100, 1e-05,\n                    0.0005, 0.0001, 0.005, 0.001, 0.01, 0.1, 1, 10, 50,\n                    100, 1e-05, 0.0005, 0.0001, 0.005, 0.001, 0.01, 0.1, 1,\n                    10, 50, 100],\n              mask=[False, False, False, False, False, False, False, False,\n                    False, False, False, False, False, False, False, False,\n                    False, False, False, False, False, False, False, False,\n                    False, False, False, False, False, False, False, False,\n                    False, False, False, False, False, False, False, False,\n                    False, False, False, False, False, False, False, False,\n                    False, False, False, False, False, False, False, False,\n                    False, False, False, False, False, False, False, False,\n                    False, False, False, False, False, False, False, False,\n                    False, False, False, False, False, False, False, False,\n                    False, False, False, False, False, False, False, False,\n                    False, False, False, False, False, False, False, False,\n                    False, False, False, False, False, False, False, False,\n                    False, False, False, False, False, False, False, False,\n                    False, False, False, False, False, False, False, False,\n                    False],\n        fill_value='?',\n             dtype=object),\n 'param_kernel': masked_array(data=['rbf', 'rbf', 'rbf', 'rbf', 'rbf', 'rbf', 'rbf', 'rbf',\n                    'rbf', 'rbf', 'rbf', 'rbf', 'rbf', 'rbf', 'rbf', 'rbf',\n                    'rbf', 'rbf', 'rbf', 'rbf', 'rbf', 'rbf', 'rbf', 'rbf',\n                    'rbf', 'rbf', 'rbf', 'rbf', 'rbf', 'rbf', 'rbf', 'rbf',\n                    'rbf', 'rbf', 'rbf', 'rbf', 'rbf', 'rbf', 'rbf', 'rbf',\n                    'rbf', 'rbf', 'rbf', 'rbf', 'rbf', 'rbf', 'rbf', 'rbf',\n                    'rbf', 'rbf', 'rbf', 'rbf', 'rbf', 'rbf', 'rbf', 'rbf',\n                    'rbf', 'rbf', 'rbf', 'rbf', 'rbf', 'rbf', 'rbf', 'rbf',\n                    'rbf', 'rbf', 'rbf', 'rbf', 'rbf', 'rbf', 'rbf', 'rbf',\n                    'rbf', 'rbf', 'rbf', 'rbf', 'rbf', 'rbf', 'rbf', 'rbf',\n                    'rbf', 'rbf', 'rbf', 'rbf', 'rbf', 'rbf', 'rbf', 'rbf',\n                    'rbf', 'rbf', 'rbf', 'rbf', 'rbf', 'rbf', 'rbf', 'rbf',\n                    'rbf', 'rbf', 'rbf', 'rbf', 'rbf', 'rbf', 'rbf', 'rbf',\n                    'rbf', 'rbf', 'rbf', 'rbf', 'rbf', 'rbf', 'rbf', 'rbf',\n                    'rbf', 'rbf', 'rbf', 'rbf', 'rbf', 'rbf', 'rbf', 'rbf',\n                    'rbf'],\n              mask=[False, False, False, False, False, False, False, False,\n                    False, False, False, False, False, False, False, False,\n                    False, False, False, False, False, False, False, False,\n                    False, False, False, False, False, False, False, False,\n                    False, False, False, False, False, False, False, False,\n                    False, False, False, False, False, False, False, False,\n                    False, False, False, False, False, False, False, False,\n                    False, False, False, False, False, False, False, False,\n                    False, False, False, False, False, False, False, False,\n                    False, False, False, False, False, False, False, False,\n                    False, False, False, False, False, False, False, False,\n                    False, False, False, False, False, False, False, False,\n                    False, False, False, False, False, False, False, False,\n                    False, False, False, False, False, False, False, False,\n                    False, False, False, False, False, False, False, False,\n                    False],\n        fill_value='?',\n             dtype=object),\n 'params': [{'C': 1e-05, 'gamma': 1e-05, 'kernel': 'rbf'},\n  {'C': 1e-05, 'gamma': 0.0005, 'kernel': 'rbf'},\n  {'C': 1e-05, 'gamma': 0.0001, 'kernel': 'rbf'},\n  {'C': 1e-05, 'gamma': 0.005, 'kernel': 'rbf'},\n  {'C': 1e-05, 'gamma': 0.001, 'kernel': 'rbf'},\n  {'C': 1e-05, 'gamma': 0.01, 'kernel': 'rbf'},\n  {'C': 1e-05, 'gamma': 0.1, 'kernel': 'rbf'},\n  {'C': 1e-05, 'gamma': 1, 'kernel': 'rbf'},\n  {'C': 1e-05, 'gamma': 10, 'kernel': 'rbf'},\n  {'C': 1e-05, 'gamma': 50, 'kernel': 'rbf'},\n  {'C': 1e-05, 'gamma': 100, 'kernel': 'rbf'},\n  {'C': 0.0005, 'gamma': 1e-05, 'kernel': 'rbf'},\n  {'C': 0.0005, 'gamma': 0.0005, 'kernel': 'rbf'},\n  {'C': 0.0005, 'gamma': 0.0001, 'kernel': 'rbf'},\n  {'C': 0.0005, 'gamma': 0.005, 'kernel': 'rbf'},\n  {'C': 0.0005, 'gamma': 0.001, 'kernel': 'rbf'},\n  {'C': 0.0005, 'gamma': 0.01, 'kernel': 'rbf'},\n  {'C': 0.0005, 'gamma': 0.1, 'kernel': 'rbf'},\n  {'C': 0.0005, 'gamma': 1, 'kernel': 'rbf'},\n  {'C': 0.0005, 'gamma': 10, 'kernel': 'rbf'},\n  {'C': 0.0005, 'gamma': 50, 'kernel': 'rbf'},\n  {'C': 0.0005, 'gamma': 100, 'kernel': 'rbf'},\n  {'C': 0.0001, 'gamma': 1e-05, 'kernel': 'rbf'},\n  {'C': 0.0001, 'gamma': 0.0005, 'kernel': 'rbf'},\n  {'C': 0.0001, 'gamma': 0.0001, 'kernel': 'rbf'},\n  {'C': 0.0001, 'gamma': 0.005, 'kernel': 'rbf'},\n  {'C': 0.0001, 'gamma': 0.001, 'kernel': 'rbf'},\n  {'C': 0.0001, 'gamma': 0.01, 'kernel': 'rbf'},\n  {'C': 0.0001, 'gamma': 0.1, 'kernel': 'rbf'},\n  {'C': 0.0001, 'gamma': 1, 'kernel': 'rbf'},\n  {'C': 0.0001, 'gamma': 10, 'kernel': 'rbf'},\n  {'C': 0.0001, 'gamma': 50, 'kernel': 'rbf'},\n  {'C': 0.0001, 'gamma': 100, 'kernel': 'rbf'},\n  {'C': 0.005, 'gamma': 1e-05, 'kernel': 'rbf'},\n  {'C': 0.005, 'gamma': 0.0005, 'kernel': 'rbf'},\n  {'C': 0.005, 'gamma': 0.0001, 'kernel': 'rbf'},\n  {'C': 0.005, 'gamma': 0.005, 'kernel': 'rbf'},\n  {'C': 0.005, 'gamma': 0.001, 'kernel': 'rbf'},\n  {'C': 0.005, 'gamma': 0.01, 'kernel': 'rbf'},\n  {'C': 0.005, 'gamma': 0.1, 'kernel': 'rbf'},\n  {'C': 0.005, 'gamma': 1, 'kernel': 'rbf'},\n  {'C': 0.005, 'gamma': 10, 'kernel': 'rbf'},\n  {'C': 0.005, 'gamma': 50, 'kernel': 'rbf'},\n  {'C': 0.005, 'gamma': 100, 'kernel': 'rbf'},\n  {'C': 0.001, 'gamma': 1e-05, 'kernel': 'rbf'},\n  {'C': 0.001, 'gamma': 0.0005, 'kernel': 'rbf'},\n  {'C': 0.001, 'gamma': 0.0001, 'kernel': 'rbf'},\n  {'C': 0.001, 'gamma': 0.005, 'kernel': 'rbf'},\n  {'C': 0.001, 'gamma': 0.001, 'kernel': 'rbf'},\n  {'C': 0.001, 'gamma': 0.01, 'kernel': 'rbf'},\n  {'C': 0.001, 'gamma': 0.1, 'kernel': 'rbf'},\n  {'C': 0.001, 'gamma': 1, 'kernel': 'rbf'},\n  {'C': 0.001, 'gamma': 10, 'kernel': 'rbf'},\n  {'C': 0.001, 'gamma': 50, 'kernel': 'rbf'},\n  {'C': 0.001, 'gamma': 100, 'kernel': 'rbf'},\n  {'C': 0.01, 'gamma': 1e-05, 'kernel': 'rbf'},\n  {'C': 0.01, 'gamma': 0.0005, 'kernel': 'rbf'},\n  {'C': 0.01, 'gamma': 0.0001, 'kernel': 'rbf'},\n  {'C': 0.01, 'gamma': 0.005, 'kernel': 'rbf'},\n  {'C': 0.01, 'gamma': 0.001, 'kernel': 'rbf'},\n  {'C': 0.01, 'gamma': 0.01, 'kernel': 'rbf'},\n  {'C': 0.01, 'gamma': 0.1, 'kernel': 'rbf'},\n  {'C': 0.01, 'gamma': 1, 'kernel': 'rbf'},\n  {'C': 0.01, 'gamma': 10, 'kernel': 'rbf'},\n  {'C': 0.01, 'gamma': 50, 'kernel': 'rbf'},\n  {'C': 0.01, 'gamma': 100, 'kernel': 'rbf'},\n  {'C': 0.1, 'gamma': 1e-05, 'kernel': 'rbf'},\n  {'C': 0.1, 'gamma': 0.0005, 'kernel': 'rbf'},\n  {'C': 0.1, 'gamma': 0.0001, 'kernel': 'rbf'},\n  {'C': 0.1, 'gamma': 0.005, 'kernel': 'rbf'},\n  {'C': 0.1, 'gamma': 0.001, 'kernel': 'rbf'},\n  {'C': 0.1, 'gamma': 0.01, 'kernel': 'rbf'},\n  {'C': 0.1, 'gamma': 0.1, 'kernel': 'rbf'},\n  {'C': 0.1, 'gamma': 1, 'kernel': 'rbf'},\n  {'C': 0.1, 'gamma': 10, 'kernel': 'rbf'},\n  {'C': 0.1, 'gamma': 50, 'kernel': 'rbf'},\n  {'C': 0.1, 'gamma': 100, 'kernel': 'rbf'},\n  {'C': 1, 'gamma': 1e-05, 'kernel': 'rbf'},\n  {'C': 1, 'gamma': 0.0005, 'kernel': 'rbf'},\n  {'C': 1, 'gamma': 0.0001, 'kernel': 'rbf'},\n  {'C': 1, 'gamma': 0.005, 'kernel': 'rbf'},\n  {'C': 1, 'gamma': 0.001, 'kernel': 'rbf'},\n  {'C': 1, 'gamma': 0.01, 'kernel': 'rbf'},\n  {'C': 1, 'gamma': 0.1, 'kernel': 'rbf'},\n  {'C': 1, 'gamma': 1, 'kernel': 'rbf'},\n  {'C': 1, 'gamma': 10, 'kernel': 'rbf'},\n  {'C': 1, 'gamma': 50, 'kernel': 'rbf'},\n  {'C': 1, 'gamma': 100, 'kernel': 'rbf'},\n  {'C': 10, 'gamma': 1e-05, 'kernel': 'rbf'},\n  {'C': 10, 'gamma': 0.0005, 'kernel': 'rbf'},\n  {'C': 10, 'gamma': 0.0001, 'kernel': 'rbf'},\n  {'C': 10, 'gamma': 0.005, 'kernel': 'rbf'},\n  {'C': 10, 'gamma': 0.001, 'kernel': 'rbf'},\n  {'C': 10, 'gamma': 0.01, 'kernel': 'rbf'},\n  {'C': 10, 'gamma': 0.1, 'kernel': 'rbf'},\n  {'C': 10, 'gamma': 1, 'kernel': 'rbf'},\n  {'C': 10, 'gamma': 10, 'kernel': 'rbf'},\n  {'C': 10, 'gamma': 50, 'kernel': 'rbf'},\n  {'C': 10, 'gamma': 100, 'kernel': 'rbf'},\n  {'C': 50, 'gamma': 1e-05, 'kernel': 'rbf'},\n  {'C': 50, 'gamma': 0.0005, 'kernel': 'rbf'},\n  {'C': 50, 'gamma': 0.0001, 'kernel': 'rbf'},\n  {'C': 50, 'gamma': 0.005, 'kernel': 'rbf'},\n  {'C': 50, 'gamma': 0.001, 'kernel': 'rbf'},\n  {'C': 50, 'gamma': 0.01, 'kernel': 'rbf'},\n  {'C': 50, 'gamma': 0.1, 'kernel': 'rbf'},\n  {'C': 50, 'gamma': 1, 'kernel': 'rbf'},\n  {'C': 50, 'gamma': 10, 'kernel': 'rbf'},\n  {'C': 50, 'gamma': 50, 'kernel': 'rbf'},\n  {'C': 50, 'gamma': 100, 'kernel': 'rbf'},\n  {'C': 100, 'gamma': 1e-05, 'kernel': 'rbf'},\n  {'C': 100, 'gamma': 0.0005, 'kernel': 'rbf'},\n  {'C': 100, 'gamma': 0.0001, 'kernel': 'rbf'},\n  {'C': 100, 'gamma': 0.005, 'kernel': 'rbf'},\n  {'C': 100, 'gamma': 0.001, 'kernel': 'rbf'},\n  {'C': 100, 'gamma': 0.01, 'kernel': 'rbf'},\n  {'C': 100, 'gamma': 0.1, 'kernel': 'rbf'},\n  {'C': 100, 'gamma': 1, 'kernel': 'rbf'},\n  {'C': 100, 'gamma': 10, 'kernel': 'rbf'},\n  {'C': 100, 'gamma': 50, 'kernel': 'rbf'},\n  {'C': 100, 'gamma': 100, 'kernel': 'rbf'}],\n 'split0_test_score': array([-1.35170031e-04, -8.50769064e-04, -8.09009274e-04, -8.54183619e-04,\n        -8.53734708e-04, -8.54186439e-04, -8.54186567e-04, -8.54186567e-04,\n        -8.54186567e-04, -8.54186567e-04, -8.54186567e-04,  3.41642311e-02,\n        -7.35342472e-04,  3.43861676e-03, -8.64182642e-04, -8.45083885e-04,\n        -8.64323553e-04, -8.64329976e-04, -8.64329976e-04, -8.64329976e-04,\n        -8.64329976e-04, -8.64329976e-04,  6.64646033e-03, -8.62891842e-04,\n        -3.07944015e-05, -8.54157086e-04, -8.49668159e-04, -8.54185282e-04,\n        -8.54186567e-04, -8.54186567e-04, -8.54186567e-04, -8.54186567e-04,\n        -8.54186567e-04,  1.72490433e-01,  5.53010875e-04,  3.46401052e-02,\n        -9.18452282e-04, -7.15554909e-04, -9.19857420e-04, -9.19921494e-04,\n        -9.19921494e-04, -9.19921494e-04, -9.19921494e-04, -9.19921494e-04,\n         6.30203651e-02, -5.74893462e-04,  7.65294652e-03, -8.90621835e-04,\n        -8.51974215e-04, -8.90903325e-04, -8.90916156e-04, -8.90916156e-04,\n        -8.90916156e-04, -8.90916156e-04, -8.90916156e-04,  2.33761735e-01,\n         2.08745751e-03,  5.89544964e-02, -9.89002247e-04, -5.86787554e-04,\n        -9.91801447e-04, -9.91929203e-04, -9.91929203e-04, -9.91929203e-04,\n        -9.91929203e-04, -9.91929203e-04,  4.30806093e-01,  2.02496837e-02,\n         1.98006547e-01, -1.64984686e-03,  1.71286577e-03, -1.65220915e-03,\n        -1.64952185e-03, -1.64952185e-03, -1.64952185e-03, -1.64952185e-03,\n        -1.64952185e-03,  4.62198743e-01,  4.75700120e-02,  3.04997413e-01,\n        -5.42183854e-04,  7.41324934e-03, -5.62675540e-04, -5.63029514e-04,\n        -5.63029514e-04, -5.63029514e-04, -5.63029514e-04, -5.63029514e-04,\n         5.21648459e-01,  4.76736950e-02,  2.40675957e-01, -3.99069420e-03,\n         3.72042913e-03, -3.99803251e-03, -3.99663993e-03, -3.99663993e-03,\n        -3.99663993e-03, -3.99663993e-03, -3.99663993e-03,  5.83383858e-01,\n         4.38472375e-02,  2.32500365e-01, -7.01939732e-03,  4.84900395e-04,\n        -7.01918328e-03, -7.01668949e-03, -7.01668949e-03, -7.01668949e-03,\n        -7.01668949e-03, -7.01668949e-03,  5.52610248e-01,  4.38472375e-02,\n         2.32500365e-01, -7.01939732e-03,  4.84900395e-04, -7.01918328e-03,\n        -7.01668949e-03, -7.01668949e-03, -7.01668949e-03, -7.01668949e-03,\n        -7.01668949e-03]),\n 'split1_test_score': array([-3.49586115e-03, -5.09381712e-03, -4.87667649e-03, -5.10161722e-03,\n        -5.10054840e-03, -5.10163525e-03, -5.10163860e-03, -5.10163860e-03,\n        -5.10163860e-03, -5.10163860e-03, -5.10163860e-03,  6.43580315e-02,\n        -4.65366257e-03,  4.42298626e-03, -5.03212436e-03, -4.97921225e-03,\n        -5.03302489e-03, -5.03319233e-03, -5.03319233e-03, -5.03319233e-03,\n        -5.03319233e-03, -5.03319233e-03,  1.02165609e-02, -5.00572291e-03,\n        -2.88407109e-03, -5.08370748e-03, -5.07302027e-03, -5.08388775e-03,\n        -5.08392126e-03, -5.08392126e-03, -5.08392126e-03, -5.08392126e-03,\n        -5.08392126e-03,  3.44439968e-01, -1.39979465e-03,  6.92612132e-02,\n        -4.92970106e-03, -4.39944270e-03, -4.93867175e-03, -4.94034331e-03,\n        -4.94034331e-03, -4.94034331e-03, -4.94034331e-03, -4.94034331e-03,\n         1.21449997e-01, -4.21257296e-03,  1.29533786e-02, -5.03105686e-03,\n        -4.92526580e-03, -5.03285747e-03, -5.03319233e-03, -5.03319233e-03,\n        -5.03319233e-03, -5.03319233e-03, -5.03319233e-03,  4.63826263e-01,\n         1.67381432e-03,  1.22464781e-01, -5.06134310e-03, -4.05964148e-03,\n        -5.07927222e-03, -5.08262070e-03, -5.08262070e-03, -5.08262070e-03,\n        -5.08262070e-03, -5.08262070e-03,  7.80267209e-01,  4.23779257e-02,\n         3.80974847e-01, -7.34948565e-03,  1.22213325e-03, -7.50553506e-03,\n        -7.53265365e-03, -7.53265365e-03, -7.53265365e-03, -7.53265365e-03,\n        -7.53265365e-03,  8.89015701e-01,  8.88903110e-02,  5.30245859e-01,\n        -5.80707829e-03,  1.30144222e-02, -5.95754972e-03, -5.98257799e-03,\n        -5.98257799e-03, -5.98257799e-03, -5.98257799e-03, -5.98257799e-03,\n         8.69656211e-01,  8.60782866e-02,  5.38148329e-01, -1.09658433e-02,\n         7.92141085e-03, -1.11401565e-02, -1.11702023e-02, -1.11702023e-02,\n        -1.11702023e-02, -1.11702023e-02, -1.11702023e-02,  8.10360060e-01,\n         7.90627255e-02,  5.24016186e-01, -1.80962425e-02,  7.56562336e-04,\n        -1.82976323e-02, -1.83333076e-02, -1.83333076e-02, -1.83333076e-02,\n        -1.83333076e-02, -1.83333076e-02,  8.08764151e-01,  7.90627255e-02,\n         5.24016186e-01, -1.80962425e-02,  7.56562336e-04, -1.82976323e-02,\n        -1.83333076e-02, -1.83333076e-02, -1.83333076e-02, -1.83333076e-02,\n        -1.83333076e-02]),\n 'split2_test_score': array([-0.00302845, -0.00316345, -0.00314013, -0.00316441, -0.0031643 ,\n        -0.00316441, -0.00316441, -0.00316441, -0.00316441, -0.00316441,\n        -0.00316441,  0.0035998 , -0.00313509, -0.00223658, -0.00316433,\n        -0.00315885, -0.0031644 , -0.00316441, -0.00316441, -0.00316441,\n        -0.00316441, -0.00316441, -0.00174495, -0.00315481, -0.00303451,\n        -0.0031644 , -0.0031633 , -0.00316441, -0.00316441, -0.00316441,\n        -0.00316441, -0.00316441, -0.00316441,  0.02977259, -0.00280855,\n         0.0047208 , -0.00315426, -0.00311937, -0.00315495, -0.00315508,\n        -0.00315508, -0.00315508, -0.00315508, -0.00315508,  0.00885783,\n        -0.00316476, -0.00126427, -0.00318151, -0.00317438, -0.00318165,\n        -0.00318168, -0.00318168, -0.00318168, -0.00318168, -0.00318168,\n         0.03982051, -0.00234798,  0.00970817, -0.00308086, -0.00300158,\n        -0.00308222, -0.0030825 , -0.0030825 , -0.0030825 , -0.0030825 ,\n        -0.0030825 ,  0.07767647,  0.00214976,  0.03762984, -0.00233706,\n        -0.00164684, -0.00234695, -0.00234931, -0.00234931, -0.00234931,\n        -0.00234931, -0.00234931,  0.11418175,  0.0062144 ,  0.0640284 ,\n        -0.00317344, -0.00194697, -0.00318216, -0.0031842 , -0.0031842 ,\n        -0.0031842 , -0.0031842 , -0.0031842 ,  0.11200818,  0.00623536,\n         0.06172099, -0.00351144, -0.00227091, -0.00351952, -0.00352144,\n        -0.00352144, -0.00352144, -0.00352144, -0.00352144,  0.11790871,\n         0.00623536,  0.06172099, -0.00351144, -0.00227091, -0.00351952,\n        -0.00352144, -0.00352144, -0.00352144, -0.00352144, -0.00352144,\n         0.11790871,  0.00623536,  0.06172099, -0.00351144, -0.00227091,\n        -0.00351952, -0.00352144, -0.00352144, -0.00352144, -0.00352144,\n        -0.00352144]),\n 'split3_test_score': array([ 9.33497679e-04, -4.18016895e-04, -2.74087145e-04, -4.23228507e-04,\n        -4.22598574e-04, -4.23232147e-04, -4.23232315e-04, -4.23232315e-04,\n        -4.23232315e-04, -4.23232315e-04, -4.23232315e-04,  6.20492454e-02,\n        -1.62641592e-04,  6.99629174e-03, -4.23041941e-04, -3.91551058e-04,\n        -4.23223913e-04, -4.23232315e-04, -4.23232315e-04, -4.23232315e-04,\n        -4.23232315e-04, -4.23232315e-04,  1.29885426e-02, -3.71084743e-04,\n         1.06441877e-03, -4.23194238e-04, -4.16895124e-04, -4.23230634e-04,\n        -4.23232315e-04, -4.23232315e-04, -4.23232315e-04, -4.23232315e-04,\n        -4.23232315e-04,  3.11345755e-01,  2.16060058e-03,  6.06691034e-02,\n        -4.12717966e-04, -1.05325241e-04, -4.14535580e-04, -4.14619551e-04,\n        -4.14619551e-04, -4.14619551e-04, -4.14619551e-04, -4.14619551e-04,\n         1.12800920e-01,  9.75812928e-05,  1.41251418e-02, -4.22851593e-04,\n        -3.59881548e-04, -4.23215511e-04, -4.23232315e-04, -4.23232315e-04,\n        -4.23232315e-04, -4.23232315e-04, -4.23232315e-04,  4.14428392e-01,\n         4.72035628e-03,  1.03888570e-01, -4.41053457e-04,  1.88158297e-04,\n        -4.44692581e-04, -4.44860827e-04, -4.44860827e-04, -4.44860827e-04,\n        -4.44860827e-04, -4.44860827e-04,  6.96461701e-01,  3.63673182e-02,\n         3.53629426e-01, -8.52145296e-05,  5.21028124e-03, -1.22868925e-04,\n        -1.25678735e-04, -1.25678735e-04, -1.25678735e-04, -1.25678735e-04,\n        -1.25678735e-04,  7.93740554e-01,  7.78611564e-02,  5.49280078e-01,\n        -2.57163043e-03,  1.01178197e-02, -2.62115683e-03, -2.62474562e-03,\n        -2.62474562e-03, -2.62474562e-03, -2.62474562e-03, -2.62474562e-03,\n         7.93377047e-01,  8.24115385e-02,  5.33050373e-01, -1.13893736e-03,\n         1.21336308e-02, -1.18260203e-03, -1.18551030e-03, -1.18551030e-03,\n        -1.18551030e-03, -1.18551030e-03, -1.18551030e-03,  8.52625433e-01,\n         8.40404062e-02,  5.29340418e-01, -2.08406224e-05,  1.33453583e-02,\n        -5.49457984e-05, -5.66734142e-05, -5.66734142e-05, -5.66734142e-05,\n        -5.66734142e-05, -5.66734142e-05,  8.47776696e-01,  8.40404062e-02,\n         5.29340418e-01, -2.08406224e-05,  1.33453583e-02, -5.49457984e-05,\n        -5.66734142e-05, -5.66734142e-05, -5.66734142e-05, -5.66734142e-05,\n        -5.66734142e-05]),\n 'split4_test_score': array([ 7.80864721e-04, -4.72664493e-04, -3.17032479e-04, -4.78370617e-04,\n        -4.77578421e-04, -4.78372021e-04, -4.78372029e-04, -4.78372029e-04,\n        -4.78372029e-04, -4.78372029e-04, -4.78372029e-04,  5.63741022e-02,\n        -1.67836787e-04,  7.27334405e-03, -4.52538419e-04, -4.12962577e-04,\n        -4.52608653e-04, -4.52609043e-04, -4.52609043e-04, -4.52609043e-04,\n        -4.52609043e-04, -4.52609043e-04,  1.17600928e-02, -4.16533444e-04,\n         1.15033381e-03, -4.73572477e-04, -4.65651764e-04, -4.73586515e-04,\n        -4.73586593e-04, -4.73586593e-04, -4.73586593e-04, -4.73586593e-04,\n        -4.73586593e-04,  2.78032331e-01,  2.39486414e-03,  6.03711667e-02,\n        -3.45819435e-04,  3.50865978e-05, -3.46517204e-04, -3.46521126e-04,\n        -3.46521126e-04, -3.46521126e-04, -3.46521126e-04, -3.46521126e-04,\n         1.01986914e-01,  1.41754002e-04,  1.43431229e-02, -4.25439529e-04,\n        -3.46406328e-04, -4.25580100e-04, -4.25580881e-04, -4.25580881e-04,\n        -4.25580881e-04, -4.25580881e-04, -4.25580881e-04,  3.75745983e-01,\n         5.01494160e-03,  1.01981871e-01, -2.78527256e-04,  4.89556836e-04,\n        -2.79931684e-04, -2.79939559e-04, -2.79939559e-04, -2.79939559e-04,\n        -2.79939559e-04, -2.79939559e-04,  6.64716438e-01,  3.62898620e-02,\n         3.20929445e-01,  2.44347728e-06,  6.37328085e-03, -9.20892285e-06,\n        -8.93906298e-06, -8.93906298e-06, -8.93906298e-06, -8.93906298e-06,\n        -8.93906298e-06,  7.94912871e-01,  7.43307679e-02,  4.72993891e-01,\n        -6.27087809e-04,  1.34296472e-02, -6.52618718e-04, -6.53505164e-04,\n        -6.53505164e-04, -6.53505164e-04, -6.53505164e-04, -6.53505164e-04,\n         7.32174866e-01,  7.54543748e-02,  4.38433996e-01,  1.12855475e-05,\n         1.41240244e-02, -1.30869351e-05, -1.32969445e-05, -1.32969445e-05,\n        -1.32969445e-05, -1.32969445e-05, -1.32969445e-05,  7.84796460e-01,\n         7.53899039e-02,  4.40461590e-01, -4.97150955e-04,  1.36493012e-02,\n        -5.19124219e-04, -5.18416268e-04, -5.18416268e-04, -5.18416268e-04,\n        -5.18416268e-04, -5.18416268e-04,  7.73338646e-01,  7.53899039e-02,\n         4.40461590e-01, -4.97150955e-04,  1.36493012e-02, -5.19124219e-04,\n        -5.18416268e-04, -5.18416268e-04, -5.18416268e-04, -5.18416268e-04,\n        -5.18416268e-04]),\n 'mean_test_score': array([-9.89024623e-04, -1.99974399e-03, -1.88338631e-03, -2.00436215e-03,\n        -2.00375226e-03, -2.00436761e-03, -2.00436839e-03, -2.00436839e-03,\n        -2.00436839e-03, -2.00436839e-03, -2.00436839e-03,  4.41090828e-02,\n        -1.77091516e-03,  3.97893180e-03, -1.98724351e-03, -1.95753186e-03,\n        -1.98751590e-03, -1.98755522e-03, -1.98755522e-03, -1.98755522e-03,\n        -1.98755522e-03, -1.98755522e-03,  7.97334199e-03, -1.96220928e-03,\n        -7.46925462e-04, -1.99980546e-03, -1.99370700e-03, -1.99985997e-03,\n        -1.99986784e-03, -1.99986784e-03, -1.99986784e-03, -1.99986784e-03,\n        -1.99986784e-03,  2.27216216e-01,  1.80026879e-04,  4.59324770e-02,\n        -1.95219076e-03, -1.66092056e-03, -1.95490541e-03, -1.95529802e-03,\n        -1.95529802e-03, -1.95529802e-03, -1.95529802e-03, -1.95529802e-03,\n         8.16232050e-02, -1.54257726e-03,  9.56206366e-03, -1.99029695e-03,\n        -1.93158101e-03, -1.99084156e-03, -1.99092019e-03, -1.99092019e-03,\n        -1.99092019e-03, -1.99092019e-03, -1.99092019e-03,  3.05516577e-01,\n         2.22971795e-03,  7.93995773e-02, -1.97015736e-03, -1.39405836e-03,\n        -1.97558354e-03, -1.97637006e-03, -1.97637006e-03, -1.97637006e-03,\n        -1.97637006e-03, -1.97637006e-03,  5.29985582e-01,  2.74869092e-02,\n         2.58234022e-01, -2.28383193e-03,  2.57434422e-03, -2.32735393e-03,\n        -2.33322129e-03, -2.33322129e-03, -2.33322129e-03, -2.33322129e-03,\n        -2.33322129e-03,  6.10809924e-01,  5.89733287e-02,  3.84309127e-01,\n        -2.54428353e-03,  8.40563449e-03, -2.59523221e-03, -2.60161193e-03,\n        -2.60161193e-03, -2.60161193e-03, -2.60161193e-03, -2.60161193e-03,\n         6.05772952e-01,  5.95706512e-02,  3.62405928e-01, -3.91912605e-03,\n         7.12571759e-03, -3.97068019e-03, -3.97741703e-03, -3.97741703e-03,\n        -3.97741703e-03, -3.97741703e-03, -3.97741703e-03,  6.29814904e-01,\n         5.77151268e-02,  3.57607910e-01, -5.82901446e-03,  5.19304302e-03,\n        -5.88208172e-03, -5.88930450e-03, -5.88930450e-03, -5.88930450e-03,\n        -5.88930450e-03, -5.88930450e-03,  6.20079690e-01,  5.77151268e-02,\n         3.57607910e-01, -5.82901446e-03,  5.19304302e-03, -5.88208172e-03,\n        -5.88930450e-03, -5.88930450e-03, -5.88930450e-03, -5.88930450e-03,\n        -5.88930450e-03]),\n 'std_test_score': array([0.00189743, 0.00184832, 0.00182958, 0.0018488 , 0.00184872,\n        0.0018488 , 0.0018488 , 0.0018488 , 0.0018488 , 0.0018488 ,\n        0.0018488 , 0.02290066, 0.00181108, 0.00343742, 0.00182867,\n        0.00182479, 0.00182892, 0.00182897, 0.00182897, 0.00182897,\n        0.00182897, 0.00182897, 0.00530527, 0.00183382, 0.00185439,\n        0.0018436 , 0.00184284, 0.00184365, 0.00184366, 0.00184366,\n        0.00184366, 0.00184366, 0.00184366, 0.11435065, 0.00201964,\n        0.02364654, 0.00180718, 0.00177857, 0.00180964, 0.00181018,\n        0.00181018, 0.00181018, 0.00181018, 0.00181018, 0.04150607,\n        0.00180132, 0.00593356, 0.00183195, 0.00182512, 0.00183244,\n        0.00183255, 0.00183255, 0.00183255, 0.00183255, 0.00183255,\n        0.15336171, 0.00265501, 0.04059354, 0.00184128, 0.00181067,\n        0.00184631, 0.00184742, 0.00184742, 0.00184742, 0.00184742,\n        0.00184742, 0.25413685, 0.01464544, 0.12679894, 0.002688  ,\n        0.0028903 , 0.00273873, 0.00274872, 0.00274872, 0.00274872,\n        0.00274872, 0.00274872, 0.2875694 , 0.02966873, 0.1817955 ,\n        0.00193528, 0.00561381, 0.00197764, 0.00198604, 0.00198604,\n        0.00198604, 0.00198604, 0.00198604, 0.27264912, 0.02987589,\n        0.18494043, 0.00382113, 0.005909  , 0.00387406, 0.00388467,\n        0.00388467, 0.00388467, 0.00388467, 0.00388467, 0.27219999,\n        0.02933811, 0.18289312, 0.00662475, 0.00686335, 0.00668936,\n        0.00670219, 0.00670219, 0.00670219, 0.00670219, 0.00670219,\n        0.27116928, 0.02933811, 0.18289312, 0.00662475, 0.00686335,\n        0.00668936, 0.00670219, 0.00670219, 0.00670219, 0.00670219,\n        0.00670219]),\n 'rank_test_score': array([ 33,  71,  38,  80,  79,  81,  82,  82,  82,  82,  82,  20,  37,\n         28,  56,  47,  57,  58,  58,  58,  58,  58,  24,  48,  32,  72,\n         70,  73,  74,  74,  74,  74,  74,  12,  31,  19,  40,  36,  41,\n         42,  42,  42,  42,  42,  13,  35,  22,  63,  39,  64,  65,  65,\n         65,  65,  65,  10,  30,  14,  49,  34,  50,  51,  51,  51,  51,\n         51,   5,  21,  11,  87,  29,  88,  89,  89,  89,  89,  89,   3,\n         16,   6,  94,  23,  95,  96,  96,  96,  96,  96,   4,  15,   7,\n        101,  25, 102, 103, 103, 103, 103, 103,   1,  17,   8, 108,  26,\n        110, 112, 112, 112, 112, 112,   2,  17,   8, 108,  26, 110, 112,\n        112, 112, 112, 112])}"
     },
     "execution_count": 333,
     "metadata": {},
     "output_type": "execute_result"
    }
   ]
  },
  {
   "cell_type": "markdown",
   "source": [
    "# 12.7 Save the model"
   ],
   "metadata": {
    "id": "4DhPEZv_SCjn",
    "pycharm": {
     "name": "#%% md\n"
    }
   }
  },
  {
   "cell_type": "code",
   "source": [
    "# use joblib to save the model\n",
    "import joblib\n",
    "\n",
    "joblib.dump(svm_winner, \"svm_model.pkl\")\n",
    "\n",
    "# Later \n",
    "# my_model_loaded = joblib.load(\"svm_model.pkl\")"
   ],
   "metadata": {
    "id": "SVgPG_UrSLXC",
    "colab": {
     "base_uri": "https://localhost:8080/"
    },
    "executionInfo": {
     "status": "ok",
     "timestamp": 1649508154531,
     "user_tz": -120,
     "elapsed": 415,
     "user": {
      "displayName": "Abdelrhman Amr",
      "userId": "09344834973078055484"
     }
    },
    "outputId": "bdaadd4b-6880-452e-eba0-f755c4c813aa",
    "pycharm": {
     "name": "#%%\n"
    }
   },
   "execution_count": null,
   "outputs": [
    {
     "output_type": "execute_result",
     "data": {
      "text/plain": [
       "['svm_model.pkl']"
      ]
     },
     "metadata": {},
     "execution_count": 104
    }
   ]
  },
  {
   "cell_type": "code",
   "execution_count": 402,
   "outputs": [
    {
     "data": {
      "text/plain": "['dt_model_p.pkl']"
     },
     "execution_count": 402,
     "metadata": {},
     "output_type": "execute_result"
    }
   ],
   "source": [
    "# use joblib to save the model\n",
    "import joblib\n",
    "\n",
    "# joblib.dump(gb_model, \"gb_model.pkl\")\n",
    "\n",
    "# joblib.dump(svm_model, \"svm_model_p.pkl\")\n",
    "joblib.dump(dt_model, \"dt_model_p.pkl\")\n",
    "\n",
    "\n",
    "# Later\n",
    "# my_model_loaded = joblib.load(\"svm_model.pkl\")"
   ],
   "metadata": {
    "collapsed": false,
    "pycharm": {
     "name": "#%%\n"
    }
   }
  },
  {
   "cell_type": "code",
   "execution_count": null,
   "outputs": [],
   "source": [],
   "metadata": {
    "collapsed": false,
    "pycharm": {
     "name": "#%%\n"
    }
   }
  }
 ]
}