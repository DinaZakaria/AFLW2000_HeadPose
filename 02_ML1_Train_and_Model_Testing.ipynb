{
 "nbformat": 4,
 "nbformat_minor": 0,
 "metadata": {
  "kernelspec": {
   "display_name": "Python 3",
   "language": "python",
   "name": "python3"
  },
  "language_info": {
   "codemirror_mode": {
    "name": "ipython",
    "version": 3
   },
   "file_extension": ".py",
   "mimetype": "text/x-python",
   "name": "python",
   "nbconvert_exporter": "python",
   "pygments_lexer": "ipython3",
   "version": "3.7.6"
  },
  "colab": {
   "name": "End_to_end_example.ipynb",
   "provenance": [
    {
     "file_id": "https://github.com/s7s/machine_learning_1/blob/master/ML_in_practice/End_to_end_example.ipynb",
     "timestamp": 1649500857705
    }
   ],
   "collapsed_sections": []
  }
 },
 "cells": [
  {
   "cell_type": "markdown",
   "source": [
    "## Imports"
   ],
   "metadata": {
    "collapsed": false,
    "pycharm": {
     "name": "#%% md\n"
    }
   }
  },
  {
   "cell_type": "code",
   "execution_count": 1,
   "outputs": [],
   "source": [
    "import numpy as np\n",
    "import pandas as pd\n",
    "import matplotlib.pyplot as plt\n",
    "%matplotlib inline\n",
    "import math\n",
    "from sklearn.metrics import r2_score"
   ],
   "metadata": {
    "collapsed": false,
    "pycharm": {
     "name": "#%%\n"
    }
   }
  },
  {
   "cell_type": "code",
   "execution_count": 2,
   "outputs": [],
   "source": [
    "plt.style.use(['ggplot'])"
   ],
   "metadata": {
    "collapsed": false,
    "pycharm": {
     "name": "#%%\n"
    }
   }
  },
  {
   "cell_type": "markdown",
   "metadata": {
    "id": "P_9IavYxfqKF",
    "pycharm": {
     "name": "#%% md\n"
    }
   },
   "source": [
    "# 12. Machine learning techniques"
   ]
  },
  {
   "cell_type": "code",
   "metadata": {
    "id": "m3nP5yDNfqKI",
    "executionInfo": {
     "status": "ok",
     "timestamp": 1649550537681,
     "user_tz": -120,
     "elapsed": 2,
     "user": {
      "displayName": "Abdelrhman Amr",
      "userId": "09344834973078055484"
     }
    },
    "pycharm": {
     "name": "#%%\n"
    }
   },
   "source": [
    "import random as rd\n",
    "rd.seed(0)"
   ],
   "execution_count": 3,
   "outputs": []
  },
  {
   "cell_type": "code",
   "metadata": {
    "id": "bAbJWz2MfqKH",
    "executionInfo": {
     "status": "ok",
     "timestamp": 1649550539670,
     "user_tz": -120,
     "elapsed": 849,
     "user": {
      "displayName": "Abdelrhman Amr",
      "userId": "09344834973078055484"
     }
    },
    "pycharm": {
     "name": "#%%\n"
    }
   },
   "source": [
    "import pandas as pd\n",
    "import numpy as np\n",
    "import matplotlib.pyplot as plt"
   ],
   "execution_count": 4,
   "outputs": []
  },
  {
   "cell_type": "markdown",
   "metadata": {
    "id": "E8GM6HeSfqKI",
    "pycharm": {
     "name": "#%% md\n"
    }
   },
   "source": [
    "## 12.1 Loading and exploring the dataset\n",
    "\n",
    "First, we use pandas to load the dataset from a csv file."
   ]
  },
  {
   "cell_type": "code",
   "metadata": {
    "id": "FFuOhKGrfqKJ",
    "colab": {
     "base_uri": "https://localhost:8080/",
     "height": 423
    },
    "executionInfo": {
     "status": "ok",
     "timestamp": 1649503285002,
     "user_tz": -120,
     "elapsed": 14,
     "user": {
      "displayName": "Abdelrhman Amr",
      "userId": "09344834973078055484"
     }
    },
    "outputId": "ab70ba4d-c040-47fa-fd18-ccfb71c7e794",
    "pycharm": {
     "name": "#%%\n"
    }
   },
   "source": [
    "# use pabdas to read './titanic.csv'\n",
    "# raw_data = pd.read_csv('AFLW2000_CSV_Original.csv', sep = ',')\n",
    "raw_data = pd.read_csv('AFLW2000_CSV_nose_chin_Y.csv', sep = ',')\n",
    "raw_data"
   ],
   "execution_count": 17,
   "outputs": [
    {
     "data": {
      "text/plain": "             0         1         2         3         4         5         6  \\\n0     1.098942  1.093623  1.046228  1.003509  0.932269  0.815172  0.676699   \n1     1.146196  1.099199  1.069516  1.004987  0.863524  0.660770  0.429729   \n2     0.516446  0.552702  0.596111  0.614219  0.599485  0.544578  0.467171   \n3     0.617134  0.494862  0.331161  0.195162  0.061588  0.074565  0.183670   \n4     1.438307  1.529986  1.619708  1.668967  1.643812  1.530264  1.319438   \n...        ...       ...       ...       ...       ...       ...       ...   \n1995  1.273663  1.260673  1.201879  1.136581  1.047372  0.912882  0.740402   \n1996  1.636016  1.610211  1.593053  1.539618  1.401432  1.153100  0.855988   \n1997  1.256878  1.273227  1.288105  1.278910  1.212399  1.062473  0.870527   \n1998  1.620198  1.624991  1.613607  1.598031  1.531942  1.347036  1.106420   \n1999  1.055871  1.028432  0.971162  0.908763  0.815476  0.670134  0.523171   \n\n             7         8         9  ...       129       130       131  \\\n0     0.449410  0.118692  0.243987  ...  0.301783  0.334626  0.354570   \n1     0.237401  0.252338  0.482577  ...  0.491041  0.462480  0.454482   \n2     0.423267  0.541166  0.809489  ...  0.377620  0.374466  0.365047   \n3     0.347858  0.651314  0.948570  ...  0.411311  0.376304  0.343827   \n4     1.090354  1.029818  1.178302  ...  0.329612  0.332356  0.309886   \n...        ...       ...       ...  ...       ...       ...       ...   \n1995  0.507200  0.183972  0.136487  ...  0.403298  0.410273  0.427034   \n1996  0.604646  0.484501  0.538519  ...  0.409411  0.400008  0.393672   \n1997  0.678383  0.591509  0.671871  ...  0.354212  0.359044  0.362745   \n1998  0.852163  0.679503  0.668389  ...  0.401851  0.409263  0.409986   \n1999  0.352418  0.095622  0.131602  ...  0.435771  0.434129  0.428610   \n\n           132       133       134       135       136       137       138  \n0     0.432050  0.523408  0.520601  0.458871 -0.399231  0.018227  0.085676  \n1     0.493055  0.447541  0.460963  0.481309  0.470065  1.189533  0.300959  \n2     0.343690  0.382258  0.397722  0.397069 -0.184650  0.881137 -0.236852  \n3     0.216196  0.412265  0.462268  0.479282 -0.175379  0.299208 -0.373374  \n4     0.371795  0.393731  0.412125  0.400477 -0.882169  1.198004 -1.033374  \n...        ...       ...       ...       ...       ...       ...       ...  \n1995  0.446217  0.484604  0.483347  0.457206 -0.197102 -0.070430  0.105118  \n1996  0.409560  0.409885  0.419485  0.421996 -0.232617 -1.418751  0.175960  \n1997  0.410615  0.389214  0.392860  0.376122 -1.447955  1.431267 -1.509418  \n1998  0.434296  0.437353  0.440258  0.428200 -0.420465 -1.191176  0.451515  \n1999  0.437351  0.452651  0.459181  0.456675 -0.015552 -0.180126 -0.024546  \n\n[2000 rows x 139 columns]",
      "text/html": "<div>\n<style scoped>\n    .dataframe tbody tr th:only-of-type {\n        vertical-align: middle;\n    }\n\n    .dataframe tbody tr th {\n        vertical-align: top;\n    }\n\n    .dataframe thead th {\n        text-align: right;\n    }\n</style>\n<table border=\"1\" class=\"dataframe\">\n  <thead>\n    <tr style=\"text-align: right;\">\n      <th></th>\n      <th>0</th>\n      <th>1</th>\n      <th>2</th>\n      <th>3</th>\n      <th>4</th>\n      <th>5</th>\n      <th>6</th>\n      <th>7</th>\n      <th>8</th>\n      <th>9</th>\n      <th>...</th>\n      <th>129</th>\n      <th>130</th>\n      <th>131</th>\n      <th>132</th>\n      <th>133</th>\n      <th>134</th>\n      <th>135</th>\n      <th>136</th>\n      <th>137</th>\n      <th>138</th>\n    </tr>\n  </thead>\n  <tbody>\n    <tr>\n      <th>0</th>\n      <td>1.098942</td>\n      <td>1.093623</td>\n      <td>1.046228</td>\n      <td>1.003509</td>\n      <td>0.932269</td>\n      <td>0.815172</td>\n      <td>0.676699</td>\n      <td>0.449410</td>\n      <td>0.118692</td>\n      <td>0.243987</td>\n      <td>...</td>\n      <td>0.301783</td>\n      <td>0.334626</td>\n      <td>0.354570</td>\n      <td>0.432050</td>\n      <td>0.523408</td>\n      <td>0.520601</td>\n      <td>0.458871</td>\n      <td>-0.399231</td>\n      <td>0.018227</td>\n      <td>0.085676</td>\n    </tr>\n    <tr>\n      <th>1</th>\n      <td>1.146196</td>\n      <td>1.099199</td>\n      <td>1.069516</td>\n      <td>1.004987</td>\n      <td>0.863524</td>\n      <td>0.660770</td>\n      <td>0.429729</td>\n      <td>0.237401</td>\n      <td>0.252338</td>\n      <td>0.482577</td>\n      <td>...</td>\n      <td>0.491041</td>\n      <td>0.462480</td>\n      <td>0.454482</td>\n      <td>0.493055</td>\n      <td>0.447541</td>\n      <td>0.460963</td>\n      <td>0.481309</td>\n      <td>0.470065</td>\n      <td>1.189533</td>\n      <td>0.300959</td>\n    </tr>\n    <tr>\n      <th>2</th>\n      <td>0.516446</td>\n      <td>0.552702</td>\n      <td>0.596111</td>\n      <td>0.614219</td>\n      <td>0.599485</td>\n      <td>0.544578</td>\n      <td>0.467171</td>\n      <td>0.423267</td>\n      <td>0.541166</td>\n      <td>0.809489</td>\n      <td>...</td>\n      <td>0.377620</td>\n      <td>0.374466</td>\n      <td>0.365047</td>\n      <td>0.343690</td>\n      <td>0.382258</td>\n      <td>0.397722</td>\n      <td>0.397069</td>\n      <td>-0.184650</td>\n      <td>0.881137</td>\n      <td>-0.236852</td>\n    </tr>\n    <tr>\n      <th>3</th>\n      <td>0.617134</td>\n      <td>0.494862</td>\n      <td>0.331161</td>\n      <td>0.195162</td>\n      <td>0.061588</td>\n      <td>0.074565</td>\n      <td>0.183670</td>\n      <td>0.347858</td>\n      <td>0.651314</td>\n      <td>0.948570</td>\n      <td>...</td>\n      <td>0.411311</td>\n      <td>0.376304</td>\n      <td>0.343827</td>\n      <td>0.216196</td>\n      <td>0.412265</td>\n      <td>0.462268</td>\n      <td>0.479282</td>\n      <td>-0.175379</td>\n      <td>0.299208</td>\n      <td>-0.373374</td>\n    </tr>\n    <tr>\n      <th>4</th>\n      <td>1.438307</td>\n      <td>1.529986</td>\n      <td>1.619708</td>\n      <td>1.668967</td>\n      <td>1.643812</td>\n      <td>1.530264</td>\n      <td>1.319438</td>\n      <td>1.090354</td>\n      <td>1.029818</td>\n      <td>1.178302</td>\n      <td>...</td>\n      <td>0.329612</td>\n      <td>0.332356</td>\n      <td>0.309886</td>\n      <td>0.371795</td>\n      <td>0.393731</td>\n      <td>0.412125</td>\n      <td>0.400477</td>\n      <td>-0.882169</td>\n      <td>1.198004</td>\n      <td>-1.033374</td>\n    </tr>\n    <tr>\n      <th>...</th>\n      <td>...</td>\n      <td>...</td>\n      <td>...</td>\n      <td>...</td>\n      <td>...</td>\n      <td>...</td>\n      <td>...</td>\n      <td>...</td>\n      <td>...</td>\n      <td>...</td>\n      <td>...</td>\n      <td>...</td>\n      <td>...</td>\n      <td>...</td>\n      <td>...</td>\n      <td>...</td>\n      <td>...</td>\n      <td>...</td>\n      <td>...</td>\n      <td>...</td>\n      <td>...</td>\n    </tr>\n    <tr>\n      <th>1995</th>\n      <td>1.273663</td>\n      <td>1.260673</td>\n      <td>1.201879</td>\n      <td>1.136581</td>\n      <td>1.047372</td>\n      <td>0.912882</td>\n      <td>0.740402</td>\n      <td>0.507200</td>\n      <td>0.183972</td>\n      <td>0.136487</td>\n      <td>...</td>\n      <td>0.403298</td>\n      <td>0.410273</td>\n      <td>0.427034</td>\n      <td>0.446217</td>\n      <td>0.484604</td>\n      <td>0.483347</td>\n      <td>0.457206</td>\n      <td>-0.197102</td>\n      <td>-0.070430</td>\n      <td>0.105118</td>\n    </tr>\n    <tr>\n      <th>1996</th>\n      <td>1.636016</td>\n      <td>1.610211</td>\n      <td>1.593053</td>\n      <td>1.539618</td>\n      <td>1.401432</td>\n      <td>1.153100</td>\n      <td>0.855988</td>\n      <td>0.604646</td>\n      <td>0.484501</td>\n      <td>0.538519</td>\n      <td>...</td>\n      <td>0.409411</td>\n      <td>0.400008</td>\n      <td>0.393672</td>\n      <td>0.409560</td>\n      <td>0.409885</td>\n      <td>0.419485</td>\n      <td>0.421996</td>\n      <td>-0.232617</td>\n      <td>-1.418751</td>\n      <td>0.175960</td>\n    </tr>\n    <tr>\n      <th>1997</th>\n      <td>1.256878</td>\n      <td>1.273227</td>\n      <td>1.288105</td>\n      <td>1.278910</td>\n      <td>1.212399</td>\n      <td>1.062473</td>\n      <td>0.870527</td>\n      <td>0.678383</td>\n      <td>0.591509</td>\n      <td>0.671871</td>\n      <td>...</td>\n      <td>0.354212</td>\n      <td>0.359044</td>\n      <td>0.362745</td>\n      <td>0.410615</td>\n      <td>0.389214</td>\n      <td>0.392860</td>\n      <td>0.376122</td>\n      <td>-1.447955</td>\n      <td>1.431267</td>\n      <td>-1.509418</td>\n    </tr>\n    <tr>\n      <th>1998</th>\n      <td>1.620198</td>\n      <td>1.624991</td>\n      <td>1.613607</td>\n      <td>1.598031</td>\n      <td>1.531942</td>\n      <td>1.347036</td>\n      <td>1.106420</td>\n      <td>0.852163</td>\n      <td>0.679503</td>\n      <td>0.668389</td>\n      <td>...</td>\n      <td>0.401851</td>\n      <td>0.409263</td>\n      <td>0.409986</td>\n      <td>0.434296</td>\n      <td>0.437353</td>\n      <td>0.440258</td>\n      <td>0.428200</td>\n      <td>-0.420465</td>\n      <td>-1.191176</td>\n      <td>0.451515</td>\n    </tr>\n    <tr>\n      <th>1999</th>\n      <td>1.055871</td>\n      <td>1.028432</td>\n      <td>0.971162</td>\n      <td>0.908763</td>\n      <td>0.815476</td>\n      <td>0.670134</td>\n      <td>0.523171</td>\n      <td>0.352418</td>\n      <td>0.095622</td>\n      <td>0.131602</td>\n      <td>...</td>\n      <td>0.435771</td>\n      <td>0.434129</td>\n      <td>0.428610</td>\n      <td>0.437351</td>\n      <td>0.452651</td>\n      <td>0.459181</td>\n      <td>0.456675</td>\n      <td>-0.015552</td>\n      <td>-0.180126</td>\n      <td>-0.024546</td>\n    </tr>\n  </tbody>\n</table>\n<p>2000 rows × 139 columns</p>\n</div>"
     },
     "execution_count": 17,
     "metadata": {},
     "output_type": "execute_result"
    }
   ]
  },
  {
   "cell_type": "markdown",
   "source": [
    "## All Features"
   ],
   "metadata": {
    "collapsed": false,
    "pycharm": {
     "name": "#%% md\n"
    }
   }
  },
  {
   "cell_type": "code",
   "execution_count": 18,
   "outputs": [],
   "source": [
    "X = raw_data.iloc[:,0:136].to_numpy()"
   ],
   "metadata": {
    "collapsed": false,
    "pycharm": {
     "name": "#%%\n"
    }
   }
  },
  {
   "cell_type": "markdown",
   "source": [
    "## 6 * 2 (12) Selected Features"
   ],
   "metadata": {
    "collapsed": false,
    "pycharm": {
     "name": "#%% md\n"
    }
   }
  },
  {
   "cell_type": "code",
   "execution_count": 19,
   "outputs": [],
   "source": [
    "y_shift = 68\n",
    "xy_list = [\"8\", \"30\", \"36\", \"45\", \"48\", \"54\", str(8 + y_shift), str(30+ y_shift), str(36+ y_shift), str(45+ y_shift), str(48+ y_shift), str(54+ y_shift)]"
   ],
   "metadata": {
    "collapsed": false,
    "pycharm": {
     "name": "#%%\n"
    }
   }
  },
  {
   "cell_type": "code",
   "execution_count": 20,
   "outputs": [
    {
     "data": {
      "text/plain": "             8   30        36        45        48        54   76   98  \\\n0     0.118692  0.0  0.665509  0.817264  0.474634  0.390983  1.0  0.0   \n1     0.252338  0.0  0.403196  0.843711  0.247529  0.489991  1.0  0.0   \n2     0.541166  0.0  0.033345  0.754304  0.211529  0.727214  1.0  0.0   \n3     0.651314  0.0  0.637943  0.654190  0.046217  0.671781  1.0  0.0   \n4     1.029818  0.0  0.361079  0.579493  0.673239  0.756450  1.0  0.0   \n...        ...  ...       ...       ...       ...       ...  ...  ...   \n1995  0.183972  0.0  0.728549  0.717309  0.484336  0.217477  1.0  0.0   \n1996  0.484501  0.0  0.651693  0.479454  0.465217  0.408402  1.0  0.0   \n1997  0.591509  0.0  0.366108  0.383186  0.481978  0.410237  1.0  0.0   \n1998  0.679503  0.0  0.673259  0.316656  0.697352  0.443617  1.0  0.0   \n1999  0.095622  0.0  0.617707  0.385229  0.352374  0.189450  1.0  0.0   \n\n           104       113       116       122  \n0     0.874677  0.739283  0.248823  0.434979  \n1     0.276896  0.459228  0.596279  0.496673  \n2     0.442517  0.546255  0.399115  0.349114  \n3     0.491591  0.945473  0.418935  0.206750  \n4     0.523070  0.744599  0.400893  0.380871  \n...        ...       ...       ...       ...  \n1995  0.779885  0.654895  0.382235  0.450816  \n1996  0.448384  0.511403  0.463824  0.411434  \n1997  0.421619  0.467517  0.367382  0.419317  \n1998  0.517083  0.460675  0.408244  0.441835  \n1999  0.364075  0.382250  0.469987  0.437384  \n\n[2000 rows x 12 columns]",
      "text/html": "<div>\n<style scoped>\n    .dataframe tbody tr th:only-of-type {\n        vertical-align: middle;\n    }\n\n    .dataframe tbody tr th {\n        vertical-align: top;\n    }\n\n    .dataframe thead th {\n        text-align: right;\n    }\n</style>\n<table border=\"1\" class=\"dataframe\">\n  <thead>\n    <tr style=\"text-align: right;\">\n      <th></th>\n      <th>8</th>\n      <th>30</th>\n      <th>36</th>\n      <th>45</th>\n      <th>48</th>\n      <th>54</th>\n      <th>76</th>\n      <th>98</th>\n      <th>104</th>\n      <th>113</th>\n      <th>116</th>\n      <th>122</th>\n    </tr>\n  </thead>\n  <tbody>\n    <tr>\n      <th>0</th>\n      <td>0.118692</td>\n      <td>0.0</td>\n      <td>0.665509</td>\n      <td>0.817264</td>\n      <td>0.474634</td>\n      <td>0.390983</td>\n      <td>1.0</td>\n      <td>0.0</td>\n      <td>0.874677</td>\n      <td>0.739283</td>\n      <td>0.248823</td>\n      <td>0.434979</td>\n    </tr>\n    <tr>\n      <th>1</th>\n      <td>0.252338</td>\n      <td>0.0</td>\n      <td>0.403196</td>\n      <td>0.843711</td>\n      <td>0.247529</td>\n      <td>0.489991</td>\n      <td>1.0</td>\n      <td>0.0</td>\n      <td>0.276896</td>\n      <td>0.459228</td>\n      <td>0.596279</td>\n      <td>0.496673</td>\n    </tr>\n    <tr>\n      <th>2</th>\n      <td>0.541166</td>\n      <td>0.0</td>\n      <td>0.033345</td>\n      <td>0.754304</td>\n      <td>0.211529</td>\n      <td>0.727214</td>\n      <td>1.0</td>\n      <td>0.0</td>\n      <td>0.442517</td>\n      <td>0.546255</td>\n      <td>0.399115</td>\n      <td>0.349114</td>\n    </tr>\n    <tr>\n      <th>3</th>\n      <td>0.651314</td>\n      <td>0.0</td>\n      <td>0.637943</td>\n      <td>0.654190</td>\n      <td>0.046217</td>\n      <td>0.671781</td>\n      <td>1.0</td>\n      <td>0.0</td>\n      <td>0.491591</td>\n      <td>0.945473</td>\n      <td>0.418935</td>\n      <td>0.206750</td>\n    </tr>\n    <tr>\n      <th>4</th>\n      <td>1.029818</td>\n      <td>0.0</td>\n      <td>0.361079</td>\n      <td>0.579493</td>\n      <td>0.673239</td>\n      <td>0.756450</td>\n      <td>1.0</td>\n      <td>0.0</td>\n      <td>0.523070</td>\n      <td>0.744599</td>\n      <td>0.400893</td>\n      <td>0.380871</td>\n    </tr>\n    <tr>\n      <th>...</th>\n      <td>...</td>\n      <td>...</td>\n      <td>...</td>\n      <td>...</td>\n      <td>...</td>\n      <td>...</td>\n      <td>...</td>\n      <td>...</td>\n      <td>...</td>\n      <td>...</td>\n      <td>...</td>\n      <td>...</td>\n    </tr>\n    <tr>\n      <th>1995</th>\n      <td>0.183972</td>\n      <td>0.0</td>\n      <td>0.728549</td>\n      <td>0.717309</td>\n      <td>0.484336</td>\n      <td>0.217477</td>\n      <td>1.0</td>\n      <td>0.0</td>\n      <td>0.779885</td>\n      <td>0.654895</td>\n      <td>0.382235</td>\n      <td>0.450816</td>\n    </tr>\n    <tr>\n      <th>1996</th>\n      <td>0.484501</td>\n      <td>0.0</td>\n      <td>0.651693</td>\n      <td>0.479454</td>\n      <td>0.465217</td>\n      <td>0.408402</td>\n      <td>1.0</td>\n      <td>0.0</td>\n      <td>0.448384</td>\n      <td>0.511403</td>\n      <td>0.463824</td>\n      <td>0.411434</td>\n    </tr>\n    <tr>\n      <th>1997</th>\n      <td>0.591509</td>\n      <td>0.0</td>\n      <td>0.366108</td>\n      <td>0.383186</td>\n      <td>0.481978</td>\n      <td>0.410237</td>\n      <td>1.0</td>\n      <td>0.0</td>\n      <td>0.421619</td>\n      <td>0.467517</td>\n      <td>0.367382</td>\n      <td>0.419317</td>\n    </tr>\n    <tr>\n      <th>1998</th>\n      <td>0.679503</td>\n      <td>0.0</td>\n      <td>0.673259</td>\n      <td>0.316656</td>\n      <td>0.697352</td>\n      <td>0.443617</td>\n      <td>1.0</td>\n      <td>0.0</td>\n      <td>0.517083</td>\n      <td>0.460675</td>\n      <td>0.408244</td>\n      <td>0.441835</td>\n    </tr>\n    <tr>\n      <th>1999</th>\n      <td>0.095622</td>\n      <td>0.0</td>\n      <td>0.617707</td>\n      <td>0.385229</td>\n      <td>0.352374</td>\n      <td>0.189450</td>\n      <td>1.0</td>\n      <td>0.0</td>\n      <td>0.364075</td>\n      <td>0.382250</td>\n      <td>0.469987</td>\n      <td>0.437384</td>\n    </tr>\n  </tbody>\n</table>\n<p>2000 rows × 12 columns</p>\n</div>"
     },
     "execution_count": 20,
     "metadata": {},
     "output_type": "execute_result"
    }
   ],
   "source": [
    "X = raw_data[xy_list]\n",
    "X"
   ],
   "metadata": {
    "collapsed": false,
    "pycharm": {
     "name": "#%%\n"
    }
   }
  },
  {
   "cell_type": "code",
   "execution_count": 21,
   "outputs": [],
   "source": [
    "#pitch, yaw, roll\n",
    "p = raw_data[[\"136\"]].to_numpy()\n",
    "y = raw_data[[\"137\"]].to_numpy()\n",
    "r = raw_data[[\"138\"]].to_numpy()"
   ],
   "metadata": {
    "collapsed": false,
    "pycharm": {
     "name": "#%%\n"
    }
   }
  },
  {
   "cell_type": "markdown",
   "metadata": {
    "id": "P8cSfkeYfqKL",
    "pycharm": {
     "name": "#%% md\n"
    }
   },
   "source": [
    "Next, we can explore the dataset."
   ]
  },
  {
   "cell_type": "code",
   "execution_count": 22,
   "outputs": [
    {
     "data": {
      "text/plain": "(2000, 12)"
     },
     "execution_count": 22,
     "metadata": {},
     "output_type": "execute_result"
    }
   ],
   "source": [
    "X.shape"
   ],
   "metadata": {
    "collapsed": false,
    "pycharm": {
     "name": "#%%\n"
    }
   }
  },
  {
   "cell_type": "code",
   "execution_count": 23,
   "outputs": [
    {
     "data": {
      "text/plain": "2000"
     },
     "execution_count": 23,
     "metadata": {},
     "output_type": "execute_result"
    }
   ],
   "source": [
    "X.shape[0]"
   ],
   "metadata": {
    "collapsed": false,
    "pycharm": {
     "name": "#%%\n"
    }
   }
  },
  {
   "cell_type": "code",
   "execution_count": 24,
   "outputs": [
    {
     "data": {
      "text/plain": "12"
     },
     "execution_count": 24,
     "metadata": {},
     "output_type": "execute_result"
    }
   ],
   "source": [
    "X.shape[1]"
   ],
   "metadata": {
    "collapsed": false,
    "pycharm": {
     "name": "#%%\n"
    }
   }
  },
  {
   "cell_type": "code",
   "metadata": {
    "id": "B9A_Cb6afqKL",
    "colab": {
     "base_uri": "https://localhost:8080/"
    },
    "executionInfo": {
     "status": "ok",
     "timestamp": 1649503285003,
     "user_tz": -120,
     "elapsed": 13,
     "user": {
      "displayName": "Abdelrhman Amr",
      "userId": "09344834973078055484"
     }
    },
    "outputId": "ef4acef5-9859-44ba-904a-745c9e74a6d9",
    "pycharm": {
     "name": "#%%\n"
    }
   },
   "source": [
    "# Use pandas to examine some info of the dataset\n",
    "raw_data.info()\n"
   ],
   "execution_count": 25,
   "outputs": [
    {
     "name": "stdout",
     "output_type": "stream",
     "text": [
      "<class 'pandas.core.frame.DataFrame'>\n",
      "RangeIndex: 2000 entries, 0 to 1999\n",
      "Columns: 139 entries, 0 to 138\n",
      "dtypes: float64(139)\n",
      "memory usage: 2.1 MB\n"
     ]
    }
   ]
  },
  {
   "cell_type": "code",
   "source": [
    "# Use pandas to examine the description of the dataset\n",
    "raw_data.describe()"
   ],
   "metadata": {
    "id": "ipnuOTVtK5mI",
    "colab": {
     "base_uri": "https://localhost:8080/",
     "height": 300
    },
    "executionInfo": {
     "status": "ok",
     "timestamp": 1649503285327,
     "user_tz": -120,
     "elapsed": 6,
     "user": {
      "displayName": "Abdelrhman Amr",
      "userId": "09344834973078055484"
     }
    },
    "outputId": "082772ac-a8bc-4fb7-abe0-3660bb530e84",
    "pycharm": {
     "name": "#%%\n"
    }
   },
   "execution_count": 26,
   "outputs": [
    {
     "data": {
      "text/plain": "                 0            1            2            3            4  \\\ncount  2000.000000  2000.000000  2000.000000  2000.000000  2000.000000   \nmean      1.066311     1.039954     0.998849     0.953668     0.875176   \nstd       0.581431     0.565682     0.561837     0.556414     0.538078   \nmin       0.001328     0.000473     0.000684     0.002147     0.000221   \n25%       0.678575     0.656682     0.611286     0.570442     0.507081   \n50%       1.056427     1.029161     0.982744     0.927673     0.843076   \n75%       1.451478     1.417511     1.371153     1.318242     1.197966   \nmax      12.103001     9.927781     8.143620     8.901703     9.439138   \n\n                 5            6            7            8            9  ...  \\\ncount  2000.000000  2000.000000  2000.000000  2000.000000  2000.000000  ...   \nmean      0.742672     0.587225     0.426198     0.333187     0.451635  ...   \nstd       0.491387     0.430295     0.385857     0.376440     0.374651  ...   \nmin       0.000913     0.000022     0.000151     0.000048     0.001351  ...   \n25%       0.413572     0.307153     0.194415     0.104638     0.219973  ...   \n50%       0.702456     0.539055     0.361993     0.254147     0.382645  ...   \n75%       1.010257     0.800802     0.571572     0.448982     0.592381  ...   \nmax       9.236911     8.456390     7.461250     6.437375     5.600299  ...   \n\n               129          130          131          132          133  \\\ncount  2000.000000  2000.000000  2000.000000  2000.000000  2000.000000   \nmean      0.377142     0.374051     0.373615     0.395653     0.452195   \nstd       0.068567     0.049530     0.061705     0.128611     0.063375   \nmin       0.027472     0.182508     0.042651     0.002341     0.064799   \n25%       0.344474     0.347324     0.341744     0.332334     0.415918   \n50%       0.380019     0.377493     0.380346     0.401433     0.449482   \n75%       0.414338     0.406889     0.411642     0.456467     0.485437   \nmax       1.570098     0.647783     0.837776     2.230355     1.059148   \n\n               134          135          136          137          138  \ncount  2000.000000  2000.000000  2000.000000  2000.000000  2000.000000  \nmean      0.462530     0.452389    -0.107145     0.014077    -0.034479  \nstd       0.056206     0.071464     0.628119     0.654185     0.716014  \nmin       0.128745     0.058961   -12.457202    -6.130066   -16.969362  \n25%       0.427077     0.416268    -0.258503    -0.294246    -0.174806  \n50%       0.459751     0.449030    -0.122268     0.019702    -0.018098  \n75%       0.494232     0.483207     0.040192     0.334715     0.134378  \nmax       0.815018     1.812268    15.598820     3.277500     5.829394  \n\n[8 rows x 139 columns]",
      "text/html": "<div>\n<style scoped>\n    .dataframe tbody tr th:only-of-type {\n        vertical-align: middle;\n    }\n\n    .dataframe tbody tr th {\n        vertical-align: top;\n    }\n\n    .dataframe thead th {\n        text-align: right;\n    }\n</style>\n<table border=\"1\" class=\"dataframe\">\n  <thead>\n    <tr style=\"text-align: right;\">\n      <th></th>\n      <th>0</th>\n      <th>1</th>\n      <th>2</th>\n      <th>3</th>\n      <th>4</th>\n      <th>5</th>\n      <th>6</th>\n      <th>7</th>\n      <th>8</th>\n      <th>9</th>\n      <th>...</th>\n      <th>129</th>\n      <th>130</th>\n      <th>131</th>\n      <th>132</th>\n      <th>133</th>\n      <th>134</th>\n      <th>135</th>\n      <th>136</th>\n      <th>137</th>\n      <th>138</th>\n    </tr>\n  </thead>\n  <tbody>\n    <tr>\n      <th>count</th>\n      <td>2000.000000</td>\n      <td>2000.000000</td>\n      <td>2000.000000</td>\n      <td>2000.000000</td>\n      <td>2000.000000</td>\n      <td>2000.000000</td>\n      <td>2000.000000</td>\n      <td>2000.000000</td>\n      <td>2000.000000</td>\n      <td>2000.000000</td>\n      <td>...</td>\n      <td>2000.000000</td>\n      <td>2000.000000</td>\n      <td>2000.000000</td>\n      <td>2000.000000</td>\n      <td>2000.000000</td>\n      <td>2000.000000</td>\n      <td>2000.000000</td>\n      <td>2000.000000</td>\n      <td>2000.000000</td>\n      <td>2000.000000</td>\n    </tr>\n    <tr>\n      <th>mean</th>\n      <td>1.066311</td>\n      <td>1.039954</td>\n      <td>0.998849</td>\n      <td>0.953668</td>\n      <td>0.875176</td>\n      <td>0.742672</td>\n      <td>0.587225</td>\n      <td>0.426198</td>\n      <td>0.333187</td>\n      <td>0.451635</td>\n      <td>...</td>\n      <td>0.377142</td>\n      <td>0.374051</td>\n      <td>0.373615</td>\n      <td>0.395653</td>\n      <td>0.452195</td>\n      <td>0.462530</td>\n      <td>0.452389</td>\n      <td>-0.107145</td>\n      <td>0.014077</td>\n      <td>-0.034479</td>\n    </tr>\n    <tr>\n      <th>std</th>\n      <td>0.581431</td>\n      <td>0.565682</td>\n      <td>0.561837</td>\n      <td>0.556414</td>\n      <td>0.538078</td>\n      <td>0.491387</td>\n      <td>0.430295</td>\n      <td>0.385857</td>\n      <td>0.376440</td>\n      <td>0.374651</td>\n      <td>...</td>\n      <td>0.068567</td>\n      <td>0.049530</td>\n      <td>0.061705</td>\n      <td>0.128611</td>\n      <td>0.063375</td>\n      <td>0.056206</td>\n      <td>0.071464</td>\n      <td>0.628119</td>\n      <td>0.654185</td>\n      <td>0.716014</td>\n    </tr>\n    <tr>\n      <th>min</th>\n      <td>0.001328</td>\n      <td>0.000473</td>\n      <td>0.000684</td>\n      <td>0.002147</td>\n      <td>0.000221</td>\n      <td>0.000913</td>\n      <td>0.000022</td>\n      <td>0.000151</td>\n      <td>0.000048</td>\n      <td>0.001351</td>\n      <td>...</td>\n      <td>0.027472</td>\n      <td>0.182508</td>\n      <td>0.042651</td>\n      <td>0.002341</td>\n      <td>0.064799</td>\n      <td>0.128745</td>\n      <td>0.058961</td>\n      <td>-12.457202</td>\n      <td>-6.130066</td>\n      <td>-16.969362</td>\n    </tr>\n    <tr>\n      <th>25%</th>\n      <td>0.678575</td>\n      <td>0.656682</td>\n      <td>0.611286</td>\n      <td>0.570442</td>\n      <td>0.507081</td>\n      <td>0.413572</td>\n      <td>0.307153</td>\n      <td>0.194415</td>\n      <td>0.104638</td>\n      <td>0.219973</td>\n      <td>...</td>\n      <td>0.344474</td>\n      <td>0.347324</td>\n      <td>0.341744</td>\n      <td>0.332334</td>\n      <td>0.415918</td>\n      <td>0.427077</td>\n      <td>0.416268</td>\n      <td>-0.258503</td>\n      <td>-0.294246</td>\n      <td>-0.174806</td>\n    </tr>\n    <tr>\n      <th>50%</th>\n      <td>1.056427</td>\n      <td>1.029161</td>\n      <td>0.982744</td>\n      <td>0.927673</td>\n      <td>0.843076</td>\n      <td>0.702456</td>\n      <td>0.539055</td>\n      <td>0.361993</td>\n      <td>0.254147</td>\n      <td>0.382645</td>\n      <td>...</td>\n      <td>0.380019</td>\n      <td>0.377493</td>\n      <td>0.380346</td>\n      <td>0.401433</td>\n      <td>0.449482</td>\n      <td>0.459751</td>\n      <td>0.449030</td>\n      <td>-0.122268</td>\n      <td>0.019702</td>\n      <td>-0.018098</td>\n    </tr>\n    <tr>\n      <th>75%</th>\n      <td>1.451478</td>\n      <td>1.417511</td>\n      <td>1.371153</td>\n      <td>1.318242</td>\n      <td>1.197966</td>\n      <td>1.010257</td>\n      <td>0.800802</td>\n      <td>0.571572</td>\n      <td>0.448982</td>\n      <td>0.592381</td>\n      <td>...</td>\n      <td>0.414338</td>\n      <td>0.406889</td>\n      <td>0.411642</td>\n      <td>0.456467</td>\n      <td>0.485437</td>\n      <td>0.494232</td>\n      <td>0.483207</td>\n      <td>0.040192</td>\n      <td>0.334715</td>\n      <td>0.134378</td>\n    </tr>\n    <tr>\n      <th>max</th>\n      <td>12.103001</td>\n      <td>9.927781</td>\n      <td>8.143620</td>\n      <td>8.901703</td>\n      <td>9.439138</td>\n      <td>9.236911</td>\n      <td>8.456390</td>\n      <td>7.461250</td>\n      <td>6.437375</td>\n      <td>5.600299</td>\n      <td>...</td>\n      <td>1.570098</td>\n      <td>0.647783</td>\n      <td>0.837776</td>\n      <td>2.230355</td>\n      <td>1.059148</td>\n      <td>0.815018</td>\n      <td>1.812268</td>\n      <td>15.598820</td>\n      <td>3.277500</td>\n      <td>5.829394</td>\n    </tr>\n  </tbody>\n</table>\n<p>8 rows × 139 columns</p>\n</div>"
     },
     "execution_count": 26,
     "metadata": {},
     "output_type": "execute_result"
    }
   ]
  },
  {
   "cell_type": "code",
   "source": [
    "# Use pandas to examine the histograms of the dataset columns\n",
    "raw_data.hist(bins = 50, figsize = (20, 5))"
   ],
   "metadata": {
    "id": "F5x-1ojDLTVt",
    "colab": {
     "base_uri": "https://localhost:8080/",
     "height": 509
    },
    "executionInfo": {
     "status": "ok",
     "timestamp": 1649503289793,
     "user_tz": -120,
     "elapsed": 4470,
     "user": {
      "displayName": "Abdelrhman Amr",
      "userId": "09344834973078055484"
     }
    },
    "outputId": "7480f8a7-d079-4c38-ea61-9c14f08821b4",
    "pycharm": {
     "name": "#%%\n"
    }
   },
   "execution_count": 27,
   "outputs": [
    {
     "data": {
      "text/plain": "array([[<AxesSubplot:title={'center':'0'}>,\n        <AxesSubplot:title={'center':'1'}>,\n        <AxesSubplot:title={'center':'2'}>,\n        <AxesSubplot:title={'center':'3'}>,\n        <AxesSubplot:title={'center':'4'}>,\n        <AxesSubplot:title={'center':'5'}>,\n        <AxesSubplot:title={'center':'6'}>,\n        <AxesSubplot:title={'center':'7'}>,\n        <AxesSubplot:title={'center':'8'}>,\n        <AxesSubplot:title={'center':'9'}>,\n        <AxesSubplot:title={'center':'10'}>,\n        <AxesSubplot:title={'center':'11'}>],\n       [<AxesSubplot:title={'center':'12'}>,\n        <AxesSubplot:title={'center':'13'}>,\n        <AxesSubplot:title={'center':'14'}>,\n        <AxesSubplot:title={'center':'15'}>,\n        <AxesSubplot:title={'center':'16'}>,\n        <AxesSubplot:title={'center':'17'}>,\n        <AxesSubplot:title={'center':'18'}>,\n        <AxesSubplot:title={'center':'19'}>,\n        <AxesSubplot:title={'center':'20'}>,\n        <AxesSubplot:title={'center':'21'}>,\n        <AxesSubplot:title={'center':'22'}>,\n        <AxesSubplot:title={'center':'23'}>],\n       [<AxesSubplot:title={'center':'24'}>,\n        <AxesSubplot:title={'center':'25'}>,\n        <AxesSubplot:title={'center':'26'}>,\n        <AxesSubplot:title={'center':'27'}>,\n        <AxesSubplot:title={'center':'28'}>,\n        <AxesSubplot:title={'center':'29'}>,\n        <AxesSubplot:title={'center':'30'}>,\n        <AxesSubplot:title={'center':'31'}>,\n        <AxesSubplot:title={'center':'32'}>,\n        <AxesSubplot:title={'center':'33'}>,\n        <AxesSubplot:title={'center':'34'}>,\n        <AxesSubplot:title={'center':'35'}>],\n       [<AxesSubplot:title={'center':'36'}>,\n        <AxesSubplot:title={'center':'37'}>,\n        <AxesSubplot:title={'center':'38'}>,\n        <AxesSubplot:title={'center':'39'}>,\n        <AxesSubplot:title={'center':'40'}>,\n        <AxesSubplot:title={'center':'41'}>,\n        <AxesSubplot:title={'center':'42'}>,\n        <AxesSubplot:title={'center':'43'}>,\n        <AxesSubplot:title={'center':'44'}>,\n        <AxesSubplot:title={'center':'45'}>,\n        <AxesSubplot:title={'center':'46'}>,\n        <AxesSubplot:title={'center':'47'}>],\n       [<AxesSubplot:title={'center':'48'}>,\n        <AxesSubplot:title={'center':'49'}>,\n        <AxesSubplot:title={'center':'50'}>,\n        <AxesSubplot:title={'center':'51'}>,\n        <AxesSubplot:title={'center':'52'}>,\n        <AxesSubplot:title={'center':'53'}>,\n        <AxesSubplot:title={'center':'54'}>,\n        <AxesSubplot:title={'center':'55'}>,\n        <AxesSubplot:title={'center':'56'}>,\n        <AxesSubplot:title={'center':'57'}>,\n        <AxesSubplot:title={'center':'58'}>,\n        <AxesSubplot:title={'center':'59'}>],\n       [<AxesSubplot:title={'center':'60'}>,\n        <AxesSubplot:title={'center':'61'}>,\n        <AxesSubplot:title={'center':'62'}>,\n        <AxesSubplot:title={'center':'63'}>,\n        <AxesSubplot:title={'center':'64'}>,\n        <AxesSubplot:title={'center':'65'}>,\n        <AxesSubplot:title={'center':'66'}>,\n        <AxesSubplot:title={'center':'67'}>,\n        <AxesSubplot:title={'center':'68'}>,\n        <AxesSubplot:title={'center':'69'}>,\n        <AxesSubplot:title={'center':'70'}>,\n        <AxesSubplot:title={'center':'71'}>],\n       [<AxesSubplot:title={'center':'72'}>,\n        <AxesSubplot:title={'center':'73'}>,\n        <AxesSubplot:title={'center':'74'}>,\n        <AxesSubplot:title={'center':'75'}>,\n        <AxesSubplot:title={'center':'76'}>,\n        <AxesSubplot:title={'center':'77'}>,\n        <AxesSubplot:title={'center':'78'}>,\n        <AxesSubplot:title={'center':'79'}>,\n        <AxesSubplot:title={'center':'80'}>,\n        <AxesSubplot:title={'center':'81'}>,\n        <AxesSubplot:title={'center':'82'}>,\n        <AxesSubplot:title={'center':'83'}>],\n       [<AxesSubplot:title={'center':'84'}>,\n        <AxesSubplot:title={'center':'85'}>,\n        <AxesSubplot:title={'center':'86'}>,\n        <AxesSubplot:title={'center':'87'}>,\n        <AxesSubplot:title={'center':'88'}>,\n        <AxesSubplot:title={'center':'89'}>,\n        <AxesSubplot:title={'center':'90'}>,\n        <AxesSubplot:title={'center':'91'}>,\n        <AxesSubplot:title={'center':'92'}>,\n        <AxesSubplot:title={'center':'93'}>,\n        <AxesSubplot:title={'center':'94'}>,\n        <AxesSubplot:title={'center':'95'}>],\n       [<AxesSubplot:title={'center':'96'}>,\n        <AxesSubplot:title={'center':'97'}>,\n        <AxesSubplot:title={'center':'98'}>,\n        <AxesSubplot:title={'center':'99'}>,\n        <AxesSubplot:title={'center':'100'}>,\n        <AxesSubplot:title={'center':'101'}>,\n        <AxesSubplot:title={'center':'102'}>,\n        <AxesSubplot:title={'center':'103'}>,\n        <AxesSubplot:title={'center':'104'}>,\n        <AxesSubplot:title={'center':'105'}>,\n        <AxesSubplot:title={'center':'106'}>,\n        <AxesSubplot:title={'center':'107'}>],\n       [<AxesSubplot:title={'center':'108'}>,\n        <AxesSubplot:title={'center':'109'}>,\n        <AxesSubplot:title={'center':'110'}>,\n        <AxesSubplot:title={'center':'111'}>,\n        <AxesSubplot:title={'center':'112'}>,\n        <AxesSubplot:title={'center':'113'}>,\n        <AxesSubplot:title={'center':'114'}>,\n        <AxesSubplot:title={'center':'115'}>,\n        <AxesSubplot:title={'center':'116'}>,\n        <AxesSubplot:title={'center':'117'}>,\n        <AxesSubplot:title={'center':'118'}>,\n        <AxesSubplot:title={'center':'119'}>],\n       [<AxesSubplot:title={'center':'120'}>,\n        <AxesSubplot:title={'center':'121'}>,\n        <AxesSubplot:title={'center':'122'}>,\n        <AxesSubplot:title={'center':'123'}>,\n        <AxesSubplot:title={'center':'124'}>,\n        <AxesSubplot:title={'center':'125'}>,\n        <AxesSubplot:title={'center':'126'}>,\n        <AxesSubplot:title={'center':'127'}>,\n        <AxesSubplot:title={'center':'128'}>,\n        <AxesSubplot:title={'center':'129'}>,\n        <AxesSubplot:title={'center':'130'}>,\n        <AxesSubplot:title={'center':'131'}>],\n       [<AxesSubplot:title={'center':'132'}>,\n        <AxesSubplot:title={'center':'133'}>,\n        <AxesSubplot:title={'center':'134'}>,\n        <AxesSubplot:title={'center':'135'}>,\n        <AxesSubplot:title={'center':'136'}>,\n        <AxesSubplot:title={'center':'137'}>,\n        <AxesSubplot:title={'center':'138'}>, <AxesSubplot:>,\n        <AxesSubplot:>, <AxesSubplot:>, <AxesSubplot:>, <AxesSubplot:>]],\n      dtype=object)"
     },
     "execution_count": 27,
     "metadata": {},
     "output_type": "execute_result"
    },
    {
     "data": {
      "text/plain": "<Figure size 1440x360 with 144 Axes>",
      "image/png": "[encoded data removed]"
     },
     "metadata": {},
     "output_type": "display_data"
    }
   ]
  },
  {
   "cell_type": "code",
   "execution_count": null,
   "outputs": [],
   "source": [],
   "metadata": {
    "collapsed": false,
    "pycharm": {
     "name": "#%%\n"
    }
   }
  },
  {
   "cell_type": "code",
   "metadata": {
    "id": "9azVLEVtfqKO",
    "colab": {
     "base_uri": "https://localhost:8080/"
    },
    "executionInfo": {
     "status": "ok",
     "timestamp": 1649503292786,
     "user_tz": -120,
     "elapsed": 21,
     "user": {
      "displayName": "Abdelrhman Amr",
      "userId": "09344834973078055484"
     }
    },
    "outputId": "a8f0c8c3-ba33-4d6b-d10b-389ad9c07a69",
    "pycharm": {
     "name": "#%%\n"
    }
   },
   "source": [
    "# use pandas to check missing data (NA(not available) values) for all the columns\n",
    "raw_data.isna().sum()\n"
   ],
   "execution_count": 16,
   "outputs": [
    {
     "data": {
      "text/plain": "0      0\n1      0\n2      0\n3      0\n4      0\n      ..\n134    0\n135    0\n136    0\n137    0\n138    0\nLength: 139, dtype: int64"
     },
     "execution_count": 16,
     "metadata": {},
     "output_type": "execute_result"
    }
   ]
  },
  {
   "cell_type": "markdown",
   "metadata": {
    "id": "uXFTGpN5fqKP",
    "pycharm": {
     "name": "#%% md\n"
    }
   },
   "source": [
    "The Cabin column is missing too many values to be useful. Let's drop it altogether."
   ]
  },
  {
   "cell_type": "code",
   "metadata": {
    "id": "A49SL-0NfqKQ",
    "pycharm": {
     "name": "#%%\n"
    }
   },
   "source": [
    "# Use pandas to drop \"Cabin\" column\n",
    "clean_data = raw_data.drop(columns = \"Cabin\", axis = 1) # axis = 1 -> column, axis = 0 -> row"
   ],
   "execution_count": null,
   "outputs": []
  },
  {
   "cell_type": "code",
   "metadata": {
    "id": "2227vwAofqKQ",
    "colab": {
     "base_uri": "https://localhost:8080/",
     "height": 423
    },
    "executionInfo": {
     "status": "ok",
     "timestamp": 1649503292787,
     "user_tz": -120,
     "elapsed": 19,
     "user": {
      "displayName": "Abdelrhman Amr",
      "userId": "09344834973078055484"
     }
    },
    "outputId": "6f32c95b-4181-4964-83a5-ba73dc5363c3",
    "pycharm": {
     "name": "#%%\n"
    }
   },
   "source": [
    "clean_data"
   ],
   "execution_count": null,
   "outputs": [
    {
     "output_type": "execute_result",
     "data": {
      "text/plain": [
       "     PassengerId  Survived  Pclass  \\\n",
       "0              1         0       3   \n",
       "1              2         1       1   \n",
       "2              3         1       3   \n",
       "3              4         1       1   \n",
       "4              5         0       3   \n",
       "..           ...       ...     ...   \n",
       "886          887         0       2   \n",
       "887          888         1       1   \n",
       "888          889         0       3   \n",
       "889          890         1       1   \n",
       "890          891         0       3   \n",
       "\n",
       "                                                  Name     Sex   Age  SibSp  \\\n",
       "0                              Braund, Mr. Owen Harris    male  22.0      1   \n",
       "1    Cumings, Mrs. John Bradley (Florence Briggs Th...  female  38.0      1   \n",
       "2                               Heikkinen, Miss. Laina  female  26.0      0   \n",
       "3         Futrelle, Mrs. Jacques Heath (Lily May Peel)  female  35.0      1   \n",
       "4                             Allen, Mr. William Henry    male  35.0      0   \n",
       "..                                                 ...     ...   ...    ...   \n",
       "886                              Montvila, Rev. Juozas    male  27.0      0   \n",
       "887                       Graham, Miss. Margaret Edith  female  19.0      0   \n",
       "888           Johnston, Miss. Catherine Helen \"Carrie\"  female   NaN      1   \n",
       "889                              Behr, Mr. Karl Howell    male  26.0      0   \n",
       "890                                Dooley, Mr. Patrick    male  32.0      0   \n",
       "\n",
       "     Parch            Ticket     Fare Embarked  \n",
       "0        0         A/5 21171   7.2500        S  \n",
       "1        0          PC 17599  71.2833        C  \n",
       "2        0  STON/O2. 3101282   7.9250        S  \n",
       "3        0            113803  53.1000        S  \n",
       "4        0            373450   8.0500        S  \n",
       "..     ...               ...      ...      ...  \n",
       "886      0            211536  13.0000        S  \n",
       "887      0            112053  30.0000        S  \n",
       "888      2        W./C. 6607  23.4500        S  \n",
       "889      0            111369  30.0000        C  \n",
       "890      0            370376   7.7500        Q  \n",
       "\n",
       "[891 rows x 11 columns]"
      ],
      "text/html": [
       "\n",
       "  <div id=\"df-a615eb4a-97ff-4836-821a-b05a9d677fab\">\n",
       "    <div class=\"colab-df-container\">\n",
       "      <div>\n",
       "<style scoped>\n",
       "    .dataframe tbody tr th:only-of-type {\n",
       "        vertical-align: middle;\n",
       "    }\n",
       "\n",
       "    .dataframe tbody tr th {\n",
       "        vertical-align: top;\n",
       "    }\n",
       "\n",
       "    .dataframe thead th {\n",
       "        text-align: right;\n",
       "    }\n",
       "</style>\n",
       "<table border=\"1\" class=\"dataframe\">\n",
       "  <thead>\n",
       "    <tr style=\"text-align: right;\">\n",
       "      <th></th>\n",
       "      <th>PassengerId</th>\n",
       "      <th>Survived</th>\n",
       "      <th>Pclass</th>\n",
       "      <th>Name</th>\n",
       "      <th>Sex</th>\n",
       "      <th>Age</th>\n",
       "      <th>SibSp</th>\n",
       "      <th>Parch</th>\n",
       "      <th>Ticket</th>\n",
       "      <th>Fare</th>\n",
       "      <th>Embarked</th>\n",
       "    </tr>\n",
       "  </thead>\n",
       "  <tbody>\n",
       "    <tr>\n",
       "      <th>0</th>\n",
       "      <td>1</td>\n",
       "      <td>0</td>\n",
       "      <td>3</td>\n",
       "      <td>Braund, Mr. Owen Harris</td>\n",
       "      <td>male</td>\n",
       "      <td>22.0</td>\n",
       "      <td>1</td>\n",
       "      <td>0</td>\n",
       "      <td>A/5 21171</td>\n",
       "      <td>7.2500</td>\n",
       "      <td>S</td>\n",
       "    </tr>\n",
       "    <tr>\n",
       "      <th>1</th>\n",
       "      <td>2</td>\n",
       "      <td>1</td>\n",
       "      <td>1</td>\n",
       "      <td>Cumings, Mrs. John Bradley (Florence Briggs Th...</td>\n",
       "      <td>female</td>\n",
       "      <td>38.0</td>\n",
       "      <td>1</td>\n",
       "      <td>0</td>\n",
       "      <td>PC 17599</td>\n",
       "      <td>71.2833</td>\n",
       "      <td>C</td>\n",
       "    </tr>\n",
       "    <tr>\n",
       "      <th>2</th>\n",
       "      <td>3</td>\n",
       "      <td>1</td>\n",
       "      <td>3</td>\n",
       "      <td>Heikkinen, Miss. Laina</td>\n",
       "      <td>female</td>\n",
       "      <td>26.0</td>\n",
       "      <td>0</td>\n",
       "      <td>0</td>\n",
       "      <td>STON/O2. 3101282</td>\n",
       "      <td>7.9250</td>\n",
       "      <td>S</td>\n",
       "    </tr>\n",
       "    <tr>\n",
       "      <th>3</th>\n",
       "      <td>4</td>\n",
       "      <td>1</td>\n",
       "      <td>1</td>\n",
       "      <td>Futrelle, Mrs. Jacques Heath (Lily May Peel)</td>\n",
       "      <td>female</td>\n",
       "      <td>35.0</td>\n",
       "      <td>1</td>\n",
       "      <td>0</td>\n",
       "      <td>113803</td>\n",
       "      <td>53.1000</td>\n",
       "      <td>S</td>\n",
       "    </tr>\n",
       "    <tr>\n",
       "      <th>4</th>\n",
       "      <td>5</td>\n",
       "      <td>0</td>\n",
       "      <td>3</td>\n",
       "      <td>Allen, Mr. William Henry</td>\n",
       "      <td>male</td>\n",
       "      <td>35.0</td>\n",
       "      <td>0</td>\n",
       "      <td>0</td>\n",
       "      <td>373450</td>\n",
       "      <td>8.0500</td>\n",
       "      <td>S</td>\n",
       "    </tr>\n",
       "    <tr>\n",
       "      <th>...</th>\n",
       "      <td>...</td>\n",
       "      <td>...</td>\n",
       "      <td>...</td>\n",
       "      <td>...</td>\n",
       "      <td>...</td>\n",
       "      <td>...</td>\n",
       "      <td>...</td>\n",
       "      <td>...</td>\n",
       "      <td>...</td>\n",
       "      <td>...</td>\n",
       "      <td>...</td>\n",
       "    </tr>\n",
       "    <tr>\n",
       "      <th>886</th>\n",
       "      <td>887</td>\n",
       "      <td>0</td>\n",
       "      <td>2</td>\n",
       "      <td>Montvila, Rev. Juozas</td>\n",
       "      <td>male</td>\n",
       "      <td>27.0</td>\n",
       "      <td>0</td>\n",
       "      <td>0</td>\n",
       "      <td>211536</td>\n",
       "      <td>13.0000</td>\n",
       "      <td>S</td>\n",
       "    </tr>\n",
       "    <tr>\n",
       "      <th>887</th>\n",
       "      <td>888</td>\n",
       "      <td>1</td>\n",
       "      <td>1</td>\n",
       "      <td>Graham, Miss. Margaret Edith</td>\n",
       "      <td>female</td>\n",
       "      <td>19.0</td>\n",
       "      <td>0</td>\n",
       "      <td>0</td>\n",
       "      <td>112053</td>\n",
       "      <td>30.0000</td>\n",
       "      <td>S</td>\n",
       "    </tr>\n",
       "    <tr>\n",
       "      <th>888</th>\n",
       "      <td>889</td>\n",
       "      <td>0</td>\n",
       "      <td>3</td>\n",
       "      <td>Johnston, Miss. Catherine Helen \"Carrie\"</td>\n",
       "      <td>female</td>\n",
       "      <td>NaN</td>\n",
       "      <td>1</td>\n",
       "      <td>2</td>\n",
       "      <td>W./C. 6607</td>\n",
       "      <td>23.4500</td>\n",
       "      <td>S</td>\n",
       "    </tr>\n",
       "    <tr>\n",
       "      <th>889</th>\n",
       "      <td>890</td>\n",
       "      <td>1</td>\n",
       "      <td>1</td>\n",
       "      <td>Behr, Mr. Karl Howell</td>\n",
       "      <td>male</td>\n",
       "      <td>26.0</td>\n",
       "      <td>0</td>\n",
       "      <td>0</td>\n",
       "      <td>111369</td>\n",
       "      <td>30.0000</td>\n",
       "      <td>C</td>\n",
       "    </tr>\n",
       "    <tr>\n",
       "      <th>890</th>\n",
       "      <td>891</td>\n",
       "      <td>0</td>\n",
       "      <td>3</td>\n",
       "      <td>Dooley, Mr. Patrick</td>\n",
       "      <td>male</td>\n",
       "      <td>32.0</td>\n",
       "      <td>0</td>\n",
       "      <td>0</td>\n",
       "      <td>370376</td>\n",
       "      <td>7.7500</td>\n",
       "      <td>Q</td>\n",
       "    </tr>\n",
       "  </tbody>\n",
       "</table>\n",
       "<p>891 rows × 11 columns</p>\n",
       "</div>\n",
       "      <button class=\"colab-df-convert\" onclick=\"convertToInteractive('df-a615eb4a-97ff-4836-821a-b05a9d677fab')\"\n",
       "              title=\"Convert this dataframe to an interactive table.\"\n",
       "              style=\"display:none;\">\n",
       "        \n",
       "  <svg xmlns=\"http://www.w3.org/2000/svg\" height=\"24px\"viewBox=\"0 0 24 24\"\n",
       "       width=\"24px\">\n",
       "    <path d=\"M0 0h24v24H0V0z\" fill=\"none\"/>\n",
       "    <path d=\"M18.56 5.44l.94 2.06.94-2.06 2.06-.94-2.06-.94-.94-2.06-.94 2.06-2.06.94zm-11 1L8.5 8.5l.94-2.06 2.06-.94-2.06-.94L8.5 2.5l-.94 2.06-2.06.94zm10 10l.94 2.06.94-2.06 2.06-.94-2.06-.94-.94-2.06-.94 2.06-2.06.94z\"/><path d=\"M17.41 7.96l-1.37-1.37c-.4-.4-.92-.59-1.43-.59-.52 0-1.04.2-1.43.59L10.3 9.45l-7.72 7.72c-.78.78-.78 2.05 0 2.83L4 21.41c.39.39.9.59 1.41.59.51 0 1.02-.2 1.41-.59l7.78-7.78 2.81-2.81c.8-.78.8-2.07 0-2.86zM5.41 20L4 18.59l7.72-7.72 1.47 1.35L5.41 20z\"/>\n",
       "  </svg>\n",
       "      </button>\n",
       "      \n",
       "  <style>\n",
       "    .colab-df-container {\n",
       "      display:flex;\n",
       "      flex-wrap:wrap;\n",
       "      gap: 12px;\n",
       "    }\n",
       "\n",
       "    .colab-df-convert {\n",
       "      background-color: #E8F0FE;\n",
       "      border: none;\n",
       "      border-radius: 50%;\n",
       "      cursor: pointer;\n",
       "      display: none;\n",
       "      fill: #1967D2;\n",
       "      height: 32px;\n",
       "      padding: 0 0 0 0;\n",
       "      width: 32px;\n",
       "    }\n",
       "\n",
       "    .colab-df-convert:hover {\n",
       "      background-color: #E2EBFA;\n",
       "      box-shadow: 0px 1px 2px rgba(60, 64, 67, 0.3), 0px 1px 3px 1px rgba(60, 64, 67, 0.15);\n",
       "      fill: #174EA6;\n",
       "    }\n",
       "\n",
       "    [theme=dark] .colab-df-convert {\n",
       "      background-color: #3B4455;\n",
       "      fill: #D2E3FC;\n",
       "    }\n",
       "\n",
       "    [theme=dark] .colab-df-convert:hover {\n",
       "      background-color: #434B5C;\n",
       "      box-shadow: 0px 1px 3px 1px rgba(0, 0, 0, 0.15);\n",
       "      filter: drop-shadow(0px 1px 2px rgba(0, 0, 0, 0.3));\n",
       "      fill: #FFFFFF;\n",
       "    }\n",
       "  </style>\n",
       "\n",
       "      <script>\n",
       "        const buttonEl =\n",
       "          document.querySelector('#df-a615eb4a-97ff-4836-821a-b05a9d677fab button.colab-df-convert');\n",
       "        buttonEl.style.display =\n",
       "          google.colab.kernel.accessAllowed ? 'block' : 'none';\n",
       "\n",
       "        async function convertToInteractive(key) {\n",
       "          const element = document.querySelector('#df-a615eb4a-97ff-4836-821a-b05a9d677fab');\n",
       "          const dataTable =\n",
       "            await google.colab.kernel.invokeFunction('convertToInteractive',\n",
       "                                                     [key], {});\n",
       "          if (!dataTable) return;\n",
       "\n",
       "          const docLinkHtml = 'Like what you see? Visit the ' +\n",
       "            '<a target=\"_blank\" href=https://colab.research.google.com/notebooks/data_table.ipynb>data table notebook</a>'\n",
       "            + ' to learn more about interactive tables.';\n",
       "          element.innerHTML = '';\n",
       "          dataTable['output_type'] = 'display_data';\n",
       "          await google.colab.output.renderOutput(dataTable, element);\n",
       "          const docLink = document.createElement('div');\n",
       "          docLink.innerHTML = docLinkHtml;\n",
       "          element.appendChild(docLink);\n",
       "        }\n",
       "      </script>\n",
       "    </div>\n",
       "  </div>\n",
       "  "
      ]
     },
     "metadata": {},
     "execution_count": 39
    }
   ]
  },
  {
   "cell_type": "markdown",
   "metadata": {
    "id": "wDdfjznYfqKQ",
    "pycharm": {
     "name": "#%% md\n"
    }
   },
   "source": [
    "Other columns such as Age or Embarked are missing some values, but they can still be useful.\n",
    "\n",
    "For the age column, let's fill in the missing values with the median of all ages.\n",
    "\n",
    "For the Embarked column, let's make a new category called 'U', for Unknown port of embarkment."
   ]
  },
  {
   "cell_type": "code",
   "metadata": {
    "id": "wAL-CsGyfqKR",
    "colab": {
     "base_uri": "https://localhost:8080/"
    },
    "executionInfo": {
     "status": "ok",
     "timestamp": 1649503293321,
     "user_tz": -120,
     "elapsed": 547,
     "user": {
      "displayName": "Abdelrhman Amr",
      "userId": "09344834973078055484"
     }
    },
    "outputId": "8868f6c9-aecc-4b9f-d48d-273e706587e0",
    "pycharm": {
     "name": "#%%\n"
    }
   },
   "source": [
    "raw_data.isna().sum()"
   ],
   "execution_count": 17,
   "outputs": [
    {
     "data": {
      "text/plain": "0      0\n1      0\n2      0\n3      0\n4      0\n      ..\n134    0\n135    0\n136    0\n137    0\n138    0\nLength: 139, dtype: int64"
     },
     "execution_count": 17,
     "metadata": {},
     "output_type": "execute_result"
    }
   ]
  },
  {
   "cell_type": "markdown",
   "metadata": {
    "id": "FUfU0glCfqKS",
    "pycharm": {
     "name": "#%% md\n"
    }
   },
   "source": [
    "### 12.2.3 Saving our data for the future"
   ]
  },
  {
   "cell_type": "code",
   "metadata": {
    "id": "WtAY8WYTfqKS",
    "pycharm": {
     "name": "#%%\n"
    }
   },
   "source": [
    "# save the clean dataset to './clean_titanic_data.csv'\n",
    "clean_data.to_csv('./clean_titanic_data.csv', index = None)"
   ],
   "execution_count": null,
   "outputs": []
  },
  {
   "cell_type": "markdown",
   "metadata": {
    "id": "M8251vH3fqKV",
    "pycharm": {
     "name": "#%% md\n"
    }
   },
   "source": [
    "### 12.3.4 Feature selection"
   ]
  },
  {
   "cell_type": "markdown",
   "source": [
    "#### 6 * 2 (12) Selected Features"
   ],
   "metadata": {
    "collapsed": false,
    "pycharm": {
     "name": "#%% md\n"
    }
   }
  },
  {
   "cell_type": "code",
   "execution_count": 16,
   "outputs": [],
   "source": [
    "# preprocessed_data.head()"
   ],
   "metadata": {
    "collapsed": false,
    "pycharm": {
     "name": "#%%\n"
    }
   }
  },
  {
   "cell_type": "code",
   "execution_count": 28,
   "outputs": [],
   "source": [
    "y_shift = 68\n",
    "xy_list = [\"8\", \"30\", \"36\", \"45\", \"48\", \"54\", str(8 + y_shift), str(30+ y_shift), str(36+ y_shift), str(45+ y_shift), str(48+ y_shift), str(54+ y_shift)]"
   ],
   "metadata": {
    "collapsed": false,
    "pycharm": {
     "name": "#%%\n"
    }
   }
  },
  {
   "cell_type": "code",
   "execution_count": 29,
   "outputs": [
    {
     "data": {
      "text/plain": "             8   30        36        45        48        54   76   98  \\\n0     0.118692  0.0  0.665509  0.817264  0.474634  0.390983  1.0  0.0   \n1     0.252338  0.0  0.403196  0.843711  0.247529  0.489991  1.0  0.0   \n2     0.541166  0.0  0.033345  0.754304  0.211529  0.727214  1.0  0.0   \n3     0.651314  0.0  0.637943  0.654190  0.046217  0.671781  1.0  0.0   \n4     1.029818  0.0  0.361079  0.579493  0.673239  0.756450  1.0  0.0   \n...        ...  ...       ...       ...       ...       ...  ...  ...   \n1995  0.183972  0.0  0.728549  0.717309  0.484336  0.217477  1.0  0.0   \n1996  0.484501  0.0  0.651693  0.479454  0.465217  0.408402  1.0  0.0   \n1997  0.591509  0.0  0.366108  0.383186  0.481978  0.410237  1.0  0.0   \n1998  0.679503  0.0  0.673259  0.316656  0.697352  0.443617  1.0  0.0   \n1999  0.095622  0.0  0.617707  0.385229  0.352374  0.189450  1.0  0.0   \n\n           104       113       116       122  \n0     0.874677  0.739283  0.248823  0.434979  \n1     0.276896  0.459228  0.596279  0.496673  \n2     0.442517  0.546255  0.399115  0.349114  \n3     0.491591  0.945473  0.418935  0.206750  \n4     0.523070  0.744599  0.400893  0.380871  \n...        ...       ...       ...       ...  \n1995  0.779885  0.654895  0.382235  0.450816  \n1996  0.448384  0.511403  0.463824  0.411434  \n1997  0.421619  0.467517  0.367382  0.419317  \n1998  0.517083  0.460675  0.408244  0.441835  \n1999  0.364075  0.382250  0.469987  0.437384  \n\n[2000 rows x 12 columns]",
      "text/html": "<div>\n<style scoped>\n    .dataframe tbody tr th:only-of-type {\n        vertical-align: middle;\n    }\n\n    .dataframe tbody tr th {\n        vertical-align: top;\n    }\n\n    .dataframe thead th {\n        text-align: right;\n    }\n</style>\n<table border=\"1\" class=\"dataframe\">\n  <thead>\n    <tr style=\"text-align: right;\">\n      <th></th>\n      <th>8</th>\n      <th>30</th>\n      <th>36</th>\n      <th>45</th>\n      <th>48</th>\n      <th>54</th>\n      <th>76</th>\n      <th>98</th>\n      <th>104</th>\n      <th>113</th>\n      <th>116</th>\n      <th>122</th>\n    </tr>\n  </thead>\n  <tbody>\n    <tr>\n      <th>0</th>\n      <td>0.118692</td>\n      <td>0.0</td>\n      <td>0.665509</td>\n      <td>0.817264</td>\n      <td>0.474634</td>\n      <td>0.390983</td>\n      <td>1.0</td>\n      <td>0.0</td>\n      <td>0.874677</td>\n      <td>0.739283</td>\n      <td>0.248823</td>\n      <td>0.434979</td>\n    </tr>\n    <tr>\n      <th>1</th>\n      <td>0.252338</td>\n      <td>0.0</td>\n      <td>0.403196</td>\n      <td>0.843711</td>\n      <td>0.247529</td>\n      <td>0.489991</td>\n      <td>1.0</td>\n      <td>0.0</td>\n      <td>0.276896</td>\n      <td>0.459228</td>\n      <td>0.596279</td>\n      <td>0.496673</td>\n    </tr>\n    <tr>\n      <th>2</th>\n      <td>0.541166</td>\n      <td>0.0</td>\n      <td>0.033345</td>\n      <td>0.754304</td>\n      <td>0.211529</td>\n      <td>0.727214</td>\n      <td>1.0</td>\n      <td>0.0</td>\n      <td>0.442517</td>\n      <td>0.546255</td>\n      <td>0.399115</td>\n      <td>0.349114</td>\n    </tr>\n    <tr>\n      <th>3</th>\n      <td>0.651314</td>\n      <td>0.0</td>\n      <td>0.637943</td>\n      <td>0.654190</td>\n      <td>0.046217</td>\n      <td>0.671781</td>\n      <td>1.0</td>\n      <td>0.0</td>\n      <td>0.491591</td>\n      <td>0.945473</td>\n      <td>0.418935</td>\n      <td>0.206750</td>\n    </tr>\n    <tr>\n      <th>4</th>\n      <td>1.029818</td>\n      <td>0.0</td>\n      <td>0.361079</td>\n      <td>0.579493</td>\n      <td>0.673239</td>\n      <td>0.756450</td>\n      <td>1.0</td>\n      <td>0.0</td>\n      <td>0.523070</td>\n      <td>0.744599</td>\n      <td>0.400893</td>\n      <td>0.380871</td>\n    </tr>\n    <tr>\n      <th>...</th>\n      <td>...</td>\n      <td>...</td>\n      <td>...</td>\n      <td>...</td>\n      <td>...</td>\n      <td>...</td>\n      <td>...</td>\n      <td>...</td>\n      <td>...</td>\n      <td>...</td>\n      <td>...</td>\n      <td>...</td>\n    </tr>\n    <tr>\n      <th>1995</th>\n      <td>0.183972</td>\n      <td>0.0</td>\n      <td>0.728549</td>\n      <td>0.717309</td>\n      <td>0.484336</td>\n      <td>0.217477</td>\n      <td>1.0</td>\n      <td>0.0</td>\n      <td>0.779885</td>\n      <td>0.654895</td>\n      <td>0.382235</td>\n      <td>0.450816</td>\n    </tr>\n    <tr>\n      <th>1996</th>\n      <td>0.484501</td>\n      <td>0.0</td>\n      <td>0.651693</td>\n      <td>0.479454</td>\n      <td>0.465217</td>\n      <td>0.408402</td>\n      <td>1.0</td>\n      <td>0.0</td>\n      <td>0.448384</td>\n      <td>0.511403</td>\n      <td>0.463824</td>\n      <td>0.411434</td>\n    </tr>\n    <tr>\n      <th>1997</th>\n      <td>0.591509</td>\n      <td>0.0</td>\n      <td>0.366108</td>\n      <td>0.383186</td>\n      <td>0.481978</td>\n      <td>0.410237</td>\n      <td>1.0</td>\n      <td>0.0</td>\n      <td>0.421619</td>\n      <td>0.467517</td>\n      <td>0.367382</td>\n      <td>0.419317</td>\n    </tr>\n    <tr>\n      <th>1998</th>\n      <td>0.679503</td>\n      <td>0.0</td>\n      <td>0.673259</td>\n      <td>0.316656</td>\n      <td>0.697352</td>\n      <td>0.443617</td>\n      <td>1.0</td>\n      <td>0.0</td>\n      <td>0.517083</td>\n      <td>0.460675</td>\n      <td>0.408244</td>\n      <td>0.441835</td>\n    </tr>\n    <tr>\n      <th>1999</th>\n      <td>0.095622</td>\n      <td>0.0</td>\n      <td>0.617707</td>\n      <td>0.385229</td>\n      <td>0.352374</td>\n      <td>0.189450</td>\n      <td>1.0</td>\n      <td>0.0</td>\n      <td>0.364075</td>\n      <td>0.382250</td>\n      <td>0.469987</td>\n      <td>0.437384</td>\n    </tr>\n  </tbody>\n</table>\n<p>2000 rows × 12 columns</p>\n</div>"
     },
     "execution_count": 29,
     "metadata": {},
     "output_type": "execute_result"
    }
   ],
   "source": [
    "X = raw_data[xy_list]\n",
    "X"
   ],
   "metadata": {
    "collapsed": false,
    "pycharm": {
     "name": "#%%\n"
    }
   }
  },
  {
   "cell_type": "markdown",
   "source": [
    "Next, we can explore the dataset."
   ],
   "metadata": {
    "collapsed": false,
    "pycharm": {
     "name": "#%% md\n"
    }
   }
  },
  {
   "cell_type": "code",
   "execution_count": 30,
   "outputs": [
    {
     "data": {
      "text/plain": "(2000, 12)"
     },
     "execution_count": 30,
     "metadata": {},
     "output_type": "execute_result"
    }
   ],
   "source": [
    "X.shape"
   ],
   "metadata": {
    "collapsed": false,
    "pycharm": {
     "name": "#%%\n"
    }
   }
  },
  {
   "cell_type": "code",
   "execution_count": 31,
   "outputs": [
    {
     "data": {
      "text/plain": "2000"
     },
     "execution_count": 31,
     "metadata": {},
     "output_type": "execute_result"
    }
   ],
   "source": [
    "X.shape[0]"
   ],
   "metadata": {
    "collapsed": false,
    "pycharm": {
     "name": "#%%\n"
    }
   }
  },
  {
   "cell_type": "code",
   "execution_count": 32,
   "outputs": [
    {
     "data": {
      "text/plain": "12"
     },
     "execution_count": 32,
     "metadata": {},
     "output_type": "execute_result"
    }
   ],
   "source": [
    "X.shape[1]"
   ],
   "metadata": {
    "collapsed": false,
    "pycharm": {
     "name": "#%%\n"
    }
   }
  },
  {
   "cell_type": "markdown",
   "metadata": {
    "id": "mw-TKDt1fqKV",
    "pycharm": {
     "name": "#%% md\n"
    }
   },
   "source": [
    "### 12.3.5 Saving for future use"
   ]
  },
  {
   "cell_type": "code",
   "metadata": {
    "id": "MzlAdRmffqKW",
    "pycharm": {
     "name": "#%%\n"
    }
   },
   "source": [
    "#preprocessed_data.to_csv('./preprocessed_titanic_data.csv', index=None)"
   ],
   "execution_count": 22,
   "outputs": []
  },
  {
   "cell_type": "markdown",
   "metadata": {
    "id": "bS3XGQrXfqKW",
    "pycharm": {
     "name": "#%% md\n"
    }
   },
   "source": [
    "# 12.4 Training models"
   ]
  },
  {
   "cell_type": "code",
   "metadata": {
    "id": "bnmsC1G7fqKW",
    "colab": {
     "base_uri": "https://localhost:8080/",
     "height": 317
    },
    "executionInfo": {
     "status": "ok",
     "timestamp": 1649550558433,
     "user_tz": -120,
     "elapsed": 291,
     "user": {
      "displayName": "Abdelrhman Amr",
      "userId": "09344834973078055484"
     }
    },
    "outputId": "1719517b-ec0e-4810-9f7a-e5a8432e2f11",
    "pycharm": {
     "name": "#%%\n"
    }
   },
   "source": [
    "data = pd.read_csv('./preprocessed_titanic_data.csv')\n",
    "data.head()"
   ],
   "execution_count": 7,
   "outputs": [
    {
     "output_type": "execute_result",
     "data": {
      "text/plain": [
       "   Survived  SibSp  Parch     Fare  Sex_female  Sex_male  Pclass_C  Pclass_Q  \\\n",
       "0         0      1      0   7.2500           0         1         0         0   \n",
       "1         1      1      0  71.2833           1         0         1         0   \n",
       "2         1      0      0   7.9250           1         0         0         0   \n",
       "3         1      1      0  53.1000           1         0         0         0   \n",
       "4         0      0      0   8.0500           0         1         0         0   \n",
       "\n",
       "   Pclass_S  Pclass_U  ...  Categorized_age_(10, 20]  \\\n",
       "0         1         0  ...                         0   \n",
       "1         0         0  ...                         0   \n",
       "2         1         0  ...                         0   \n",
       "3         1         0  ...                         0   \n",
       "4         1         0  ...                         0   \n",
       "\n",
       "   Categorized_age_(20, 30]  Categorized_age_(30, 40]  \\\n",
       "0                         1                         0   \n",
       "1                         0                         1   \n",
       "2                         1                         0   \n",
       "3                         0                         1   \n",
       "4                         0                         1   \n",
       "\n",
       "   Categorized_age_(40, 50]  Categorized_age_(50, 60]  \\\n",
       "0                         0                         0   \n",
       "1                         0                         0   \n",
       "2                         0                         0   \n",
       "3                         0                         0   \n",
       "4                         0                         0   \n",
       "\n",
       "   Categorized_age_(60, 70]  Categorized_age_(70, 80]  Pclass_1  Pclass_2  \\\n",
       "0                         0                         0         0         0   \n",
       "1                         0                         0         1         0   \n",
       "2                         0                         0         0         0   \n",
       "3                         0                         0         1         0   \n",
       "4                         0                         0         0         0   \n",
       "\n",
       "   Pclass_3  \n",
       "0         1  \n",
       "1         0  \n",
       "2         1  \n",
       "3         0  \n",
       "4         1  \n",
       "\n",
       "[5 rows x 27 columns]"
      ],
      "text/html": [
       "\n",
       "  <div id=\"df-2bcec4c0-a785-4264-bec5-c3d04afd64f4\">\n",
       "    <div class=\"colab-df-container\">\n",
       "      <div>\n",
       "<style scoped>\n",
       "    .dataframe tbody tr th:only-of-type {\n",
       "        vertical-align: middle;\n",
       "    }\n",
       "\n",
       "    .dataframe tbody tr th {\n",
       "        vertical-align: top;\n",
       "    }\n",
       "\n",
       "    .dataframe thead th {\n",
       "        text-align: right;\n",
       "    }\n",
       "</style>\n",
       "<table border=\"1\" class=\"dataframe\">\n",
       "  <thead>\n",
       "    <tr style=\"text-align: right;\">\n",
       "      <th></th>\n",
       "      <th>Survived</th>\n",
       "      <th>SibSp</th>\n",
       "      <th>Parch</th>\n",
       "      <th>Fare</th>\n",
       "      <th>Sex_female</th>\n",
       "      <th>Sex_male</th>\n",
       "      <th>Pclass_C</th>\n",
       "      <th>Pclass_Q</th>\n",
       "      <th>Pclass_S</th>\n",
       "      <th>Pclass_U</th>\n",
       "      <th>...</th>\n",
       "      <th>Categorized_age_(10, 20]</th>\n",
       "      <th>Categorized_age_(20, 30]</th>\n",
       "      <th>Categorized_age_(30, 40]</th>\n",
       "      <th>Categorized_age_(40, 50]</th>\n",
       "      <th>Categorized_age_(50, 60]</th>\n",
       "      <th>Categorized_age_(60, 70]</th>\n",
       "      <th>Categorized_age_(70, 80]</th>\n",
       "      <th>Pclass_1</th>\n",
       "      <th>Pclass_2</th>\n",
       "      <th>Pclass_3</th>\n",
       "    </tr>\n",
       "  </thead>\n",
       "  <tbody>\n",
       "    <tr>\n",
       "      <th>0</th>\n",
       "      <td>0</td>\n",
       "      <td>1</td>\n",
       "      <td>0</td>\n",
       "      <td>7.2500</td>\n",
       "      <td>0</td>\n",
       "      <td>1</td>\n",
       "      <td>0</td>\n",
       "      <td>0</td>\n",
       "      <td>1</td>\n",
       "      <td>0</td>\n",
       "      <td>...</td>\n",
       "      <td>0</td>\n",
       "      <td>1</td>\n",
       "      <td>0</td>\n",
       "      <td>0</td>\n",
       "      <td>0</td>\n",
       "      <td>0</td>\n",
       "      <td>0</td>\n",
       "      <td>0</td>\n",
       "      <td>0</td>\n",
       "      <td>1</td>\n",
       "    </tr>\n",
       "    <tr>\n",
       "      <th>1</th>\n",
       "      <td>1</td>\n",
       "      <td>1</td>\n",
       "      <td>0</td>\n",
       "      <td>71.2833</td>\n",
       "      <td>1</td>\n",
       "      <td>0</td>\n",
       "      <td>1</td>\n",
       "      <td>0</td>\n",
       "      <td>0</td>\n",
       "      <td>0</td>\n",
       "      <td>...</td>\n",
       "      <td>0</td>\n",
       "      <td>0</td>\n",
       "      <td>1</td>\n",
       "      <td>0</td>\n",
       "      <td>0</td>\n",
       "      <td>0</td>\n",
       "      <td>0</td>\n",
       "      <td>1</td>\n",
       "      <td>0</td>\n",
       "      <td>0</td>\n",
       "    </tr>\n",
       "    <tr>\n",
       "      <th>2</th>\n",
       "      <td>1</td>\n",
       "      <td>0</td>\n",
       "      <td>0</td>\n",
       "      <td>7.9250</td>\n",
       "      <td>1</td>\n",
       "      <td>0</td>\n",
       "      <td>0</td>\n",
       "      <td>0</td>\n",
       "      <td>1</td>\n",
       "      <td>0</td>\n",
       "      <td>...</td>\n",
       "      <td>0</td>\n",
       "      <td>1</td>\n",
       "      <td>0</td>\n",
       "      <td>0</td>\n",
       "      <td>0</td>\n",
       "      <td>0</td>\n",
       "      <td>0</td>\n",
       "      <td>0</td>\n",
       "      <td>0</td>\n",
       "      <td>1</td>\n",
       "    </tr>\n",
       "    <tr>\n",
       "      <th>3</th>\n",
       "      <td>1</td>\n",
       "      <td>1</td>\n",
       "      <td>0</td>\n",
       "      <td>53.1000</td>\n",
       "      <td>1</td>\n",
       "      <td>0</td>\n",
       "      <td>0</td>\n",
       "      <td>0</td>\n",
       "      <td>1</td>\n",
       "      <td>0</td>\n",
       "      <td>...</td>\n",
       "      <td>0</td>\n",
       "      <td>0</td>\n",
       "      <td>1</td>\n",
       "      <td>0</td>\n",
       "      <td>0</td>\n",
       "      <td>0</td>\n",
       "      <td>0</td>\n",
       "      <td>1</td>\n",
       "      <td>0</td>\n",
       "      <td>0</td>\n",
       "    </tr>\n",
       "    <tr>\n",
       "      <th>4</th>\n",
       "      <td>0</td>\n",
       "      <td>0</td>\n",
       "      <td>0</td>\n",
       "      <td>8.0500</td>\n",
       "      <td>0</td>\n",
       "      <td>1</td>\n",
       "      <td>0</td>\n",
       "      <td>0</td>\n",
       "      <td>1</td>\n",
       "      <td>0</td>\n",
       "      <td>...</td>\n",
       "      <td>0</td>\n",
       "      <td>0</td>\n",
       "      <td>1</td>\n",
       "      <td>0</td>\n",
       "      <td>0</td>\n",
       "      <td>0</td>\n",
       "      <td>0</td>\n",
       "      <td>0</td>\n",
       "      <td>0</td>\n",
       "      <td>1</td>\n",
       "    </tr>\n",
       "  </tbody>\n",
       "</table>\n",
       "<p>5 rows × 27 columns</p>\n",
       "</div>\n",
       "      <button class=\"colab-df-convert\" onclick=\"convertToInteractive('df-2bcec4c0-a785-4264-bec5-c3d04afd64f4')\"\n",
       "              title=\"Convert this dataframe to an interactive table.\"\n",
       "              style=\"display:none;\">\n",
       "        \n",
       "  <svg xmlns=\"http://www.w3.org/2000/svg\" height=\"24px\"viewBox=\"0 0 24 24\"\n",
       "       width=\"24px\">\n",
       "    <path d=\"M0 0h24v24H0V0z\" fill=\"none\"/>\n",
       "    <path d=\"M18.56 5.44l.94 2.06.94-2.06 2.06-.94-2.06-.94-.94-2.06-.94 2.06-2.06.94zm-11 1L8.5 8.5l.94-2.06 2.06-.94-2.06-.94L8.5 2.5l-.94 2.06-2.06.94zm10 10l.94 2.06.94-2.06 2.06-.94-2.06-.94-.94-2.06-.94 2.06-2.06.94z\"/><path d=\"M17.41 7.96l-1.37-1.37c-.4-.4-.92-.59-1.43-.59-.52 0-1.04.2-1.43.59L10.3 9.45l-7.72 7.72c-.78.78-.78 2.05 0 2.83L4 21.41c.39.39.9.59 1.41.59.51 0 1.02-.2 1.41-.59l7.78-7.78 2.81-2.81c.8-.78.8-2.07 0-2.86zM5.41 20L4 18.59l7.72-7.72 1.47 1.35L5.41 20z\"/>\n",
       "  </svg>\n",
       "      </button>\n",
       "      \n",
       "  <style>\n",
       "    .colab-df-container {\n",
       "      display:flex;\n",
       "      flex-wrap:wrap;\n",
       "      gap: 12px;\n",
       "    }\n",
       "\n",
       "    .colab-df-convert {\n",
       "      background-color: #E8F0FE;\n",
       "      border: none;\n",
       "      border-radius: 50%;\n",
       "      cursor: pointer;\n",
       "      display: none;\n",
       "      fill: #1967D2;\n",
       "      height: 32px;\n",
       "      padding: 0 0 0 0;\n",
       "      width: 32px;\n",
       "    }\n",
       "\n",
       "    .colab-df-convert:hover {\n",
       "      background-color: #E2EBFA;\n",
       "      box-shadow: 0px 1px 2px rgba(60, 64, 67, 0.3), 0px 1px 3px 1px rgba(60, 64, 67, 0.15);\n",
       "      fill: #174EA6;\n",
       "    }\n",
       "\n",
       "    [theme=dark] .colab-df-convert {\n",
       "      background-color: #3B4455;\n",
       "      fill: #D2E3FC;\n",
       "    }\n",
       "\n",
       "    [theme=dark] .colab-df-convert:hover {\n",
       "      background-color: #434B5C;\n",
       "      box-shadow: 0px 1px 3px 1px rgba(0, 0, 0, 0.15);\n",
       "      filter: drop-shadow(0px 1px 2px rgba(0, 0, 0, 0.3));\n",
       "      fill: #FFFFFF;\n",
       "    }\n",
       "  </style>\n",
       "\n",
       "      <script>\n",
       "        const buttonEl =\n",
       "          document.querySelector('#df-2bcec4c0-a785-4264-bec5-c3d04afd64f4 button.colab-df-convert');\n",
       "        buttonEl.style.display =\n",
       "          google.colab.kernel.accessAllowed ? 'block' : 'none';\n",
       "\n",
       "        async function convertToInteractive(key) {\n",
       "          const element = document.querySelector('#df-2bcec4c0-a785-4264-bec5-c3d04afd64f4');\n",
       "          const dataTable =\n",
       "            await google.colab.kernel.invokeFunction('convertToInteractive',\n",
       "                                                     [key], {});\n",
       "          if (!dataTable) return;\n",
       "\n",
       "          const docLinkHtml = 'Like what you see? Visit the ' +\n",
       "            '<a target=\"_blank\" href=https://colab.research.google.com/notebooks/data_table.ipynb>data table notebook</a>'\n",
       "            + ' to learn more about interactive tables.';\n",
       "          element.innerHTML = '';\n",
       "          dataTable['output_type'] = 'display_data';\n",
       "          await google.colab.output.renderOutput(dataTable, element);\n",
       "          const docLink = document.createElement('div');\n",
       "          docLink.innerHTML = docLinkHtml;\n",
       "          element.appendChild(docLink);\n",
       "        }\n",
       "      </script>\n",
       "    </div>\n",
       "  </div>\n",
       "  "
      ]
     },
     "metadata": {},
     "execution_count": 7
    }
   ]
  },
  {
   "cell_type": "markdown",
   "metadata": {
    "id": "akXchKUDfqKW",
    "pycharm": {
     "name": "#%% md\n"
    }
   },
   "source": [
    "### 12.4.1 Features-labels split and train-validation split"
   ]
  },
  {
   "cell_type": "code",
   "execution_count": 49,
   "outputs": [],
   "source": [
    "# features = raw_data[xy_list]\n",
    "features = raw_data.iloc[:,0:136].to_numpy()"
   ],
   "metadata": {
    "collapsed": false,
    "pycharm": {
     "name": "#%%\n"
    }
   }
  },
  {
   "cell_type": "code",
   "execution_count": 82,
   "outputs": [],
   "source": [
    "#pitch, yaw, roll\n",
    "# p = data[[\"136\"]].to_numpy()\n",
    "labels = raw_data[[\"138\"]].to_numpy()\n",
    "# y = raw_data[[\"137\"]].to_numpy()\n",
    "# r = raw_data[[\"138\"]].to_numpy()"
   ],
   "metadata": {
    "collapsed": false,
    "pycharm": {
     "name": "#%%\n"
    }
   }
  },
  {
   "cell_type": "code",
   "metadata": {
    "id": "_lzo2QNufqKX",
    "executionInfo": {
     "status": "ok",
     "timestamp": 1649550558776,
     "user_tz": -120,
     "elapsed": 2,
     "user": {
      "displayName": "Abdelrhman Amr",
      "userId": "09344834973078055484"
     }
    },
    "pycharm": {
     "name": "#%%\n"
    }
   },
   "source": [
    "# # drop [\"Survived\"] column and save that to features\n",
    "# features = data.drop([\"Survived\"], axis = 1)\n",
    "#\n",
    "# # save the [\"Survived\"] column to labels\n",
    "# labels = data[\"Survived\"]"
   ],
   "execution_count": 83,
   "outputs": []
  },
  {
   "cell_type": "code",
   "metadata": {
    "id": "U-gIWUBhfqKY",
    "executionInfo": {
     "status": "ok",
     "timestamp": 1649550560338,
     "user_tz": -120,
     "elapsed": 703,
     "user": {
      "displayName": "Abdelrhman Amr",
      "userId": "09344834973078055484"
     }
    },
    "pycharm": {
     "name": "#%%\n"
    }
   },
   "source": [
    "from sklearn.model_selection import train_test_split"
   ],
   "execution_count": 84,
   "outputs": []
  },
  {
   "cell_type": "code",
   "metadata": {
    "id": "p3CZd8UGfqKY",
    "executionInfo": {
     "status": "ok",
     "timestamp": 1649550560338,
     "user_tz": -120,
     "elapsed": 3,
     "user": {
      "displayName": "Abdelrhman Amr",
      "userId": "09344834973078055484"
     }
    },
    "pycharm": {
     "name": "#%%\n"
    }
   },
   "source": [
    "# split data by 60% train ; use random_state=100\n",
    "features_train, features_validation_test, labels_train, labels_validation_test = train_test_split(features, labels, test_size = 0.4, random_state=100)"
   ],
   "execution_count": 85,
   "outputs": []
  },
  {
   "cell_type": "code",
   "metadata": {
    "id": "oZXTP5lgfqKY",
    "executionInfo": {
     "status": "ok",
     "timestamp": 1649550561048,
     "user_tz": -120,
     "elapsed": 2,
     "user": {
      "displayName": "Abdelrhman Amr",
      "userId": "09344834973078055484"
     }
    },
    "pycharm": {
     "name": "#%%\n"
    }
   },
   "source": [
    "# split test data by 50% validation and 50% test ; use random_state=100\n",
    "features_validation, features_test, labels_validation, labels_test = train_test_split(features_validation_test, labels_validation_test, test_size = 0.5, random_state=100)"
   ],
   "execution_count": 86,
   "outputs": []
  },
  {
   "cell_type": "code",
   "metadata": {
    "id": "oCRpVXr0fqKY",
    "colab": {
     "base_uri": "https://localhost:8080/"
    },
    "executionInfo": {
     "status": "ok",
     "timestamp": 1649550561629,
     "user_tz": -120,
     "elapsed": 2,
     "user": {
      "displayName": "Abdelrhman Amr",
      "userId": "09344834973078055484"
     }
    },
    "outputId": "f2648227-abfa-4b64-959b-95164f2f13cd",
    "pycharm": {
     "name": "#%%\n"
    }
   },
   "source": [
    "print(len(features_train))\n",
    "print(len(features_validation))\n",
    "print(len(features_test))\n",
    "print(len(labels_train))\n",
    "print(len(labels_validation))\n",
    "print(len(labels_test))"
   ],
   "execution_count": 87,
   "outputs": [
    {
     "name": "stdout",
     "output_type": "stream",
     "text": [
      "1200\n",
      "400\n",
      "400\n",
      "1200\n",
      "400\n",
      "400\n"
     ]
    }
   ]
  },
  {
   "cell_type": "markdown",
   "metadata": {
    "id": "5dJMAfTUfqKZ",
    "pycharm": {
     "name": "#%% md\n"
    }
   },
   "source": [
    "### 12.4.2 Training different models on our dataset\n",
    "\n",
    "We'll train six models:\n",
    "- Linear Regression\n",
    "- Decision tree Regressor\n",
    "- Support vector Regression (SVR)\n",
    "- RandomForestRegressor\n",
    "- GradientBoostingRegressor\n",
    "- AdaBoostRegressor"
   ]
  },
  {
   "cell_type": "code",
   "execution_count": 88,
   "outputs": [],
   "source": [
    "# Train linear regression model\n",
    "from sklearn.linear_model import LinearRegression\n",
    "\n",
    "lr_model = LinearRegression().fit(features_train, labels_train)"
   ],
   "metadata": {
    "collapsed": false,
    "pycharm": {
     "name": "#%%\n"
    }
   }
  },
  {
   "cell_type": "code",
   "metadata": {
    "id": "DThp9iwIfqKZ",
    "executionInfo": {
     "status": "ok",
     "timestamp": 1649550563656,
     "user_tz": -120,
     "elapsed": 282,
     "user": {
      "displayName": "Abdelrhman Amr",
      "userId": "09344834973078055484"
     }
    },
    "pycharm": {
     "name": "#%%\n"
    }
   },
   "source": [
    "# Train decision tree model ; don't use any hyperparameter\n",
    "from sklearn.tree import DecisionTreeRegressor\n",
    "\n",
    "dt_model = DecisionTreeRegressor().fit(features_train, labels_train)"
   ],
   "execution_count": 89,
   "outputs": []
  },
  {
   "cell_type": "code",
   "metadata": {
    "id": "8yMO82c9fqKa",
    "executionInfo": {
     "status": "ok",
     "timestamp": 1649550563957,
     "user_tz": -120,
     "elapsed": 1,
     "user": {
      "displayName": "Abdelrhman Amr",
      "userId": "09344834973078055484"
     }
    },
    "pycharm": {
     "name": "#%%\n"
    }
   },
   "source": [
    "# Train SVM model ; don't use any hyperparameter\n",
    "from sklearn.svm import SVR\n",
    "\n",
    "svm_model = SVR().fit(features_train, labels_train)"
   ],
   "execution_count": 90,
   "outputs": [
    {
     "name": "stderr",
     "output_type": "stream",
     "text": [
      "D:\\Applications\\Anaconda\\Installation\\lib\\site-packages\\sklearn\\utils\\validation.py:63: DataConversionWarning: A column-vector y was passed when a 1d array was expected. Please change the shape of y to (n_samples, ), for example using ravel().\n",
      "  return f(*args, **kwargs)\n"
     ]
    }
   ]
  },
  {
   "cell_type": "code",
   "metadata": {
    "id": "yhIfxavqfqKa",
    "executionInfo": {
     "status": "ok",
     "timestamp": 1649550565109,
     "user_tz": -120,
     "elapsed": 281,
     "user": {
      "displayName": "Abdelrhman Amr",
      "userId": "09344834973078055484"
     }
    },
    "pycharm": {
     "name": "#%%\n"
    }
   },
   "source": [
    "# Train random forest model ; don't use any hyperparameter\n",
    "from sklearn.ensemble import RandomForestRegressor\n",
    "\n",
    "rf_model = RandomForestRegressor().fit(features_train, labels_train)"
   ],
   "execution_count": 91,
   "outputs": [
    {
     "name": "stderr",
     "output_type": "stream",
     "text": [
      "C:\\Users\\ABDELR~1\\AppData\\Local\\Temp/ipykernel_18636/198170182.py:4: DataConversionWarning: A column-vector y was passed when a 1d array was expected. Please change the shape of y to (n_samples,), for example using ravel().\n",
      "  rf_model = RandomForestRegressor().fit(features_train, labels_train)\n"
     ]
    }
   ]
  },
  {
   "cell_type": "code",
   "metadata": {
    "id": "EW7wDPHIfqKa",
    "executionInfo": {
     "status": "ok",
     "timestamp": 1649550565109,
     "user_tz": -120,
     "elapsed": 2,
     "user": {
      "displayName": "Abdelrhman Amr",
      "userId": "09344834973078055484"
     }
    },
    "pycharm": {
     "name": "#%%\n"
    }
   },
   "source": [
    "# Train gradient boosting model ; don't use any hyperparameter\n",
    "from sklearn.ensemble import GradientBoostingRegressor\n",
    "\n",
    "gb_model = GradientBoostingRegressor().fit(features_train, labels_train)"
   ],
   "execution_count": 92,
   "outputs": [
    {
     "name": "stderr",
     "output_type": "stream",
     "text": [
      "D:\\Applications\\Anaconda\\Installation\\lib\\site-packages\\sklearn\\utils\\validation.py:63: DataConversionWarning: A column-vector y was passed when a 1d array was expected. Please change the shape of y to (n_samples, ), for example using ravel().\n",
      "  return f(*args, **kwargs)\n"
     ]
    }
   ]
  },
  {
   "cell_type": "code",
   "metadata": {
    "id": "YPmyHC-ZfqKa",
    "executionInfo": {
     "status": "ok",
     "timestamp": 1649550565406,
     "user_tz": -120,
     "elapsed": 2,
     "user": {
      "displayName": "Abdelrhman Amr",
      "userId": "09344834973078055484"
     }
    },
    "pycharm": {
     "name": "#%%\n"
    }
   },
   "source": [
    "# Train Adaboost model ; don't use any hyperparameter\n",
    "from sklearn.ensemble import AdaBoostRegressor\n",
    "\n",
    "ab_model = AdaBoostRegressor().fit(features_train, labels_train)"
   ],
   "execution_count": 93,
   "outputs": [
    {
     "name": "stderr",
     "output_type": "stream",
     "text": [
      "D:\\Applications\\Anaconda\\Installation\\lib\\site-packages\\sklearn\\utils\\validation.py:63: DataConversionWarning: A column-vector y was passed when a 1d array was expected. Please change the shape of y to (n_samples, ), for example using ravel().\n",
      "  return f(*args, **kwargs)\n"
     ]
    }
   ]
  },
  {
   "cell_type": "code",
   "execution_count": 94,
   "outputs": [],
   "source": [
    "# Train Adaboost model ; don't use any hyperparameter\n",
    "from sklearn.multioutput import MultiOutputRegressor\n",
    "labels_train = raw_data.iloc[0:1200,136:140].to_numpy()\n",
    "# ab_model = AdaBoostRegressor().fit(features_train, labels_train)\n",
    "mor_model = MultiOutputRegressor(GradientBoostingRegressor(random_state=0)).fit(features_train, labels_train)\n",
    "    # .predict(features_validation)"
   ],
   "metadata": {
    "collapsed": false,
    "pycharm": {
     "name": "#%%\n"
    }
   }
  },
  {
   "cell_type": "markdown",
   "metadata": {
    "id": "6jF0KbS_fqKb",
    "pycharm": {
     "name": "#%% md\n"
    }
   },
   "source": [
    "### 12.4.3 Evaluating the models\n",
    "\n",
    "#### Accuracy"
   ]
  },
  {
   "cell_type": "code",
   "metadata": {
    "id": "hjeMJk4KfqKb",
    "colab": {
     "base_uri": "https://localhost:8080/"
    },
    "executionInfo": {
     "status": "ok",
     "timestamp": 1649550566317,
     "user_tz": -120,
     "elapsed": 2,
     "user": {
      "displayName": "Abdelrhman Amr",
      "userId": "09344834973078055484"
     }
    },
    "outputId": "fc559e6f-4639-4fe5-8c9e-6238c0a4533c",
    "pycharm": {
     "name": "#%%\n"
    }
   },
   "source": [
    "# print accuracy of each model on validation data\n",
    "print(\"Scores of the models\")\n",
    "print(\"Linear regression:\", lr_model.score(features_validation,labels_validation))\n",
    "print(\"Decision tree:\", dt_model.score(features_validation,labels_validation))\n",
    "print(\"SVR:\", svm_model.score(features_validation,labels_validation))\n",
    "print(\"Random forest:\", rf_model.score(features_validation,labels_validation))\n",
    "print(\"Gradient boosting:\", gb_model.score(features_validation,labels_validation))\n",
    "print(\"AdaBoost:\", ab_model.score(features_validation,labels_validation))"
   ],
   "execution_count": 95,
   "outputs": [
    {
     "name": "stdout",
     "output_type": "stream",
     "text": [
      "Scores of the models\n",
      "Linear regression: 0.0617660764022645\n",
      "Decision tree: -0.025206475263100936\n",
      "SVR: 0.07788611316055238\n",
      "Random forest: 0.25548367658310744\n",
      "Gradient boosting: 0.12482800961010898\n",
      "AdaBoost: 0.08077643691536274\n"
     ]
    }
   ]
  },
  {
   "cell_type": "code",
   "execution_count": 96,
   "outputs": [
    {
     "ename": "ValueError",
     "evalue": "y_true and y_pred have different number of output (1!=3)",
     "output_type": "error",
     "traceback": [
      "\u001B[1;31m---------------------------------------------------------------------------\u001B[0m",
      "\u001B[1;31mValueError\u001B[0m                                Traceback (most recent call last)",
      "\u001B[1;32mC:\\Users\\ABDELR~1\\AppData\\Local\\Temp/ipykernel_18636/3992625779.py\u001B[0m in \u001B[0;36m<module>\u001B[1;34m\u001B[0m\n\u001B[1;32m----> 1\u001B[1;33m \u001B[0mprint\u001B[0m\u001B[1;33m(\u001B[0m\u001B[1;34m\"MultiOutputRegressor:\"\u001B[0m\u001B[1;33m,\u001B[0m \u001B[0mmor_model\u001B[0m\u001B[1;33m.\u001B[0m\u001B[0mscore\u001B[0m\u001B[1;33m(\u001B[0m\u001B[0mfeatures_validation\u001B[0m\u001B[1;33m,\u001B[0m\u001B[0mlabels_validation\u001B[0m\u001B[1;33m)\u001B[0m\u001B[1;33m)\u001B[0m\u001B[1;33m\u001B[0m\u001B[1;33m\u001B[0m\u001B[0m\n\u001B[0m",
      "\u001B[1;32mD:\\Applications\\Anaconda\\Installation\\lib\\site-packages\\sklearn\\base.py\u001B[0m in \u001B[0;36mscore\u001B[1;34m(self, X, y, sample_weight)\u001B[0m\n\u001B[0;32m    552\u001B[0m         \u001B[1;32mfrom\u001B[0m \u001B[1;33m.\u001B[0m\u001B[0mmetrics\u001B[0m \u001B[1;32mimport\u001B[0m \u001B[0mr2_score\u001B[0m\u001B[1;33m\u001B[0m\u001B[1;33m\u001B[0m\u001B[0m\n\u001B[0;32m    553\u001B[0m         \u001B[0my_pred\u001B[0m \u001B[1;33m=\u001B[0m \u001B[0mself\u001B[0m\u001B[1;33m.\u001B[0m\u001B[0mpredict\u001B[0m\u001B[1;33m(\u001B[0m\u001B[0mX\u001B[0m\u001B[1;33m)\u001B[0m\u001B[1;33m\u001B[0m\u001B[1;33m\u001B[0m\u001B[0m\n\u001B[1;32m--> 554\u001B[1;33m         \u001B[1;32mreturn\u001B[0m \u001B[0mr2_score\u001B[0m\u001B[1;33m(\u001B[0m\u001B[0my\u001B[0m\u001B[1;33m,\u001B[0m \u001B[0my_pred\u001B[0m\u001B[1;33m,\u001B[0m \u001B[0msample_weight\u001B[0m\u001B[1;33m=\u001B[0m\u001B[0msample_weight\u001B[0m\u001B[1;33m)\u001B[0m\u001B[1;33m\u001B[0m\u001B[1;33m\u001B[0m\u001B[0m\n\u001B[0m\u001B[0;32m    555\u001B[0m \u001B[1;33m\u001B[0m\u001B[0m\n\u001B[0;32m    556\u001B[0m     \u001B[1;32mdef\u001B[0m \u001B[0m_more_tags\u001B[0m\u001B[1;33m(\u001B[0m\u001B[0mself\u001B[0m\u001B[1;33m)\u001B[0m\u001B[1;33m:\u001B[0m\u001B[1;33m\u001B[0m\u001B[1;33m\u001B[0m\u001B[0m\n",
      "\u001B[1;32mD:\\Applications\\Anaconda\\Installation\\lib\\site-packages\\sklearn\\utils\\validation.py\u001B[0m in \u001B[0;36minner_f\u001B[1;34m(*args, **kwargs)\u001B[0m\n\u001B[0;32m     61\u001B[0m             \u001B[0mextra_args\u001B[0m \u001B[1;33m=\u001B[0m \u001B[0mlen\u001B[0m\u001B[1;33m(\u001B[0m\u001B[0margs\u001B[0m\u001B[1;33m)\u001B[0m \u001B[1;33m-\u001B[0m \u001B[0mlen\u001B[0m\u001B[1;33m(\u001B[0m\u001B[0mall_args\u001B[0m\u001B[1;33m)\u001B[0m\u001B[1;33m\u001B[0m\u001B[1;33m\u001B[0m\u001B[0m\n\u001B[0;32m     62\u001B[0m             \u001B[1;32mif\u001B[0m \u001B[0mextra_args\u001B[0m \u001B[1;33m<=\u001B[0m \u001B[1;36m0\u001B[0m\u001B[1;33m:\u001B[0m\u001B[1;33m\u001B[0m\u001B[1;33m\u001B[0m\u001B[0m\n\u001B[1;32m---> 63\u001B[1;33m                 \u001B[1;32mreturn\u001B[0m \u001B[0mf\u001B[0m\u001B[1;33m(\u001B[0m\u001B[1;33m*\u001B[0m\u001B[0margs\u001B[0m\u001B[1;33m,\u001B[0m \u001B[1;33m**\u001B[0m\u001B[0mkwargs\u001B[0m\u001B[1;33m)\u001B[0m\u001B[1;33m\u001B[0m\u001B[1;33m\u001B[0m\u001B[0m\n\u001B[0m\u001B[0;32m     64\u001B[0m \u001B[1;33m\u001B[0m\u001B[0m\n\u001B[0;32m     65\u001B[0m             \u001B[1;31m# extra_args > 0\u001B[0m\u001B[1;33m\u001B[0m\u001B[1;33m\u001B[0m\u001B[0m\n",
      "\u001B[1;32mD:\\Applications\\Anaconda\\Installation\\lib\\site-packages\\sklearn\\metrics\\_regression.py\u001B[0m in \u001B[0;36mr2_score\u001B[1;34m(y_true, y_pred, sample_weight, multioutput)\u001B[0m\n\u001B[0;32m    674\u001B[0m     \u001B[1;33m-\u001B[0m\u001B[1;36m3.0\u001B[0m\u001B[1;33m\u001B[0m\u001B[1;33m\u001B[0m\u001B[0m\n\u001B[0;32m    675\u001B[0m     \"\"\"\n\u001B[1;32m--> 676\u001B[1;33m     y_type, y_true, y_pred, multioutput = _check_reg_targets(\n\u001B[0m\u001B[0;32m    677\u001B[0m         y_true, y_pred, multioutput)\n\u001B[0;32m    678\u001B[0m     \u001B[0mcheck_consistent_length\u001B[0m\u001B[1;33m(\u001B[0m\u001B[0my_true\u001B[0m\u001B[1;33m,\u001B[0m \u001B[0my_pred\u001B[0m\u001B[1;33m,\u001B[0m \u001B[0msample_weight\u001B[0m\u001B[1;33m)\u001B[0m\u001B[1;33m\u001B[0m\u001B[1;33m\u001B[0m\u001B[0m\n",
      "\u001B[1;32mD:\\Applications\\Anaconda\\Installation\\lib\\site-packages\\sklearn\\metrics\\_regression.py\u001B[0m in \u001B[0;36m_check_reg_targets\u001B[1;34m(y_true, y_pred, multioutput, dtype)\u001B[0m\n\u001B[0;32m     97\u001B[0m \u001B[1;33m\u001B[0m\u001B[0m\n\u001B[0;32m     98\u001B[0m     \u001B[1;32mif\u001B[0m \u001B[0my_true\u001B[0m\u001B[1;33m.\u001B[0m\u001B[0mshape\u001B[0m\u001B[1;33m[\u001B[0m\u001B[1;36m1\u001B[0m\u001B[1;33m]\u001B[0m \u001B[1;33m!=\u001B[0m \u001B[0my_pred\u001B[0m\u001B[1;33m.\u001B[0m\u001B[0mshape\u001B[0m\u001B[1;33m[\u001B[0m\u001B[1;36m1\u001B[0m\u001B[1;33m]\u001B[0m\u001B[1;33m:\u001B[0m\u001B[1;33m\u001B[0m\u001B[1;33m\u001B[0m\u001B[0m\n\u001B[1;32m---> 99\u001B[1;33m         raise ValueError(\"y_true and y_pred have different number of output \"\n\u001B[0m\u001B[0;32m    100\u001B[0m                          \"({0}!={1})\".format(y_true.shape[1], y_pred.shape[1]))\n\u001B[0;32m    101\u001B[0m \u001B[1;33m\u001B[0m\u001B[0m\n",
      "\u001B[1;31mValueError\u001B[0m: y_true and y_pred have different number of output (1!=3)"
     ]
    }
   ],
   "source": [
    "print(\"MultiOutputRegressor:\", mor_model.score(features_validation,labels_validation))"
   ],
   "metadata": {
    "collapsed": false,
    "pycharm": {
     "name": "#%%\n"
    }
   }
  },
  {
   "cell_type": "markdown",
   "metadata": {
    "id": "gCUK9NJXfqKb",
    "pycharm": {
     "name": "#%% md\n"
    }
   },
   "source": [
    "#### R2-score"
   ]
  },
  {
   "cell_type": "code",
   "metadata": {
    "id": "QU9uZMJkfqKb",
    "colab": {
     "base_uri": "https://localhost:8080/"
    },
    "executionInfo": {
     "status": "ok",
     "timestamp": 1649550567068,
     "user_tz": -120,
     "elapsed": 3,
     "user": {
      "displayName": "Abdelrhman Amr",
      "userId": "09344834973078055484"
     }
    },
    "outputId": "1a03abf9-ffe7-433b-c1e6-dd15799d304c",
    "pycharm": {
     "name": "#%%\n"
    }
   },
   "source": [
    "# print F1-score of each model on validation data\n",
    "from sklearn.metrics import r2_score\n",
    "\n",
    "print(\"R2-scores of the models:\")\n",
    "labels_predict = lr_model.predict(features_validation)\n",
    "print(\"Linear regression:\", r2_score(labels_validation, labels_predict))\n",
    "labels_predict = dt_model.predict(features_validation)\n",
    "print(\"Decision tree:\", r2_score(labels_validation, labels_predict))\n",
    "labels_predict = svm_model.predict(features_validation)\n",
    "print(\"SVR:\", r2_score(labels_validation, labels_predict))\n",
    "labels_predict = rf_model.predict(features_validation)\n",
    "print(\"Random forest:\", r2_score(labels_validation, labels_predict))\n",
    "labels_predict = gb_model.predict(features_validation)\n",
    "print(\"Gradient boosting:\", r2_score(labels_validation, labels_predict))\n",
    "labels_predict = ab_model.predict(features_validation)\n",
    "print(\"AdaBoost:\", r2_score(labels_validation, labels_predict))"
   ],
   "execution_count": 98,
   "outputs": [
    {
     "name": "stdout",
     "output_type": "stream",
     "text": [
      "R2-scores of the models:\n",
      "Linear regression: 0.0617660764022645\n",
      "Decision tree: -0.025206475263100936\n",
      "SVR: 0.07788611316055238\n",
      "Random forest: 0.25548367658310744\n",
      "Gradient boosting: 0.12482800961010898\n",
      "AdaBoost: 0.08077643691536274\n"
     ]
    }
   ]
  },
  {
   "cell_type": "markdown",
   "source": [
    "### R2-score"
   ],
   "metadata": {
    "collapsed": false,
    "pycharm": {
     "name": "#%% md\n"
    }
   }
  },
  {
   "cell_type": "code",
   "execution_count": 399,
   "outputs": [],
   "source": [
    "# r2score = r2_score(labels_validation, labels_predict, sample_weight=None, multioutput='uniform_average')\n",
    "# r2score"
   ],
   "metadata": {
    "collapsed": false,
    "pycharm": {
     "name": "#%%\n"
    }
   }
  },
  {
   "cell_type": "markdown",
   "metadata": {
    "id": "cN_q429mfqKb",
    "pycharm": {
     "name": "#%% md\n"
    }
   },
   "source": [
    "### 12.4.4 Testing the model\n",
    "\n",
    "Finding the accuracy and the F1-score of the model in the testing set."
   ]
  },
  {
   "cell_type": "code",
   "metadata": {
    "id": "_nfxWhppfqKb",
    "colab": {
     "base_uri": "https://localhost:8080/"
    },
    "executionInfo": {
     "status": "ok",
     "timestamp": 1649550568926,
     "user_tz": -120,
     "elapsed": 2,
     "user": {
      "displayName": "Abdelrhman Amr",
      "userId": "09344834973078055484"
     }
    },
    "outputId": "822ebfef-638d-4506-90ac-eee43221ec11",
    "pycharm": {
     "name": "#%%\n"
    }
   },
   "source": [
    "# print accuracy of gradient boost model on testing data\n",
    "print(\"Scores of the models\")\n",
    "print(\"Linear regression:\", lr_model.score(features_test,labels_test))\n",
    "print(\"Decision tree:\", dt_model.score(features_test,labels_test))\n",
    "print(\"SVR:\", svm_model.score(features_test,labels_test))\n",
    "print(\"Random forest:\", rf_model.score(features_test,labels_test))\n",
    "print(\"Gradient boosting:\", gb_model.score(features_test,labels_test))\n",
    "print(\"AdaBoost:\", ab_model.score(features_test,labels_test))\n"
   ],
   "execution_count": 99,
   "outputs": [
    {
     "name": "stdout",
     "output_type": "stream",
     "text": [
      "Scores of the models\n",
      "Linear regression: -0.4541835484160097\n",
      "Decision tree: 0.010498765802375187\n",
      "SVR: 0.42554379193452607\n",
      "Random forest: 0.21383087977094772\n",
      "Gradient boosting: 0.3541674323078059\n",
      "AdaBoost: 0.16695648805078556\n"
     ]
    }
   ]
  },
  {
   "cell_type": "code",
   "execution_count": 37,
   "outputs": [
    {
     "ename": "ValueError",
     "evalue": "y_true and y_pred have different number of output (1!=3)",
     "output_type": "error",
     "traceback": [
      "\u001B[1;31m---------------------------------------------------------------------------\u001B[0m",
      "\u001B[1;31mValueError\u001B[0m                                Traceback (most recent call last)",
      "\u001B[1;32mC:\\Users\\ABDELR~1\\AppData\\Local\\Temp/ipykernel_8592/1438678486.py\u001B[0m in \u001B[0;36m<module>\u001B[1;34m\u001B[0m\n\u001B[1;32m----> 1\u001B[1;33m \u001B[0mprint\u001B[0m\u001B[1;33m(\u001B[0m\u001B[1;34m\"MultiOutputRegressor:\"\u001B[0m\u001B[1;33m,\u001B[0m \u001B[0mmor_model\u001B[0m\u001B[1;33m.\u001B[0m\u001B[0mscore\u001B[0m\u001B[1;33m(\u001B[0m\u001B[0mfeatures_test\u001B[0m\u001B[1;33m,\u001B[0m\u001B[0mlabels_test\u001B[0m\u001B[1;33m)\u001B[0m\u001B[1;33m)\u001B[0m\u001B[1;33m\u001B[0m\u001B[1;33m\u001B[0m\u001B[0m\n\u001B[0m",
      "\u001B[1;32mD:\\Applications\\Anaconda\\Installation\\lib\\site-packages\\sklearn\\base.py\u001B[0m in \u001B[0;36mscore\u001B[1;34m(self, X, y, sample_weight)\u001B[0m\n\u001B[0;32m    552\u001B[0m         \u001B[1;32mfrom\u001B[0m \u001B[1;33m.\u001B[0m\u001B[0mmetrics\u001B[0m \u001B[1;32mimport\u001B[0m \u001B[0mr2_score\u001B[0m\u001B[1;33m\u001B[0m\u001B[1;33m\u001B[0m\u001B[0m\n\u001B[0;32m    553\u001B[0m         \u001B[0my_pred\u001B[0m \u001B[1;33m=\u001B[0m \u001B[0mself\u001B[0m\u001B[1;33m.\u001B[0m\u001B[0mpredict\u001B[0m\u001B[1;33m(\u001B[0m\u001B[0mX\u001B[0m\u001B[1;33m)\u001B[0m\u001B[1;33m\u001B[0m\u001B[1;33m\u001B[0m\u001B[0m\n\u001B[1;32m--> 554\u001B[1;33m         \u001B[1;32mreturn\u001B[0m \u001B[0mr2_score\u001B[0m\u001B[1;33m(\u001B[0m\u001B[0my\u001B[0m\u001B[1;33m,\u001B[0m \u001B[0my_pred\u001B[0m\u001B[1;33m,\u001B[0m \u001B[0msample_weight\u001B[0m\u001B[1;33m=\u001B[0m\u001B[0msample_weight\u001B[0m\u001B[1;33m)\u001B[0m\u001B[1;33m\u001B[0m\u001B[1;33m\u001B[0m\u001B[0m\n\u001B[0m\u001B[0;32m    555\u001B[0m \u001B[1;33m\u001B[0m\u001B[0m\n\u001B[0;32m    556\u001B[0m     \u001B[1;32mdef\u001B[0m \u001B[0m_more_tags\u001B[0m\u001B[1;33m(\u001B[0m\u001B[0mself\u001B[0m\u001B[1;33m)\u001B[0m\u001B[1;33m:\u001B[0m\u001B[1;33m\u001B[0m\u001B[1;33m\u001B[0m\u001B[0m\n",
      "\u001B[1;32mD:\\Applications\\Anaconda\\Installation\\lib\\site-packages\\sklearn\\utils\\validation.py\u001B[0m in \u001B[0;36minner_f\u001B[1;34m(*args, **kwargs)\u001B[0m\n\u001B[0;32m     61\u001B[0m             \u001B[0mextra_args\u001B[0m \u001B[1;33m=\u001B[0m \u001B[0mlen\u001B[0m\u001B[1;33m(\u001B[0m\u001B[0margs\u001B[0m\u001B[1;33m)\u001B[0m \u001B[1;33m-\u001B[0m \u001B[0mlen\u001B[0m\u001B[1;33m(\u001B[0m\u001B[0mall_args\u001B[0m\u001B[1;33m)\u001B[0m\u001B[1;33m\u001B[0m\u001B[1;33m\u001B[0m\u001B[0m\n\u001B[0;32m     62\u001B[0m             \u001B[1;32mif\u001B[0m \u001B[0mextra_args\u001B[0m \u001B[1;33m<=\u001B[0m \u001B[1;36m0\u001B[0m\u001B[1;33m:\u001B[0m\u001B[1;33m\u001B[0m\u001B[1;33m\u001B[0m\u001B[0m\n\u001B[1;32m---> 63\u001B[1;33m                 \u001B[1;32mreturn\u001B[0m \u001B[0mf\u001B[0m\u001B[1;33m(\u001B[0m\u001B[1;33m*\u001B[0m\u001B[0margs\u001B[0m\u001B[1;33m,\u001B[0m \u001B[1;33m**\u001B[0m\u001B[0mkwargs\u001B[0m\u001B[1;33m)\u001B[0m\u001B[1;33m\u001B[0m\u001B[1;33m\u001B[0m\u001B[0m\n\u001B[0m\u001B[0;32m     64\u001B[0m \u001B[1;33m\u001B[0m\u001B[0m\n\u001B[0;32m     65\u001B[0m             \u001B[1;31m# extra_args > 0\u001B[0m\u001B[1;33m\u001B[0m\u001B[1;33m\u001B[0m\u001B[0m\n",
      "\u001B[1;32mD:\\Applications\\Anaconda\\Installation\\lib\\site-packages\\sklearn\\metrics\\_regression.py\u001B[0m in \u001B[0;36mr2_score\u001B[1;34m(y_true, y_pred, sample_weight, multioutput)\u001B[0m\n\u001B[0;32m    674\u001B[0m     \u001B[1;33m-\u001B[0m\u001B[1;36m3.0\u001B[0m\u001B[1;33m\u001B[0m\u001B[1;33m\u001B[0m\u001B[0m\n\u001B[0;32m    675\u001B[0m     \"\"\"\n\u001B[1;32m--> 676\u001B[1;33m     y_type, y_true, y_pred, multioutput = _check_reg_targets(\n\u001B[0m\u001B[0;32m    677\u001B[0m         y_true, y_pred, multioutput)\n\u001B[0;32m    678\u001B[0m     \u001B[0mcheck_consistent_length\u001B[0m\u001B[1;33m(\u001B[0m\u001B[0my_true\u001B[0m\u001B[1;33m,\u001B[0m \u001B[0my_pred\u001B[0m\u001B[1;33m,\u001B[0m \u001B[0msample_weight\u001B[0m\u001B[1;33m)\u001B[0m\u001B[1;33m\u001B[0m\u001B[1;33m\u001B[0m\u001B[0m\n",
      "\u001B[1;32mD:\\Applications\\Anaconda\\Installation\\lib\\site-packages\\sklearn\\metrics\\_regression.py\u001B[0m in \u001B[0;36m_check_reg_targets\u001B[1;34m(y_true, y_pred, multioutput, dtype)\u001B[0m\n\u001B[0;32m     97\u001B[0m \u001B[1;33m\u001B[0m\u001B[0m\n\u001B[0;32m     98\u001B[0m     \u001B[1;32mif\u001B[0m \u001B[0my_true\u001B[0m\u001B[1;33m.\u001B[0m\u001B[0mshape\u001B[0m\u001B[1;33m[\u001B[0m\u001B[1;36m1\u001B[0m\u001B[1;33m]\u001B[0m \u001B[1;33m!=\u001B[0m \u001B[0my_pred\u001B[0m\u001B[1;33m.\u001B[0m\u001B[0mshape\u001B[0m\u001B[1;33m[\u001B[0m\u001B[1;36m1\u001B[0m\u001B[1;33m]\u001B[0m\u001B[1;33m:\u001B[0m\u001B[1;33m\u001B[0m\u001B[1;33m\u001B[0m\u001B[0m\n\u001B[1;32m---> 99\u001B[1;33m         raise ValueError(\"y_true and y_pred have different number of output \"\n\u001B[0m\u001B[0;32m    100\u001B[0m                          \"({0}!={1})\".format(y_true.shape[1], y_pred.shape[1]))\n\u001B[0;32m    101\u001B[0m \u001B[1;33m\u001B[0m\u001B[0m\n",
      "\u001B[1;31mValueError\u001B[0m: y_true and y_pred have different number of output (1!=3)"
     ]
    }
   ],
   "source": [
    "print(\"MultiOutputRegressor:\", mor_model.score(features_test,labels_test))"
   ],
   "metadata": {
    "collapsed": false,
    "pycharm": {
     "name": "#%%\n"
    }
   }
  },
  {
   "cell_type": "code",
   "metadata": {
    "id": "oW0DEPGxfqKc",
    "colab": {
     "base_uri": "https://localhost:8080/"
    },
    "executionInfo": {
     "status": "ok",
     "timestamp": 1649550570106,
     "user_tz": -120,
     "elapsed": 2,
     "user": {
      "displayName": "Abdelrhman Amr",
      "userId": "09344834973078055484"
     }
    },
    "outputId": "e6d8b275-6358-44a0-a7bc-81b8a7ab451d",
    "pycharm": {
     "name": "#%%\n"
    }
   },
   "source": [
    "# print F1-score of gradient boost model on testing data\n",
    "print(\"F1-scores of the models:\")\n",
    "labels_predict = lr_model.predict(features_test)\n",
    "print(\"Linear regression:\", f1_score(labels_test, labels_predict))\n",
    "labels_predict = dt_model.predict(features_test)\n",
    "print(\"Decision tree:\", f1_score(labels_test, labels_predict))\n",
    "labels_predict = svm_model.predict(features_test)\n",
    "print(\"SVM:\", f1_score(labels_test, labels_predict))\n",
    "labels_predict = rf_model.predict(features_test)\n",
    "print(\"Random forest:\", f1_score(labels_test, labels_predict))\n",
    "labels_predict = gb_model.predict(features_test)\n",
    "print(\"Gradient boosting:\", f1_score(labels_test, labels_predict))\n",
    "labels_predict = ab_model.predict(features_test)\n",
    "print(\"AdaBoost:\", f1_score(labels_test, labels_predict))"
   ],
   "execution_count": 38,
   "outputs": [
    {
     "name": "stdout",
     "output_type": "stream",
     "text": [
      "F1-scores of the models:\n"
     ]
    },
    {
     "ename": "NameError",
     "evalue": "name 'f1_score' is not defined",
     "output_type": "error",
     "traceback": [
      "\u001B[1;31m---------------------------------------------------------------------------\u001B[0m",
      "\u001B[1;31mNameError\u001B[0m                                 Traceback (most recent call last)",
      "\u001B[1;32mC:\\Users\\ABDELR~1\\AppData\\Local\\Temp/ipykernel_8592/1914555830.py\u001B[0m in \u001B[0;36m<module>\u001B[1;34m\u001B[0m\n\u001B[0;32m      2\u001B[0m \u001B[0mprint\u001B[0m\u001B[1;33m(\u001B[0m\u001B[1;34m\"F1-scores of the models:\"\u001B[0m\u001B[1;33m)\u001B[0m\u001B[1;33m\u001B[0m\u001B[1;33m\u001B[0m\u001B[0m\n\u001B[0;32m      3\u001B[0m \u001B[0mlabels_predict\u001B[0m \u001B[1;33m=\u001B[0m \u001B[0mlr_model\u001B[0m\u001B[1;33m.\u001B[0m\u001B[0mpredict\u001B[0m\u001B[1;33m(\u001B[0m\u001B[0mfeatures_test\u001B[0m\u001B[1;33m)\u001B[0m\u001B[1;33m\u001B[0m\u001B[1;33m\u001B[0m\u001B[0m\n\u001B[1;32m----> 4\u001B[1;33m \u001B[0mprint\u001B[0m\u001B[1;33m(\u001B[0m\u001B[1;34m\"Linear regression:\"\u001B[0m\u001B[1;33m,\u001B[0m \u001B[0mf1_score\u001B[0m\u001B[1;33m(\u001B[0m\u001B[0mlabels_test\u001B[0m\u001B[1;33m,\u001B[0m \u001B[0mlabels_predict\u001B[0m\u001B[1;33m)\u001B[0m\u001B[1;33m)\u001B[0m\u001B[1;33m\u001B[0m\u001B[1;33m\u001B[0m\u001B[0m\n\u001B[0m\u001B[0;32m      5\u001B[0m \u001B[0mlabels_predict\u001B[0m \u001B[1;33m=\u001B[0m \u001B[0mdt_model\u001B[0m\u001B[1;33m.\u001B[0m\u001B[0mpredict\u001B[0m\u001B[1;33m(\u001B[0m\u001B[0mfeatures_test\u001B[0m\u001B[1;33m)\u001B[0m\u001B[1;33m\u001B[0m\u001B[1;33m\u001B[0m\u001B[0m\n\u001B[0;32m      6\u001B[0m \u001B[0mprint\u001B[0m\u001B[1;33m(\u001B[0m\u001B[1;34m\"Decision tree:\"\u001B[0m\u001B[1;33m,\u001B[0m \u001B[0mf1_score\u001B[0m\u001B[1;33m(\u001B[0m\u001B[0mlabels_test\u001B[0m\u001B[1;33m,\u001B[0m \u001B[0mlabels_predict\u001B[0m\u001B[1;33m)\u001B[0m\u001B[1;33m)\u001B[0m\u001B[1;33m\u001B[0m\u001B[1;33m\u001B[0m\u001B[0m\n",
      "\u001B[1;31mNameError\u001B[0m: name 'f1_score' is not defined"
     ]
    }
   ]
  },
  {
   "cell_type": "markdown",
   "metadata": {
    "id": "r1XGztd2fqKc",
    "pycharm": {
     "name": "#%% md\n"
    }
   },
   "source": [
    "# 12.5 Grid search"
   ]
  },
  {
   "cell_type": "code",
   "metadata": {
    "id": "gAK1vV5WfqKc",
    "executionInfo": {
     "status": "ok",
     "timestamp": 1649550571456,
     "user_tz": -120,
     "elapsed": 2,
     "user": {
      "displayName": "Abdelrhman Amr",
      "userId": "09344834973078055484"
     }
    },
    "pycharm": {
     "name": "#%%\n"
    }
   },
   "source": [
    "from sklearn.model_selection import GridSearchCV\n",
    "# CV -> Cross validation"
   ],
   "execution_count": 291,
   "outputs": []
  },
  {
   "cell_type": "code",
   "metadata": {
    "id": "XrcPjLM1fqKc",
    "colab": {
     "base_uri": "https://localhost:8080/"
    },
    "executionInfo": {
     "status": "ok",
     "timestamp": 1649550575213,
     "user_tz": -120,
     "elapsed": 2880,
     "user": {
      "displayName": "Abdelrhman Amr",
      "userId": "09344834973078055484"
     }
    },
    "outputId": "b954ea00-c5d7-4b4a-8df4-b33e71c1226b",
    "pycharm": {
     "name": "#%%\n"
    }
   },
   "source": [
    "svm_parameters = {'kernel': ['rbf'],\n",
    "                  'C': [0.00001, 0.0005, 0.0001, 0.005, 0.001, 0.01, 0.1, 1 , 10, 50 ,100],\n",
    "                  'gamma': [0.00001, 0.0005, 0.0001, 0.005, 0.001, 0.01, 0.1, 1 , 10, 50 ,100]\n",
    "                }\n",
    "# use gridsearch to find the best hyperparameters \n",
    "svm = SVR()\n",
    "svm_gs = GridSearchCV(estimator = svm, param_grid = svm_parameters)\n",
    "\n",
    "svm_gs.fit(features_train, np.ravel(labels_train))\n",
    "# git the best model \n",
    "svm_winner = svm_gs.best_estimator_\n",
    "svm_winner\n",
    "\n",
    "svm_winner.score(features_validation, labels_validation)"
   ],
   "execution_count": 331,
   "outputs": [
    {
     "data": {
      "text/plain": "0.6189654392139047"
     },
     "execution_count": 331,
     "metadata": {},
     "output_type": "execute_result"
    }
   ]
  },
  {
   "cell_type": "code",
   "metadata": {
    "id": "jmtr0bLVfqKd",
    "colab": {
     "base_uri": "https://localhost:8080/"
    },
    "executionInfo": {
     "status": "ok",
     "timestamp": 1649507607939,
     "user_tz": -120,
     "elapsed": 7,
     "user": {
      "displayName": "Abdelrhman Amr",
      "userId": "09344834973078055484"
     }
    },
    "outputId": "5199b404-fe2a-4816-95f8-03e91f8ba628",
    "pycharm": {
     "name": "#%%\n"
    }
   },
   "source": [
    "svm_winner"
   ],
   "execution_count": 332,
   "outputs": [
    {
     "data": {
      "text/plain": "SVR(C=50, gamma=1e-05)"
     },
     "execution_count": 332,
     "metadata": {},
     "output_type": "execute_result"
    }
   ]
  },
  {
   "cell_type": "markdown",
   "metadata": {
    "id": "VDqUNXY1fqKd",
    "pycharm": {
     "name": "#%% md\n"
    }
   },
   "source": [
    "# 12.6 Cross validation"
   ]
  },
  {
   "cell_type": "code",
   "metadata": {
    "id": "kqi1xhi0fqKd",
    "colab": {
     "base_uri": "https://localhost:8080/"
    },
    "executionInfo": {
     "status": "ok",
     "timestamp": 1649508144297,
     "user_tz": -120,
     "elapsed": 649,
     "user": {
      "displayName": "Abdelrhman Amr",
      "userId": "09344834973078055484"
     }
    },
    "outputId": "c7dedcc0-3b25-4706-bb2e-d696ead9f248",
    "pycharm": {
     "name": "#%%\n"
    }
   },
   "source": [
    "# print the k-fold cross validation output\n",
    "svm_gs.cv_results_"
   ],
   "execution_count": 333,
   "outputs": [
    {
     "data": {
      "text/plain": "{'mean_fit_time': array([0.05192423, 0.05552797, 0.11294394, 0.07624984, 0.05362787,\n        0.08500457, 0.0918818 , 0.0911211 , 0.08886089, 0.08854189,\n        0.08902335, 0.04861059, 0.05252037, 0.05182009, 0.0736475 ,\n        0.05201273, 0.06732144, 0.06741934, 0.06679621, 0.06701655,\n        0.06491923, 0.06758389, 0.03951039, 0.04225998, 0.03755021,\n        0.05570354, 0.04211044, 0.0611618 , 0.06484876, 0.06654816,\n        0.06730332, 0.06630135, 0.06471848, 0.02440987, 0.0392086 ,\n        0.03519092, 0.05503874, 0.04131393, 0.06261997, 0.06801348,\n        0.06543641, 0.06375866, 0.06716695, 0.06832628, 0.03400517,\n        0.04132209, 0.03760705, 0.05652719, 0.04341707, 0.06544628,\n        0.06783042, 0.06571741, 0.06956148, 0.06748595, 0.06640873,\n        0.02344017, 0.04020495, 0.03260674, 0.05327444, 0.04320707,\n        0.06161575, 0.0688148 , 0.06702003, 0.06822028, 0.06731205,\n        0.06851916, 0.01040206, 0.03960915, 0.02340899, 0.05761561,\n        0.04301786, 0.06351471, 0.06841536, 0.07163281, 0.07602429,\n        0.06862683, 0.0694551 , 0.01060414, 0.04515882, 0.0238081 ,\n        0.06223297, 0.04870696, 0.06861315, 0.07153063, 0.0755022 ,\n        0.07812905, 0.07411494, 0.07304797, 0.02320786, 0.0463675 ,\n        0.02380185, 0.06283798, 0.04960642, 0.06694517, 0.07252493,\n        0.07346177, 0.07222428, 0.07303033, 0.07339315, 0.03040895,\n        0.04738188, 0.02528782, 0.06351862, 0.05012875, 0.06971922,\n        0.07221723, 0.07212963, 0.07401953, 0.07251711, 0.0740149 ,\n        0.03040833, 0.04636273, 0.02620983, 0.06227598, 0.04921722,\n        0.06801777, 0.07427988, 0.08281403, 0.07075882, 0.07201686,\n        0.07420959]),\n 'std_fit_time': array([0.0016156 , 0.00453099, 0.1171831 , 0.00659539, 0.00215645,\n        0.0046572 , 0.00607228, 0.0030077 , 0.00471537, 0.00232967,\n        0.00463223, 0.00102222, 0.0004523 , 0.00132539, 0.0028396 ,\n        0.00303932, 0.00293412, 0.00185878, 0.00127873, 0.00141372,\n        0.00102272, 0.00100446, 0.00044763, 0.00241775, 0.00085935,\n        0.00322305, 0.00241914, 0.00102675, 0.00227946, 0.00242844,\n        0.00383455, 0.00161905, 0.00166521, 0.00049362, 0.00075453,\n        0.00244948, 0.00138233, 0.0013308 , 0.00215873, 0.0017903 ,\n        0.00217875, 0.00136263, 0.00279609, 0.00310918, 0.00071986,\n        0.00150181, 0.00224857, 0.00062439, 0.00302511, 0.00520405,\n        0.00271614, 0.00370651, 0.00596603, 0.00296122, 0.00162486,\n        0.00146456, 0.00194197, 0.00205473, 0.00038989, 0.00349564,\n        0.00241459, 0.00132724, 0.00555428, 0.00097856, 0.00074508,\n        0.00109933, 0.00102045, 0.0004852 , 0.00101812, 0.00049456,\n        0.00316879, 0.00351435, 0.00135649, 0.00245131, 0.01903404,\n        0.00211794, 0.00197533, 0.00135501, 0.00147849, 0.00075188,\n        0.00192309, 0.00209169, 0.00101679, 0.00270124, 0.00351058,\n        0.00429178, 0.00219748, 0.00293686, 0.00159864, 0.00212952,\n        0.00040333, 0.00148544, 0.00119857, 0.00354032, 0.00109738,\n        0.00185434, 0.00132637, 0.00336859, 0.0015621 , 0.00300797,\n        0.00181154, 0.00084848, 0.00204834, 0.00168278, 0.00293955,\n        0.00406714, 0.00078906, 0.00384587, 0.00232468, 0.00189783,\n        0.00343892, 0.00177916, 0.00160147, 0.00349712, 0.00074079,\n        0.00384588, 0.0026334 , 0.01516315, 0.00066105, 0.00179098,\n        0.00335039]),\n 'mean_score_time': array([0.02481074, 0.02440243, 0.03461361, 0.0299088 , 0.02439966,\n        0.03493352, 0.03580861, 0.03440299, 0.03360758, 0.03390279,\n        0.03301196, 0.02201257, 0.02403679, 0.02320013, 0.02920647,\n        0.02298994, 0.02580462, 0.02627053, 0.02523832, 0.02600698,\n        0.02641234, 0.02540021, 0.01900649, 0.01819057, 0.01785274,\n        0.02200704, 0.018606  , 0.02480655, 0.02477303, 0.02472997,\n        0.02700691, 0.02521091, 0.02520366, 0.01120763, 0.01761107,\n        0.01620078, 0.02180667, 0.01870322, 0.0242095 , 0.02660913,\n        0.02420807, 0.02441244, 0.02847528, 0.02562938, 0.01560202,\n        0.01960635, 0.01724653, 0.02329726, 0.02040462, 0.02460966,\n        0.02721286, 0.02421284, 0.02582221, 0.02420158, 0.02580981,\n        0.01130629, 0.01760998, 0.01600628, 0.02140751, 0.01860414,\n        0.02340326, 0.02581358, 0.02480578, 0.02677674, 0.02600436,\n        0.02600965, 0.00420432, 0.01820259, 0.01060286, 0.02367687,\n        0.01819978, 0.0244657 , 0.02540231, 0.02628832, 0.02580485,\n        0.02541656, 0.02640548, 0.00319862, 0.01780319, 0.00910726,\n        0.02220984, 0.01827025, 0.0255271 , 0.02580113, 0.02721   ,\n        0.03000374, 0.02651391, 0.0247797 , 0.00459843, 0.01840429,\n        0.00888543, 0.0232048 , 0.01931987, 0.02381377, 0.02540956,\n        0.02480593, 0.02580414, 0.0257051 , 0.02601032, 0.00539842,\n        0.0175993 , 0.00940237, 0.02342553, 0.01880693, 0.02471428,\n        0.02560883, 0.02581582, 0.02580147, 0.02629638, 0.02664614,\n        0.00600228, 0.01761022, 0.00980034, 0.02320356, 0.01920514,\n        0.02370825, 0.02560983, 0.02900906, 0.024403  , 0.02440758,\n        0.0250021 ]),\n 'std_score_time': array([2.22536321e-03, 1.85623891e-03, 1.37958502e-02, 8.06887653e-04,\n        1.02306679e-03, 5.01680368e-03, 4.78984687e-03, 1.01998255e-03,\n        1.36036860e-03, 1.28407789e-03, 6.34403560e-04, 1.27642814e-05,\n        2.11246663e-03, 9.86885418e-04, 4.00483672e-04, 1.25763427e-03,\n        1.17223189e-03, 2.48945125e-03, 3.88697617e-04, 1.67305987e-03,\n        2.94031368e-03, 7.97971724e-04, 8.91917028e-04, 7.29176482e-04,\n        7.04677825e-04, 1.09397915e-03, 8.01795158e-04, 9.76376013e-04,\n        3.25709051e-04, 7.41671403e-04, 3.34338388e-03, 9.77183895e-04,\n        2.63850751e-03, 3.97962230e-04, 7.96706117e-04, 9.76674869e-04,\n        3.95905416e-04, 3.97886623e-04, 7.36059065e-04, 1.02000900e-03,\n        3.98895217e-04, 8.00345032e-04, 3.94031136e-03, 9.94103340e-04,\n        4.88359978e-04, 7.98834619e-04, 3.86896496e-04, 1.72846694e-03,\n        3.00737392e-03, 2.72557795e-03, 3.96705839e-03, 3.96746912e-04,\n        2.63518381e-03, 7.52231638e-04, 1.16823892e-03, 2.26780085e-03,\n        4.90522378e-04, 1.67363272e-03, 4.89189576e-04, 1.35684309e-03,\n        1.02195717e-03, 7.46995992e-04, 1.46891186e-03, 9.41733401e-04,\n        6.29247680e-04, 6.29105480e-04, 3.98277573e-04, 4.00795102e-04,\n        4.94697435e-04, 1.29284718e-03, 9.82868852e-04, 8.57148165e-04,\n        1.01469853e-03, 1.09498203e-03, 1.72051660e-03, 7.97644746e-04,\n        1.01853269e-03, 3.96132566e-04, 3.99664841e-04, 1.01505262e-03,\n        9.78809483e-04, 7.42263918e-04, 1.37115842e-03, 2.13395981e-03,\n        1.60188118e-03, 4.85632827e-03, 7.68914217e-04, 1.73548893e-03,\n        4.92852839e-04, 1.63004804e-03, 8.77712104e-04, 1.60289668e-03,\n        1.67493809e-03, 1.32811369e-03, 1.01629738e-03, 1.16052779e-03,\n        2.31505681e-03, 1.07649189e-03, 6.35884375e-04, 4.87246306e-04,\n        1.01898369e-03, 4.89804371e-04, 1.36338615e-03, 7.53271644e-04,\n        7.48350010e-04, 2.34696893e-03, 1.17033299e-03, 2.32381625e-03,\n        1.30574497e-03, 1.63587917e-03, 8.96069853e-04, 4.90989722e-04,\n        7.48759226e-04, 3.95977916e-04, 1.47049777e-03, 9.83292616e-04,\n        1.35929113e-03, 5.09905344e-03, 4.91287955e-04, 4.87509934e-04,\n        1.26493668e-03]),\n 'param_C': masked_array(data=[1e-05, 1e-05, 1e-05, 1e-05, 1e-05, 1e-05, 1e-05, 1e-05,\n                    1e-05, 1e-05, 1e-05, 0.0005, 0.0005, 0.0005, 0.0005,\n                    0.0005, 0.0005, 0.0005, 0.0005, 0.0005, 0.0005, 0.0005,\n                    0.0001, 0.0001, 0.0001, 0.0001, 0.0001, 0.0001, 0.0001,\n                    0.0001, 0.0001, 0.0001, 0.0001, 0.005, 0.005, 0.005,\n                    0.005, 0.005, 0.005, 0.005, 0.005, 0.005, 0.005, 0.005,\n                    0.001, 0.001, 0.001, 0.001, 0.001, 0.001, 0.001, 0.001,\n                    0.001, 0.001, 0.001, 0.01, 0.01, 0.01, 0.01, 0.01,\n                    0.01, 0.01, 0.01, 0.01, 0.01, 0.01, 0.1, 0.1, 0.1, 0.1,\n                    0.1, 0.1, 0.1, 0.1, 0.1, 0.1, 0.1, 1, 1, 1, 1, 1, 1, 1,\n                    1, 1, 1, 1, 10, 10, 10, 10, 10, 10, 10, 10, 10, 10, 10,\n                    50, 50, 50, 50, 50, 50, 50, 50, 50, 50, 50, 100, 100,\n                    100, 100, 100, 100, 100, 100, 100, 100, 100],\n              mask=[False, False, False, False, False, False, False, False,\n                    False, False, False, False, False, False, False, False,\n                    False, False, False, False, False, False, False, False,\n                    False, False, False, False, False, False, False, False,\n                    False, False, False, False, False, False, False, False,\n                    False, False, False, False, False, False, False, False,\n                    False, False, False, False, False, False, False, False,\n                    False, False, False, False, False, False, False, False,\n                    False, False, False, False, False, False, False, False,\n                    False, False, False, False, False, False, False, False,\n                    False, False, False, False, False, False, False, False,\n                    False, False, False, False, False, False, False, False,\n                    False, False, False, False, False, False, False, False,\n                    False, False, False, False, False, False, False, False,\n                    False, False, False, False, False, False, False, False,\n                    False],\n        fill_value='?',\n             dtype=object),\n 'param_gamma': masked_array(data=[1e-05, 0.0005, 0.0001, 0.005, 0.001, 0.01, 0.1, 1, 10,\n                    50, 100, 1e-05, 0.0005, 0.0001, 0.005, 0.001, 0.01,\n                    0.1, 1, 10, 50, 100, 1e-05, 0.0005, 0.0001, 0.005,\n                    0.001, 0.01, 0.1, 1, 10, 50, 100, 1e-05, 0.0005,\n                    0.0001, 0.005, 0.001, 0.01, 0.1, 1, 10, 50, 100, 1e-05,\n                    0.0005, 0.0001, 0.005, 0.001, 0.01, 0.1, 1, 10, 50,\n                    100, 1e-05, 0.0005, 0.0001, 0.005, 0.001, 0.01, 0.1, 1,\n                    10, 50, 100, 1e-05, 0.0005, 0.0001, 0.005, 0.001, 0.01,\n                    0.1, 1, 10, 50, 100, 1e-05, 0.0005, 0.0001, 0.005,\n                    0.001, 0.01, 0.1, 1, 10, 50, 100, 1e-05, 0.0005,\n                    0.0001, 0.005, 0.001, 0.01, 0.1, 1, 10, 50, 100, 1e-05,\n                    0.0005, 0.0001, 0.005, 0.001, 0.01, 0.1, 1, 10, 50,\n                    100, 1e-05, 0.0005, 0.0001, 0.005, 0.001, 0.01, 0.1, 1,\n                    10, 50, 100],\n              mask=[False, False, False, False, False, False, False, False,\n                    False, False, False, False, False, False, False, False,\n                    False, False, False, False, False, False, False, False,\n                    False, False, False, False, False, False, False, False,\n                    False, False, False, False, False, False, False, False,\n                    False, False, False, False, False, False, False, False,\n                    False, False, False, False, False, False, False, False,\n                    False, False, False, False, False, False, False, False,\n                    False, False, False, False, False, False, False, False,\n                    False, False, False, False, False, False, False, False,\n                    False, False, False, False, False, False, False, False,\n                    False, False, False, False, False, False, False, False,\n                    False, False, False, False, False, False, False, False,\n                    False, False, False, False, False, False, False, False,\n                    False, False, False, False, False, False, False, False,\n                    False],\n        fill_value='?',\n             dtype=object),\n 'param_kernel': masked_array(data=['rbf', 'rbf', 'rbf', 'rbf', 'rbf', 'rbf', 'rbf', 'rbf',\n                    'rbf', 'rbf', 'rbf', 'rbf', 'rbf', 'rbf', 'rbf', 'rbf',\n                    'rbf', 'rbf', 'rbf', 'rbf', 'rbf', 'rbf', 'rbf', 'rbf',\n                    'rbf', 'rbf', 'rbf', 'rbf', 'rbf', 'rbf', 'rbf', 'rbf',\n                    'rbf', 'rbf', 'rbf', 'rbf', 'rbf', 'rbf', 'rbf', 'rbf',\n                    'rbf', 'rbf', 'rbf', 'rbf', 'rbf', 'rbf', 'rbf', 'rbf',\n                    'rbf', 'rbf', 'rbf', 'rbf', 'rbf', 'rbf', 'rbf', 'rbf',\n                    'rbf', 'rbf', 'rbf', 'rbf', 'rbf', 'rbf', 'rbf', 'rbf',\n                    'rbf', 'rbf', 'rbf', 'rbf', 'rbf', 'rbf', 'rbf', 'rbf',\n                    'rbf', 'rbf', 'rbf', 'rbf', 'rbf', 'rbf', 'rbf', 'rbf',\n                    'rbf', 'rbf', 'rbf', 'rbf', 'rbf', 'rbf', 'rbf', 'rbf',\n                    'rbf', 'rbf', 'rbf', 'rbf', 'rbf', 'rbf', 'rbf', 'rbf',\n                    'rbf', 'rbf', 'rbf', 'rbf', 'rbf', 'rbf', 'rbf', 'rbf',\n                    'rbf', 'rbf', 'rbf', 'rbf', 'rbf', 'rbf', 'rbf', 'rbf',\n                    'rbf', 'rbf', 'rbf', 'rbf', 'rbf', 'rbf', 'rbf', 'rbf',\n                    'rbf'],\n              mask=[False, False, False, False, False, False, False, False,\n                    False, False, False, False, False, False, False, False,\n                    False, False, False, False, False, False, False, False,\n                    False, False, False, False, False, False, False, False,\n                    False, False, False, False, False, False, False, False,\n                    False, False, False, False, False, False, False, False,\n                    False, False, False, False, False, False, False, False,\n                    False, False, False, False, False, False, False, False,\n                    False, False, False, False, False, False, False, False,\n                    False, False, False, False, False, False, False, False,\n                    False, False, False, False, False, False, False, False,\n                    False, False, False, False, False, False, False, False,\n                    False, False, False, False, False, False, False, False,\n                    False, False, False, False, False, False, False, False,\n                    False, False, False, False, False, False, False, False,\n                    False],\n        fill_value='?',\n             dtype=object),\n 'params': [{'C': 1e-05, 'gamma': 1e-05, 'kernel': 'rbf'},\n  {'C': 1e-05, 'gamma': 0.0005, 'kernel': 'rbf'},\n  {'C': 1e-05, 'gamma': 0.0001, 'kernel': 'rbf'},\n  {'C': 1e-05, 'gamma': 0.005, 'kernel': 'rbf'},\n  {'C': 1e-05, 'gamma': 0.001, 'kernel': 'rbf'},\n  {'C': 1e-05, 'gamma': 0.01, 'kernel': 'rbf'},\n  {'C': 1e-05, 'gamma': 0.1, 'kernel': 'rbf'},\n  {'C': 1e-05, 'gamma': 1, 'kernel': 'rbf'},\n  {'C': 1e-05, 'gamma': 10, 'kernel': 'rbf'},\n  {'C': 1e-05, 'gamma': 50, 'kernel': 'rbf'},\n  {'C': 1e-05, 'gamma': 100, 'kernel': 'rbf'},\n  {'C': 0.0005, 'gamma': 1e-05, 'kernel': 'rbf'},\n  {'C': 0.0005, 'gamma': 0.0005, 'kernel': 'rbf'},\n  {'C': 0.0005, 'gamma': 0.0001, 'kernel': 'rbf'},\n  {'C': 0.0005, 'gamma': 0.005, 'kernel': 'rbf'},\n  {'C': 0.0005, 'gamma': 0.001, 'kernel': 'rbf'},\n  {'C': 0.0005, 'gamma': 0.01, 'kernel': 'rbf'},\n  {'C': 0.0005, 'gamma': 0.1, 'kernel': 'rbf'},\n  {'C': 0.0005, 'gamma': 1, 'kernel': 'rbf'},\n  {'C': 0.0005, 'gamma': 10, 'kernel': 'rbf'},\n  {'C': 0.0005, 'gamma': 50, 'kernel': 'rbf'},\n  {'C': 0.0005, 'gamma': 100, 'kernel': 'rbf'},\n  {'C': 0.0001, 'gamma': 1e-05, 'kernel': 'rbf'},\n  {'C': 0.0001, 'gamma': 0.0005, 'kernel': 'rbf'},\n  {'C': 0.0001, 'gamma': 0.0001, 'kernel': 'rbf'},\n  {'C': 0.0001, 'gamma': 0.005, 'kernel': 'rbf'},\n  {'C': 0.0001, 'gamma': 0.001, 'kernel': 'rbf'},\n  {'C': 0.0001, 'gamma': 0.01, 'kernel': 'rbf'},\n  {'C': 0.0001, 'gamma': 0.1, 'kernel': 'rbf'},\n  {'C': 0.0001, 'gamma': 1, 'kernel': 'rbf'},\n  {'C': 0.0001, 'gamma': 10, 'kernel': 'rbf'},\n  {'C': 0.0001, 'gamma': 50, 'kernel': 'rbf'},\n  {'C': 0.0001, 'gamma': 100, 'kernel': 'rbf'},\n  {'C': 0.005, 'gamma': 1e-05, 'kernel': 'rbf'},\n  {'C': 0.005, 'gamma': 0.0005, 'kernel': 'rbf'},\n  {'C': 0.005, 'gamma': 0.0001, 'kernel': 'rbf'},\n  {'C': 0.005, 'gamma': 0.005, 'kernel': 'rbf'},\n  {'C': 0.005, 'gamma': 0.001, 'kernel': 'rbf'},\n  {'C': 0.005, 'gamma': 0.01, 'kernel': 'rbf'},\n  {'C': 0.005, 'gamma': 0.1, 'kernel': 'rbf'},\n  {'C': 0.005, 'gamma': 1, 'kernel': 'rbf'},\n  {'C': 0.005, 'gamma': 10, 'kernel': 'rbf'},\n  {'C': 0.005, 'gamma': 50, 'kernel': 'rbf'},\n  {'C': 0.005, 'gamma': 100, 'kernel': 'rbf'},\n  {'C': 0.001, 'gamma': 1e-05, 'kernel': 'rbf'},\n  {'C': 0.001, 'gamma': 0.0005, 'kernel': 'rbf'},\n  {'C': 0.001, 'gamma': 0.0001, 'kernel': 'rbf'},\n  {'C': 0.001, 'gamma': 0.005, 'kernel': 'rbf'},\n  {'C': 0.001, 'gamma': 0.001, 'kernel': 'rbf'},\n  {'C': 0.001, 'gamma': 0.01, 'kernel': 'rbf'},\n  {'C': 0.001, 'gamma': 0.1, 'kernel': 'rbf'},\n  {'C': 0.001, 'gamma': 1, 'kernel': 'rbf'},\n  {'C': 0.001, 'gamma': 10, 'kernel': 'rbf'},\n  {'C': 0.001, 'gamma': 50, 'kernel': 'rbf'},\n  {'C': 0.001, 'gamma': 100, 'kernel': 'rbf'},\n  {'C': 0.01, 'gamma': 1e-05, 'kernel': 'rbf'},\n  {'C': 0.01, 'gamma': 0.0005, 'kernel': 'rbf'},\n  {'C': 0.01, 'gamma': 0.0001, 'kernel': 'rbf'},\n  {'C': 0.01, 'gamma': 0.005, 'kernel': 'rbf'},\n  {'C': 0.01, 'gamma': 0.001, 'kernel': 'rbf'},\n  {'C': 0.01, 'gamma': 0.01, 'kernel': 'rbf'},\n  {'C': 0.01, 'gamma': 0.1, 'kernel': 'rbf'},\n  {'C': 0.01, 'gamma': 1, 'kernel': 'rbf'},\n  {'C': 0.01, 'gamma': 10, 'kernel': 'rbf'},\n  {'C': 0.01, 'gamma': 50, 'kernel': 'rbf'},\n  {'C': 0.01, 'gamma': 100, 'kernel': 'rbf'},\n  {'C': 0.1, 'gamma': 1e-05, 'kernel': 'rbf'},\n  {'C': 0.1, 'gamma': 0.0005, 'kernel': 'rbf'},\n  {'C': 0.1, 'gamma': 0.0001, 'kernel': 'rbf'},\n  {'C': 0.1, 'gamma': 0.005, 'kernel': 'rbf'},\n  {'C': 0.1, 'gamma': 0.001, 'kernel': 'rbf'},\n  {'C': 0.1, 'gamma': 0.01, 'kernel': 'rbf'},\n  {'C': 0.1, 'gamma': 0.1, 'kernel': 'rbf'},\n  {'C': 0.1, 'gamma': 1, 'kernel': 'rbf'},\n  {'C': 0.1, 'gamma': 10, 'kernel': 'rbf'},\n  {'C': 0.1, 'gamma': 50, 'kernel': 'rbf'},\n  {'C': 0.1, 'gamma': 100, 'kernel': 'rbf'},\n  {'C': 1, 'gamma': 1e-05, 'kernel': 'rbf'},\n  {'C': 1, 'gamma': 0.0005, 'kernel': 'rbf'},\n  {'C': 1, 'gamma': 0.0001, 'kernel': 'rbf'},\n  {'C': 1, 'gamma': 0.005, 'kernel': 'rbf'},\n  {'C': 1, 'gamma': 0.001, 'kernel': 'rbf'},\n  {'C': 1, 'gamma': 0.01, 'kernel': 'rbf'},\n  {'C': 1, 'gamma': 0.1, 'kernel': 'rbf'},\n  {'C': 1, 'gamma': 1, 'kernel': 'rbf'},\n  {'C': 1, 'gamma': 10, 'kernel': 'rbf'},\n  {'C': 1, 'gamma': 50, 'kernel': 'rbf'},\n  {'C': 1, 'gamma': 100, 'kernel': 'rbf'},\n  {'C': 10, 'gamma': 1e-05, 'kernel': 'rbf'},\n  {'C': 10, 'gamma': 0.0005, 'kernel': 'rbf'},\n  {'C': 10, 'gamma': 0.0001, 'kernel': 'rbf'},\n  {'C': 10, 'gamma': 0.005, 'kernel': 'rbf'},\n  {'C': 10, 'gamma': 0.001, 'kernel': 'rbf'},\n  {'C': 10, 'gamma': 0.01, 'kernel': 'rbf'},\n  {'C': 10, 'gamma': 0.1, 'kernel': 'rbf'},\n  {'C': 10, 'gamma': 1, 'kernel': 'rbf'},\n  {'C': 10, 'gamma': 10, 'kernel': 'rbf'},\n  {'C': 10, 'gamma': 50, 'kernel': 'rbf'},\n  {'C': 10, 'gamma': 100, 'kernel': 'rbf'},\n  {'C': 50, 'gamma': 1e-05, 'kernel': 'rbf'},\n  {'C': 50, 'gamma': 0.0005, 'kernel': 'rbf'},\n  {'C': 50, 'gamma': 0.0001, 'kernel': 'rbf'},\n  {'C': 50, 'gamma': 0.005, 'kernel': 'rbf'},\n  {'C': 50, 'gamma': 0.001, 'kernel': 'rbf'},\n  {'C': 50, 'gamma': 0.01, 'kernel': 'rbf'},\n  {'C': 50, 'gamma': 0.1, 'kernel': 'rbf'},\n  {'C': 50, 'gamma': 1, 'kernel': 'rbf'},\n  {'C': 50, 'gamma': 10, 'kernel': 'rbf'},\n  {'C': 50, 'gamma': 50, 'kernel': 'rbf'},\n  {'C': 50, 'gamma': 100, 'kernel': 'rbf'},\n  {'C': 100, 'gamma': 1e-05, 'kernel': 'rbf'},\n  {'C': 100, 'gamma': 0.0005, 'kernel': 'rbf'},\n  {'C': 100, 'gamma': 0.0001, 'kernel': 'rbf'},\n  {'C': 100, 'gamma': 0.005, 'kernel': 'rbf'},\n  {'C': 100, 'gamma': 0.001, 'kernel': 'rbf'},\n  {'C': 100, 'gamma': 0.01, 'kernel': 'rbf'},\n  {'C': 100, 'gamma': 0.1, 'kernel': 'rbf'},\n  {'C': 100, 'gamma': 1, 'kernel': 'rbf'},\n  {'C': 100, 'gamma': 10, 'kernel': 'rbf'},\n  {'C': 100, 'gamma': 50, 'kernel': 'rbf'},\n  {'C': 100, 'gamma': 100, 'kernel': 'rbf'}],\n 'split0_test_score': array([-1.35170031e-04, -8.50769064e-04, -8.09009274e-04, -8.54183619e-04,\n        -8.53734708e-04, -8.54186439e-04, -8.54186567e-04, -8.54186567e-04,\n        -8.54186567e-04, -8.54186567e-04, -8.54186567e-04,  3.41642311e-02,\n        -7.35342472e-04,  3.43861676e-03, -8.64182642e-04, -8.45083885e-04,\n        -8.64323553e-04, -8.64329976e-04, -8.64329976e-04, -8.64329976e-04,\n        -8.64329976e-04, -8.64329976e-04,  6.64646033e-03, -8.62891842e-04,\n        -3.07944015e-05, -8.54157086e-04, -8.49668159e-04, -8.54185282e-04,\n        -8.54186567e-04, -8.54186567e-04, -8.54186567e-04, -8.54186567e-04,\n        -8.54186567e-04,  1.72490433e-01,  5.53010875e-04,  3.46401052e-02,\n        -9.18452282e-04, -7.15554909e-04, -9.19857420e-04, -9.19921494e-04,\n        -9.19921494e-04, -9.19921494e-04, -9.19921494e-04, -9.19921494e-04,\n         6.30203651e-02, -5.74893462e-04,  7.65294652e-03, -8.90621835e-04,\n        -8.51974215e-04, -8.90903325e-04, -8.90916156e-04, -8.90916156e-04,\n        -8.90916156e-04, -8.90916156e-04, -8.90916156e-04,  2.33761735e-01,\n         2.08745751e-03,  5.89544964e-02, -9.89002247e-04, -5.86787554e-04,\n        -9.91801447e-04, -9.91929203e-04, -9.91929203e-04, -9.91929203e-04,\n        -9.91929203e-04, -9.91929203e-04,  4.30806093e-01,  2.02496837e-02,\n         1.98006547e-01, -1.64984686e-03,  1.71286577e-03, -1.65220915e-03,\n        -1.64952185e-03, -1.64952185e-03, -1.64952185e-03, -1.64952185e-03,\n        -1.64952185e-03,  4.62198743e-01,  4.75700120e-02,  3.04997413e-01,\n        -5.42183854e-04,  7.41324934e-03, -5.62675540e-04, -5.63029514e-04,\n        -5.63029514e-04, -5.63029514e-04, -5.63029514e-04, -5.63029514e-04,\n         5.21648459e-01,  4.76736950e-02,  2.40675957e-01, -3.99069420e-03,\n         3.72042913e-03, -3.99803251e-03, -3.99663993e-03, -3.99663993e-03,\n        -3.99663993e-03, -3.99663993e-03, -3.99663993e-03,  5.83383858e-01,\n         4.38472375e-02,  2.32500365e-01, -7.01939732e-03,  4.84900395e-04,\n        -7.01918328e-03, -7.01668949e-03, -7.01668949e-03, -7.01668949e-03,\n        -7.01668949e-03, -7.01668949e-03,  5.52610248e-01,  4.38472375e-02,\n         2.32500365e-01, -7.01939732e-03,  4.84900395e-04, -7.01918328e-03,\n        -7.01668949e-03, -7.01668949e-03, -7.01668949e-03, -7.01668949e-03,\n        -7.01668949e-03]),\n 'split1_test_score': array([-3.49586115e-03, -5.09381712e-03, -4.87667649e-03, -5.10161722e-03,\n        -5.10054840e-03, -5.10163525e-03, -5.10163860e-03, -5.10163860e-03,\n        -5.10163860e-03, -5.10163860e-03, -5.10163860e-03,  6.43580315e-02,\n        -4.65366257e-03,  4.42298626e-03, -5.03212436e-03, -4.97921225e-03,\n        -5.03302489e-03, -5.03319233e-03, -5.03319233e-03, -5.03319233e-03,\n        -5.03319233e-03, -5.03319233e-03,  1.02165609e-02, -5.00572291e-03,\n        -2.88407109e-03, -5.08370748e-03, -5.07302027e-03, -5.08388775e-03,\n        -5.08392126e-03, -5.08392126e-03, -5.08392126e-03, -5.08392126e-03,\n        -5.08392126e-03,  3.44439968e-01, -1.39979465e-03,  6.92612132e-02,\n        -4.92970106e-03, -4.39944270e-03, -4.93867175e-03, -4.94034331e-03,\n        -4.94034331e-03, -4.94034331e-03, -4.94034331e-03, -4.94034331e-03,\n         1.21449997e-01, -4.21257296e-03,  1.29533786e-02, -5.03105686e-03,\n        -4.92526580e-03, -5.03285747e-03, -5.03319233e-03, -5.03319233e-03,\n        -5.03319233e-03, -5.03319233e-03, -5.03319233e-03,  4.63826263e-01,\n         1.67381432e-03,  1.22464781e-01, -5.06134310e-03, -4.05964148e-03,\n        -5.07927222e-03, -5.08262070e-03, -5.08262070e-03, -5.08262070e-03,\n        -5.08262070e-03, -5.08262070e-03,  7.80267209e-01,  4.23779257e-02,\n         3.80974847e-01, -7.34948565e-03,  1.22213325e-03, -7.50553506e-03,\n        -7.53265365e-03, -7.53265365e-03, -7.53265365e-03, -7.53265365e-03,\n        -7.53265365e-03,  8.89015701e-01,  8.88903110e-02,  5.30245859e-01,\n        -5.80707829e-03,  1.30144222e-02, -5.95754972e-03, -5.98257799e-03,\n        -5.98257799e-03, -5.98257799e-03, -5.98257799e-03, -5.98257799e-03,\n         8.69656211e-01,  8.60782866e-02,  5.38148329e-01, -1.09658433e-02,\n         7.92141085e-03, -1.11401565e-02, -1.11702023e-02, -1.11702023e-02,\n        -1.11702023e-02, -1.11702023e-02, -1.11702023e-02,  8.10360060e-01,\n         7.90627255e-02,  5.24016186e-01, -1.80962425e-02,  7.56562336e-04,\n        -1.82976323e-02, -1.83333076e-02, -1.83333076e-02, -1.83333076e-02,\n        -1.83333076e-02, -1.83333076e-02,  8.08764151e-01,  7.90627255e-02,\n         5.24016186e-01, -1.80962425e-02,  7.56562336e-04, -1.82976323e-02,\n        -1.83333076e-02, -1.83333076e-02, -1.83333076e-02, -1.83333076e-02,\n        -1.83333076e-02]),\n 'split2_test_score': array([-0.00302845, -0.00316345, -0.00314013, -0.00316441, -0.0031643 ,\n        -0.00316441, -0.00316441, -0.00316441, -0.00316441, -0.00316441,\n        -0.00316441,  0.0035998 , -0.00313509, -0.00223658, -0.00316433,\n        -0.00315885, -0.0031644 , -0.00316441, -0.00316441, -0.00316441,\n        -0.00316441, -0.00316441, -0.00174495, -0.00315481, -0.00303451,\n        -0.0031644 , -0.0031633 , -0.00316441, -0.00316441, -0.00316441,\n        -0.00316441, -0.00316441, -0.00316441,  0.02977259, -0.00280855,\n         0.0047208 , -0.00315426, -0.00311937, -0.00315495, -0.00315508,\n        -0.00315508, -0.00315508, -0.00315508, -0.00315508,  0.00885783,\n        -0.00316476, -0.00126427, -0.00318151, -0.00317438, -0.00318165,\n        -0.00318168, -0.00318168, -0.00318168, -0.00318168, -0.00318168,\n         0.03982051, -0.00234798,  0.00970817, -0.00308086, -0.00300158,\n        -0.00308222, -0.0030825 , -0.0030825 , -0.0030825 , -0.0030825 ,\n        -0.0030825 ,  0.07767647,  0.00214976,  0.03762984, -0.00233706,\n        -0.00164684, -0.00234695, -0.00234931, -0.00234931, -0.00234931,\n        -0.00234931, -0.00234931,  0.11418175,  0.0062144 ,  0.0640284 ,\n        -0.00317344, -0.00194697, -0.00318216, -0.0031842 , -0.0031842 ,\n        -0.0031842 , -0.0031842 , -0.0031842 ,  0.11200818,  0.00623536,\n         0.06172099, -0.00351144, -0.00227091, -0.00351952, -0.00352144,\n        -0.00352144, -0.00352144, -0.00352144, -0.00352144,  0.11790871,\n         0.00623536,  0.06172099, -0.00351144, -0.00227091, -0.00351952,\n        -0.00352144, -0.00352144, -0.00352144, -0.00352144, -0.00352144,\n         0.11790871,  0.00623536,  0.06172099, -0.00351144, -0.00227091,\n        -0.00351952, -0.00352144, -0.00352144, -0.00352144, -0.00352144,\n        -0.00352144]),\n 'split3_test_score': array([ 9.33497679e-04, -4.18016895e-04, -2.74087145e-04, -4.23228507e-04,\n        -4.22598574e-04, -4.23232147e-04, -4.23232315e-04, -4.23232315e-04,\n        -4.23232315e-04, -4.23232315e-04, -4.23232315e-04,  6.20492454e-02,\n        -1.62641592e-04,  6.99629174e-03, -4.23041941e-04, -3.91551058e-04,\n        -4.23223913e-04, -4.23232315e-04, -4.23232315e-04, -4.23232315e-04,\n        -4.23232315e-04, -4.23232315e-04,  1.29885426e-02, -3.71084743e-04,\n         1.06441877e-03, -4.23194238e-04, -4.16895124e-04, -4.23230634e-04,\n        -4.23232315e-04, -4.23232315e-04, -4.23232315e-04, -4.23232315e-04,\n        -4.23232315e-04,  3.11345755e-01,  2.16060058e-03,  6.06691034e-02,\n        -4.12717966e-04, -1.05325241e-04, -4.14535580e-04, -4.14619551e-04,\n        -4.14619551e-04, -4.14619551e-04, -4.14619551e-04, -4.14619551e-04,\n         1.12800920e-01,  9.75812928e-05,  1.41251418e-02, -4.22851593e-04,\n        -3.59881548e-04, -4.23215511e-04, -4.23232315e-04, -4.23232315e-04,\n        -4.23232315e-04, -4.23232315e-04, -4.23232315e-04,  4.14428392e-01,\n         4.72035628e-03,  1.03888570e-01, -4.41053457e-04,  1.88158297e-04,\n        -4.44692581e-04, -4.44860827e-04, -4.44860827e-04, -4.44860827e-04,\n        -4.44860827e-04, -4.44860827e-04,  6.96461701e-01,  3.63673182e-02,\n         3.53629426e-01, -8.52145296e-05,  5.21028124e-03, -1.22868925e-04,\n        -1.25678735e-04, -1.25678735e-04, -1.25678735e-04, -1.25678735e-04,\n        -1.25678735e-04,  7.93740554e-01,  7.78611564e-02,  5.49280078e-01,\n        -2.57163043e-03,  1.01178197e-02, -2.62115683e-03, -2.62474562e-03,\n        -2.62474562e-03, -2.62474562e-03, -2.62474562e-03, -2.62474562e-03,\n         7.93377047e-01,  8.24115385e-02,  5.33050373e-01, -1.13893736e-03,\n         1.21336308e-02, -1.18260203e-03, -1.18551030e-03, -1.18551030e-03,\n        -1.18551030e-03, -1.18551030e-03, -1.18551030e-03,  8.52625433e-01,\n         8.40404062e-02,  5.29340418e-01, -2.08406224e-05,  1.33453583e-02,\n        -5.49457984e-05, -5.66734142e-05, -5.66734142e-05, -5.66734142e-05,\n        -5.66734142e-05, -5.66734142e-05,  8.47776696e-01,  8.40404062e-02,\n         5.29340418e-01, -2.08406224e-05,  1.33453583e-02, -5.49457984e-05,\n        -5.66734142e-05, -5.66734142e-05, -5.66734142e-05, -5.66734142e-05,\n        -5.66734142e-05]),\n 'split4_test_score': array([ 7.80864721e-04, -4.72664493e-04, -3.17032479e-04, -4.78370617e-04,\n        -4.77578421e-04, -4.78372021e-04, -4.78372029e-04, -4.78372029e-04,\n        -4.78372029e-04, -4.78372029e-04, -4.78372029e-04,  5.63741022e-02,\n        -1.67836787e-04,  7.27334405e-03, -4.52538419e-04, -4.12962577e-04,\n        -4.52608653e-04, -4.52609043e-04, -4.52609043e-04, -4.52609043e-04,\n        -4.52609043e-04, -4.52609043e-04,  1.17600928e-02, -4.16533444e-04,\n         1.15033381e-03, -4.73572477e-04, -4.65651764e-04, -4.73586515e-04,\n        -4.73586593e-04, -4.73586593e-04, -4.73586593e-04, -4.73586593e-04,\n        -4.73586593e-04,  2.78032331e-01,  2.39486414e-03,  6.03711667e-02,\n        -3.45819435e-04,  3.50865978e-05, -3.46517204e-04, -3.46521126e-04,\n        -3.46521126e-04, -3.46521126e-04, -3.46521126e-04, -3.46521126e-04,\n         1.01986914e-01,  1.41754002e-04,  1.43431229e-02, -4.25439529e-04,\n        -3.46406328e-04, -4.25580100e-04, -4.25580881e-04, -4.25580881e-04,\n        -4.25580881e-04, -4.25580881e-04, -4.25580881e-04,  3.75745983e-01,\n         5.01494160e-03,  1.01981871e-01, -2.78527256e-04,  4.89556836e-04,\n        -2.79931684e-04, -2.79939559e-04, -2.79939559e-04, -2.79939559e-04,\n        -2.79939559e-04, -2.79939559e-04,  6.64716438e-01,  3.62898620e-02,\n         3.20929445e-01,  2.44347728e-06,  6.37328085e-03, -9.20892285e-06,\n        -8.93906298e-06, -8.93906298e-06, -8.93906298e-06, -8.93906298e-06,\n        -8.93906298e-06,  7.94912871e-01,  7.43307679e-02,  4.72993891e-01,\n        -6.27087809e-04,  1.34296472e-02, -6.52618718e-04, -6.53505164e-04,\n        -6.53505164e-04, -6.53505164e-04, -6.53505164e-04, -6.53505164e-04,\n         7.32174866e-01,  7.54543748e-02,  4.38433996e-01,  1.12855475e-05,\n         1.41240244e-02, -1.30869351e-05, -1.32969445e-05, -1.32969445e-05,\n        -1.32969445e-05, -1.32969445e-05, -1.32969445e-05,  7.84796460e-01,\n         7.53899039e-02,  4.40461590e-01, -4.97150955e-04,  1.36493012e-02,\n        -5.19124219e-04, -5.18416268e-04, -5.18416268e-04, -5.18416268e-04,\n        -5.18416268e-04, -5.18416268e-04,  7.73338646e-01,  7.53899039e-02,\n         4.40461590e-01, -4.97150955e-04,  1.36493012e-02, -5.19124219e-04,\n        -5.18416268e-04, -5.18416268e-04, -5.18416268e-04, -5.18416268e-04,\n        -5.18416268e-04]),\n 'mean_test_score': array([-9.89024623e-04, -1.99974399e-03, -1.88338631e-03, -2.00436215e-03,\n        -2.00375226e-03, -2.00436761e-03, -2.00436839e-03, -2.00436839e-03,\n        -2.00436839e-03, -2.00436839e-03, -2.00436839e-03,  4.41090828e-02,\n        -1.77091516e-03,  3.97893180e-03, -1.98724351e-03, -1.95753186e-03,\n        -1.98751590e-03, -1.98755522e-03, -1.98755522e-03, -1.98755522e-03,\n        -1.98755522e-03, -1.98755522e-03,  7.97334199e-03, -1.96220928e-03,\n        -7.46925462e-04, -1.99980546e-03, -1.99370700e-03, -1.99985997e-03,\n        -1.99986784e-03, -1.99986784e-03, -1.99986784e-03, -1.99986784e-03,\n        -1.99986784e-03,  2.27216216e-01,  1.80026879e-04,  4.59324770e-02,\n        -1.95219076e-03, -1.66092056e-03, -1.95490541e-03, -1.95529802e-03,\n        -1.95529802e-03, -1.95529802e-03, -1.95529802e-03, -1.95529802e-03,\n         8.16232050e-02, -1.54257726e-03,  9.56206366e-03, -1.99029695e-03,\n        -1.93158101e-03, -1.99084156e-03, -1.99092019e-03, -1.99092019e-03,\n        -1.99092019e-03, -1.99092019e-03, -1.99092019e-03,  3.05516577e-01,\n         2.22971795e-03,  7.93995773e-02, -1.97015736e-03, -1.39405836e-03,\n        -1.97558354e-03, -1.97637006e-03, -1.97637006e-03, -1.97637006e-03,\n        -1.97637006e-03, -1.97637006e-03,  5.29985582e-01,  2.74869092e-02,\n         2.58234022e-01, -2.28383193e-03,  2.57434422e-03, -2.32735393e-03,\n        -2.33322129e-03, -2.33322129e-03, -2.33322129e-03, -2.33322129e-03,\n        -2.33322129e-03,  6.10809924e-01,  5.89733287e-02,  3.84309127e-01,\n        -2.54428353e-03,  8.40563449e-03, -2.59523221e-03, -2.60161193e-03,\n        -2.60161193e-03, -2.60161193e-03, -2.60161193e-03, -2.60161193e-03,\n         6.05772952e-01,  5.95706512e-02,  3.62405928e-01, -3.91912605e-03,\n         7.12571759e-03, -3.97068019e-03, -3.97741703e-03, -3.97741703e-03,\n        -3.97741703e-03, -3.97741703e-03, -3.97741703e-03,  6.29814904e-01,\n         5.77151268e-02,  3.57607910e-01, -5.82901446e-03,  5.19304302e-03,\n        -5.88208172e-03, -5.88930450e-03, -5.88930450e-03, -5.88930450e-03,\n        -5.88930450e-03, -5.88930450e-03,  6.20079690e-01,  5.77151268e-02,\n         3.57607910e-01, -5.82901446e-03,  5.19304302e-03, -5.88208172e-03,\n        -5.88930450e-03, -5.88930450e-03, -5.88930450e-03, -5.88930450e-03,\n        -5.88930450e-03]),\n 'std_test_score': array([0.00189743, 0.00184832, 0.00182958, 0.0018488 , 0.00184872,\n        0.0018488 , 0.0018488 , 0.0018488 , 0.0018488 , 0.0018488 ,\n        0.0018488 , 0.02290066, 0.00181108, 0.00343742, 0.00182867,\n        0.00182479, 0.00182892, 0.00182897, 0.00182897, 0.00182897,\n        0.00182897, 0.00182897, 0.00530527, 0.00183382, 0.00185439,\n        0.0018436 , 0.00184284, 0.00184365, 0.00184366, 0.00184366,\n        0.00184366, 0.00184366, 0.00184366, 0.11435065, 0.00201964,\n        0.02364654, 0.00180718, 0.00177857, 0.00180964, 0.00181018,\n        0.00181018, 0.00181018, 0.00181018, 0.00181018, 0.04150607,\n        0.00180132, 0.00593356, 0.00183195, 0.00182512, 0.00183244,\n        0.00183255, 0.00183255, 0.00183255, 0.00183255, 0.00183255,\n        0.15336171, 0.00265501, 0.04059354, 0.00184128, 0.00181067,\n        0.00184631, 0.00184742, 0.00184742, 0.00184742, 0.00184742,\n        0.00184742, 0.25413685, 0.01464544, 0.12679894, 0.002688  ,\n        0.0028903 , 0.00273873, 0.00274872, 0.00274872, 0.00274872,\n        0.00274872, 0.00274872, 0.2875694 , 0.02966873, 0.1817955 ,\n        0.00193528, 0.00561381, 0.00197764, 0.00198604, 0.00198604,\n        0.00198604, 0.00198604, 0.00198604, 0.27264912, 0.02987589,\n        0.18494043, 0.00382113, 0.005909  , 0.00387406, 0.00388467,\n        0.00388467, 0.00388467, 0.00388467, 0.00388467, 0.27219999,\n        0.02933811, 0.18289312, 0.00662475, 0.00686335, 0.00668936,\n        0.00670219, 0.00670219, 0.00670219, 0.00670219, 0.00670219,\n        0.27116928, 0.02933811, 0.18289312, 0.00662475, 0.00686335,\n        0.00668936, 0.00670219, 0.00670219, 0.00670219, 0.00670219,\n        0.00670219]),\n 'rank_test_score': array([ 33,  71,  38,  80,  79,  81,  82,  82,  82,  82,  82,  20,  37,\n         28,  56,  47,  57,  58,  58,  58,  58,  58,  24,  48,  32,  72,\n         70,  73,  74,  74,  74,  74,  74,  12,  31,  19,  40,  36,  41,\n         42,  42,  42,  42,  42,  13,  35,  22,  63,  39,  64,  65,  65,\n         65,  65,  65,  10,  30,  14,  49,  34,  50,  51,  51,  51,  51,\n         51,   5,  21,  11,  87,  29,  88,  89,  89,  89,  89,  89,   3,\n         16,   6,  94,  23,  95,  96,  96,  96,  96,  96,   4,  15,   7,\n        101,  25, 102, 103, 103, 103, 103, 103,   1,  17,   8, 108,  26,\n        110, 112, 112, 112, 112, 112,   2,  17,   8, 108,  26, 110, 112,\n        112, 112, 112, 112])}"
     },
     "execution_count": 333,
     "metadata": {},
     "output_type": "execute_result"
    }
   ]
  },
  {
   "cell_type": "markdown",
   "source": [
    "# 12.7 Save the model"
   ],
   "metadata": {
    "id": "4DhPEZv_SCjn",
    "pycharm": {
     "name": "#%% md\n"
    }
   }
  },
  {
   "cell_type": "code",
   "source": [
    "# use joblib to save the model\n",
    "import joblib\n",
    "\n",
    "joblib.dump(svm_winner, \"svm_model.pkl\")\n",
    "\n",
    "# Later \n",
    "# my_model_loaded = joblib.load(\"svm_model.pkl\")"
   ],
   "metadata": {
    "id": "SVgPG_UrSLXC",
    "colab": {
     "base_uri": "https://localhost:8080/"
    },
    "executionInfo": {
     "status": "ok",
     "timestamp": 1649508154531,
     "user_tz": -120,
     "elapsed": 415,
     "user": {
      "displayName": "Abdelrhman Amr",
      "userId": "09344834973078055484"
     }
    },
    "outputId": "bdaadd4b-6880-452e-eba0-f755c4c813aa",
    "pycharm": {
     "name": "#%%\n"
    }
   },
   "execution_count": null,
   "outputs": [
    {
     "output_type": "execute_result",
     "data": {
      "text/plain": [
       "['svm_model.pkl']"
      ]
     },
     "metadata": {},
     "execution_count": 104
    }
   ]
  },
  {
   "cell_type": "code",
   "execution_count": 402,
   "outputs": [
    {
     "data": {
      "text/plain": "['dt_model_p.pkl']"
     },
     "execution_count": 402,
     "metadata": {},
     "output_type": "execute_result"
    }
   ],
   "source": [
    "# use joblib to save the model\n",
    "import joblib\n",
    "\n",
    "# joblib.dump(gb_model, \"gb_model.pkl\")\n",
    "\n",
    "# joblib.dump(svm_model, \"svm_model_p.pkl\")\n",
    "joblib.dump(dt_model, \"dt_model_p.pkl\")\n",
    "\n",
    "\n",
    "# Later\n",
    "# my_model_loaded = joblib.load(\"svm_model.pkl\")"
   ],
   "metadata": {
    "collapsed": false,
    "pycharm": {
     "name": "#%%\n"
    }
   }
  },
  {
   "cell_type": "code",
   "execution_count": null,
   "outputs": [],
   "source": [],
   "metadata": {
    "collapsed": false,
    "pycharm": {
     "name": "#%%\n"
    }
   }
  }
 ]
}