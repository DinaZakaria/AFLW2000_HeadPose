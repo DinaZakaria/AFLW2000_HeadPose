{
 "nbformat": 4,
 "nbformat_minor": 0,
 "metadata": {
  "kernelspec": {
   "display_name": "Python 3",
   "language": "python",
   "name": "python3"
  },
  "language_info": {
   "codemirror_mode": {
    "name": "ipython",
    "version": 3
   },
   "file_extension": ".py",
   "mimetype": "text/x-python",
   "name": "python",
   "nbconvert_exporter": "python",
   "pygments_lexer": "ipython3",
   "version": "3.7.6"
  },
  "colab": {
   "name": "End_to_end_example.ipynb",
   "provenance": [
    {
     "file_id": "https://github.com/s7s/machine_learning_1/blob/master/ML_in_practice/End_to_end_example.ipynb",
     "timestamp": 1649500857705
    }
   ],
   "collapsed_sections": []
  }
 },
 "cells": [
  {
   "cell_type": "markdown",
   "source": [
    "## Imports"
   ],
   "metadata": {
    "collapsed": false,
    "pycharm": {
     "name": "#%% md\n"
    }
   }
  },
  {
   "cell_type": "code",
   "execution_count": 2,
   "outputs": [],
   "source": [
    "import numpy as np\n",
    "import pandas as pd\n",
    "import matplotlib.pyplot as plt\n",
    "%matplotlib inline\n",
    "import math\n",
    "from sklearn.metrics import r2_score"
   ],
   "metadata": {
    "collapsed": false,
    "pycharm": {
     "name": "#%%\n"
    }
   }
  },
  {
   "cell_type": "code",
   "execution_count": 3,
   "outputs": [],
   "source": [
    "plt.style.use(['ggplot'])"
   ],
   "metadata": {
    "collapsed": false,
    "pycharm": {
     "name": "#%%\n"
    }
   }
  },
  {
   "cell_type": "markdown",
   "metadata": {
    "id": "P_9IavYxfqKF",
    "pycharm": {
     "name": "#%% md\n"
    }
   },
   "source": [
    "# 12. Machine learning techniques"
   ]
  },
  {
   "cell_type": "code",
   "metadata": {
    "id": "m3nP5yDNfqKI",
    "executionInfo": {
     "status": "ok",
     "timestamp": 1649550537681,
     "user_tz": -120,
     "elapsed": 2,
     "user": {
      "displayName": "Abdelrhman Amr",
      "userId": "09344834973078055484"
     }
    },
    "pycharm": {
     "name": "#%%\n"
    }
   },
   "source": [
    "import random as rd\n",
    "rd.seed(0)"
   ],
   "execution_count": 4,
   "outputs": []
  },
  {
   "cell_type": "code",
   "metadata": {
    "id": "bAbJWz2MfqKH",
    "executionInfo": {
     "status": "ok",
     "timestamp": 1649550539670,
     "user_tz": -120,
     "elapsed": 849,
     "user": {
      "displayName": "Abdelrhman Amr",
      "userId": "09344834973078055484"
     }
    },
    "pycharm": {
     "name": "#%%\n"
    }
   },
   "source": [
    "import pandas as pd\n",
    "import numpy as np\n",
    "import matplotlib.pyplot as plt"
   ],
   "execution_count": 5,
   "outputs": []
  },
  {
   "cell_type": "markdown",
   "metadata": {
    "id": "E8GM6HeSfqKI",
    "pycharm": {
     "name": "#%% md\n"
    }
   },
   "source": [
    "## 12.1 Loading and exploring the dataset\n",
    "\n",
    "First, we use pandas to load the dataset from a csv file."
   ]
  },
  {
   "cell_type": "code",
   "metadata": {
    "id": "FFuOhKGrfqKJ",
    "colab": {
     "base_uri": "https://localhost:8080/",
     "height": 423
    },
    "executionInfo": {
     "status": "ok",
     "timestamp": 1649503285002,
     "user_tz": -120,
     "elapsed": 14,
     "user": {
      "displayName": "Abdelrhman Amr",
      "userId": "09344834973078055484"
     }
    },
    "outputId": "ab70ba4d-c040-47fa-fd18-ccfb71c7e794",
    "pycharm": {
     "name": "#%%\n"
    }
   },
   "source": [
    "# use pabdas to read './titanic.csv'\n",
    "# raw_data = pd.read_csv('AFLW2000_CSV_Original.csv', sep = ',')\n",
    "raw_data = pd.read_csv('AFLW2000_CSV_nose_CG_MAS.csv', sep = ',')\n",
    "raw_data"
   ],
   "execution_count": 6,
   "outputs": [
    {
     "data": {
      "text/plain": "             0         1         2         3         4         5         6  \\\n0    -0.309497 -0.285975 -0.246810 -0.216210 -0.194636 -0.195264 -0.226584   \n1     0.205442  0.210956  0.228387  0.233707  0.224956  0.206484  0.168428   \n2     0.054645  0.054116  0.063376  0.076086  0.097308  0.125804  0.158100   \n3    -0.062869 -0.038822 -0.020208 -0.013971 -0.007007  0.013662  0.053328   \n4     0.259717  0.296746  0.344750  0.384270  0.421190  0.476713  0.520300   \n...        ...       ...       ...       ...       ...       ...       ...   \n1995 -0.346658 -0.328150 -0.294228 -0.267771 -0.257138 -0.269200 -0.290232   \n1996 -0.498375 -0.510201 -0.530007 -0.528051 -0.508303 -0.471376 -0.418450   \n1997  0.352632  0.375437  0.405259  0.426013  0.444391  0.466394  0.490682   \n1998 -0.563043 -0.588248 -0.606106 -0.624682 -0.651062 -0.661465 -0.672839   \n1999 -0.314804 -0.313033 -0.299155 -0.288054 -0.288684 -0.294783 -0.312039   \n\n             7         8         9  ...       129       130       131  \\\n0    -0.221462 -0.056244  0.096381  ...  0.139411  0.153945  0.159148   \n1     0.116793  0.111631  0.191663  ...  0.286260  0.275302  0.263634   \n2     0.208360  0.263332  0.371592  ...  0.186263  0.210128  0.215700   \n3     0.160931  0.310718  0.414956  ...  0.190158  0.191204  0.181624   \n4     0.546417  0.467165  0.490719  ...  0.155909  0.165737  0.156756   \n...        ...       ...       ...  ...       ...       ...       ...   \n1995 -0.270644 -0.089482  0.054885  ...  0.231111  0.235195  0.232475   \n1996 -0.374258 -0.269266 -0.254004  ...  0.277519  0.276557  0.257306   \n1997  0.504848  0.402812  0.402429  ...  0.252454  0.268220  0.264325   \n1998 -0.654102 -0.460020 -0.385161  ...  0.332041  0.340356  0.318535   \n1999 -0.293943 -0.072315  0.083869  ...  0.390147  0.401460  0.369442   \n\n           132       133       134       135       136       137       138  \n0     0.196136  0.280991  0.272756  0.254549 -0.399231  0.018227  0.085676  \n1     0.247013  0.206502  0.200419  0.233591  0.470065  1.189533  0.300959  \n2     0.197136  0.194725  0.176567  0.178897 -0.184650  0.881137 -0.236852  \n3     0.099781  0.203089  0.209832  0.223969 -0.175379  0.299208 -0.373374  \n4     0.165952  0.173303  0.168895  0.180134 -0.882169  1.198004 -1.033374  \n...        ...       ...       ...       ...       ...       ...       ...  \n1995  0.176201  0.244635  0.240195  0.252900 -0.197102 -0.070430  0.105118  \n1996  0.200779  0.224467  0.222407  0.247668 -0.232617 -1.418751  0.175960  \n1997  0.234313  0.244397  0.234058  0.245337 -1.447955  1.431267 -1.509418  \n1998  0.256463  0.304891  0.298597  0.330364 -0.420465 -1.191176  0.451515  \n1999  0.264484  0.335862  0.333775  0.374176 -0.015552 -0.180126 -0.024546  \n\n[2000 rows x 139 columns]",
      "text/html": "<div>\n<style scoped>\n    .dataframe tbody tr th:only-of-type {\n        vertical-align: middle;\n    }\n\n    .dataframe tbody tr th {\n        vertical-align: top;\n    }\n\n    .dataframe thead th {\n        text-align: right;\n    }\n</style>\n<table border=\"1\" class=\"dataframe\">\n  <thead>\n    <tr style=\"text-align: right;\">\n      <th></th>\n      <th>0</th>\n      <th>1</th>\n      <th>2</th>\n      <th>3</th>\n      <th>4</th>\n      <th>5</th>\n      <th>6</th>\n      <th>7</th>\n      <th>8</th>\n      <th>9</th>\n      <th>...</th>\n      <th>129</th>\n      <th>130</th>\n      <th>131</th>\n      <th>132</th>\n      <th>133</th>\n      <th>134</th>\n      <th>135</th>\n      <th>136</th>\n      <th>137</th>\n      <th>138</th>\n    </tr>\n  </thead>\n  <tbody>\n    <tr>\n      <th>0</th>\n      <td>-0.309497</td>\n      <td>-0.285975</td>\n      <td>-0.246810</td>\n      <td>-0.216210</td>\n      <td>-0.194636</td>\n      <td>-0.195264</td>\n      <td>-0.226584</td>\n      <td>-0.221462</td>\n      <td>-0.056244</td>\n      <td>0.096381</td>\n      <td>...</td>\n      <td>0.139411</td>\n      <td>0.153945</td>\n      <td>0.159148</td>\n      <td>0.196136</td>\n      <td>0.280991</td>\n      <td>0.272756</td>\n      <td>0.254549</td>\n      <td>-0.399231</td>\n      <td>0.018227</td>\n      <td>0.085676</td>\n    </tr>\n    <tr>\n      <th>1</th>\n      <td>0.205442</td>\n      <td>0.210956</td>\n      <td>0.228387</td>\n      <td>0.233707</td>\n      <td>0.224956</td>\n      <td>0.206484</td>\n      <td>0.168428</td>\n      <td>0.116793</td>\n      <td>0.111631</td>\n      <td>0.191663</td>\n      <td>...</td>\n      <td>0.286260</td>\n      <td>0.275302</td>\n      <td>0.263634</td>\n      <td>0.247013</td>\n      <td>0.206502</td>\n      <td>0.200419</td>\n      <td>0.233591</td>\n      <td>0.470065</td>\n      <td>1.189533</td>\n      <td>0.300959</td>\n    </tr>\n    <tr>\n      <th>2</th>\n      <td>0.054645</td>\n      <td>0.054116</td>\n      <td>0.063376</td>\n      <td>0.076086</td>\n      <td>0.097308</td>\n      <td>0.125804</td>\n      <td>0.158100</td>\n      <td>0.208360</td>\n      <td>0.263332</td>\n      <td>0.371592</td>\n      <td>...</td>\n      <td>0.186263</td>\n      <td>0.210128</td>\n      <td>0.215700</td>\n      <td>0.197136</td>\n      <td>0.194725</td>\n      <td>0.176567</td>\n      <td>0.178897</td>\n      <td>-0.184650</td>\n      <td>0.881137</td>\n      <td>-0.236852</td>\n    </tr>\n    <tr>\n      <th>3</th>\n      <td>-0.062869</td>\n      <td>-0.038822</td>\n      <td>-0.020208</td>\n      <td>-0.013971</td>\n      <td>-0.007007</td>\n      <td>0.013662</td>\n      <td>0.053328</td>\n      <td>0.160931</td>\n      <td>0.310718</td>\n      <td>0.414956</td>\n      <td>...</td>\n      <td>0.190158</td>\n      <td>0.191204</td>\n      <td>0.181624</td>\n      <td>0.099781</td>\n      <td>0.203089</td>\n      <td>0.209832</td>\n      <td>0.223969</td>\n      <td>-0.175379</td>\n      <td>0.299208</td>\n      <td>-0.373374</td>\n    </tr>\n    <tr>\n      <th>4</th>\n      <td>0.259717</td>\n      <td>0.296746</td>\n      <td>0.344750</td>\n      <td>0.384270</td>\n      <td>0.421190</td>\n      <td>0.476713</td>\n      <td>0.520300</td>\n      <td>0.546417</td>\n      <td>0.467165</td>\n      <td>0.490719</td>\n      <td>...</td>\n      <td>0.155909</td>\n      <td>0.165737</td>\n      <td>0.156756</td>\n      <td>0.165952</td>\n      <td>0.173303</td>\n      <td>0.168895</td>\n      <td>0.180134</td>\n      <td>-0.882169</td>\n      <td>1.198004</td>\n      <td>-1.033374</td>\n    </tr>\n    <tr>\n      <th>...</th>\n      <td>...</td>\n      <td>...</td>\n      <td>...</td>\n      <td>...</td>\n      <td>...</td>\n      <td>...</td>\n      <td>...</td>\n      <td>...</td>\n      <td>...</td>\n      <td>...</td>\n      <td>...</td>\n      <td>...</td>\n      <td>...</td>\n      <td>...</td>\n      <td>...</td>\n      <td>...</td>\n      <td>...</td>\n      <td>...</td>\n      <td>...</td>\n      <td>...</td>\n      <td>...</td>\n    </tr>\n    <tr>\n      <th>1995</th>\n      <td>-0.346658</td>\n      <td>-0.328150</td>\n      <td>-0.294228</td>\n      <td>-0.267771</td>\n      <td>-0.257138</td>\n      <td>-0.269200</td>\n      <td>-0.290232</td>\n      <td>-0.270644</td>\n      <td>-0.089482</td>\n      <td>0.054885</td>\n      <td>...</td>\n      <td>0.231111</td>\n      <td>0.235195</td>\n      <td>0.232475</td>\n      <td>0.176201</td>\n      <td>0.244635</td>\n      <td>0.240195</td>\n      <td>0.252900</td>\n      <td>-0.197102</td>\n      <td>-0.070430</td>\n      <td>0.105118</td>\n    </tr>\n    <tr>\n      <th>1996</th>\n      <td>-0.498375</td>\n      <td>-0.510201</td>\n      <td>-0.530007</td>\n      <td>-0.528051</td>\n      <td>-0.508303</td>\n      <td>-0.471376</td>\n      <td>-0.418450</td>\n      <td>-0.374258</td>\n      <td>-0.269266</td>\n      <td>-0.254004</td>\n      <td>...</td>\n      <td>0.277519</td>\n      <td>0.276557</td>\n      <td>0.257306</td>\n      <td>0.200779</td>\n      <td>0.224467</td>\n      <td>0.222407</td>\n      <td>0.247668</td>\n      <td>-0.232617</td>\n      <td>-1.418751</td>\n      <td>0.175960</td>\n    </tr>\n    <tr>\n      <th>1997</th>\n      <td>0.352632</td>\n      <td>0.375437</td>\n      <td>0.405259</td>\n      <td>0.426013</td>\n      <td>0.444391</td>\n      <td>0.466394</td>\n      <td>0.490682</td>\n      <td>0.504848</td>\n      <td>0.402812</td>\n      <td>0.402429</td>\n      <td>...</td>\n      <td>0.252454</td>\n      <td>0.268220</td>\n      <td>0.264325</td>\n      <td>0.234313</td>\n      <td>0.244397</td>\n      <td>0.234058</td>\n      <td>0.245337</td>\n      <td>-1.447955</td>\n      <td>1.431267</td>\n      <td>-1.509418</td>\n    </tr>\n    <tr>\n      <th>1998</th>\n      <td>-0.563043</td>\n      <td>-0.588248</td>\n      <td>-0.606106</td>\n      <td>-0.624682</td>\n      <td>-0.651062</td>\n      <td>-0.661465</td>\n      <td>-0.672839</td>\n      <td>-0.654102</td>\n      <td>-0.460020</td>\n      <td>-0.385161</td>\n      <td>...</td>\n      <td>0.332041</td>\n      <td>0.340356</td>\n      <td>0.318535</td>\n      <td>0.256463</td>\n      <td>0.304891</td>\n      <td>0.298597</td>\n      <td>0.330364</td>\n      <td>-0.420465</td>\n      <td>-1.191176</td>\n      <td>0.451515</td>\n    </tr>\n    <tr>\n      <th>1999</th>\n      <td>-0.314804</td>\n      <td>-0.313033</td>\n      <td>-0.299155</td>\n      <td>-0.288054</td>\n      <td>-0.288684</td>\n      <td>-0.294783</td>\n      <td>-0.312039</td>\n      <td>-0.293943</td>\n      <td>-0.072315</td>\n      <td>0.083869</td>\n      <td>...</td>\n      <td>0.390147</td>\n      <td>0.401460</td>\n      <td>0.369442</td>\n      <td>0.264484</td>\n      <td>0.335862</td>\n      <td>0.333775</td>\n      <td>0.374176</td>\n      <td>-0.015552</td>\n      <td>-0.180126</td>\n      <td>-0.024546</td>\n    </tr>\n  </tbody>\n</table>\n<p>2000 rows × 139 columns</p>\n</div>"
     },
     "execution_count": 6,
     "metadata": {},
     "output_type": "execute_result"
    }
   ]
  },
  {
   "cell_type": "markdown",
   "source": [
    "## All Features"
   ],
   "metadata": {
    "collapsed": false,
    "pycharm": {
     "name": "#%% md\n"
    }
   }
  },
  {
   "cell_type": "code",
   "execution_count": 7,
   "outputs": [],
   "source": [
    "X = raw_data.iloc[:,0:136].to_numpy()"
   ],
   "metadata": {
    "collapsed": false,
    "pycharm": {
     "name": "#%%\n"
    }
   }
  },
  {
   "cell_type": "markdown",
   "source": [
    "## 6 * 2 (12) Selected Features"
   ],
   "metadata": {
    "collapsed": false,
    "pycharm": {
     "name": "#%% md\n"
    }
   }
  },
  {
   "cell_type": "code",
   "execution_count": 8,
   "outputs": [],
   "source": [
    "y_shift = 68\n",
    "xy_list = [\"8\", \"30\", \"36\", \"45\", \"48\", \"54\", str(8 + y_shift), str(30+ y_shift), str(36+ y_shift), str(45+ y_shift), str(48+ y_shift), str(54+ y_shift)]"
   ],
   "metadata": {
    "collapsed": false,
    "pycharm": {
     "name": "#%%\n"
    }
   }
  },
  {
   "cell_type": "code",
   "execution_count": 9,
   "outputs": [
    {
     "data": {
      "text/plain": "             8   30        36        45        48        54        76   98  \\\n0    -0.056244  0.0 -0.470227  0.569105 -0.220330  0.233254  0.223880  0.0   \n1     0.111631  0.0  0.115568  0.466820  0.126185  0.317864  0.209007  0.0   \n2     0.263332  0.0  0.008652  0.403707  0.075272  0.544189  0.229898  0.0   \n3     0.310718  0.0 -0.280594  0.403747 -0.014334  0.409155  0.225391  0.0   \n4     0.467165  0.0  0.099086  0.232030  0.306884  0.438872  0.214324  0.0   \n...        ...  ...       ...       ...       ...       ...       ...  ...   \n1995 -0.089482  0.0 -0.508142  0.447542 -0.263145  0.112873  0.229796  0.0   \n1996 -0.269266  0.0 -0.352252 -0.225729 -0.281376 -0.256681  0.262572  0.0   \n1997  0.402812  0.0  0.163700  0.182310  0.315156  0.305757  0.321737  0.0   \n1998 -0.460020  0.0 -0.437227 -0.133101 -0.580844 -0.337135  0.319849  0.0   \n1999 -0.072315  0.0 -0.455527  0.211343 -0.286849  0.147361  0.357298  0.0   \n\n           104       113       116       122  \n0    -0.711572 -0.585330  0.103511  0.193958  \n1    -0.091381 -0.288898  0.272404  0.240820  \n2    -0.132195 -0.332411  0.127276  0.195265  \n3    -0.248954 -0.663460  0.116440  0.094119  \n4    -0.165268 -0.338983  0.163763  0.165160  \n...        ...       ...       ...       ...  \n1995 -0.626289 -0.464578  0.186107  0.174882  \n1996 -0.279047 -0.273756  0.251401  0.193275  \n1997 -0.217058 -0.252905  0.215277  0.233589  \n1998 -0.386636 -0.220165  0.304726  0.250972  \n1999 -0.309130 -0.238439  0.342861  0.254284  \n\n[2000 rows x 12 columns]",
      "text/html": "<div>\n<style scoped>\n    .dataframe tbody tr th:only-of-type {\n        vertical-align: middle;\n    }\n\n    .dataframe tbody tr th {\n        vertical-align: top;\n    }\n\n    .dataframe thead th {\n        text-align: right;\n    }\n</style>\n<table border=\"1\" class=\"dataframe\">\n  <thead>\n    <tr style=\"text-align: right;\">\n      <th></th>\n      <th>8</th>\n      <th>30</th>\n      <th>36</th>\n      <th>45</th>\n      <th>48</th>\n      <th>54</th>\n      <th>76</th>\n      <th>98</th>\n      <th>104</th>\n      <th>113</th>\n      <th>116</th>\n      <th>122</th>\n    </tr>\n  </thead>\n  <tbody>\n    <tr>\n      <th>0</th>\n      <td>-0.056244</td>\n      <td>0.0</td>\n      <td>-0.470227</td>\n      <td>0.569105</td>\n      <td>-0.220330</td>\n      <td>0.233254</td>\n      <td>0.223880</td>\n      <td>0.0</td>\n      <td>-0.711572</td>\n      <td>-0.585330</td>\n      <td>0.103511</td>\n      <td>0.193958</td>\n    </tr>\n    <tr>\n      <th>1</th>\n      <td>0.111631</td>\n      <td>0.0</td>\n      <td>0.115568</td>\n      <td>0.466820</td>\n      <td>0.126185</td>\n      <td>0.317864</td>\n      <td>0.209007</td>\n      <td>0.0</td>\n      <td>-0.091381</td>\n      <td>-0.288898</td>\n      <td>0.272404</td>\n      <td>0.240820</td>\n    </tr>\n    <tr>\n      <th>2</th>\n      <td>0.263332</td>\n      <td>0.0</td>\n      <td>0.008652</td>\n      <td>0.403707</td>\n      <td>0.075272</td>\n      <td>0.544189</td>\n      <td>0.229898</td>\n      <td>0.0</td>\n      <td>-0.132195</td>\n      <td>-0.332411</td>\n      <td>0.127276</td>\n      <td>0.195265</td>\n    </tr>\n    <tr>\n      <th>3</th>\n      <td>0.310718</td>\n      <td>0.0</td>\n      <td>-0.280594</td>\n      <td>0.403747</td>\n      <td>-0.014334</td>\n      <td>0.409155</td>\n      <td>0.225391</td>\n      <td>0.0</td>\n      <td>-0.248954</td>\n      <td>-0.663460</td>\n      <td>0.116440</td>\n      <td>0.094119</td>\n    </tr>\n    <tr>\n      <th>4</th>\n      <td>0.467165</td>\n      <td>0.0</td>\n      <td>0.099086</td>\n      <td>0.232030</td>\n      <td>0.306884</td>\n      <td>0.438872</td>\n      <td>0.214324</td>\n      <td>0.0</td>\n      <td>-0.165268</td>\n      <td>-0.338983</td>\n      <td>0.163763</td>\n      <td>0.165160</td>\n    </tr>\n    <tr>\n      <th>...</th>\n      <td>...</td>\n      <td>...</td>\n      <td>...</td>\n      <td>...</td>\n      <td>...</td>\n      <td>...</td>\n      <td>...</td>\n      <td>...</td>\n      <td>...</td>\n      <td>...</td>\n      <td>...</td>\n      <td>...</td>\n    </tr>\n    <tr>\n      <th>1995</th>\n      <td>-0.089482</td>\n      <td>0.0</td>\n      <td>-0.508142</td>\n      <td>0.447542</td>\n      <td>-0.263145</td>\n      <td>0.112873</td>\n      <td>0.229796</td>\n      <td>0.0</td>\n      <td>-0.626289</td>\n      <td>-0.464578</td>\n      <td>0.186107</td>\n      <td>0.174882</td>\n    </tr>\n    <tr>\n      <th>1996</th>\n      <td>-0.269266</td>\n      <td>0.0</td>\n      <td>-0.352252</td>\n      <td>-0.225729</td>\n      <td>-0.281376</td>\n      <td>-0.256681</td>\n      <td>0.262572</td>\n      <td>0.0</td>\n      <td>-0.279047</td>\n      <td>-0.273756</td>\n      <td>0.251401</td>\n      <td>0.193275</td>\n    </tr>\n    <tr>\n      <th>1997</th>\n      <td>0.402812</td>\n      <td>0.0</td>\n      <td>0.163700</td>\n      <td>0.182310</td>\n      <td>0.315156</td>\n      <td>0.305757</td>\n      <td>0.321737</td>\n      <td>0.0</td>\n      <td>-0.217058</td>\n      <td>-0.252905</td>\n      <td>0.215277</td>\n      <td>0.233589</td>\n    </tr>\n    <tr>\n      <th>1998</th>\n      <td>-0.460020</td>\n      <td>0.0</td>\n      <td>-0.437227</td>\n      <td>-0.133101</td>\n      <td>-0.580844</td>\n      <td>-0.337135</td>\n      <td>0.319849</td>\n      <td>0.0</td>\n      <td>-0.386636</td>\n      <td>-0.220165</td>\n      <td>0.304726</td>\n      <td>0.250972</td>\n    </tr>\n    <tr>\n      <th>1999</th>\n      <td>-0.072315</td>\n      <td>0.0</td>\n      <td>-0.455527</td>\n      <td>0.211343</td>\n      <td>-0.286849</td>\n      <td>0.147361</td>\n      <td>0.357298</td>\n      <td>0.0</td>\n      <td>-0.309130</td>\n      <td>-0.238439</td>\n      <td>0.342861</td>\n      <td>0.254284</td>\n    </tr>\n  </tbody>\n</table>\n<p>2000 rows × 12 columns</p>\n</div>"
     },
     "execution_count": 9,
     "metadata": {},
     "output_type": "execute_result"
    }
   ],
   "source": [
    "X = raw_data[xy_list]\n",
    "X"
   ],
   "metadata": {
    "collapsed": false,
    "pycharm": {
     "name": "#%%\n"
    }
   }
  },
  {
   "cell_type": "code",
   "execution_count": 10,
   "outputs": [],
   "source": [
    "#pitch, yaw, roll\n",
    "p = raw_data[[\"136\"]].to_numpy()\n",
    "y = raw_data[[\"137\"]].to_numpy()\n",
    "r = raw_data[[\"138\"]].to_numpy()"
   ],
   "metadata": {
    "collapsed": false,
    "pycharm": {
     "name": "#%%\n"
    }
   }
  },
  {
   "cell_type": "markdown",
   "metadata": {
    "id": "P8cSfkeYfqKL",
    "pycharm": {
     "name": "#%% md\n"
    }
   },
   "source": [
    "Next, we can explore the dataset."
   ]
  },
  {
   "cell_type": "code",
   "execution_count": 11,
   "outputs": [
    {
     "data": {
      "text/plain": "(2000, 12)"
     },
     "execution_count": 11,
     "metadata": {},
     "output_type": "execute_result"
    }
   ],
   "source": [
    "X.shape"
   ],
   "metadata": {
    "collapsed": false,
    "pycharm": {
     "name": "#%%\n"
    }
   }
  },
  {
   "cell_type": "code",
   "execution_count": 12,
   "outputs": [
    {
     "data": {
      "text/plain": "2000"
     },
     "execution_count": 12,
     "metadata": {},
     "output_type": "execute_result"
    }
   ],
   "source": [
    "X.shape[0]"
   ],
   "metadata": {
    "collapsed": false,
    "pycharm": {
     "name": "#%%\n"
    }
   }
  },
  {
   "cell_type": "code",
   "execution_count": 13,
   "outputs": [
    {
     "data": {
      "text/plain": "12"
     },
     "execution_count": 13,
     "metadata": {},
     "output_type": "execute_result"
    }
   ],
   "source": [
    "X.shape[1]"
   ],
   "metadata": {
    "collapsed": false,
    "pycharm": {
     "name": "#%%\n"
    }
   }
  },
  {
   "cell_type": "code",
   "metadata": {
    "id": "B9A_Cb6afqKL",
    "colab": {
     "base_uri": "https://localhost:8080/"
    },
    "executionInfo": {
     "status": "ok",
     "timestamp": 1649503285003,
     "user_tz": -120,
     "elapsed": 13,
     "user": {
      "displayName": "Abdelrhman Amr",
      "userId": "09344834973078055484"
     }
    },
    "outputId": "ef4acef5-9859-44ba-904a-745c9e74a6d9",
    "pycharm": {
     "name": "#%%\n"
    }
   },
   "source": [
    "# Use pandas to examine some info of the dataset\n",
    "raw_data.info()\n"
   ],
   "execution_count": 14,
   "outputs": [
    {
     "name": "stdout",
     "output_type": "stream",
     "text": [
      "<class 'pandas.core.frame.DataFrame'>\n",
      "RangeIndex: 2000 entries, 0 to 1999\n",
      "Columns: 139 entries, 0 to 138\n",
      "dtypes: float64(139)\n",
      "memory usage: 2.1 MB\n"
     ]
    }
   ]
  },
  {
   "cell_type": "code",
   "source": [
    "# Use pandas to examine the description of the dataset\n",
    "raw_data.describe()"
   ],
   "metadata": {
    "id": "ipnuOTVtK5mI",
    "colab": {
     "base_uri": "https://localhost:8080/",
     "height": 300
    },
    "executionInfo": {
     "status": "ok",
     "timestamp": 1649503285327,
     "user_tz": -120,
     "elapsed": 6,
     "user": {
      "displayName": "Abdelrhman Amr",
      "userId": "09344834973078055484"
     }
    },
    "outputId": "082772ac-a8bc-4fb7-abe0-3660bb530e84",
    "pycharm": {
     "name": "#%%\n"
    }
   },
   "execution_count": 15,
   "outputs": [
    {
     "data": {
      "text/plain": "                 0            1            2            3            4  \\\ncount  2000.000000  2000.000000  2000.000000  2000.000000  2000.000000   \nmean     -0.233877    -0.228203    -0.216267    -0.206013    -0.199688   \nstd       0.250319     0.252915     0.256578     0.256088     0.255118   \nmin      -1.000000    -1.000000    -1.000000    -1.000000    -1.000000   \n25%      -0.437347    -0.436675    -0.422648    -0.413327    -0.406076   \n50%      -0.250360    -0.235904    -0.212300    -0.198632    -0.196913   \n75%      -0.052337    -0.042175    -0.031732    -0.026892    -0.027065   \nmax       0.654113     0.694551     0.744361     0.788998     0.830620   \n\n                 5            6            7            8            9  ...  \\\ncount  2000.000000  2000.000000  2000.000000  2000.000000  2000.000000  ...   \nmean     -0.192968    -0.183349    -0.137267     0.018053     0.143081  ...   \nstd       0.255120     0.256999     0.267530     0.223544     0.220234  ...   \nmin      -1.000000    -1.000000    -0.992964    -0.775731    -0.605776  ...   \n25%      -0.397937    -0.377848    -0.322875    -0.131178     0.001962  ...   \n50%      -0.204710    -0.208938    -0.165982     0.016790     0.168075  ...   \n75%      -0.026183    -0.017095     0.033176     0.164766     0.290703  ...   \nmax       0.890112     0.971928     1.000000     1.000000     1.000000  ...   \n\n               129          130          131          132          133  \\\ncount  2000.000000  2000.000000  2000.000000  2000.000000  2000.000000   \nmean      0.236241     0.241335     0.238826     0.216203     0.282148   \nstd       0.082955     0.081515     0.084958     0.105512     0.108675   \nmin      -0.205668    -0.106515    -0.146121    -0.296817    -0.115446   \n25%       0.181413     0.186420     0.182705     0.145096     0.213263   \n50%       0.230714     0.236157     0.233780     0.208393     0.266190   \n75%       0.286264     0.288361     0.289307     0.277267     0.338031   \nmax       1.000000     1.000000     1.000000     1.000000     1.000000   \n\n               134          135          136          137          138  \ncount  2000.000000  2000.000000  2000.000000  2000.000000  2000.000000  \nmean      0.273550     0.290346    -0.107145     0.014077    -0.034479  \nstd       0.104323     0.111274     0.628119     0.654185     0.716014  \nmin      -0.098725    -0.205456   -12.457202    -6.130066   -16.969362  \n25%       0.206363     0.215877    -0.258503    -0.294246    -0.174806  \n50%       0.260959     0.279475    -0.122268     0.019702    -0.018098  \n75%       0.326507     0.346267     0.040192     0.334715     0.134378  \nmax       1.000000     1.000000    15.598820     3.277500     5.829394  \n\n[8 rows x 139 columns]",
      "text/html": "<div>\n<style scoped>\n    .dataframe tbody tr th:only-of-type {\n        vertical-align: middle;\n    }\n\n    .dataframe tbody tr th {\n        vertical-align: top;\n    }\n\n    .dataframe thead th {\n        text-align: right;\n    }\n</style>\n<table border=\"1\" class=\"dataframe\">\n  <thead>\n    <tr style=\"text-align: right;\">\n      <th></th>\n      <th>0</th>\n      <th>1</th>\n      <th>2</th>\n      <th>3</th>\n      <th>4</th>\n      <th>5</th>\n      <th>6</th>\n      <th>7</th>\n      <th>8</th>\n      <th>9</th>\n      <th>...</th>\n      <th>129</th>\n      <th>130</th>\n      <th>131</th>\n      <th>132</th>\n      <th>133</th>\n      <th>134</th>\n      <th>135</th>\n      <th>136</th>\n      <th>137</th>\n      <th>138</th>\n    </tr>\n  </thead>\n  <tbody>\n    <tr>\n      <th>count</th>\n      <td>2000.000000</td>\n      <td>2000.000000</td>\n      <td>2000.000000</td>\n      <td>2000.000000</td>\n      <td>2000.000000</td>\n      <td>2000.000000</td>\n      <td>2000.000000</td>\n      <td>2000.000000</td>\n      <td>2000.000000</td>\n      <td>2000.000000</td>\n      <td>...</td>\n      <td>2000.000000</td>\n      <td>2000.000000</td>\n      <td>2000.000000</td>\n      <td>2000.000000</td>\n      <td>2000.000000</td>\n      <td>2000.000000</td>\n      <td>2000.000000</td>\n      <td>2000.000000</td>\n      <td>2000.000000</td>\n      <td>2000.000000</td>\n    </tr>\n    <tr>\n      <th>mean</th>\n      <td>-0.233877</td>\n      <td>-0.228203</td>\n      <td>-0.216267</td>\n      <td>-0.206013</td>\n      <td>-0.199688</td>\n      <td>-0.192968</td>\n      <td>-0.183349</td>\n      <td>-0.137267</td>\n      <td>0.018053</td>\n      <td>0.143081</td>\n      <td>...</td>\n      <td>0.236241</td>\n      <td>0.241335</td>\n      <td>0.238826</td>\n      <td>0.216203</td>\n      <td>0.282148</td>\n      <td>0.273550</td>\n      <td>0.290346</td>\n      <td>-0.107145</td>\n      <td>0.014077</td>\n      <td>-0.034479</td>\n    </tr>\n    <tr>\n      <th>std</th>\n      <td>0.250319</td>\n      <td>0.252915</td>\n      <td>0.256578</td>\n      <td>0.256088</td>\n      <td>0.255118</td>\n      <td>0.255120</td>\n      <td>0.256999</td>\n      <td>0.267530</td>\n      <td>0.223544</td>\n      <td>0.220234</td>\n      <td>...</td>\n      <td>0.082955</td>\n      <td>0.081515</td>\n      <td>0.084958</td>\n      <td>0.105512</td>\n      <td>0.108675</td>\n      <td>0.104323</td>\n      <td>0.111274</td>\n      <td>0.628119</td>\n      <td>0.654185</td>\n      <td>0.716014</td>\n    </tr>\n    <tr>\n      <th>min</th>\n      <td>-1.000000</td>\n      <td>-1.000000</td>\n      <td>-1.000000</td>\n      <td>-1.000000</td>\n      <td>-1.000000</td>\n      <td>-1.000000</td>\n      <td>-1.000000</td>\n      <td>-0.992964</td>\n      <td>-0.775731</td>\n      <td>-0.605776</td>\n      <td>...</td>\n      <td>-0.205668</td>\n      <td>-0.106515</td>\n      <td>-0.146121</td>\n      <td>-0.296817</td>\n      <td>-0.115446</td>\n      <td>-0.098725</td>\n      <td>-0.205456</td>\n      <td>-12.457202</td>\n      <td>-6.130066</td>\n      <td>-16.969362</td>\n    </tr>\n    <tr>\n      <th>25%</th>\n      <td>-0.437347</td>\n      <td>-0.436675</td>\n      <td>-0.422648</td>\n      <td>-0.413327</td>\n      <td>-0.406076</td>\n      <td>-0.397937</td>\n      <td>-0.377848</td>\n      <td>-0.322875</td>\n      <td>-0.131178</td>\n      <td>0.001962</td>\n      <td>...</td>\n      <td>0.181413</td>\n      <td>0.186420</td>\n      <td>0.182705</td>\n      <td>0.145096</td>\n      <td>0.213263</td>\n      <td>0.206363</td>\n      <td>0.215877</td>\n      <td>-0.258503</td>\n      <td>-0.294246</td>\n      <td>-0.174806</td>\n    </tr>\n    <tr>\n      <th>50%</th>\n      <td>-0.250360</td>\n      <td>-0.235904</td>\n      <td>-0.212300</td>\n      <td>-0.198632</td>\n      <td>-0.196913</td>\n      <td>-0.204710</td>\n      <td>-0.208938</td>\n      <td>-0.165982</td>\n      <td>0.016790</td>\n      <td>0.168075</td>\n      <td>...</td>\n      <td>0.230714</td>\n      <td>0.236157</td>\n      <td>0.233780</td>\n      <td>0.208393</td>\n      <td>0.266190</td>\n      <td>0.260959</td>\n      <td>0.279475</td>\n      <td>-0.122268</td>\n      <td>0.019702</td>\n      <td>-0.018098</td>\n    </tr>\n    <tr>\n      <th>75%</th>\n      <td>-0.052337</td>\n      <td>-0.042175</td>\n      <td>-0.031732</td>\n      <td>-0.026892</td>\n      <td>-0.027065</td>\n      <td>-0.026183</td>\n      <td>-0.017095</td>\n      <td>0.033176</td>\n      <td>0.164766</td>\n      <td>0.290703</td>\n      <td>...</td>\n      <td>0.286264</td>\n      <td>0.288361</td>\n      <td>0.289307</td>\n      <td>0.277267</td>\n      <td>0.338031</td>\n      <td>0.326507</td>\n      <td>0.346267</td>\n      <td>0.040192</td>\n      <td>0.334715</td>\n      <td>0.134378</td>\n    </tr>\n    <tr>\n      <th>max</th>\n      <td>0.654113</td>\n      <td>0.694551</td>\n      <td>0.744361</td>\n      <td>0.788998</td>\n      <td>0.830620</td>\n      <td>0.890112</td>\n      <td>0.971928</td>\n      <td>1.000000</td>\n      <td>1.000000</td>\n      <td>1.000000</td>\n      <td>...</td>\n      <td>1.000000</td>\n      <td>1.000000</td>\n      <td>1.000000</td>\n      <td>1.000000</td>\n      <td>1.000000</td>\n      <td>1.000000</td>\n      <td>1.000000</td>\n      <td>15.598820</td>\n      <td>3.277500</td>\n      <td>5.829394</td>\n    </tr>\n  </tbody>\n</table>\n<p>8 rows × 139 columns</p>\n</div>"
     },
     "execution_count": 15,
     "metadata": {},
     "output_type": "execute_result"
    }
   ]
  },
  {
   "cell_type": "code",
   "source": [
    "# Use pandas to examine the histograms of the dataset columns\n",
    "raw_data.hist(bins = 50, figsize = (20, 5))"
   ],
   "metadata": {
    "id": "F5x-1ojDLTVt",
    "colab": {
     "base_uri": "https://localhost:8080/",
     "height": 509
    },
    "executionInfo": {
     "status": "ok",
     "timestamp": 1649503289793,
     "user_tz": -120,
     "elapsed": 4470,
     "user": {
      "displayName": "Abdelrhman Amr",
      "userId": "09344834973078055484"
     }
    },
    "outputId": "7480f8a7-d079-4c38-ea61-9c14f08821b4",
    "pycharm": {
     "name": "#%%\n"
    }
   },
   "execution_count": 16,
   "outputs": [
    {
     "data": {
      "text/plain": "array([[<AxesSubplot:title={'center':'0'}>,\n        <AxesSubplot:title={'center':'1'}>,\n        <AxesSubplot:title={'center':'2'}>,\n        <AxesSubplot:title={'center':'3'}>,\n        <AxesSubplot:title={'center':'4'}>,\n        <AxesSubplot:title={'center':'5'}>,\n        <AxesSubplot:title={'center':'6'}>,\n        <AxesSubplot:title={'center':'7'}>,\n        <AxesSubplot:title={'center':'8'}>,\n        <AxesSubplot:title={'center':'9'}>,\n        <AxesSubplot:title={'center':'10'}>,\n        <AxesSubplot:title={'center':'11'}>],\n       [<AxesSubplot:title={'center':'12'}>,\n        <AxesSubplot:title={'center':'13'}>,\n        <AxesSubplot:title={'center':'14'}>,\n        <AxesSubplot:title={'center':'15'}>,\n        <AxesSubplot:title={'center':'16'}>,\n        <AxesSubplot:title={'center':'17'}>,\n        <AxesSubplot:title={'center':'18'}>,\n        <AxesSubplot:title={'center':'19'}>,\n        <AxesSubplot:title={'center':'20'}>,\n        <AxesSubplot:title={'center':'21'}>,\n        <AxesSubplot:title={'center':'22'}>,\n        <AxesSubplot:title={'center':'23'}>],\n       [<AxesSubplot:title={'center':'24'}>,\n        <AxesSubplot:title={'center':'25'}>,\n        <AxesSubplot:title={'center':'26'}>,\n        <AxesSubplot:title={'center':'27'}>,\n        <AxesSubplot:title={'center':'28'}>,\n        <AxesSubplot:title={'center':'29'}>,\n        <AxesSubplot:title={'center':'30'}>,\n        <AxesSubplot:title={'center':'31'}>,\n        <AxesSubplot:title={'center':'32'}>,\n        <AxesSubplot:title={'center':'33'}>,\n        <AxesSubplot:title={'center':'34'}>,\n        <AxesSubplot:title={'center':'35'}>],\n       [<AxesSubplot:title={'center':'36'}>,\n        <AxesSubplot:title={'center':'37'}>,\n        <AxesSubplot:title={'center':'38'}>,\n        <AxesSubplot:title={'center':'39'}>,\n        <AxesSubplot:title={'center':'40'}>,\n        <AxesSubplot:title={'center':'41'}>,\n        <AxesSubplot:title={'center':'42'}>,\n        <AxesSubplot:title={'center':'43'}>,\n        <AxesSubplot:title={'center':'44'}>,\n        <AxesSubplot:title={'center':'45'}>,\n        <AxesSubplot:title={'center':'46'}>,\n        <AxesSubplot:title={'center':'47'}>],\n       [<AxesSubplot:title={'center':'48'}>,\n        <AxesSubplot:title={'center':'49'}>,\n        <AxesSubplot:title={'center':'50'}>,\n        <AxesSubplot:title={'center':'51'}>,\n        <AxesSubplot:title={'center':'52'}>,\n        <AxesSubplot:title={'center':'53'}>,\n        <AxesSubplot:title={'center':'54'}>,\n        <AxesSubplot:title={'center':'55'}>,\n        <AxesSubplot:title={'center':'56'}>,\n        <AxesSubplot:title={'center':'57'}>,\n        <AxesSubplot:title={'center':'58'}>,\n        <AxesSubplot:title={'center':'59'}>],\n       [<AxesSubplot:title={'center':'60'}>,\n        <AxesSubplot:title={'center':'61'}>,\n        <AxesSubplot:title={'center':'62'}>,\n        <AxesSubplot:title={'center':'63'}>,\n        <AxesSubplot:title={'center':'64'}>,\n        <AxesSubplot:title={'center':'65'}>,\n        <AxesSubplot:title={'center':'66'}>,\n        <AxesSubplot:title={'center':'67'}>,\n        <AxesSubplot:title={'center':'68'}>,\n        <AxesSubplot:title={'center':'69'}>,\n        <AxesSubplot:title={'center':'70'}>,\n        <AxesSubplot:title={'center':'71'}>],\n       [<AxesSubplot:title={'center':'72'}>,\n        <AxesSubplot:title={'center':'73'}>,\n        <AxesSubplot:title={'center':'74'}>,\n        <AxesSubplot:title={'center':'75'}>,\n        <AxesSubplot:title={'center':'76'}>,\n        <AxesSubplot:title={'center':'77'}>,\n        <AxesSubplot:title={'center':'78'}>,\n        <AxesSubplot:title={'center':'79'}>,\n        <AxesSubplot:title={'center':'80'}>,\n        <AxesSubplot:title={'center':'81'}>,\n        <AxesSubplot:title={'center':'82'}>,\n        <AxesSubplot:title={'center':'83'}>],\n       [<AxesSubplot:title={'center':'84'}>,\n        <AxesSubplot:title={'center':'85'}>,\n        <AxesSubplot:title={'center':'86'}>,\n        <AxesSubplot:title={'center':'87'}>,\n        <AxesSubplot:title={'center':'88'}>,\n        <AxesSubplot:title={'center':'89'}>,\n        <AxesSubplot:title={'center':'90'}>,\n        <AxesSubplot:title={'center':'91'}>,\n        <AxesSubplot:title={'center':'92'}>,\n        <AxesSubplot:title={'center':'93'}>,\n        <AxesSubplot:title={'center':'94'}>,\n        <AxesSubplot:title={'center':'95'}>],\n       [<AxesSubplot:title={'center':'96'}>,\n        <AxesSubplot:title={'center':'97'}>,\n        <AxesSubplot:title={'center':'98'}>,\n        <AxesSubplot:title={'center':'99'}>,\n        <AxesSubplot:title={'center':'100'}>,\n        <AxesSubplot:title={'center':'101'}>,\n        <AxesSubplot:title={'center':'102'}>,\n        <AxesSubplot:title={'center':'103'}>,\n        <AxesSubplot:title={'center':'104'}>,\n        <AxesSubplot:title={'center':'105'}>,\n        <AxesSubplot:title={'center':'106'}>,\n        <AxesSubplot:title={'center':'107'}>],\n       [<AxesSubplot:title={'center':'108'}>,\n        <AxesSubplot:title={'center':'109'}>,\n        <AxesSubplot:title={'center':'110'}>,\n        <AxesSubplot:title={'center':'111'}>,\n        <AxesSubplot:title={'center':'112'}>,\n        <AxesSubplot:title={'center':'113'}>,\n        <AxesSubplot:title={'center':'114'}>,\n        <AxesSubplot:title={'center':'115'}>,\n        <AxesSubplot:title={'center':'116'}>,\n        <AxesSubplot:title={'center':'117'}>,\n        <AxesSubplot:title={'center':'118'}>,\n        <AxesSubplot:title={'center':'119'}>],\n       [<AxesSubplot:title={'center':'120'}>,\n        <AxesSubplot:title={'center':'121'}>,\n        <AxesSubplot:title={'center':'122'}>,\n        <AxesSubplot:title={'center':'123'}>,\n        <AxesSubplot:title={'center':'124'}>,\n        <AxesSubplot:title={'center':'125'}>,\n        <AxesSubplot:title={'center':'126'}>,\n        <AxesSubplot:title={'center':'127'}>,\n        <AxesSubplot:title={'center':'128'}>,\n        <AxesSubplot:title={'center':'129'}>,\n        <AxesSubplot:title={'center':'130'}>,\n        <AxesSubplot:title={'center':'131'}>],\n       [<AxesSubplot:title={'center':'132'}>,\n        <AxesSubplot:title={'center':'133'}>,\n        <AxesSubplot:title={'center':'134'}>,\n        <AxesSubplot:title={'center':'135'}>,\n        <AxesSubplot:title={'center':'136'}>,\n        <AxesSubplot:title={'center':'137'}>,\n        <AxesSubplot:title={'center':'138'}>, <AxesSubplot:>,\n        <AxesSubplot:>, <AxesSubplot:>, <AxesSubplot:>, <AxesSubplot:>]],\n      dtype=object)"
     },
     "execution_count": 16,
     "metadata": {},
     "output_type": "execute_result"
    },
    {
     "data": {
      "text/plain": "<Figure size 1440x360 with 144 Axes>",
      "image/png": "[encoded data removed]"
     },
     "metadata": {},
     "output_type": "display_data"
    }
   ]
  },
  {
   "cell_type": "code",
   "execution_count": 17,
   "outputs": [
    {
     "data": {
      "text/plain": "array([[<AxesSubplot:title={'center':'0'}>,\n        <AxesSubplot:title={'center':'1'}>,\n        <AxesSubplot:title={'center':'2'}>,\n        <AxesSubplot:title={'center':'3'}>,\n        <AxesSubplot:title={'center':'4'}>,\n        <AxesSubplot:title={'center':'5'}>,\n        <AxesSubplot:title={'center':'6'}>,\n        <AxesSubplot:title={'center':'7'}>,\n        <AxesSubplot:title={'center':'8'}>,\n        <AxesSubplot:title={'center':'9'}>,\n        <AxesSubplot:title={'center':'10'}>,\n        <AxesSubplot:title={'center':'11'}>],\n       [<AxesSubplot:title={'center':'12'}>,\n        <AxesSubplot:title={'center':'13'}>,\n        <AxesSubplot:title={'center':'14'}>,\n        <AxesSubplot:title={'center':'15'}>,\n        <AxesSubplot:title={'center':'16'}>,\n        <AxesSubplot:title={'center':'17'}>,\n        <AxesSubplot:title={'center':'18'}>,\n        <AxesSubplot:title={'center':'19'}>,\n        <AxesSubplot:title={'center':'20'}>,\n        <AxesSubplot:title={'center':'21'}>,\n        <AxesSubplot:title={'center':'22'}>,\n        <AxesSubplot:title={'center':'23'}>],\n       [<AxesSubplot:title={'center':'24'}>,\n        <AxesSubplot:title={'center':'25'}>,\n        <AxesSubplot:title={'center':'26'}>,\n        <AxesSubplot:title={'center':'27'}>,\n        <AxesSubplot:title={'center':'28'}>,\n        <AxesSubplot:title={'center':'29'}>,\n        <AxesSubplot:title={'center':'30'}>,\n        <AxesSubplot:title={'center':'31'}>,\n        <AxesSubplot:title={'center':'32'}>,\n        <AxesSubplot:title={'center':'33'}>,\n        <AxesSubplot:title={'center':'34'}>,\n        <AxesSubplot:title={'center':'35'}>],\n       [<AxesSubplot:title={'center':'36'}>,\n        <AxesSubplot:title={'center':'37'}>,\n        <AxesSubplot:title={'center':'38'}>,\n        <AxesSubplot:title={'center':'39'}>,\n        <AxesSubplot:title={'center':'40'}>,\n        <AxesSubplot:title={'center':'41'}>,\n        <AxesSubplot:title={'center':'42'}>,\n        <AxesSubplot:title={'center':'43'}>,\n        <AxesSubplot:title={'center':'44'}>,\n        <AxesSubplot:title={'center':'45'}>,\n        <AxesSubplot:title={'center':'46'}>,\n        <AxesSubplot:title={'center':'47'}>],\n       [<AxesSubplot:title={'center':'48'}>,\n        <AxesSubplot:title={'center':'49'}>,\n        <AxesSubplot:title={'center':'50'}>,\n        <AxesSubplot:title={'center':'51'}>,\n        <AxesSubplot:title={'center':'52'}>,\n        <AxesSubplot:title={'center':'53'}>,\n        <AxesSubplot:title={'center':'54'}>,\n        <AxesSubplot:title={'center':'55'}>,\n        <AxesSubplot:title={'center':'56'}>,\n        <AxesSubplot:title={'center':'57'}>,\n        <AxesSubplot:title={'center':'58'}>,\n        <AxesSubplot:title={'center':'59'}>],\n       [<AxesSubplot:title={'center':'60'}>,\n        <AxesSubplot:title={'center':'61'}>,\n        <AxesSubplot:title={'center':'62'}>,\n        <AxesSubplot:title={'center':'63'}>,\n        <AxesSubplot:title={'center':'64'}>,\n        <AxesSubplot:title={'center':'65'}>,\n        <AxesSubplot:title={'center':'66'}>,\n        <AxesSubplot:title={'center':'67'}>,\n        <AxesSubplot:title={'center':'68'}>,\n        <AxesSubplot:title={'center':'69'}>,\n        <AxesSubplot:title={'center':'70'}>,\n        <AxesSubplot:title={'center':'71'}>],\n       [<AxesSubplot:title={'center':'72'}>,\n        <AxesSubplot:title={'center':'73'}>,\n        <AxesSubplot:title={'center':'74'}>,\n        <AxesSubplot:title={'center':'75'}>,\n        <AxesSubplot:title={'center':'76'}>,\n        <AxesSubplot:title={'center':'77'}>,\n        <AxesSubplot:title={'center':'78'}>,\n        <AxesSubplot:title={'center':'79'}>,\n        <AxesSubplot:title={'center':'80'}>,\n        <AxesSubplot:title={'center':'81'}>,\n        <AxesSubplot:title={'center':'82'}>,\n        <AxesSubplot:title={'center':'83'}>],\n       [<AxesSubplot:title={'center':'84'}>,\n        <AxesSubplot:title={'center':'85'}>,\n        <AxesSubplot:title={'center':'86'}>,\n        <AxesSubplot:title={'center':'87'}>,\n        <AxesSubplot:title={'center':'88'}>,\n        <AxesSubplot:title={'center':'89'}>,\n        <AxesSubplot:title={'center':'90'}>,\n        <AxesSubplot:title={'center':'91'}>,\n        <AxesSubplot:title={'center':'92'}>,\n        <AxesSubplot:title={'center':'93'}>,\n        <AxesSubplot:title={'center':'94'}>,\n        <AxesSubplot:title={'center':'95'}>],\n       [<AxesSubplot:title={'center':'96'}>,\n        <AxesSubplot:title={'center':'97'}>,\n        <AxesSubplot:title={'center':'98'}>,\n        <AxesSubplot:title={'center':'99'}>,\n        <AxesSubplot:title={'center':'100'}>,\n        <AxesSubplot:title={'center':'101'}>,\n        <AxesSubplot:title={'center':'102'}>,\n        <AxesSubplot:title={'center':'103'}>,\n        <AxesSubplot:title={'center':'104'}>,\n        <AxesSubplot:title={'center':'105'}>,\n        <AxesSubplot:title={'center':'106'}>,\n        <AxesSubplot:title={'center':'107'}>],\n       [<AxesSubplot:title={'center':'108'}>,\n        <AxesSubplot:title={'center':'109'}>,\n        <AxesSubplot:title={'center':'110'}>,\n        <AxesSubplot:title={'center':'111'}>,\n        <AxesSubplot:title={'center':'112'}>,\n        <AxesSubplot:title={'center':'113'}>,\n        <AxesSubplot:title={'center':'114'}>,\n        <AxesSubplot:title={'center':'115'}>,\n        <AxesSubplot:title={'center':'116'}>,\n        <AxesSubplot:title={'center':'117'}>,\n        <AxesSubplot:title={'center':'118'}>,\n        <AxesSubplot:title={'center':'119'}>],\n       [<AxesSubplot:title={'center':'120'}>,\n        <AxesSubplot:title={'center':'121'}>,\n        <AxesSubplot:title={'center':'122'}>,\n        <AxesSubplot:title={'center':'123'}>,\n        <AxesSubplot:title={'center':'124'}>,\n        <AxesSubplot:title={'center':'125'}>,\n        <AxesSubplot:title={'center':'126'}>,\n        <AxesSubplot:title={'center':'127'}>,\n        <AxesSubplot:title={'center':'128'}>,\n        <AxesSubplot:title={'center':'129'}>,\n        <AxesSubplot:title={'center':'130'}>,\n        <AxesSubplot:title={'center':'131'}>],\n       [<AxesSubplot:title={'center':'132'}>,\n        <AxesSubplot:title={'center':'133'}>,\n        <AxesSubplot:title={'center':'134'}>,\n        <AxesSubplot:title={'center':'135'}>,\n        <AxesSubplot:title={'center':'136'}>,\n        <AxesSubplot:title={'center':'137'}>,\n        <AxesSubplot:title={'center':'138'}>, <AxesSubplot:>,\n        <AxesSubplot:>, <AxesSubplot:>, <AxesSubplot:>, <AxesSubplot:>]],\n      dtype=object)"
     },
     "execution_count": 17,
     "metadata": {},
     "output_type": "execute_result"
    },
    {
     "data": {
      "text/plain": "<Figure size 1440x360 with 144 Axes>",
      "image/png": "[encoded data removed]"
     },
     "metadata": {},
     "output_type": "display_data"
    }
   ],
   "source": [
    "# Use pandas to examine the histograms of the dataset columns\n",
    "raw_data.hist(bins = 50, figsize = (20, 5))"
   ],
   "metadata": {
    "collapsed": false,
    "pycharm": {
     "name": "#%%\n"
    }
   }
  },
  {
   "cell_type": "code",
   "execution_count": null,
   "outputs": [],
   "source": [],
   "metadata": {
    "collapsed": false,
    "pycharm": {
     "name": "#%%\n"
    }
   }
  },
  {
   "cell_type": "markdown",
   "source": [
    "### 12.3.4 Feature selection"
   ],
   "metadata": {
    "collapsed": false,
    "pycharm": {
     "name": "#%% md\n"
    }
   }
  },
  {
   "cell_type": "markdown",
   "source": [
    "#### 6 * 2 (12) Selected Features"
   ],
   "metadata": {
    "collapsed": false,
    "pycharm": {
     "name": "#%% md\n"
    }
   }
  },
  {
   "cell_type": "code",
   "execution_count": 16,
   "outputs": [],
   "source": [
    "# preprocessed_data.head()"
   ],
   "metadata": {
    "collapsed": false,
    "pycharm": {
     "name": "#%%\n"
    }
   }
  },
  {
   "cell_type": "code",
   "execution_count": 18,
   "outputs": [],
   "source": [
    "y_shift = 68\n",
    "xy_list = [\"8\", \"30\", \"36\", \"45\", \"48\", \"54\", str(8 + y_shift), str(30+ y_shift), str(36+ y_shift), str(45+ y_shift), str(48+ y_shift), str(54+ y_shift)]"
   ],
   "metadata": {
    "collapsed": false,
    "pycharm": {
     "name": "#%%\n"
    }
   }
  },
  {
   "cell_type": "code",
   "execution_count": 19,
   "outputs": [
    {
     "data": {
      "text/plain": "             8   30        36        45        48        54        76   98  \\\n0    -0.056244  0.0 -0.470227  0.569105 -0.220330  0.233254  0.223880  0.0   \n1     0.111631  0.0  0.115568  0.466820  0.126185  0.317864  0.209007  0.0   \n2     0.263332  0.0  0.008652  0.403707  0.075272  0.544189  0.229898  0.0   \n3     0.310718  0.0 -0.280594  0.403747 -0.014334  0.409155  0.225391  0.0   \n4     0.467165  0.0  0.099086  0.232030  0.306884  0.438872  0.214324  0.0   \n...        ...  ...       ...       ...       ...       ...       ...  ...   \n1995 -0.089482  0.0 -0.508142  0.447542 -0.263145  0.112873  0.229796  0.0   \n1996 -0.269266  0.0 -0.352252 -0.225729 -0.281376 -0.256681  0.262572  0.0   \n1997  0.402812  0.0  0.163700  0.182310  0.315156  0.305757  0.321737  0.0   \n1998 -0.460020  0.0 -0.437227 -0.133101 -0.580844 -0.337135  0.319849  0.0   \n1999 -0.072315  0.0 -0.455527  0.211343 -0.286849  0.147361  0.357298  0.0   \n\n           104       113       116       122  \n0    -0.711572 -0.585330  0.103511  0.193958  \n1    -0.091381 -0.288898  0.272404  0.240820  \n2    -0.132195 -0.332411  0.127276  0.195265  \n3    -0.248954 -0.663460  0.116440  0.094119  \n4    -0.165268 -0.338983  0.163763  0.165160  \n...        ...       ...       ...       ...  \n1995 -0.626289 -0.464578  0.186107  0.174882  \n1996 -0.279047 -0.273756  0.251401  0.193275  \n1997 -0.217058 -0.252905  0.215277  0.233589  \n1998 -0.386636 -0.220165  0.304726  0.250972  \n1999 -0.309130 -0.238439  0.342861  0.254284  \n\n[2000 rows x 12 columns]",
      "text/html": "<div>\n<style scoped>\n    .dataframe tbody tr th:only-of-type {\n        vertical-align: middle;\n    }\n\n    .dataframe tbody tr th {\n        vertical-align: top;\n    }\n\n    .dataframe thead th {\n        text-align: right;\n    }\n</style>\n<table border=\"1\" class=\"dataframe\">\n  <thead>\n    <tr style=\"text-align: right;\">\n      <th></th>\n      <th>8</th>\n      <th>30</th>\n      <th>36</th>\n      <th>45</th>\n      <th>48</th>\n      <th>54</th>\n      <th>76</th>\n      <th>98</th>\n      <th>104</th>\n      <th>113</th>\n      <th>116</th>\n      <th>122</th>\n    </tr>\n  </thead>\n  <tbody>\n    <tr>\n      <th>0</th>\n      <td>-0.056244</td>\n      <td>0.0</td>\n      <td>-0.470227</td>\n      <td>0.569105</td>\n      <td>-0.220330</td>\n      <td>0.233254</td>\n      <td>0.223880</td>\n      <td>0.0</td>\n      <td>-0.711572</td>\n      <td>-0.585330</td>\n      <td>0.103511</td>\n      <td>0.193958</td>\n    </tr>\n    <tr>\n      <th>1</th>\n      <td>0.111631</td>\n      <td>0.0</td>\n      <td>0.115568</td>\n      <td>0.466820</td>\n      <td>0.126185</td>\n      <td>0.317864</td>\n      <td>0.209007</td>\n      <td>0.0</td>\n      <td>-0.091381</td>\n      <td>-0.288898</td>\n      <td>0.272404</td>\n      <td>0.240820</td>\n    </tr>\n    <tr>\n      <th>2</th>\n      <td>0.263332</td>\n      <td>0.0</td>\n      <td>0.008652</td>\n      <td>0.403707</td>\n      <td>0.075272</td>\n      <td>0.544189</td>\n      <td>0.229898</td>\n      <td>0.0</td>\n      <td>-0.132195</td>\n      <td>-0.332411</td>\n      <td>0.127276</td>\n      <td>0.195265</td>\n    </tr>\n    <tr>\n      <th>3</th>\n      <td>0.310718</td>\n      <td>0.0</td>\n      <td>-0.280594</td>\n      <td>0.403747</td>\n      <td>-0.014334</td>\n      <td>0.409155</td>\n      <td>0.225391</td>\n      <td>0.0</td>\n      <td>-0.248954</td>\n      <td>-0.663460</td>\n      <td>0.116440</td>\n      <td>0.094119</td>\n    </tr>\n    <tr>\n      <th>4</th>\n      <td>0.467165</td>\n      <td>0.0</td>\n      <td>0.099086</td>\n      <td>0.232030</td>\n      <td>0.306884</td>\n      <td>0.438872</td>\n      <td>0.214324</td>\n      <td>0.0</td>\n      <td>-0.165268</td>\n      <td>-0.338983</td>\n      <td>0.163763</td>\n      <td>0.165160</td>\n    </tr>\n    <tr>\n      <th>...</th>\n      <td>...</td>\n      <td>...</td>\n      <td>...</td>\n      <td>...</td>\n      <td>...</td>\n      <td>...</td>\n      <td>...</td>\n      <td>...</td>\n      <td>...</td>\n      <td>...</td>\n      <td>...</td>\n      <td>...</td>\n    </tr>\n    <tr>\n      <th>1995</th>\n      <td>-0.089482</td>\n      <td>0.0</td>\n      <td>-0.508142</td>\n      <td>0.447542</td>\n      <td>-0.263145</td>\n      <td>0.112873</td>\n      <td>0.229796</td>\n      <td>0.0</td>\n      <td>-0.626289</td>\n      <td>-0.464578</td>\n      <td>0.186107</td>\n      <td>0.174882</td>\n    </tr>\n    <tr>\n      <th>1996</th>\n      <td>-0.269266</td>\n      <td>0.0</td>\n      <td>-0.352252</td>\n      <td>-0.225729</td>\n      <td>-0.281376</td>\n      <td>-0.256681</td>\n      <td>0.262572</td>\n      <td>0.0</td>\n      <td>-0.279047</td>\n      <td>-0.273756</td>\n      <td>0.251401</td>\n      <td>0.193275</td>\n    </tr>\n    <tr>\n      <th>1997</th>\n      <td>0.402812</td>\n      <td>0.0</td>\n      <td>0.163700</td>\n      <td>0.182310</td>\n      <td>0.315156</td>\n      <td>0.305757</td>\n      <td>0.321737</td>\n      <td>0.0</td>\n      <td>-0.217058</td>\n      <td>-0.252905</td>\n      <td>0.215277</td>\n      <td>0.233589</td>\n    </tr>\n    <tr>\n      <th>1998</th>\n      <td>-0.460020</td>\n      <td>0.0</td>\n      <td>-0.437227</td>\n      <td>-0.133101</td>\n      <td>-0.580844</td>\n      <td>-0.337135</td>\n      <td>0.319849</td>\n      <td>0.0</td>\n      <td>-0.386636</td>\n      <td>-0.220165</td>\n      <td>0.304726</td>\n      <td>0.250972</td>\n    </tr>\n    <tr>\n      <th>1999</th>\n      <td>-0.072315</td>\n      <td>0.0</td>\n      <td>-0.455527</td>\n      <td>0.211343</td>\n      <td>-0.286849</td>\n      <td>0.147361</td>\n      <td>0.357298</td>\n      <td>0.0</td>\n      <td>-0.309130</td>\n      <td>-0.238439</td>\n      <td>0.342861</td>\n      <td>0.254284</td>\n    </tr>\n  </tbody>\n</table>\n<p>2000 rows × 12 columns</p>\n</div>"
     },
     "execution_count": 19,
     "metadata": {},
     "output_type": "execute_result"
    }
   ],
   "source": [
    "X = raw_data[xy_list]\n",
    "X"
   ],
   "metadata": {
    "collapsed": false,
    "pycharm": {
     "name": "#%%\n"
    }
   }
  },
  {
   "cell_type": "markdown",
   "source": [
    "Next, we can explore the dataset."
   ],
   "metadata": {
    "collapsed": false,
    "pycharm": {
     "name": "#%% md\n"
    }
   }
  },
  {
   "cell_type": "code",
   "execution_count": 20,
   "outputs": [
    {
     "data": {
      "text/plain": "(2000, 12)"
     },
     "execution_count": 20,
     "metadata": {},
     "output_type": "execute_result"
    }
   ],
   "source": [
    "X.shape"
   ],
   "metadata": {
    "collapsed": false,
    "pycharm": {
     "name": "#%%\n"
    }
   }
  },
  {
   "cell_type": "code",
   "execution_count": 21,
   "outputs": [
    {
     "data": {
      "text/plain": "2000"
     },
     "execution_count": 21,
     "metadata": {},
     "output_type": "execute_result"
    }
   ],
   "source": [
    "X.shape[0]"
   ],
   "metadata": {
    "collapsed": false,
    "pycharm": {
     "name": "#%%\n"
    }
   }
  },
  {
   "cell_type": "code",
   "execution_count": 22,
   "outputs": [
    {
     "data": {
      "text/plain": "12"
     },
     "execution_count": 22,
     "metadata": {},
     "output_type": "execute_result"
    }
   ],
   "source": [
    "X.shape[1]"
   ],
   "metadata": {
    "collapsed": false,
    "pycharm": {
     "name": "#%%\n"
    }
   }
  },
  {
   "cell_type": "markdown",
   "metadata": {
    "id": "mw-TKDt1fqKV",
    "pycharm": {
     "name": "#%% md\n"
    }
   },
   "source": [
    "### 12.3.5 Saving for future use"
   ]
  },
  {
   "cell_type": "code",
   "metadata": {
    "id": "MzlAdRmffqKW",
    "pycharm": {
     "name": "#%%\n"
    }
   },
   "source": [
    "#preprocessed_data.to_csv('./preprocessed_titanic_data.csv', index=None)"
   ],
   "execution_count": 23,
   "outputs": []
  },
  {
   "cell_type": "markdown",
   "metadata": {
    "id": "bS3XGQrXfqKW",
    "pycharm": {
     "name": "#%% md\n"
    }
   },
   "source": [
    "# 12.4 Training models"
   ]
  },
  {
   "cell_type": "markdown",
   "metadata": {
    "id": "akXchKUDfqKW",
    "pycharm": {
     "name": "#%% md\n"
    }
   },
   "source": [
    "### 12.4.1 Features-labels split and train-validation split"
   ]
  },
  {
   "cell_type": "code",
   "execution_count": 27,
   "outputs": [],
   "source": [
    "# features = raw_data[xy_list]\n",
    "features = raw_data.iloc[:,0:136].to_numpy()"
   ],
   "metadata": {
    "collapsed": false,
    "pycharm": {
     "name": "#%%\n"
    }
   }
  },
  {
   "cell_type": "code",
   "execution_count": 54,
   "outputs": [],
   "source": [
    "#pitch, yaw, roll\n",
    "# p = data[[\"136\"]].to_numpy()\n",
    "labels = raw_data[[\"138\"]].to_numpy()\n",
    "# y = raw_data[[\"137\"]].to_numpy()\n",
    "# r = raw_data[[\"138\"]].to_numpy()"
   ],
   "metadata": {
    "collapsed": false,
    "pycharm": {
     "name": "#%%\n"
    }
   }
  },
  {
   "cell_type": "code",
   "metadata": {
    "id": "U-gIWUBhfqKY",
    "executionInfo": {
     "status": "ok",
     "timestamp": 1649550560338,
     "user_tz": -120,
     "elapsed": 703,
     "user": {
      "displayName": "Abdelrhman Amr",
      "userId": "09344834973078055484"
     }
    },
    "pycharm": {
     "name": "#%%\n"
    }
   },
   "source": [
    "from sklearn.model_selection import train_test_split"
   ],
   "execution_count": 55,
   "outputs": []
  },
  {
   "cell_type": "code",
   "metadata": {
    "id": "p3CZd8UGfqKY",
    "executionInfo": {
     "status": "ok",
     "timestamp": 1649550560338,
     "user_tz": -120,
     "elapsed": 3,
     "user": {
      "displayName": "Abdelrhman Amr",
      "userId": "09344834973078055484"
     }
    },
    "pycharm": {
     "name": "#%%\n"
    }
   },
   "source": [
    "# split data by 60% train ; use random_state=100\n",
    "features_train, features_validation_test, labels_train, labels_validation_test = train_test_split(features, labels, test_size = 0.2, random_state=100)"
   ],
   "execution_count": 56,
   "outputs": []
  },
  {
   "cell_type": "code",
   "metadata": {
    "id": "oZXTP5lgfqKY",
    "executionInfo": {
     "status": "ok",
     "timestamp": 1649550561048,
     "user_tz": -120,
     "elapsed": 2,
     "user": {
      "displayName": "Abdelrhman Amr",
      "userId": "09344834973078055484"
     }
    },
    "pycharm": {
     "name": "#%%\n"
    }
   },
   "source": [
    "# split test data by 50% validation and 50% test ; use random_state=100\n",
    "features_validation, features_test, labels_validation, labels_test = train_test_split(features_validation_test, labels_validation_test, test_size = 0.5, random_state=100)"
   ],
   "execution_count": 57,
   "outputs": []
  },
  {
   "cell_type": "code",
   "metadata": {
    "id": "oCRpVXr0fqKY",
    "colab": {
     "base_uri": "https://localhost:8080/"
    },
    "executionInfo": {
     "status": "ok",
     "timestamp": 1649550561629,
     "user_tz": -120,
     "elapsed": 2,
     "user": {
      "displayName": "Abdelrhman Amr",
      "userId": "09344834973078055484"
     }
    },
    "outputId": "f2648227-abfa-4b64-959b-95164f2f13cd",
    "pycharm": {
     "name": "#%%\n"
    }
   },
   "source": [
    "print(len(features_train))\n",
    "print(len(features_validation))\n",
    "print(len(features_test))\n",
    "print(len(labels_train))\n",
    "print(len(labels_validation))\n",
    "print(len(labels_test))"
   ],
   "execution_count": 58,
   "outputs": [
    {
     "name": "stdout",
     "output_type": "stream",
     "text": [
      "1600\n",
      "200\n",
      "200\n",
      "1600\n",
      "200\n",
      "200\n"
     ]
    }
   ]
  },
  {
   "cell_type": "markdown",
   "metadata": {
    "id": "5dJMAfTUfqKZ",
    "pycharm": {
     "name": "#%% md\n"
    }
   },
   "source": [
    "### 12.4.2 Training different models on our dataset\n",
    "\n",
    "We'll train six models:\n",
    "- Linear Regression\n",
    "- Decision tree Regressor\n",
    "- Support vector Regression (SVR)\n",
    "- RandomForestRegressor\n",
    "- GradientBoostingRegressor\n",
    "- AdaBoostRegressor"
   ]
  },
  {
   "cell_type": "code",
   "execution_count": 59,
   "outputs": [],
   "source": [
    "# Train linear regression model\n",
    "from sklearn.linear_model import LinearRegression\n",
    "\n",
    "lr_model = LinearRegression().fit(features_train, labels_train)"
   ],
   "metadata": {
    "collapsed": false,
    "pycharm": {
     "name": "#%%\n"
    }
   }
  },
  {
   "cell_type": "code",
   "metadata": {
    "id": "DThp9iwIfqKZ",
    "executionInfo": {
     "status": "ok",
     "timestamp": 1649550563656,
     "user_tz": -120,
     "elapsed": 282,
     "user": {
      "displayName": "Abdelrhman Amr",
      "userId": "09344834973078055484"
     }
    },
    "pycharm": {
     "name": "#%%\n"
    }
   },
   "source": [
    "# Train decision tree model ; don't use any hyperparameter\n",
    "from sklearn.tree import DecisionTreeRegressor\n",
    "\n",
    "dt_model = DecisionTreeRegressor().fit(features_train, labels_train)"
   ],
   "execution_count": 60,
   "outputs": []
  },
  {
   "cell_type": "code",
   "metadata": {
    "id": "8yMO82c9fqKa",
    "executionInfo": {
     "status": "ok",
     "timestamp": 1649550563957,
     "user_tz": -120,
     "elapsed": 1,
     "user": {
      "displayName": "Abdelrhman Amr",
      "userId": "09344834973078055484"
     }
    },
    "pycharm": {
     "name": "#%%\n"
    }
   },
   "source": [
    "# Train SVM model ; don't use any hyperparameter\n",
    "from sklearn.svm import SVR\n",
    "\n",
    "svm_model = SVR().fit(features_train, labels_train)"
   ],
   "execution_count": 61,
   "outputs": [
    {
     "name": "stderr",
     "output_type": "stream",
     "text": [
      "D:\\Applications\\Anaconda\\Installation\\lib\\site-packages\\sklearn\\utils\\validation.py:63: DataConversionWarning: A column-vector y was passed when a 1d array was expected. Please change the shape of y to (n_samples, ), for example using ravel().\n",
      "  return f(*args, **kwargs)\n"
     ]
    }
   ]
  },
  {
   "cell_type": "code",
   "execution_count": 62,
   "outputs": [
    {
     "name": "stderr",
     "output_type": "stream",
     "text": [
      "D:\\Applications\\Anaconda\\Installation\\lib\\site-packages\\sklearn\\utils\\validation.py:63: DataConversionWarning: A column-vector y was passed when a 1d array was expected. Please change the shape of y to (n_samples, ), for example using ravel().\n",
      "  return f(*args, **kwargs)\n",
      "D:\\Applications\\Anaconda\\Installation\\lib\\site-packages\\sklearn\\utils\\validation.py:63: DataConversionWarning: A column-vector y was passed when a 1d array was expected. Please change the shape of y to (n_samples, ), for example using ravel().\n",
      "  return f(*args, **kwargs)\n",
      "D:\\Applications\\Anaconda\\Installation\\lib\\site-packages\\sklearn\\utils\\validation.py:63: DataConversionWarning: A column-vector y was passed when a 1d array was expected. Please change the shape of y to (n_samples, ), for example using ravel().\n",
      "  return f(*args, **kwargs)\n",
      "D:\\Applications\\Anaconda\\Installation\\lib\\site-packages\\sklearn\\utils\\validation.py:63: DataConversionWarning: A column-vector y was passed when a 1d array was expected. Please change the shape of y to (n_samples, ), for example using ravel().\n",
      "  return f(*args, **kwargs)\n",
      "D:\\Applications\\Anaconda\\Installation\\lib\\site-packages\\sklearn\\utils\\validation.py:63: DataConversionWarning: A column-vector y was passed when a 1d array was expected. Please change the shape of y to (n_samples, ), for example using ravel().\n",
      "  return f(*args, **kwargs)\n",
      "D:\\Applications\\Anaconda\\Installation\\lib\\site-packages\\sklearn\\utils\\validation.py:63: DataConversionWarning: A column-vector y was passed when a 1d array was expected. Please change the shape of y to (n_samples, ), for example using ravel().\n",
      "  return f(*args, **kwargs)\n"
     ]
    }
   ],
   "source": [
    "# Train SVM model ; don't use any hyperparameter\n",
    "from sklearn.svm import SVR\n",
    "\n",
    "svr_model_linear = SVR(kernel='linear').fit(features_train, labels_train)\n",
    "svr_model_poly = SVR(kernel='poly').fit(features_train, labels_train)           # default = 3\n",
    "svr_model_poly4 = SVR(kernel='poly', degree=4).fit(features_train, labels_train)\n",
    "svr_model_poly5 = SVR(kernel='poly', degree=5).fit(features_train, labels_train)\n",
    "svr_model_rbf = SVR(kernel='rbf').fit(features_train, labels_train)\n",
    "svr_model_sigmoid = SVR(kernel='sigmoid').fit(features_train, labels_train)\n",
    "#svr_model_precomputed = SVR(kernel='precomputed').fit(features_train, labels_train)\n"
   ],
   "metadata": {
    "collapsed": false,
    "pycharm": {
     "name": "#%%\n"
    }
   }
  },
  {
   "cell_type": "code",
   "execution_count": 63,
   "outputs": [
    {
     "name": "stdout",
     "output_type": "stream",
     "text": [
      "SVR_L: 0.46706799339135485\n",
      "SVR_P: 0.32697980431977036\n",
      "SVR_P4: 0.28657674362988794\n",
      "SVR_P5: 0.17969409196922437\n",
      "SVR_rbf: 0.4614534832688765\n",
      "SVR_sigmoid: -327.5684597488376\n"
     ]
    }
   ],
   "source": [
    "print(\"SVR_L:\", svr_model_linear.score(features_validation,labels_validation))\n",
    "print(\"SVR_P:\", svr_model_poly.score(features_validation,labels_validation))\n",
    "print(\"SVR_P4:\", svr_model_poly4.score(features_validation,labels_validation))\n",
    "print(\"SVR_P5:\", svr_model_poly5.score(features_validation,labels_validation))\n",
    "print(\"SVR_rbf:\", svr_model_rbf.score(features_validation,labels_validation))\n",
    "print(\"SVR_sigmoid:\", svr_model_sigmoid.score(features_validation,labels_validation))\n",
    "#print(\"SVR_pre:\", svr_model_precomputed.score(features_validation,labels_validation))"
   ],
   "metadata": {
    "collapsed": false,
    "pycharm": {
     "name": "#%%\n"
    }
   }
  },
  {
   "cell_type": "code",
   "metadata": {
    "id": "yhIfxavqfqKa",
    "executionInfo": {
     "status": "ok",
     "timestamp": 1649550565109,
     "user_tz": -120,
     "elapsed": 281,
     "user": {
      "displayName": "Abdelrhman Amr",
      "userId": "09344834973078055484"
     }
    },
    "pycharm": {
     "name": "#%%\n"
    }
   },
   "source": [
    "# Train random forest model ; don't use any hyperparameter\n",
    "from sklearn.ensemble import RandomForestRegressor\n",
    "\n",
    "rf_model = RandomForestRegressor().fit(features_train, labels_train)"
   ],
   "execution_count": 64,
   "outputs": [
    {
     "name": "stderr",
     "output_type": "stream",
     "text": [
      "C:\\Users\\ABDELR~1\\AppData\\Local\\Temp/ipykernel_19344/198170182.py:4: DataConversionWarning: A column-vector y was passed when a 1d array was expected. Please change the shape of y to (n_samples,), for example using ravel().\n",
      "  rf_model = RandomForestRegressor().fit(features_train, labels_train)\n"
     ]
    }
   ]
  },
  {
   "cell_type": "code",
   "metadata": {
    "id": "EW7wDPHIfqKa",
    "executionInfo": {
     "status": "ok",
     "timestamp": 1649550565109,
     "user_tz": -120,
     "elapsed": 2,
     "user": {
      "displayName": "Abdelrhman Amr",
      "userId": "09344834973078055484"
     }
    },
    "pycharm": {
     "name": "#%%\n"
    }
   },
   "source": [
    "# Train gradient boosting model ; don't use any hyperparameter\n",
    "from sklearn.ensemble import GradientBoostingRegressor\n",
    "\n",
    "gb_model = GradientBoostingRegressor().fit(features_train, labels_train)"
   ],
   "execution_count": 65,
   "outputs": [
    {
     "name": "stderr",
     "output_type": "stream",
     "text": [
      "D:\\Applications\\Anaconda\\Installation\\lib\\site-packages\\sklearn\\utils\\validation.py:63: DataConversionWarning: A column-vector y was passed when a 1d array was expected. Please change the shape of y to (n_samples, ), for example using ravel().\n",
      "  return f(*args, **kwargs)\n"
     ]
    }
   ]
  },
  {
   "cell_type": "code",
   "metadata": {
    "id": "YPmyHC-ZfqKa",
    "executionInfo": {
     "status": "ok",
     "timestamp": 1649550565406,
     "user_tz": -120,
     "elapsed": 2,
     "user": {
      "displayName": "Abdelrhman Amr",
      "userId": "09344834973078055484"
     }
    },
    "pycharm": {
     "name": "#%%\n"
    }
   },
   "source": [
    "# Train Adaboost model ; don't use any hyperparameter\n",
    "from sklearn.ensemble import AdaBoostRegressor\n",
    "\n",
    "ab_model = AdaBoostRegressor().fit(features_train, labels_train)"
   ],
   "execution_count": 66,
   "outputs": [
    {
     "name": "stderr",
     "output_type": "stream",
     "text": [
      "D:\\Applications\\Anaconda\\Installation\\lib\\site-packages\\sklearn\\utils\\validation.py:63: DataConversionWarning: A column-vector y was passed when a 1d array was expected. Please change the shape of y to (n_samples, ), for example using ravel().\n",
      "  return f(*args, **kwargs)\n"
     ]
    }
   ]
  },
  {
   "cell_type": "code",
   "execution_count": 67,
   "outputs": [
    {
     "ename": "ValueError",
     "evalue": "Found input variables with inconsistent numbers of samples: [1600, 1200]",
     "output_type": "error",
     "traceback": [
      "\u001B[1;31m---------------------------------------------------------------------------\u001B[0m",
      "\u001B[1;31mValueError\u001B[0m                                Traceback (most recent call last)",
      "\u001B[1;32mC:\\Users\\ABDELR~1\\AppData\\Local\\Temp/ipykernel_19344/138392500.py\u001B[0m in \u001B[0;36m<module>\u001B[1;34m\u001B[0m\n\u001B[0;32m      3\u001B[0m \u001B[0mlabels_train\u001B[0m \u001B[1;33m=\u001B[0m \u001B[0mraw_data\u001B[0m\u001B[1;33m.\u001B[0m\u001B[0miloc\u001B[0m\u001B[1;33m[\u001B[0m\u001B[1;36m0\u001B[0m\u001B[1;33m:\u001B[0m\u001B[1;36m1200\u001B[0m\u001B[1;33m,\u001B[0m\u001B[1;36m136\u001B[0m\u001B[1;33m:\u001B[0m\u001B[1;36m140\u001B[0m\u001B[1;33m]\u001B[0m\u001B[1;33m.\u001B[0m\u001B[0mto_numpy\u001B[0m\u001B[1;33m(\u001B[0m\u001B[1;33m)\u001B[0m\u001B[1;33m\u001B[0m\u001B[1;33m\u001B[0m\u001B[0m\n\u001B[0;32m      4\u001B[0m \u001B[1;31m# ab_model = AdaBoostRegressor().fit(features_train, labels_train)\u001B[0m\u001B[1;33m\u001B[0m\u001B[1;33m\u001B[0m\u001B[0m\n\u001B[1;32m----> 5\u001B[1;33m \u001B[0mmor_model\u001B[0m \u001B[1;33m=\u001B[0m \u001B[0mMultiOutputRegressor\u001B[0m\u001B[1;33m(\u001B[0m\u001B[0mGradientBoostingRegressor\u001B[0m\u001B[1;33m(\u001B[0m\u001B[0mrandom_state\u001B[0m\u001B[1;33m=\u001B[0m\u001B[1;36m0\u001B[0m\u001B[1;33m)\u001B[0m\u001B[1;33m)\u001B[0m\u001B[1;33m.\u001B[0m\u001B[0mfit\u001B[0m\u001B[1;33m(\u001B[0m\u001B[0mfeatures_train\u001B[0m\u001B[1;33m,\u001B[0m \u001B[0mlabels_train\u001B[0m\u001B[1;33m)\u001B[0m\u001B[1;33m\u001B[0m\u001B[1;33m\u001B[0m\u001B[0m\n\u001B[0m\u001B[0;32m      6\u001B[0m     \u001B[1;31m# .predict(features_validation)\u001B[0m\u001B[1;33m\u001B[0m\u001B[1;33m\u001B[0m\u001B[0m\n",
      "\u001B[1;32mD:\\Applications\\Anaconda\\Installation\\lib\\site-packages\\sklearn\\multioutput.py\u001B[0m in \u001B[0;36mfit\u001B[1;34m(self, X, y, sample_weight, **fit_params)\u001B[0m\n\u001B[0;32m    158\u001B[0m                              \" a fit method\")\n\u001B[0;32m    159\u001B[0m \u001B[1;33m\u001B[0m\u001B[0m\n\u001B[1;32m--> 160\u001B[1;33m         X, y = self._validate_data(X, y,\n\u001B[0m\u001B[0;32m    161\u001B[0m                                    \u001B[0mforce_all_finite\u001B[0m\u001B[1;33m=\u001B[0m\u001B[1;32mFalse\u001B[0m\u001B[1;33m,\u001B[0m\u001B[1;33m\u001B[0m\u001B[1;33m\u001B[0m\u001B[0m\n\u001B[0;32m    162\u001B[0m                                    multi_output=True, accept_sparse=True)\n",
      "\u001B[1;32mD:\\Applications\\Anaconda\\Installation\\lib\\site-packages\\sklearn\\base.py\u001B[0m in \u001B[0;36m_validate_data\u001B[1;34m(self, X, y, reset, validate_separately, **check_params)\u001B[0m\n\u001B[0;32m    431\u001B[0m                 \u001B[0my\u001B[0m \u001B[1;33m=\u001B[0m \u001B[0mcheck_array\u001B[0m\u001B[1;33m(\u001B[0m\u001B[0my\u001B[0m\u001B[1;33m,\u001B[0m \u001B[1;33m**\u001B[0m\u001B[0mcheck_y_params\u001B[0m\u001B[1;33m)\u001B[0m\u001B[1;33m\u001B[0m\u001B[1;33m\u001B[0m\u001B[0m\n\u001B[0;32m    432\u001B[0m             \u001B[1;32melse\u001B[0m\u001B[1;33m:\u001B[0m\u001B[1;33m\u001B[0m\u001B[1;33m\u001B[0m\u001B[0m\n\u001B[1;32m--> 433\u001B[1;33m                 \u001B[0mX\u001B[0m\u001B[1;33m,\u001B[0m \u001B[0my\u001B[0m \u001B[1;33m=\u001B[0m \u001B[0mcheck_X_y\u001B[0m\u001B[1;33m(\u001B[0m\u001B[0mX\u001B[0m\u001B[1;33m,\u001B[0m \u001B[0my\u001B[0m\u001B[1;33m,\u001B[0m \u001B[1;33m**\u001B[0m\u001B[0mcheck_params\u001B[0m\u001B[1;33m)\u001B[0m\u001B[1;33m\u001B[0m\u001B[1;33m\u001B[0m\u001B[0m\n\u001B[0m\u001B[0;32m    434\u001B[0m             \u001B[0mout\u001B[0m \u001B[1;33m=\u001B[0m \u001B[0mX\u001B[0m\u001B[1;33m,\u001B[0m \u001B[0my\u001B[0m\u001B[1;33m\u001B[0m\u001B[1;33m\u001B[0m\u001B[0m\n\u001B[0;32m    435\u001B[0m \u001B[1;33m\u001B[0m\u001B[0m\n",
      "\u001B[1;32mD:\\Applications\\Anaconda\\Installation\\lib\\site-packages\\sklearn\\utils\\validation.py\u001B[0m in \u001B[0;36minner_f\u001B[1;34m(*args, **kwargs)\u001B[0m\n\u001B[0;32m     61\u001B[0m             \u001B[0mextra_args\u001B[0m \u001B[1;33m=\u001B[0m \u001B[0mlen\u001B[0m\u001B[1;33m(\u001B[0m\u001B[0margs\u001B[0m\u001B[1;33m)\u001B[0m \u001B[1;33m-\u001B[0m \u001B[0mlen\u001B[0m\u001B[1;33m(\u001B[0m\u001B[0mall_args\u001B[0m\u001B[1;33m)\u001B[0m\u001B[1;33m\u001B[0m\u001B[1;33m\u001B[0m\u001B[0m\n\u001B[0;32m     62\u001B[0m             \u001B[1;32mif\u001B[0m \u001B[0mextra_args\u001B[0m \u001B[1;33m<=\u001B[0m \u001B[1;36m0\u001B[0m\u001B[1;33m:\u001B[0m\u001B[1;33m\u001B[0m\u001B[1;33m\u001B[0m\u001B[0m\n\u001B[1;32m---> 63\u001B[1;33m                 \u001B[1;32mreturn\u001B[0m \u001B[0mf\u001B[0m\u001B[1;33m(\u001B[0m\u001B[1;33m*\u001B[0m\u001B[0margs\u001B[0m\u001B[1;33m,\u001B[0m \u001B[1;33m**\u001B[0m\u001B[0mkwargs\u001B[0m\u001B[1;33m)\u001B[0m\u001B[1;33m\u001B[0m\u001B[1;33m\u001B[0m\u001B[0m\n\u001B[0m\u001B[0;32m     64\u001B[0m \u001B[1;33m\u001B[0m\u001B[0m\n\u001B[0;32m     65\u001B[0m             \u001B[1;31m# extra_args > 0\u001B[0m\u001B[1;33m\u001B[0m\u001B[1;33m\u001B[0m\u001B[0m\n",
      "\u001B[1;32mD:\\Applications\\Anaconda\\Installation\\lib\\site-packages\\sklearn\\utils\\validation.py\u001B[0m in \u001B[0;36mcheck_X_y\u001B[1;34m(X, y, accept_sparse, accept_large_sparse, dtype, order, copy, force_all_finite, ensure_2d, allow_nd, multi_output, ensure_min_samples, ensure_min_features, y_numeric, estimator)\u001B[0m\n\u001B[0;32m    886\u001B[0m         \u001B[0my\u001B[0m \u001B[1;33m=\u001B[0m \u001B[0my\u001B[0m\u001B[1;33m.\u001B[0m\u001B[0mastype\u001B[0m\u001B[1;33m(\u001B[0m\u001B[0mnp\u001B[0m\u001B[1;33m.\u001B[0m\u001B[0mfloat64\u001B[0m\u001B[1;33m)\u001B[0m\u001B[1;33m\u001B[0m\u001B[1;33m\u001B[0m\u001B[0m\n\u001B[0;32m    887\u001B[0m \u001B[1;33m\u001B[0m\u001B[0m\n\u001B[1;32m--> 888\u001B[1;33m     \u001B[0mcheck_consistent_length\u001B[0m\u001B[1;33m(\u001B[0m\u001B[0mX\u001B[0m\u001B[1;33m,\u001B[0m \u001B[0my\u001B[0m\u001B[1;33m)\u001B[0m\u001B[1;33m\u001B[0m\u001B[1;33m\u001B[0m\u001B[0m\n\u001B[0m\u001B[0;32m    889\u001B[0m \u001B[1;33m\u001B[0m\u001B[0m\n\u001B[0;32m    890\u001B[0m     \u001B[1;32mreturn\u001B[0m \u001B[0mX\u001B[0m\u001B[1;33m,\u001B[0m \u001B[0my\u001B[0m\u001B[1;33m\u001B[0m\u001B[1;33m\u001B[0m\u001B[0m\n",
      "\u001B[1;32mD:\\Applications\\Anaconda\\Installation\\lib\\site-packages\\sklearn\\utils\\validation.py\u001B[0m in \u001B[0;36mcheck_consistent_length\u001B[1;34m(*arrays)\u001B[0m\n\u001B[0;32m    317\u001B[0m     \u001B[0muniques\u001B[0m \u001B[1;33m=\u001B[0m \u001B[0mnp\u001B[0m\u001B[1;33m.\u001B[0m\u001B[0munique\u001B[0m\u001B[1;33m(\u001B[0m\u001B[0mlengths\u001B[0m\u001B[1;33m)\u001B[0m\u001B[1;33m\u001B[0m\u001B[1;33m\u001B[0m\u001B[0m\n\u001B[0;32m    318\u001B[0m     \u001B[1;32mif\u001B[0m \u001B[0mlen\u001B[0m\u001B[1;33m(\u001B[0m\u001B[0muniques\u001B[0m\u001B[1;33m)\u001B[0m \u001B[1;33m>\u001B[0m \u001B[1;36m1\u001B[0m\u001B[1;33m:\u001B[0m\u001B[1;33m\u001B[0m\u001B[1;33m\u001B[0m\u001B[0m\n\u001B[1;32m--> 319\u001B[1;33m         raise ValueError(\"Found input variables with inconsistent numbers of\"\n\u001B[0m\u001B[0;32m    320\u001B[0m                          \" samples: %r\" % [int(l) for l in lengths])\n\u001B[0;32m    321\u001B[0m \u001B[1;33m\u001B[0m\u001B[0m\n",
      "\u001B[1;31mValueError\u001B[0m: Found input variables with inconsistent numbers of samples: [1600, 1200]"
     ]
    }
   ],
   "source": [
    "# Train Adaboost model ; don't use any hyperparameter\n",
    "from sklearn.multioutput import MultiOutputRegressor\n",
    "labels_train = raw_data.iloc[0:1200,136:140].to_numpy()\n",
    "# ab_model = AdaBoostRegressor().fit(features_train, labels_train)\n",
    "mor_model = MultiOutputRegressor(GradientBoostingRegressor(random_state=0)).fit(features_train, labels_train)\n",
    "    # .predict(features_validation)"
   ],
   "metadata": {
    "collapsed": false,
    "pycharm": {
     "name": "#%%\n"
    }
   }
  },
  {
   "cell_type": "markdown",
   "metadata": {
    "id": "6jF0KbS_fqKb",
    "pycharm": {
     "name": "#%% md\n"
    }
   },
   "source": [
    "### 12.4.3 Evaluating the models\n",
    "\n",
    "#### Accuracy"
   ]
  },
  {
   "cell_type": "code",
   "metadata": {
    "id": "hjeMJk4KfqKb",
    "colab": {
     "base_uri": "https://localhost:8080/"
    },
    "executionInfo": {
     "status": "ok",
     "timestamp": 1649550566317,
     "user_tz": -120,
     "elapsed": 2,
     "user": {
      "displayName": "Abdelrhman Amr",
      "userId": "09344834973078055484"
     }
    },
    "outputId": "fc559e6f-4639-4fe5-8c9e-6238c0a4533c",
    "pycharm": {
     "name": "#%%\n"
    }
   },
   "source": [
    "# print accuracy of each model on validation data\n",
    "print(\"Scores of the models\")\n",
    "print(\"Linear regression:\", lr_model.score(features_validation,labels_validation))\n",
    "print(\"Decision tree:\", dt_model.score(features_validation,labels_validation))\n",
    "print(\"SVR:\", svm_model.score(features_validation,labels_validation))\n",
    "print(\"Random forest:\", rf_model.score(features_validation,labels_validation))\n",
    "print(\"Gradient boosting:\", gb_model.score(features_validation,labels_validation))\n",
    "print(\"AdaBoost:\", ab_model.score(features_validation,labels_validation))"
   ],
   "execution_count": null,
   "outputs": []
  },
  {
   "cell_type": "code",
   "execution_count": null,
   "outputs": [],
   "source": [
    "print(\"MultiOutputRegressor:\", mor_model.score(features_validation,labels_validation))"
   ],
   "metadata": {
    "collapsed": false,
    "pycharm": {
     "name": "#%%\n"
    }
   }
  },
  {
   "cell_type": "markdown",
   "metadata": {
    "id": "gCUK9NJXfqKb",
    "pycharm": {
     "name": "#%% md\n"
    }
   },
   "source": [
    "#### R2-score"
   ]
  },
  {
   "cell_type": "code",
   "metadata": {
    "id": "QU9uZMJkfqKb",
    "colab": {
     "base_uri": "https://localhost:8080/"
    },
    "executionInfo": {
     "status": "ok",
     "timestamp": 1649550567068,
     "user_tz": -120,
     "elapsed": 3,
     "user": {
      "displayName": "Abdelrhman Amr",
      "userId": "09344834973078055484"
     }
    },
    "outputId": "1a03abf9-ffe7-433b-c1e6-dd15799d304c",
    "pycharm": {
     "name": "#%%\n"
    }
   },
   "source": [
    "# print F1-score of each model on validation data\n",
    "from sklearn.metrics import r2_score\n",
    "\n",
    "print(\"R2-scores of the models:\")\n",
    "labels_predict = lr_model.predict(features_validation)\n",
    "print(\"Linear regression:\", r2_score(labels_validation, labels_predict))\n",
    "labels_predict = dt_model.predict(features_validation)\n",
    "print(\"Decision tree:\", r2_score(labels_validation, labels_predict))\n",
    "labels_predict = svm_model.predict(features_validation)\n",
    "print(\"SVR:\", r2_score(labels_validation, labels_predict))\n",
    "labels_predict = rf_model.predict(features_validation)\n",
    "print(\"Random forest:\", r2_score(labels_validation, labels_predict))\n",
    "labels_predict = gb_model.predict(features_validation)\n",
    "print(\"Gradient boosting:\", r2_score(labels_validation, labels_predict))\n",
    "labels_predict = ab_model.predict(features_validation)\n",
    "print(\"AdaBoost:\", r2_score(labels_validation, labels_predict))"
   ],
   "execution_count": 42,
   "outputs": [
    {
     "name": "stdout",
     "output_type": "stream",
     "text": [
      "R2-scores of the models:\n",
      "Linear regression: -0.053700129231005755\n",
      "Decision tree: -0.005263957434999744\n",
      "SVR: 0.8102198419725433\n",
      "Random forest: 0.8859681625002522\n",
      "Gradient boosting: 0.8934023246873457\n",
      "AdaBoost: 0.5501278709463763\n"
     ]
    }
   ]
  },
  {
   "cell_type": "markdown",
   "source": [
    "### R2-score"
   ],
   "metadata": {
    "collapsed": false,
    "pycharm": {
     "name": "#%% md\n"
    }
   }
  },
  {
   "cell_type": "code",
   "execution_count": 399,
   "outputs": [],
   "source": [
    "# r2score = r2_score(labels_validation, labels_predict, sample_weight=None, multioutput='uniform_average')\n",
    "# r2score"
   ],
   "metadata": {
    "collapsed": false,
    "pycharm": {
     "name": "#%%\n"
    }
   }
  },
  {
   "cell_type": "markdown",
   "metadata": {
    "id": "cN_q429mfqKb",
    "pycharm": {
     "name": "#%% md\n"
    }
   },
   "source": [
    "### 12.4.4 Testing the model\n",
    "\n",
    "Finding the accuracy and the F1-score of the model in the testing set."
   ]
  },
  {
   "cell_type": "code",
   "metadata": {
    "id": "_nfxWhppfqKb",
    "colab": {
     "base_uri": "https://localhost:8080/"
    },
    "executionInfo": {
     "status": "ok",
     "timestamp": 1649550568926,
     "user_tz": -120,
     "elapsed": 2,
     "user": {
      "displayName": "Abdelrhman Amr",
      "userId": "09344834973078055484"
     }
    },
    "outputId": "822ebfef-638d-4506-90ac-eee43221ec11",
    "pycharm": {
     "name": "#%%\n"
    }
   },
   "source": [
    "# print accuracy of gradient boost model on testing data\n",
    "print(\"Scores of the models\")\n",
    "print(\"Linear regression:\", lr_model.score(features_test,labels_test))\n",
    "print(\"Decision tree:\", dt_model.score(features_test,labels_test))\n",
    "print(\"SVR:\", svm_model.score(features_test,labels_test))\n",
    "print(\"Random forest:\", rf_model.score(features_test,labels_test))\n",
    "print(\"Gradient boosting:\", gb_model.score(features_test,labels_test))\n",
    "print(\"AdaBoost:\", ab_model.score(features_test,labels_test))\n"
   ],
   "execution_count": 44,
   "outputs": [
    {
     "name": "stdout",
     "output_type": "stream",
     "text": [
      "Scores of the models\n",
      "Linear regression: 0.20034384570105912\n",
      "Decision tree: 0.9246055194062415\n",
      "SVR: 0.528196813537839\n",
      "Random forest: 0.7981434388789141\n",
      "Gradient boosting: 0.8549227647035518\n",
      "AdaBoost: 0.623653438865412\n"
     ]
    }
   ]
  },
  {
   "cell_type": "code",
   "execution_count": 37,
   "outputs": [
    {
     "ename": "ValueError",
     "evalue": "y_true and y_pred have different number of output (1!=3)",
     "output_type": "error",
     "traceback": [
      "\u001B[1;31m---------------------------------------------------------------------------\u001B[0m",
      "\u001B[1;31mValueError\u001B[0m                                Traceback (most recent call last)",
      "\u001B[1;32mC:\\Users\\ABDELR~1\\AppData\\Local\\Temp/ipykernel_8592/1438678486.py\u001B[0m in \u001B[0;36m<module>\u001B[1;34m\u001B[0m\n\u001B[1;32m----> 1\u001B[1;33m \u001B[0mprint\u001B[0m\u001B[1;33m(\u001B[0m\u001B[1;34m\"MultiOutputRegressor:\"\u001B[0m\u001B[1;33m,\u001B[0m \u001B[0mmor_model\u001B[0m\u001B[1;33m.\u001B[0m\u001B[0mscore\u001B[0m\u001B[1;33m(\u001B[0m\u001B[0mfeatures_test\u001B[0m\u001B[1;33m,\u001B[0m\u001B[0mlabels_test\u001B[0m\u001B[1;33m)\u001B[0m\u001B[1;33m)\u001B[0m\u001B[1;33m\u001B[0m\u001B[1;33m\u001B[0m\u001B[0m\n\u001B[0m",
      "\u001B[1;32mD:\\Applications\\Anaconda\\Installation\\lib\\site-packages\\sklearn\\base.py\u001B[0m in \u001B[0;36mscore\u001B[1;34m(self, X, y, sample_weight)\u001B[0m\n\u001B[0;32m    552\u001B[0m         \u001B[1;32mfrom\u001B[0m \u001B[1;33m.\u001B[0m\u001B[0mmetrics\u001B[0m \u001B[1;32mimport\u001B[0m \u001B[0mr2_score\u001B[0m\u001B[1;33m\u001B[0m\u001B[1;33m\u001B[0m\u001B[0m\n\u001B[0;32m    553\u001B[0m         \u001B[0my_pred\u001B[0m \u001B[1;33m=\u001B[0m \u001B[0mself\u001B[0m\u001B[1;33m.\u001B[0m\u001B[0mpredict\u001B[0m\u001B[1;33m(\u001B[0m\u001B[0mX\u001B[0m\u001B[1;33m)\u001B[0m\u001B[1;33m\u001B[0m\u001B[1;33m\u001B[0m\u001B[0m\n\u001B[1;32m--> 554\u001B[1;33m         \u001B[1;32mreturn\u001B[0m \u001B[0mr2_score\u001B[0m\u001B[1;33m(\u001B[0m\u001B[0my\u001B[0m\u001B[1;33m,\u001B[0m \u001B[0my_pred\u001B[0m\u001B[1;33m,\u001B[0m \u001B[0msample_weight\u001B[0m\u001B[1;33m=\u001B[0m\u001B[0msample_weight\u001B[0m\u001B[1;33m)\u001B[0m\u001B[1;33m\u001B[0m\u001B[1;33m\u001B[0m\u001B[0m\n\u001B[0m\u001B[0;32m    555\u001B[0m \u001B[1;33m\u001B[0m\u001B[0m\n\u001B[0;32m    556\u001B[0m     \u001B[1;32mdef\u001B[0m \u001B[0m_more_tags\u001B[0m\u001B[1;33m(\u001B[0m\u001B[0mself\u001B[0m\u001B[1;33m)\u001B[0m\u001B[1;33m:\u001B[0m\u001B[1;33m\u001B[0m\u001B[1;33m\u001B[0m\u001B[0m\n",
      "\u001B[1;32mD:\\Applications\\Anaconda\\Installation\\lib\\site-packages\\sklearn\\utils\\validation.py\u001B[0m in \u001B[0;36minner_f\u001B[1;34m(*args, **kwargs)\u001B[0m\n\u001B[0;32m     61\u001B[0m             \u001B[0mextra_args\u001B[0m \u001B[1;33m=\u001B[0m \u001B[0mlen\u001B[0m\u001B[1;33m(\u001B[0m\u001B[0margs\u001B[0m\u001B[1;33m)\u001B[0m \u001B[1;33m-\u001B[0m \u001B[0mlen\u001B[0m\u001B[1;33m(\u001B[0m\u001B[0mall_args\u001B[0m\u001B[1;33m)\u001B[0m\u001B[1;33m\u001B[0m\u001B[1;33m\u001B[0m\u001B[0m\n\u001B[0;32m     62\u001B[0m             \u001B[1;32mif\u001B[0m \u001B[0mextra_args\u001B[0m \u001B[1;33m<=\u001B[0m \u001B[1;36m0\u001B[0m\u001B[1;33m:\u001B[0m\u001B[1;33m\u001B[0m\u001B[1;33m\u001B[0m\u001B[0m\n\u001B[1;32m---> 63\u001B[1;33m                 \u001B[1;32mreturn\u001B[0m \u001B[0mf\u001B[0m\u001B[1;33m(\u001B[0m\u001B[1;33m*\u001B[0m\u001B[0margs\u001B[0m\u001B[1;33m,\u001B[0m \u001B[1;33m**\u001B[0m\u001B[0mkwargs\u001B[0m\u001B[1;33m)\u001B[0m\u001B[1;33m\u001B[0m\u001B[1;33m\u001B[0m\u001B[0m\n\u001B[0m\u001B[0;32m     64\u001B[0m \u001B[1;33m\u001B[0m\u001B[0m\n\u001B[0;32m     65\u001B[0m             \u001B[1;31m# extra_args > 0\u001B[0m\u001B[1;33m\u001B[0m\u001B[1;33m\u001B[0m\u001B[0m\n",
      "\u001B[1;32mD:\\Applications\\Anaconda\\Installation\\lib\\site-packages\\sklearn\\metrics\\_regression.py\u001B[0m in \u001B[0;36mr2_score\u001B[1;34m(y_true, y_pred, sample_weight, multioutput)\u001B[0m\n\u001B[0;32m    674\u001B[0m     \u001B[1;33m-\u001B[0m\u001B[1;36m3.0\u001B[0m\u001B[1;33m\u001B[0m\u001B[1;33m\u001B[0m\u001B[0m\n\u001B[0;32m    675\u001B[0m     \"\"\"\n\u001B[1;32m--> 676\u001B[1;33m     y_type, y_true, y_pred, multioutput = _check_reg_targets(\n\u001B[0m\u001B[0;32m    677\u001B[0m         y_true, y_pred, multioutput)\n\u001B[0;32m    678\u001B[0m     \u001B[0mcheck_consistent_length\u001B[0m\u001B[1;33m(\u001B[0m\u001B[0my_true\u001B[0m\u001B[1;33m,\u001B[0m \u001B[0my_pred\u001B[0m\u001B[1;33m,\u001B[0m \u001B[0msample_weight\u001B[0m\u001B[1;33m)\u001B[0m\u001B[1;33m\u001B[0m\u001B[1;33m\u001B[0m\u001B[0m\n",
      "\u001B[1;32mD:\\Applications\\Anaconda\\Installation\\lib\\site-packages\\sklearn\\metrics\\_regression.py\u001B[0m in \u001B[0;36m_check_reg_targets\u001B[1;34m(y_true, y_pred, multioutput, dtype)\u001B[0m\n\u001B[0;32m     97\u001B[0m \u001B[1;33m\u001B[0m\u001B[0m\n\u001B[0;32m     98\u001B[0m     \u001B[1;32mif\u001B[0m \u001B[0my_true\u001B[0m\u001B[1;33m.\u001B[0m\u001B[0mshape\u001B[0m\u001B[1;33m[\u001B[0m\u001B[1;36m1\u001B[0m\u001B[1;33m]\u001B[0m \u001B[1;33m!=\u001B[0m \u001B[0my_pred\u001B[0m\u001B[1;33m.\u001B[0m\u001B[0mshape\u001B[0m\u001B[1;33m[\u001B[0m\u001B[1;36m1\u001B[0m\u001B[1;33m]\u001B[0m\u001B[1;33m:\u001B[0m\u001B[1;33m\u001B[0m\u001B[1;33m\u001B[0m\u001B[0m\n\u001B[1;32m---> 99\u001B[1;33m         raise ValueError(\"y_true and y_pred have different number of output \"\n\u001B[0m\u001B[0;32m    100\u001B[0m                          \"({0}!={1})\".format(y_true.shape[1], y_pred.shape[1]))\n\u001B[0;32m    101\u001B[0m \u001B[1;33m\u001B[0m\u001B[0m\n",
      "\u001B[1;31mValueError\u001B[0m: y_true and y_pred have different number of output (1!=3)"
     ]
    }
   ],
   "source": [
    "print(\"MultiOutputRegressor:\", mor_model.score(features_test,labels_test))"
   ],
   "metadata": {
    "collapsed": false,
    "pycharm": {
     "name": "#%%\n"
    }
   }
  },
  {
   "cell_type": "code",
   "metadata": {
    "id": "oW0DEPGxfqKc",
    "colab": {
     "base_uri": "https://localhost:8080/"
    },
    "executionInfo": {
     "status": "ok",
     "timestamp": 1649550570106,
     "user_tz": -120,
     "elapsed": 2,
     "user": {
      "displayName": "Abdelrhman Amr",
      "userId": "09344834973078055484"
     }
    },
    "outputId": "e6d8b275-6358-44a0-a7bc-81b8a7ab451d",
    "pycharm": {
     "name": "#%%\n"
    }
   },
   "source": [
    "# print F1-score of gradient boost model on testing data\n",
    "print(\"F1-scores of the models:\")\n",
    "labels_predict = lr_model.predict(features_test)\n",
    "print(\"Linear regression:\", f1_score(labels_test, labels_predict))\n",
    "labels_predict = dt_model.predict(features_test)\n",
    "print(\"Decision tree:\", f1_score(labels_test, labels_predict))\n",
    "labels_predict = svm_model.predict(features_test)\n",
    "print(\"SVM:\", f1_score(labels_test, labels_predict))\n",
    "labels_predict = rf_model.predict(features_test)\n",
    "print(\"Random forest:\", f1_score(labels_test, labels_predict))\n",
    "labels_predict = gb_model.predict(features_test)\n",
    "print(\"Gradient boosting:\", f1_score(labels_test, labels_predict))\n",
    "labels_predict = ab_model.predict(features_test)\n",
    "print(\"AdaBoost:\", f1_score(labels_test, labels_predict))"
   ],
   "execution_count": 38,
   "outputs": [
    {
     "name": "stdout",
     "output_type": "stream",
     "text": [
      "F1-scores of the models:\n"
     ]
    },
    {
     "ename": "NameError",
     "evalue": "name 'f1_score' is not defined",
     "output_type": "error",
     "traceback": [
      "\u001B[1;31m---------------------------------------------------------------------------\u001B[0m",
      "\u001B[1;31mNameError\u001B[0m                                 Traceback (most recent call last)",
      "\u001B[1;32mC:\\Users\\ABDELR~1\\AppData\\Local\\Temp/ipykernel_8592/1914555830.py\u001B[0m in \u001B[0;36m<module>\u001B[1;34m\u001B[0m\n\u001B[0;32m      2\u001B[0m \u001B[0mprint\u001B[0m\u001B[1;33m(\u001B[0m\u001B[1;34m\"F1-scores of the models:\"\u001B[0m\u001B[1;33m)\u001B[0m\u001B[1;33m\u001B[0m\u001B[1;33m\u001B[0m\u001B[0m\n\u001B[0;32m      3\u001B[0m \u001B[0mlabels_predict\u001B[0m \u001B[1;33m=\u001B[0m \u001B[0mlr_model\u001B[0m\u001B[1;33m.\u001B[0m\u001B[0mpredict\u001B[0m\u001B[1;33m(\u001B[0m\u001B[0mfeatures_test\u001B[0m\u001B[1;33m)\u001B[0m\u001B[1;33m\u001B[0m\u001B[1;33m\u001B[0m\u001B[0m\n\u001B[1;32m----> 4\u001B[1;33m \u001B[0mprint\u001B[0m\u001B[1;33m(\u001B[0m\u001B[1;34m\"Linear regression:\"\u001B[0m\u001B[1;33m,\u001B[0m \u001B[0mf1_score\u001B[0m\u001B[1;33m(\u001B[0m\u001B[0mlabels_test\u001B[0m\u001B[1;33m,\u001B[0m \u001B[0mlabels_predict\u001B[0m\u001B[1;33m)\u001B[0m\u001B[1;33m)\u001B[0m\u001B[1;33m\u001B[0m\u001B[1;33m\u001B[0m\u001B[0m\n\u001B[0m\u001B[0;32m      5\u001B[0m \u001B[0mlabels_predict\u001B[0m \u001B[1;33m=\u001B[0m \u001B[0mdt_model\u001B[0m\u001B[1;33m.\u001B[0m\u001B[0mpredict\u001B[0m\u001B[1;33m(\u001B[0m\u001B[0mfeatures_test\u001B[0m\u001B[1;33m)\u001B[0m\u001B[1;33m\u001B[0m\u001B[1;33m\u001B[0m\u001B[0m\n\u001B[0;32m      6\u001B[0m \u001B[0mprint\u001B[0m\u001B[1;33m(\u001B[0m\u001B[1;34m\"Decision tree:\"\u001B[0m\u001B[1;33m,\u001B[0m \u001B[0mf1_score\u001B[0m\u001B[1;33m(\u001B[0m\u001B[0mlabels_test\u001B[0m\u001B[1;33m,\u001B[0m \u001B[0mlabels_predict\u001B[0m\u001B[1;33m)\u001B[0m\u001B[1;33m)\u001B[0m\u001B[1;33m\u001B[0m\u001B[1;33m\u001B[0m\u001B[0m\n",
      "\u001B[1;31mNameError\u001B[0m: name 'f1_score' is not defined"
     ]
    }
   ]
  },
  {
   "cell_type": "markdown",
   "metadata": {
    "id": "r1XGztd2fqKc",
    "pycharm": {
     "name": "#%% md\n"
    }
   },
   "source": [
    "# 12.5 Grid search"
   ]
  },
  {
   "cell_type": "code",
   "metadata": {
    "id": "gAK1vV5WfqKc",
    "executionInfo": {
     "status": "ok",
     "timestamp": 1649550571456,
     "user_tz": -120,
     "elapsed": 2,
     "user": {
      "displayName": "Abdelrhman Amr",
      "userId": "09344834973078055484"
     }
    },
    "pycharm": {
     "name": "#%%\n"
    }
   },
   "source": [
    "from sklearn.model_selection import GridSearchCV\n",
    "# CV -> Cross validation"
   ],
   "execution_count": 50,
   "outputs": []
  },
  {
   "cell_type": "code",
   "metadata": {
    "id": "XrcPjLM1fqKc",
    "colab": {
     "base_uri": "https://localhost:8080/"
    },
    "executionInfo": {
     "status": "ok",
     "timestamp": 1649550575213,
     "user_tz": -120,
     "elapsed": 2880,
     "user": {
      "displayName": "Abdelrhman Amr",
      "userId": "09344834973078055484"
     }
    },
    "outputId": "b954ea00-c5d7-4b4a-8df4-b33e71c1226b",
    "pycharm": {
     "name": "#%%\n"
    }
   },
   "source": [
    "svm_parameters = {'kernel': ['rbf'],\n",
    "                  'C': [0.00001, 0.0005, 0.0001, 0.005, 0.001, 0.01, 0.1, 1 , 10, 50 ,100],\n",
    "                  'gamma': [0.00001, 0.0005, 0.0001, 0.005, 0.001, 0.01, 0.1, 1 , 10, 50 ,100]\n",
    "                }\n",
    "# use gridsearch to find the best hyperparameters \n",
    "svm = SVR()\n",
    "svm_gs = GridSearchCV(estimator = svm, param_grid = svm_parameters)\n",
    "\n",
    "svm_gs.fit(features_train, np.ravel(labels_train))\n",
    "# git the best model \n",
    "svm_winner = svm_gs.best_estimator_\n",
    "svm_winner\n",
    "\n",
    "svm_winner.score(features_validation, labels_validation)"
   ],
   "execution_count": 51,
   "outputs": [
    {
     "data": {
      "text/plain": "0.8161116264752026"
     },
     "execution_count": 51,
     "metadata": {},
     "output_type": "execute_result"
    }
   ]
  },
  {
   "cell_type": "code",
   "metadata": {
    "id": "jmtr0bLVfqKd",
    "colab": {
     "base_uri": "https://localhost:8080/"
    },
    "executionInfo": {
     "status": "ok",
     "timestamp": 1649507607939,
     "user_tz": -120,
     "elapsed": 7,
     "user": {
      "displayName": "Abdelrhman Amr",
      "userId": "09344834973078055484"
     }
    },
    "outputId": "5199b404-fe2a-4816-95f8-03e91f8ba628",
    "pycharm": {
     "name": "#%%\n"
    }
   },
   "source": [
    "svm_winner"
   ],
   "execution_count": 52,
   "outputs": [
    {
     "data": {
      "text/plain": "SVR(C=1, gamma=0.1)"
     },
     "execution_count": 52,
     "metadata": {},
     "output_type": "execute_result"
    }
   ]
  },
  {
   "cell_type": "markdown",
   "metadata": {
    "id": "VDqUNXY1fqKd",
    "pycharm": {
     "name": "#%% md\n"
    }
   },
   "source": [
    "# 12.6 Cross validation"
   ]
  },
  {
   "cell_type": "code",
   "metadata": {
    "id": "kqi1xhi0fqKd",
    "colab": {
     "base_uri": "https://localhost:8080/"
    },
    "executionInfo": {
     "status": "ok",
     "timestamp": 1649508144297,
     "user_tz": -120,
     "elapsed": 649,
     "user": {
      "displayName": "Abdelrhman Amr",
      "userId": "09344834973078055484"
     }
    },
    "outputId": "c7dedcc0-3b25-4706-bb2e-d696ead9f248",
    "pycharm": {
     "name": "#%%\n"
    }
   },
   "source": [
    "# print the k-fold cross validation output\n",
    "svm_gs.cv_results_"
   ],
   "execution_count": 130,
   "outputs": [
    {
     "data": {
      "text/plain": "{'mean_fit_time': array([0.10072088, 0.09500861, 0.09724603, 0.09981489, 0.09623604,\n        0.0942616 , 0.09264588, 0.09641542, 0.08277359, 0.0894721 ,\n        0.10405183, 0.07162514, 0.0719481 , 0.07056375, 0.06935363,\n        0.07058568, 0.06825309, 0.06538415, 0.06951003, 0.0725462 ,\n        0.08814545, 0.10289383, 0.07019873, 0.07035313, 0.07003007,\n        0.06930161, 0.07006574, 0.07182341, 0.07022729, 0.06817317,\n        0.07232251, 0.08461981, 0.10196209, 0.07058206, 0.07039108,\n        0.07023082, 0.06875591, 0.06902237, 0.060887  , 0.04012589,\n        0.05540051, 0.07140417, 0.0861712 , 0.10278678, 0.07250376,\n        0.07163081, 0.07162151, 0.07076964, 0.06949425, 0.06800408,\n        0.06173272, 0.06585522, 0.07360082, 0.08956084, 0.10307674,\n        0.0696291 , 0.06909113, 0.07111053, 0.06104555, 0.06893935,\n        0.0526752 , 0.03012204, 0.04971662, 0.07300773, 0.08750434,\n        0.10274982, 0.06950221, 0.0600975 , 0.06769543, 0.02861729,\n        0.05119395, 0.02419996, 0.02075276, 0.02918291, 0.07308288,\n        0.08798423, 0.10266404, 0.06740899, 0.02745066, 0.05151029,\n        0.02673869, 0.0256072 , 0.02461038, 0.02019544, 0.0300005 ,\n        0.08125873, 0.09494853, 0.1102726 , 0.05163283, 0.03031082,\n        0.02641392, 0.03000574, 0.03171806, 0.03293343, 0.03396869,\n        0.03558416, 0.08336921, 0.09900622, 0.11297302, 0.0280055 ,\n        0.0380095 , 0.03079729, 0.03800912, 0.03925352, 0.04121208,\n        0.05835547, 0.03730335, 0.08392172, 0.09951048, 0.11373372,\n        0.02702851, 0.04037361, 0.03579617, 0.04704423, 0.03781157,\n        0.06002135, 0.08380237, 0.03823657, 0.084938  , 0.10020161,\n        0.11389141]),\n 'std_fit_time': array([0.00938022, 0.00154965, 0.00255377, 0.00526937, 0.00330304,\n        0.00073885, 0.00346923, 0.00264859, 0.0076185 , 0.00443186,\n        0.00056304, 0.00224732, 0.00200609, 0.00131703, 0.00123855,\n        0.00101152, 0.00055753, 0.00058667, 0.00478756, 0.00132071,\n        0.00121677, 0.00065965, 0.00096691, 0.0013741 , 0.00064208,\n        0.00134386, 0.00128163, 0.00245806, 0.00159632, 0.00098643,\n        0.00085641, 0.00166612, 0.00127725, 0.00145335, 0.00166223,\n        0.00047072, 0.00656447, 0.00109081, 0.00106176, 0.00047447,\n        0.00080006, 0.00101495, 0.00154833, 0.00215509, 0.00217027,\n        0.00133041, 0.00171008, 0.00132633, 0.00106049, 0.00061944,\n        0.00117526, 0.00135565, 0.00187881, 0.00210006, 0.00195893,\n        0.00249685, 0.00109002, 0.00211077, 0.00090965, 0.00175014,\n        0.00100379, 0.00102486, 0.00223185, 0.00140746, 0.00086135,\n        0.00119288, 0.00113094, 0.00121336, 0.00069305, 0.00162159,\n        0.00074202, 0.00070411, 0.00075631, 0.0007864 , 0.00145452,\n        0.00144902, 0.00081103, 0.00078832, 0.00100804, 0.00136826,\n        0.00058877, 0.00047688, 0.00080134, 0.00075081, 0.00227667,\n        0.00424837, 0.00264515, 0.00198221, 0.00104328, 0.00091067,\n        0.0015072 , 0.00178705, 0.00074399, 0.00116694, 0.00085102,\n        0.00094174, 0.0025177 , 0.00252302, 0.00473096, 0.00089124,\n        0.00227841, 0.00074715, 0.00335366, 0.00126156, 0.00213486,\n        0.00408728, 0.00096192, 0.00091838, 0.00426296, 0.00226641,\n        0.00142333, 0.0010421 , 0.00238907, 0.00230224, 0.00040432,\n        0.00364064, 0.00245221, 0.00213111, 0.00463702, 0.00320137,\n        0.00259449]),\n 'mean_score_time': array([0.04799953, 0.04452538, 0.04623466, 0.04550829, 0.04277616,\n        0.04366531, 0.04374676, 0.04442492, 0.03574586, 0.04186659,\n        0.04158678, 0.03266144, 0.03313913, 0.03249578, 0.03216567,\n        0.03179703, 0.03127408, 0.03135624, 0.0316165 , 0.03200574,\n        0.03592682, 0.04055343, 0.03243494, 0.03221498, 0.03173866,\n        0.0346314 , 0.03221555, 0.03222694, 0.03179917, 0.03239894,\n        0.03213959, 0.03556561, 0.04003367, 0.03195   , 0.03181157,\n        0.03202133, 0.0304842 , 0.03123016, 0.0290782 , 0.01839724,\n        0.02592235, 0.03160901, 0.03661313, 0.0410953 , 0.03240895,\n        0.03305559, 0.0322113 , 0.03199992, 0.03144588, 0.0330224 ,\n        0.0299922 , 0.0306386 , 0.03266864, 0.03642731, 0.04093266,\n        0.03158827, 0.0317668 , 0.03186412, 0.02741647, 0.03132162,\n        0.0245966 , 0.01362519, 0.02279849, 0.03279743, 0.03560314,\n        0.0406836 , 0.03192058, 0.02712564, 0.03069386, 0.01212692,\n        0.02308793, 0.01040616, 0.00921082, 0.01200109, 0.03150716,\n        0.03661418, 0.03973131, 0.03144312, 0.01179752, 0.02374544,\n        0.01062522, 0.0109961 , 0.01001339, 0.00540152, 0.01107426,\n        0.03073125, 0.03616295, 0.04143014, 0.02300525, 0.01189089,\n        0.01099701, 0.00779452, 0.01118269, 0.00701227, 0.00659337,\n        0.01143618, 0.03126426, 0.03624458, 0.04040542, 0.01260042,\n        0.01219954, 0.01241031, 0.00699368, 0.01040163, 0.00680394,\n        0.00900636, 0.01269011, 0.03053284, 0.03699145, 0.04016919,\n        0.012604  , 0.01000533, 0.01425796, 0.0071053 , 0.0085916 ,\n        0.00685062, 0.0116147 , 0.01289973, 0.03077602, 0.03660598,\n        0.04054279]),\n 'std_score_time': array([8.59695612e-03, 1.41264771e-03, 2.51105234e-03, 1.01886435e-03,\n        8.59972390e-04, 1.18068164e-03, 1.20546223e-03, 1.02626774e-03,\n        2.78950737e-03, 1.11289342e-02, 1.98553208e-03, 8.25955683e-04,\n        6.78726209e-04, 1.17485468e-03, 8.06806916e-04, 7.44217224e-04,\n        7.92767424e-04, 2.37448737e-03, 4.90879558e-04, 8.83170443e-04,\n        5.14808422e-04, 6.10800213e-04, 9.82088606e-04, 7.20999647e-04,\n        5.93904205e-04, 6.26460693e-03, 7.08350440e-04, 2.66294304e-04,\n        3.96796385e-04, 8.03484959e-04, 4.62509243e-04, 4.27903448e-04,\n        8.21238305e-04, 6.35739035e-04, 7.39912040e-04, 5.39771478e-04,\n        4.30353632e-04, 7.69300931e-04, 2.49123160e-03, 4.88315116e-04,\n        5.11717489e-04, 4.93384226e-04, 8.03314904e-04, 1.75611384e-03,\n        5.03630838e-04, 9.05980956e-04, 7.41483130e-04, 6.26566758e-04,\n        8.34857938e-04, 2.52895619e-03, 2.36580059e-03, 1.33852840e-03,\n        1.46667366e-03, 8.27755760e-04, 5.32950271e-04, 3.34452556e-04,\n        6.28134760e-04, 1.13149652e-03, 4.78089096e-04, 5.91880749e-04,\n        6.73398825e-04, 7.83402563e-04, 3.99224899e-04, 1.72010318e-03,\n        4.92666818e-04, 1.00080871e-03, 7.34023684e-04, 6.68676151e-04,\n        5.76223379e-04, 6.61858684e-04, 6.50721858e-04, 4.84840993e-04,\n        1.95064099e-03, 7.74974081e-06, 7.09911369e-04, 4.91245384e-04,\n        3.98439132e-04, 4.85271603e-04, 3.98702952e-04, 7.66466728e-04,\n        7.74646151e-04, 6.25830632e-04, 5.61837849e-04, 4.88845785e-04,\n        1.22261533e-03, 3.77146313e-04, 5.06267031e-04, 1.89652938e-03,\n        6.31232916e-04, 2.16847432e-04, 6.31447228e-04, 7.49671706e-04,\n        2.29699176e-04, 1.29692695e-05, 4.86560267e-04, 5.38503023e-04,\n        3.69050595e-04, 1.01308885e-03, 1.01098749e-03, 4.90077193e-04,\n        1.47041858e-03, 4.88402693e-04, 9.26537667e-06, 4.90707617e-04,\n        4.01492623e-04, 1.15662256e-05, 6.08431684e-04, 6.37801865e-04,\n        2.35292199e-03, 1.09878364e-03, 1.35684910e-03, 6.40888452e-04,\n        1.89602097e-03, 2.21562754e-04, 4.96059162e-04, 4.36149308e-04,\n        7.97214070e-04, 6.08896249e-04, 8.95426357e-04, 1.02531509e-03,\n        4.58873318e-04]),\n 'param_C': masked_array(data=[1e-05, 1e-05, 1e-05, 1e-05, 1e-05, 1e-05, 1e-05, 1e-05,\n                    1e-05, 1e-05, 1e-05, 0.0005, 0.0005, 0.0005, 0.0005,\n                    0.0005, 0.0005, 0.0005, 0.0005, 0.0005, 0.0005, 0.0005,\n                    0.0001, 0.0001, 0.0001, 0.0001, 0.0001, 0.0001, 0.0001,\n                    0.0001, 0.0001, 0.0001, 0.0001, 0.005, 0.005, 0.005,\n                    0.005, 0.005, 0.005, 0.005, 0.005, 0.005, 0.005, 0.005,\n                    0.001, 0.001, 0.001, 0.001, 0.001, 0.001, 0.001, 0.001,\n                    0.001, 0.001, 0.001, 0.01, 0.01, 0.01, 0.01, 0.01,\n                    0.01, 0.01, 0.01, 0.01, 0.01, 0.01, 0.1, 0.1, 0.1, 0.1,\n                    0.1, 0.1, 0.1, 0.1, 0.1, 0.1, 0.1, 1, 1, 1, 1, 1, 1, 1,\n                    1, 1, 1, 1, 10, 10, 10, 10, 10, 10, 10, 10, 10, 10, 10,\n                    50, 50, 50, 50, 50, 50, 50, 50, 50, 50, 50, 100, 100,\n                    100, 100, 100, 100, 100, 100, 100, 100, 100],\n              mask=[False, False, False, False, False, False, False, False,\n                    False, False, False, False, False, False, False, False,\n                    False, False, False, False, False, False, False, False,\n                    False, False, False, False, False, False, False, False,\n                    False, False, False, False, False, False, False, False,\n                    False, False, False, False, False, False, False, False,\n                    False, False, False, False, False, False, False, False,\n                    False, False, False, False, False, False, False, False,\n                    False, False, False, False, False, False, False, False,\n                    False, False, False, False, False, False, False, False,\n                    False, False, False, False, False, False, False, False,\n                    False, False, False, False, False, False, False, False,\n                    False, False, False, False, False, False, False, False,\n                    False, False, False, False, False, False, False, False,\n                    False, False, False, False, False, False, False, False,\n                    False],\n        fill_value='?',\n             dtype=object),\n 'param_gamma': masked_array(data=[1e-05, 0.0005, 0.0001, 0.005, 0.001, 0.01, 0.1, 1, 10,\n                    50, 100, 1e-05, 0.0005, 0.0001, 0.005, 0.001, 0.01,\n                    0.1, 1, 10, 50, 100, 1e-05, 0.0005, 0.0001, 0.005,\n                    0.001, 0.01, 0.1, 1, 10, 50, 100, 1e-05, 0.0005,\n                    0.0001, 0.005, 0.001, 0.01, 0.1, 1, 10, 50, 100, 1e-05,\n                    0.0005, 0.0001, 0.005, 0.001, 0.01, 0.1, 1, 10, 50,\n                    100, 1e-05, 0.0005, 0.0001, 0.005, 0.001, 0.01, 0.1, 1,\n                    10, 50, 100, 1e-05, 0.0005, 0.0001, 0.005, 0.001, 0.01,\n                    0.1, 1, 10, 50, 100, 1e-05, 0.0005, 0.0001, 0.005,\n                    0.001, 0.01, 0.1, 1, 10, 50, 100, 1e-05, 0.0005,\n                    0.0001, 0.005, 0.001, 0.01, 0.1, 1, 10, 50, 100, 1e-05,\n                    0.0005, 0.0001, 0.005, 0.001, 0.01, 0.1, 1, 10, 50,\n                    100, 1e-05, 0.0005, 0.0001, 0.005, 0.001, 0.01, 0.1, 1,\n                    10, 50, 100],\n              mask=[False, False, False, False, False, False, False, False,\n                    False, False, False, False, False, False, False, False,\n                    False, False, False, False, False, False, False, False,\n                    False, False, False, False, False, False, False, False,\n                    False, False, False, False, False, False, False, False,\n                    False, False, False, False, False, False, False, False,\n                    False, False, False, False, False, False, False, False,\n                    False, False, False, False, False, False, False, False,\n                    False, False, False, False, False, False, False, False,\n                    False, False, False, False, False, False, False, False,\n                    False, False, False, False, False, False, False, False,\n                    False, False, False, False, False, False, False, False,\n                    False, False, False, False, False, False, False, False,\n                    False, False, False, False, False, False, False, False,\n                    False, False, False, False, False, False, False, False,\n                    False],\n        fill_value='?',\n             dtype=object),\n 'param_kernel': masked_array(data=['rbf', 'rbf', 'rbf', 'rbf', 'rbf', 'rbf', 'rbf', 'rbf',\n                    'rbf', 'rbf', 'rbf', 'rbf', 'rbf', 'rbf', 'rbf', 'rbf',\n                    'rbf', 'rbf', 'rbf', 'rbf', 'rbf', 'rbf', 'rbf', 'rbf',\n                    'rbf', 'rbf', 'rbf', 'rbf', 'rbf', 'rbf', 'rbf', 'rbf',\n                    'rbf', 'rbf', 'rbf', 'rbf', 'rbf', 'rbf', 'rbf', 'rbf',\n                    'rbf', 'rbf', 'rbf', 'rbf', 'rbf', 'rbf', 'rbf', 'rbf',\n                    'rbf', 'rbf', 'rbf', 'rbf', 'rbf', 'rbf', 'rbf', 'rbf',\n                    'rbf', 'rbf', 'rbf', 'rbf', 'rbf', 'rbf', 'rbf', 'rbf',\n                    'rbf', 'rbf', 'rbf', 'rbf', 'rbf', 'rbf', 'rbf', 'rbf',\n                    'rbf', 'rbf', 'rbf', 'rbf', 'rbf', 'rbf', 'rbf', 'rbf',\n                    'rbf', 'rbf', 'rbf', 'rbf', 'rbf', 'rbf', 'rbf', 'rbf',\n                    'rbf', 'rbf', 'rbf', 'rbf', 'rbf', 'rbf', 'rbf', 'rbf',\n                    'rbf', 'rbf', 'rbf', 'rbf', 'rbf', 'rbf', 'rbf', 'rbf',\n                    'rbf', 'rbf', 'rbf', 'rbf', 'rbf', 'rbf', 'rbf', 'rbf',\n                    'rbf', 'rbf', 'rbf', 'rbf', 'rbf', 'rbf', 'rbf', 'rbf',\n                    'rbf'],\n              mask=[False, False, False, False, False, False, False, False,\n                    False, False, False, False, False, False, False, False,\n                    False, False, False, False, False, False, False, False,\n                    False, False, False, False, False, False, False, False,\n                    False, False, False, False, False, False, False, False,\n                    False, False, False, False, False, False, False, False,\n                    False, False, False, False, False, False, False, False,\n                    False, False, False, False, False, False, False, False,\n                    False, False, False, False, False, False, False, False,\n                    False, False, False, False, False, False, False, False,\n                    False, False, False, False, False, False, False, False,\n                    False, False, False, False, False, False, False, False,\n                    False, False, False, False, False, False, False, False,\n                    False, False, False, False, False, False, False, False,\n                    False, False, False, False, False, False, False, False,\n                    False],\n        fill_value='?',\n             dtype=object),\n 'params': [{'C': 1e-05, 'gamma': 1e-05, 'kernel': 'rbf'},\n  {'C': 1e-05, 'gamma': 0.0005, 'kernel': 'rbf'},\n  {'C': 1e-05, 'gamma': 0.0001, 'kernel': 'rbf'},\n  {'C': 1e-05, 'gamma': 0.005, 'kernel': 'rbf'},\n  {'C': 1e-05, 'gamma': 0.001, 'kernel': 'rbf'},\n  {'C': 1e-05, 'gamma': 0.01, 'kernel': 'rbf'},\n  {'C': 1e-05, 'gamma': 0.1, 'kernel': 'rbf'},\n  {'C': 1e-05, 'gamma': 1, 'kernel': 'rbf'},\n  {'C': 1e-05, 'gamma': 10, 'kernel': 'rbf'},\n  {'C': 1e-05, 'gamma': 50, 'kernel': 'rbf'},\n  {'C': 1e-05, 'gamma': 100, 'kernel': 'rbf'},\n  {'C': 0.0005, 'gamma': 1e-05, 'kernel': 'rbf'},\n  {'C': 0.0005, 'gamma': 0.0005, 'kernel': 'rbf'},\n  {'C': 0.0005, 'gamma': 0.0001, 'kernel': 'rbf'},\n  {'C': 0.0005, 'gamma': 0.005, 'kernel': 'rbf'},\n  {'C': 0.0005, 'gamma': 0.001, 'kernel': 'rbf'},\n  {'C': 0.0005, 'gamma': 0.01, 'kernel': 'rbf'},\n  {'C': 0.0005, 'gamma': 0.1, 'kernel': 'rbf'},\n  {'C': 0.0005, 'gamma': 1, 'kernel': 'rbf'},\n  {'C': 0.0005, 'gamma': 10, 'kernel': 'rbf'},\n  {'C': 0.0005, 'gamma': 50, 'kernel': 'rbf'},\n  {'C': 0.0005, 'gamma': 100, 'kernel': 'rbf'},\n  {'C': 0.0001, 'gamma': 1e-05, 'kernel': 'rbf'},\n  {'C': 0.0001, 'gamma': 0.0005, 'kernel': 'rbf'},\n  {'C': 0.0001, 'gamma': 0.0001, 'kernel': 'rbf'},\n  {'C': 0.0001, 'gamma': 0.005, 'kernel': 'rbf'},\n  {'C': 0.0001, 'gamma': 0.001, 'kernel': 'rbf'},\n  {'C': 0.0001, 'gamma': 0.01, 'kernel': 'rbf'},\n  {'C': 0.0001, 'gamma': 0.1, 'kernel': 'rbf'},\n  {'C': 0.0001, 'gamma': 1, 'kernel': 'rbf'},\n  {'C': 0.0001, 'gamma': 10, 'kernel': 'rbf'},\n  {'C': 0.0001, 'gamma': 50, 'kernel': 'rbf'},\n  {'C': 0.0001, 'gamma': 100, 'kernel': 'rbf'},\n  {'C': 0.005, 'gamma': 1e-05, 'kernel': 'rbf'},\n  {'C': 0.005, 'gamma': 0.0005, 'kernel': 'rbf'},\n  {'C': 0.005, 'gamma': 0.0001, 'kernel': 'rbf'},\n  {'C': 0.005, 'gamma': 0.005, 'kernel': 'rbf'},\n  {'C': 0.005, 'gamma': 0.001, 'kernel': 'rbf'},\n  {'C': 0.005, 'gamma': 0.01, 'kernel': 'rbf'},\n  {'C': 0.005, 'gamma': 0.1, 'kernel': 'rbf'},\n  {'C': 0.005, 'gamma': 1, 'kernel': 'rbf'},\n  {'C': 0.005, 'gamma': 10, 'kernel': 'rbf'},\n  {'C': 0.005, 'gamma': 50, 'kernel': 'rbf'},\n  {'C': 0.005, 'gamma': 100, 'kernel': 'rbf'},\n  {'C': 0.001, 'gamma': 1e-05, 'kernel': 'rbf'},\n  {'C': 0.001, 'gamma': 0.0005, 'kernel': 'rbf'},\n  {'C': 0.001, 'gamma': 0.0001, 'kernel': 'rbf'},\n  {'C': 0.001, 'gamma': 0.005, 'kernel': 'rbf'},\n  {'C': 0.001, 'gamma': 0.001, 'kernel': 'rbf'},\n  {'C': 0.001, 'gamma': 0.01, 'kernel': 'rbf'},\n  {'C': 0.001, 'gamma': 0.1, 'kernel': 'rbf'},\n  {'C': 0.001, 'gamma': 1, 'kernel': 'rbf'},\n  {'C': 0.001, 'gamma': 10, 'kernel': 'rbf'},\n  {'C': 0.001, 'gamma': 50, 'kernel': 'rbf'},\n  {'C': 0.001, 'gamma': 100, 'kernel': 'rbf'},\n  {'C': 0.01, 'gamma': 1e-05, 'kernel': 'rbf'},\n  {'C': 0.01, 'gamma': 0.0005, 'kernel': 'rbf'},\n  {'C': 0.01, 'gamma': 0.0001, 'kernel': 'rbf'},\n  {'C': 0.01, 'gamma': 0.005, 'kernel': 'rbf'},\n  {'C': 0.01, 'gamma': 0.001, 'kernel': 'rbf'},\n  {'C': 0.01, 'gamma': 0.01, 'kernel': 'rbf'},\n  {'C': 0.01, 'gamma': 0.1, 'kernel': 'rbf'},\n  {'C': 0.01, 'gamma': 1, 'kernel': 'rbf'},\n  {'C': 0.01, 'gamma': 10, 'kernel': 'rbf'},\n  {'C': 0.01, 'gamma': 50, 'kernel': 'rbf'},\n  {'C': 0.01, 'gamma': 100, 'kernel': 'rbf'},\n  {'C': 0.1, 'gamma': 1e-05, 'kernel': 'rbf'},\n  {'C': 0.1, 'gamma': 0.0005, 'kernel': 'rbf'},\n  {'C': 0.1, 'gamma': 0.0001, 'kernel': 'rbf'},\n  {'C': 0.1, 'gamma': 0.005, 'kernel': 'rbf'},\n  {'C': 0.1, 'gamma': 0.001, 'kernel': 'rbf'},\n  {'C': 0.1, 'gamma': 0.01, 'kernel': 'rbf'},\n  {'C': 0.1, 'gamma': 0.1, 'kernel': 'rbf'},\n  {'C': 0.1, 'gamma': 1, 'kernel': 'rbf'},\n  {'C': 0.1, 'gamma': 10, 'kernel': 'rbf'},\n  {'C': 0.1, 'gamma': 50, 'kernel': 'rbf'},\n  {'C': 0.1, 'gamma': 100, 'kernel': 'rbf'},\n  {'C': 1, 'gamma': 1e-05, 'kernel': 'rbf'},\n  {'C': 1, 'gamma': 0.0005, 'kernel': 'rbf'},\n  {'C': 1, 'gamma': 0.0001, 'kernel': 'rbf'},\n  {'C': 1, 'gamma': 0.005, 'kernel': 'rbf'},\n  {'C': 1, 'gamma': 0.001, 'kernel': 'rbf'},\n  {'C': 1, 'gamma': 0.01, 'kernel': 'rbf'},\n  {'C': 1, 'gamma': 0.1, 'kernel': 'rbf'},\n  {'C': 1, 'gamma': 1, 'kernel': 'rbf'},\n  {'C': 1, 'gamma': 10, 'kernel': 'rbf'},\n  {'C': 1, 'gamma': 50, 'kernel': 'rbf'},\n  {'C': 1, 'gamma': 100, 'kernel': 'rbf'},\n  {'C': 10, 'gamma': 1e-05, 'kernel': 'rbf'},\n  {'C': 10, 'gamma': 0.0005, 'kernel': 'rbf'},\n  {'C': 10, 'gamma': 0.0001, 'kernel': 'rbf'},\n  {'C': 10, 'gamma': 0.005, 'kernel': 'rbf'},\n  {'C': 10, 'gamma': 0.001, 'kernel': 'rbf'},\n  {'C': 10, 'gamma': 0.01, 'kernel': 'rbf'},\n  {'C': 10, 'gamma': 0.1, 'kernel': 'rbf'},\n  {'C': 10, 'gamma': 1, 'kernel': 'rbf'},\n  {'C': 10, 'gamma': 10, 'kernel': 'rbf'},\n  {'C': 10, 'gamma': 50, 'kernel': 'rbf'},\n  {'C': 10, 'gamma': 100, 'kernel': 'rbf'},\n  {'C': 50, 'gamma': 1e-05, 'kernel': 'rbf'},\n  {'C': 50, 'gamma': 0.0005, 'kernel': 'rbf'},\n  {'C': 50, 'gamma': 0.0001, 'kernel': 'rbf'},\n  {'C': 50, 'gamma': 0.005, 'kernel': 'rbf'},\n  {'C': 50, 'gamma': 0.001, 'kernel': 'rbf'},\n  {'C': 50, 'gamma': 0.01, 'kernel': 'rbf'},\n  {'C': 50, 'gamma': 0.1, 'kernel': 'rbf'},\n  {'C': 50, 'gamma': 1, 'kernel': 'rbf'},\n  {'C': 50, 'gamma': 10, 'kernel': 'rbf'},\n  {'C': 50, 'gamma': 50, 'kernel': 'rbf'},\n  {'C': 50, 'gamma': 100, 'kernel': 'rbf'},\n  {'C': 100, 'gamma': 1e-05, 'kernel': 'rbf'},\n  {'C': 100, 'gamma': 0.0005, 'kernel': 'rbf'},\n  {'C': 100, 'gamma': 0.0001, 'kernel': 'rbf'},\n  {'C': 100, 'gamma': 0.005, 'kernel': 'rbf'},\n  {'C': 100, 'gamma': 0.001, 'kernel': 'rbf'},\n  {'C': 100, 'gamma': 0.01, 'kernel': 'rbf'},\n  {'C': 100, 'gamma': 0.1, 'kernel': 'rbf'},\n  {'C': 100, 'gamma': 1, 'kernel': 'rbf'},\n  {'C': 100, 'gamma': 10, 'kernel': 'rbf'},\n  {'C': 100, 'gamma': 50, 'kernel': 'rbf'},\n  {'C': 100, 'gamma': 100, 'kernel': 'rbf'}],\n 'split0_test_score': array([-0.00579744, -0.00577792, -0.00579383, -0.0056144 , -0.00575837,\n        -0.00546201, -0.00484587, -0.00563414, -0.00579595, -0.00579782,\n        -0.00579784, -0.00577774, -0.00485254, -0.00559715,  0.00342798,\n        -0.00388834,  0.0105298 ,  0.04051581,  0.00493491, -0.00570309,\n        -0.00579642, -0.0057976 , -0.00579382, -0.00559864, -0.0057577 ,\n        -0.00402679, -0.00540319, -0.00244575,  0.00426039, -0.00370498,\n        -0.00577889, -0.00579756, -0.0057978 , -0.00559682,  0.00419903,\n        -0.00385515,  0.07560449,  0.0132972 ,  0.12592397,  0.21138991,\n         0.06832633, -0.00482775, -0.00586189, -0.00587373, -0.00575763,\n        -0.00387   , -0.00539653,  0.01194664, -0.00185285,  0.02661931,\n         0.07603487,  0.01418339, -0.00565678, -0.0058338 , -0.00583617,\n        -0.00539585,  0.01347995, -0.00178566,  0.13575901,  0.0321061 ,\n         0.20502475,  0.26832293,  0.11139645, -0.00378006, -0.00576345,\n        -0.00578695, -0.00177884,  0.14553125,  0.03274426,  0.33684526,\n         0.23040038,  0.36440721,  0.46130011,  0.30448995,  0.00823684,\n        -0.00515174, -0.00535638,  0.03280885,  0.33994678,  0.23255591,\n         0.40810836,  0.36134163,  0.45745421,  0.60484664,  0.43673688,\n         0.0261465 , -0.00779451, -0.00841106,  0.23285511,  0.38531148,\n         0.36091392,  0.50443181,  0.40211741,  0.54642732,  0.66223117,\n         0.24202493,  0.02857079, -0.00415337, -0.00478177,  0.34056545,\n         0.41602135,  0.38205396,  0.54045098,  0.45127209,  0.56918773,\n         0.65234165,  0.2218056 ,  0.03045481, -0.00215314, -0.00278993,\n         0.36100023,  0.43372537,  0.39051718,  0.55237093,  0.47471362,\n         0.5717341 ,  0.61191004,  0.2218056 ,  0.03045481, -0.00215314,\n        -0.00278993]),\n 'split1_test_score': array([-2.75760351e-03, -2.73445672e-03, -2.75332476e-03, -2.53801690e-03,\n        -2.71120916e-03, -2.35034959e-03, -1.36405884e-03, -2.41056248e-03,\n        -2.72393133e-03, -2.72642707e-03, -2.72643706e-03, -2.73427111e-03,\n        -1.57804014e-03, -2.52037804e-03,  7.95726829e-03, -4.18921814e-04,\n         1.66976503e-02,  5.80969854e-02,  1.25080255e-02, -2.58626506e-03,\n        -2.72002763e-03, -2.72052642e-03, -2.75331790e-03, -2.52189074e-03,\n        -2.71053203e-03, -5.61011466e-04, -2.28953490e-03,  1.30689273e-03,\n         1.04884991e-02,  4.87999718e-04, -2.70130913e-03, -2.72626447e-03,\n        -2.72636430e-03, -2.52003530e-03,  8.75263760e-03, -3.85186872e-04,\n         9.10765773e-02,  1.95949287e-02,  1.50897866e-01,  2.72749384e-01,\n         1.05819794e-01, -1.51845742e-03, -2.69774930e-03, -2.70264514e-03,\n        -2.71046346e-03, -4.00263619e-04, -2.28276803e-03,  1.81853829e-02,\n         1.91132085e-03,  3.51585210e-02,  1.05725723e-01,  2.65141915e-02,\n        -2.35487626e-03, -2.66361381e-03, -2.66461181e-03, -2.28208280e-03,\n         1.97797983e-02,  1.97854231e-03,  1.60052261e-01,  4.07908518e-02,\n         2.36124604e-01,  3.45249717e-01,  1.66940482e-01, -1.13837993e-04,\n        -2.59452446e-03, -2.60456544e-03,  1.98534877e-03,  1.69193050e-01,\n         4.13967724e-02,  3.79325239e-01,  2.56034140e-01,  4.18896498e-01,\n         5.55024965e-01,  4.48334875e-01,  1.47659693e-02, -2.78713137e-03,\n        -2.82011579e-03,  4.14579667e-02,  3.79124778e-01,  2.57984383e-01,\n         4.77058635e-01,  4.09167214e-01,  5.29595381e-01,  7.04422146e-01,\n         6.76875959e-01,  4.46991886e-02, -1.71770658e-03, -1.76934857e-03,\n         2.57624529e-01,  4.51322451e-01,  4.08183681e-01,  5.78095855e-01,\n         4.81047620e-01,  6.31171438e-01,  7.96446597e-01,  7.75730870e-01,\n         4.45627742e-02, -6.20589723e-03, -6.23186168e-03,  3.79079549e-01,\n         5.05038375e-01,  4.48854817e-01,  6.29068131e-01,  5.49064979e-01,\n         6.74541847e-01,  8.16905845e-01,  7.53374763e-01,  4.14992571e-02,\n        -9.47503053e-03, -9.49171252e-03,  4.08117898e-01,  5.33261207e-01,\n         4.70806840e-01,  6.51238276e-01,  5.73330402e-01,  6.93322971e-01,\n         8.51720148e-01,  7.53374763e-01,  4.14992571e-02, -9.47503053e-03,\n        -9.49171252e-03]),\n 'split2_test_score': array([-2.86282302e-04, -2.71002947e-04, -2.83456492e-04, -1.42098020e-04,\n        -2.55675600e-04, -2.03441199e-05,  5.81008916e-04, -9.64217821e-05,\n        -2.85164111e-04, -2.86868469e-04, -2.86887538e-04, -2.70871107e-04,\n         4.93704980e-04, -1.29609825e-04,  6.90644404e-03,  1.26172182e-03,\n         1.28693590e-02,  3.93580256e-02,  9.38786071e-03, -2.09609796e-04,\n        -2.99151214e-04, -3.00105111e-04, -2.83451631e-04, -1.30684831e-04,\n        -2.55194607e-04,  1.16094098e-03,  2.25099759e-05,  2.38221970e-03,\n         8.32536879e-03,  1.67624555e-03, -2.72282904e-04, -2.89320122e-04,\n        -2.89510800e-04, -1.29366835e-04,  7.46794116e-03,  1.28574713e-03,\n         6.36635923e-02,  1.48739811e-02,  1.04500191e-01,  1.80280981e-01,\n         6.88908460e-02,  5.86494775e-04, -2.99135027e-04, -3.08652272e-04,\n        -2.55145995e-04,  1.27500523e-03,  2.73169728e-05,  1.39565724e-02,\n         2.81035174e-03,  2.53808434e-02,  7.05662466e-02,  1.81207402e-02,\n        -1.19106783e-04, -2.98005269e-04, -2.99912654e-04,  2.78027847e-05,\n         1.50036387e-02,  2.85833978e-03,  1.11393775e-01,  2.92740430e-02,\n         1.65769176e-01,  2.26996802e-01,  1.06891361e-01,  1.52587239e-03,\n        -2.45894451e-04, -2.70526270e-04,  2.86319825e-03,  1.18546445e-01,\n         2.97260970e-02,  2.65413252e-01,  1.82108349e-01,  2.85776853e-01,\n         3.26459394e-01,  2.63182480e-01,  1.33355745e-02,  7.53237990e-05,\n        -1.04141744e-04,  2.97718222e-02,  2.66701035e-01,  1.84119460e-01,\n         3.04852125e-01,  2.83819146e-01,  3.23692741e-01,  3.54090928e-01,\n         2.61401561e-01,  3.66410594e-02,  6.28032541e-04,  6.73384333e-05,\n         1.84077529e-01,  2.96005862e-01,  2.83246774e-01,  3.39437953e-01,\n         3.01075361e-01,  3.55547798e-01,  2.93338356e-01,  7.82978702e-02,\n         3.63611160e-02, -1.82760234e-04, -7.54787017e-04,  2.66560889e-01,\n         3.04004896e-01,  2.95069769e-01,  3.53529958e-01,  3.18601107e-01,\n         3.57270771e-01,  2.50093403e-01,  7.40422883e-02,  3.51546433e-02,\n        -1.28659479e-03, -1.86565966e-03,  2.83213236e-01,  3.11933589e-01,\n         2.96916612e-01,  3.55060164e-01,  3.29209645e-01,  3.48046983e-01,\n         2.04609684e-01,  7.40422883e-02,  3.51546433e-02, -1.28659479e-03,\n        -1.86565966e-03]),\n 'split3_test_score': array([-1.24940678e-04, -1.01396409e-04, -1.20585675e-04,  9.68441667e-05,\n        -7.77871354e-05,  2.83268808e-04,  1.14634888e-03,  1.33863659e-04,\n        -1.23159900e-04, -1.25421187e-04, -1.25425359e-04, -1.01188632e-04,\n         1.07654053e-03,  1.16527504e-04,  1.08913866e-02,  2.26210845e-03,\n         1.99139317e-02,  5.69041672e-02,  1.23852676e-02, -6.22072417e-06,\n        -1.24324103e-04, -1.24533339e-04, -1.20578006e-04,  1.14833564e-04,\n        -7.70292307e-05,  2.10300849e-03,  3.50834893e-04,  3.97178438e-03,\n         1.22875961e-02,  2.43974030e-03, -1.02772727e-04, -1.25383091e-04,\n        -1.25424805e-04,  1.16910848e-04,  1.17741284e-02,  2.30002597e-03,\n         9.70016663e-02,  2.31269670e-02,  1.57361558e-01,  2.66214019e-01,\n         8.73385709e-02,  1.00925506e-03, -1.16764684e-04, -1.18857214e-04,\n        -7.69525456e-05,  2.28307332e-03,  3.58410370e-04,  2.16646381e-02,\n         4.64652047e-03,  3.90890610e-02,  1.02168947e-01,  2.36126686e-02,\n         1.22254767e-04, -1.13318326e-04, -1.13737042e-04,  3.59176857e-04,\n         2.33284427e-02,  4.72213626e-03,  1.68282495e-01,  4.51542919e-02,\n         2.46380056e-01,  3.34699789e-01,  1.35943718e-01,  2.05145177e-03,\n        -1.56245813e-04, -1.53908183e-04,  4.72978878e-03,  1.78891515e-01,\n         4.58572350e-02,  3.95419163e-01,  2.70414282e-01,  4.27266671e-01,\n         5.41047101e-01,  3.43616913e-01,  1.53953570e-02, -4.28334991e-05,\n        -7.05847674e-05,  4.59283177e-02,  3.97340568e-01,  2.72875237e-01,\n         4.82307282e-01,  4.19397827e-01,  5.37383560e-01,  7.11271139e-01,\n         4.77855841e-01,  3.70740538e-02, -4.50433919e-04, -5.00153242e-04,\n         2.73348841e-01,  4.51609231e-01,  4.18191441e-01,  6.00668575e-01,\n         4.81958736e-01,  6.61148905e-01,  8.45282501e-01,  5.04315886e-01,\n         4.17296413e-02, -5.11429558e-05, -1.00964682e-04,  3.96288562e-01,\n         4.98677594e-01,  4.47895946e-01,  6.61819529e-01,  5.39455016e-01,\n         6.84562936e-01,  9.15679851e-01,  5.10562904e-01,  4.17806534e-02,\n         2.33097150e-06, -4.70551778e-05,  4.18331550e-01,  5.19827269e-01,\n         4.66995401e-01,  6.64060524e-01,  5.69871627e-01,  6.88014312e-01,\n         8.96786526e-01,  5.10562904e-01,  4.17806534e-02,  2.33097150e-06,\n        -4.70551778e-05]),\n 'split4_test_score': array([-2.71259577e-04, -2.69824241e-04, -2.71001181e-04, -2.53948552e-04,\n        -2.68290119e-04, -2.32639105e-04, -2.19709308e-05, -2.12082873e-04,\n        -2.70824931e-04, -2.71284555e-04, -2.71286585e-04, -2.69860091e-04,\n        -1.98306311e-04, -2.56948812e-04,  6.30162958e-04, -1.19021722e-04,\n         1.62718189e-03,  1.09510494e-02,  2.60421758e-03, -2.48873512e-04,\n        -2.71109050e-04, -2.71210421e-04, -2.71002516e-04, -2.56656981e-04,\n        -2.68418864e-04, -9.66799105e-05, -2.41338724e-04,  1.22727864e-04,\n         2.22443214e-03,  3.28473635e-04, -2.66656528e-04, -2.71252293e-04,\n        -2.71272589e-04, -2.57015605e-04,  4.92449404e-04, -1.25173196e-04,\n         5.97794450e-03,  1.18013070e-03,  1.11141090e-02,  5.08625627e-02,\n         2.01770401e-02, -5.21116201e-05, -2.85139183e-04, -2.86144277e-04,\n        -2.68432218e-04, -1.22383486e-04, -2.42627118e-04,  1.42444078e-03,\n         3.54961306e-05,  3.28882460e-03,  1.97941639e-02,  5.26983953e-03,\n        -2.32891883e-04, -2.79175500e-04, -2.79378303e-04, -2.42760760e-04,\n         1.14273325e-03,  2.21205702e-05,  8.17308396e-03,  2.31491840e-03,\n         1.33575046e-02,  6.25138260e-02,  3.14795160e-02,  1.84831889e-04,\n        -2.72790750e-04, -2.74759352e-04,  2.08135013e-05,  4.51796476e-03,\n         2.17639067e-03, -8.09204235e-03,  7.86042816e-04, -3.72590091e-03,\n         8.91423724e-02,  8.17331351e-02,  3.00630910e-03, -2.22726975e-04,\n        -2.26754155e-04,  2.16224797e-03, -1.95851201e-02, -9.48851308e-04,\n        -2.59511284e-02, -2.77748936e-02, -3.09771357e-02,  9.55939627e-02,\n         1.11316272e-01,  7.27668330e-03, -2.48851793e-04, -2.60312059e-04,\n        -1.11962871e-03, -3.11181047e-02, -3.03720660e-02, -8.31513913e-02,\n        -2.84893183e-02, -8.83847323e-02,  9.37210803e-02,  1.16692204e-01,\n         7.41781448e-03, -2.65386521e-04, -2.76876254e-04, -2.09981735e-02,\n        -2.47237124e-02, -3.08994108e-02, -1.30813091e-01, -4.43420265e-02,\n        -8.74429665e-02,  5.44483077e-02,  1.14993898e-01,  7.41781448e-03,\n        -2.65386521e-04, -2.76876254e-04, -3.04482971e-02, -2.79318079e-02,\n        -2.50435928e-02, -1.14645131e-01, -6.02183165e-02, -1.11053452e-01,\n         3.66393616e-02,  1.14993898e-01,  7.41781448e-03, -2.65386521e-04,\n        -2.76876254e-04]),\n 'mean_test_score': array([-1.84750597e-03, -1.83092065e-03, -1.84443991e-03, -1.69032318e-03,\n        -1.81426624e-03, -1.55641406e-03, -9.00908491e-04, -1.64386857e-03,\n        -1.83980604e-03, -1.84156372e-03, -1.84157551e-03, -1.83078617e-03,\n        -1.01172724e-03, -1.67751241e-03,  5.96264784e-03, -1.80490699e-04,\n         1.23275847e-02,  4.11652081e-02,  8.36405642e-03, -1.75081142e-03,\n        -1.84220546e-03, -1.84279520e-03, -1.84443495e-03, -1.67860874e-03,\n        -1.81377537e-03, -2.84106715e-04, -1.51214419e-03,  1.06757496e-03,\n         7.51725817e-03,  2.45495534e-04, -1.82438177e-03, -1.84195595e-03,\n        -1.84207388e-03, -1.67726443e-03,  6.53723811e-03, -1.55947531e-04,\n         6.66648547e-02,  1.44146409e-02,  1.09959539e-01,  1.96299371e-01,\n         7.01105165e-02, -9.60514734e-04, -1.85213647e-03, -1.85800488e-03,\n        -1.81372576e-03, -1.66913434e-04, -1.50723858e-03,  1.34355342e-02,\n         1.51016750e-03,  2.59073111e-02,  7.48579898e-02,  1.75401667e-02,\n        -1.64827947e-03, -1.83758246e-03, -1.83876198e-03, -1.50674280e-03,\n         1.45469128e-02,  1.55909618e-03,  1.16732125e-01,  2.99280403e-02,\n         1.73331217e-01,  2.47556612e-01,  1.10530306e-01, -2.63484167e-05,\n        -1.80658054e-03, -1.81814170e-03,  1.56406092e-03,  1.23336044e-01,\n         3.03801501e-02,  2.73782175e-01,  1.87948639e-01,  2.98524266e-01,\n         3.94594788e-01,  2.88271470e-01,  1.09480092e-02, -1.62582102e-03,\n        -1.71559590e-03,  3.04258415e-02,  2.72705608e-01,  1.89317228e-01,\n         3.29275054e-01,  2.89190184e-01,  3.63429752e-01,  4.94044963e-01,\n         3.92837303e-01,  3.03674973e-02, -1.91669370e-03, -2.17470649e-03,\n         1.89357276e-01,  3.10626184e-01,  2.88032750e-01,  3.87896560e-01,\n         3.27541961e-01,  4.21182146e-01,  5.38203941e-01,  3.43412352e-01,\n         3.17284276e-02, -2.17171082e-03, -2.42925176e-03,  2.72299256e-01,\n         3.39803701e-01,  3.08595016e-01,  4.10811101e-01,  3.62810234e-01,\n         4.39624063e-01,  5.37893811e-01,  3.34955891e-01,  3.12614348e-02,\n        -2.63556470e-03, -2.89424609e-03,  2.88042924e-01,  3.54163125e-01,\n         3.20038487e-01,  4.21616953e-01,  3.77381396e-01,  4.38012982e-01,\n         5.20333152e-01,  3.34955891e-01,  3.12614348e-02, -2.63556470e-03,\n        -2.89424609e-03]),\n 'std_test_score': array([0.00220542, 0.00220258, 0.0022049 , 0.00218042, 0.00219978,\n        0.00216242, 0.00214183, 0.00219613, 0.00220265, 0.00220286,\n        0.00220286, 0.00220255, 0.00211477, 0.00217746, 0.00357831,\n        0.0020907 , 0.00623978, 0.01703516, 0.0039831 , 0.00219058,\n        0.00220031, 0.0022006 , 0.00220489, 0.00217772, 0.00219965,\n        0.00209313, 0.00215339, 0.00216593, 0.00376453, 0.00212291,\n        0.0022003 , 0.00220242, 0.00220247, 0.0021774 , 0.0038783 ,\n        0.00209035, 0.03252101, 0.00747465, 0.0528734 , 0.08045973,\n        0.02853062, 0.00211496, 0.00222135, 0.0022242 , 0.00219964,\n        0.00209049, 0.00215234, 0.00688526, 0.00224378, 0.01242355,\n        0.0308238 , 0.00747762, 0.00219289, 0.00221016, 0.00221073,\n        0.00215223, 0.00755668, 0.0022547 , 0.05780945, 0.01494989,\n        0.0847731 , 0.10220827, 0.04492431, 0.002043  , 0.00218126,\n        0.00218709, 0.00225582, 0.0629644 , 0.01524713, 0.14794253,\n        0.09828765, 0.15932502, 0.17296204, 0.12019483, 0.00470058,\n        0.00205665, 0.00209737, 0.01527725, 0.15287263, 0.09979469,\n        0.18881507, 0.16555969, 0.21158798, 0.23751763, 0.19306099,\n        0.01296715, 0.003033  , 0.00317969, 0.09991635, 0.1801402 ,\n        0.16618889, 0.25269055, 0.18996251, 0.27616378, 0.29458222,\n        0.26258575, 0.01332053, 0.0025412 , 0.00256327, 0.15329185,\n        0.19622147, 0.17883689, 0.29123384, 0.21974855, 0.28863467,\n        0.33172788, 0.25891093, 0.01264747, 0.00350448, 0.00345116,\n        0.16623831, 0.20670305, 0.18379931, 0.29003733, 0.23610849,\n        0.30170616, 0.3445466 , 0.25891093, 0.01264747, 0.00350448,\n        0.00345116]),\n 'rank_test_score': array([111,  99, 110,  89,  95,  82,  76,  84, 102, 103, 104,  98,  78,\n         87,  65,  74,  60,  47,  62,  91, 107, 108, 109,  88,  94,  75,\n         81,  69,  63,  70,  97, 105, 106,  86,  64,  72,  46,  58,  43,\n         35,  45,  77, 112, 113,  93,  73,  80,  59,  68,  55,  44,  56,\n         85, 100, 101,  79,  57,  67,  41,  54,  39,  34,  42,  71,  92,\n         96,  66,  40,  52,  31,  38,  26,  10,  28,  61,  83,  90,  51,\n         32,  37,  21,  27,  14,   4,  11,  53, 114, 116,  36,  24,  30,\n         12,  22,   8,   1,  17,  48, 115, 117,  33,  18,  25,   9,  15,\n          5,   2,  19,  49, 118, 120,  29,  16,  23,   7,  13,   6,   3,\n         19,  49, 118, 120])}"
     },
     "execution_count": 130,
     "metadata": {},
     "output_type": "execute_result"
    }
   ]
  },
  {
   "cell_type": "markdown",
   "source": [
    "# 12.7 Save the model"
   ],
   "metadata": {
    "id": "4DhPEZv_SCjn",
    "pycharm": {
     "name": "#%% md\n"
    }
   }
  },
  {
   "cell_type": "code",
   "source": [
    "# use joblib to save the model\n",
    "import joblib\n",
    "\n",
    "joblib.dump(svm_winner, \"svm_model_CG_p.pkl\")\n",
    "\n",
    "# Later \n",
    "# my_model_loaded = joblib.load(\"svm_model.pkl\")"
   ],
   "metadata": {
    "id": "SVgPG_UrSLXC",
    "colab": {
     "base_uri": "https://localhost:8080/"
    },
    "executionInfo": {
     "status": "ok",
     "timestamp": 1649508154531,
     "user_tz": -120,
     "elapsed": 415,
     "user": {
      "displayName": "Abdelrhman Amr",
      "userId": "09344834973078055484"
     }
    },
    "outputId": "bdaadd4b-6880-452e-eba0-f755c4c813aa",
    "pycharm": {
     "name": "#%%\n"
    }
   },
   "execution_count": 53,
   "outputs": [
    {
     "data": {
      "text/plain": "['svm_model_CG_p.pkl']"
     },
     "execution_count": 53,
     "metadata": {},
     "output_type": "execute_result"
    }
   ]
  },
  {
   "cell_type": "code",
   "execution_count": 402,
   "outputs": [
    {
     "data": {
      "text/plain": "['dt_model_p.pkl']"
     },
     "execution_count": 402,
     "metadata": {},
     "output_type": "execute_result"
    }
   ],
   "source": [
    "# use joblib to save the model\n",
    "import joblib\n",
    "\n",
    "# joblib.dump(gb_model, \"gb_model.pkl\")\n",
    "\n",
    "# joblib.dump(svm_model, \"svm_model_p.pkl\")\n",
    "joblib.dump(dt_model, \"dt_model_p.pkl\")\n",
    "\n",
    "\n",
    "# Later\n",
    "# my_model_loaded = joblib.load(\"svm_model.pkl\")"
   ],
   "metadata": {
    "collapsed": false,
    "pycharm": {
     "name": "#%%\n"
    }
   }
  },
  {
   "cell_type": "code",
   "execution_count": null,
   "outputs": [],
   "source": [],
   "metadata": {
    "collapsed": false,
    "pycharm": {
     "name": "#%%\n"
    }
   }
  }
 ]
}